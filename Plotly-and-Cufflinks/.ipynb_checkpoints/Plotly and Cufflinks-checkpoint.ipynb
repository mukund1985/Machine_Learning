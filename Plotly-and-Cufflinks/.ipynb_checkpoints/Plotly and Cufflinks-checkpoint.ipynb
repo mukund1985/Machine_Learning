{
 "cells": [
  {
   "cell_type": "markdown",
   "metadata": {},
   "source": [
    "\n",
    "# Plotly and Cufflinks"
   ]
  },
  {
   "cell_type": "markdown",
   "metadata": {},
   "source": [
    "Plotly is a library that allows you to create interactive plots that you can use in dashboards or websites (you can save them as html files or static images).\n",
    "\n",
    "## Installation\n",
    "\n",
    "In order for this all to work, you'll need to install plotly and cufflinks to call plots directly off of a pandas dataframe. These libraries are not currently available through **conda** but are available through **pip**. Install the libraries at your command line/terminal using:\n",
    "\n",
    "    pip install plotly\n",
    "    pip install cufflinks\n",
    "\n",
    "** NOTE: Make sure you only have one installation of Python on your computer when you do this, otherwise the installation may not work. **\n",
    "\n",
    "## Imports and Set-up"
   ]
  },
  {
   "cell_type": "code",
   "execution_count": 19,
   "metadata": {},
   "outputs": [],
   "source": [
    "import pandas as pd\n",
    "import numpy as np\n",
    "%matplotlib inline\n",
    "import warnings\n",
    "warnings.filterwarnings('ignore')"
   ]
  },
  {
   "cell_type": "code",
   "execution_count": 20,
   "metadata": {},
   "outputs": [
    {
     "name": "stdout",
     "output_type": "stream",
     "text": [
      "4.9.0\n"
     ]
    }
   ],
   "source": [
    "from plotly import __version__\n",
    "from plotly.offline import download_plotlyjs, init_notebook_mode, plot, iplot\n",
    "\n",
    "print(__version__) # requires version >= 1.9.0"
   ]
  },
  {
   "cell_type": "code",
   "execution_count": 21,
   "metadata": {},
   "outputs": [],
   "source": [
    "import cufflinks as cf"
   ]
  },
  {
   "cell_type": "code",
   "execution_count": 22,
   "metadata": {},
   "outputs": [
    {
     "data": {
      "text/html": [
       "        <script type=\"text/javascript\">\n",
       "        window.PlotlyConfig = {MathJaxConfig: 'local'};\n",
       "        if (window.MathJax) {MathJax.Hub.Config({SVG: {font: \"STIX-Web\"}});}\n",
       "        if (typeof require !== 'undefined') {\n",
       "        require.undef(\"plotly\");\n",
       "        requirejs.config({\n",
       "            paths: {\n",
       "                'plotly': ['https://cdn.plot.ly/plotly-latest.min']\n",
       "            }\n",
       "        });\n",
       "        require(['plotly'], function(Plotly) {\n",
       "            window._Plotly = Plotly;\n",
       "        });\n",
       "        }\n",
       "        </script>\n",
       "        "
      ]
     },
     "metadata": {},
     "output_type": "display_data"
    }
   ],
   "source": [
    "# For Notebooks\n",
    "init_notebook_mode(connected=True)"
   ]
  },
  {
   "cell_type": "code",
   "execution_count": 23,
   "metadata": {},
   "outputs": [
    {
     "data": {
      "text/html": [
       "        <script type=\"text/javascript\">\n",
       "        window.PlotlyConfig = {MathJaxConfig: 'local'};\n",
       "        if (window.MathJax) {MathJax.Hub.Config({SVG: {font: \"STIX-Web\"}});}\n",
       "        if (typeof require !== 'undefined') {\n",
       "        require.undef(\"plotly\");\n",
       "        requirejs.config({\n",
       "            paths: {\n",
       "                'plotly': ['https://cdn.plot.ly/plotly-latest.min']\n",
       "            }\n",
       "        });\n",
       "        require(['plotly'], function(Plotly) {\n",
       "            window._Plotly = Plotly;\n",
       "        });\n",
       "        }\n",
       "        </script>\n",
       "        "
      ]
     },
     "metadata": {},
     "output_type": "display_data"
    }
   ],
   "source": [
    "# For offline use\n",
    "cf.go_offline()"
   ]
  },
  {
   "cell_type": "markdown",
   "metadata": {},
   "source": [
    "### Fake Data"
   ]
  },
  {
   "cell_type": "code",
   "execution_count": 24,
   "metadata": {},
   "outputs": [],
   "source": [
    "df = pd.DataFrame(np.random.randn(100,4),columns='A B C D'.split())"
   ]
  },
  {
   "cell_type": "code",
   "execution_count": 25,
   "metadata": {},
   "outputs": [
    {
     "data": {
      "text/html": [
       "<div>\n",
       "<style scoped>\n",
       "    .dataframe tbody tr th:only-of-type {\n",
       "        vertical-align: middle;\n",
       "    }\n",
       "\n",
       "    .dataframe tbody tr th {\n",
       "        vertical-align: top;\n",
       "    }\n",
       "\n",
       "    .dataframe thead th {\n",
       "        text-align: right;\n",
       "    }\n",
       "</style>\n",
       "<table border=\"1\" class=\"dataframe\">\n",
       "  <thead>\n",
       "    <tr style=\"text-align: right;\">\n",
       "      <th></th>\n",
       "      <th>A</th>\n",
       "      <th>B</th>\n",
       "      <th>C</th>\n",
       "      <th>D</th>\n",
       "    </tr>\n",
       "  </thead>\n",
       "  <tbody>\n",
       "    <tr>\n",
       "      <th>0</th>\n",
       "      <td>0.335306</td>\n",
       "      <td>-0.676069</td>\n",
       "      <td>0.497664</td>\n",
       "      <td>-0.484226</td>\n",
       "    </tr>\n",
       "    <tr>\n",
       "      <th>1</th>\n",
       "      <td>0.090653</td>\n",
       "      <td>0.183722</td>\n",
       "      <td>-0.217905</td>\n",
       "      <td>1.572074</td>\n",
       "    </tr>\n",
       "    <tr>\n",
       "      <th>2</th>\n",
       "      <td>-0.016303</td>\n",
       "      <td>-0.343233</td>\n",
       "      <td>1.877057</td>\n",
       "      <td>0.294177</td>\n",
       "    </tr>\n",
       "    <tr>\n",
       "      <th>3</th>\n",
       "      <td>-0.078700</td>\n",
       "      <td>-2.070801</td>\n",
       "      <td>-0.084063</td>\n",
       "      <td>0.406952</td>\n",
       "    </tr>\n",
       "    <tr>\n",
       "      <th>4</th>\n",
       "      <td>-0.112810</td>\n",
       "      <td>0.345777</td>\n",
       "      <td>0.050479</td>\n",
       "      <td>1.845706</td>\n",
       "    </tr>\n",
       "  </tbody>\n",
       "</table>\n",
       "</div>"
      ],
      "text/plain": [
       "          A         B         C         D\n",
       "0  0.335306 -0.676069  0.497664 -0.484226\n",
       "1  0.090653  0.183722 -0.217905  1.572074\n",
       "2 -0.016303 -0.343233  1.877057  0.294177\n",
       "3 -0.078700 -2.070801 -0.084063  0.406952\n",
       "4 -0.112810  0.345777  0.050479  1.845706"
      ]
     },
     "execution_count": 25,
     "metadata": {},
     "output_type": "execute_result"
    }
   ],
   "source": [
    "df.head()"
   ]
  },
  {
   "cell_type": "code",
   "execution_count": 26,
   "metadata": {},
   "outputs": [],
   "source": [
    "df2 = pd.DataFrame({'Category':['A','B','C'],'Values':[32,43,50]})"
   ]
  },
  {
   "cell_type": "code",
   "execution_count": 27,
   "metadata": {},
   "outputs": [
    {
     "data": {
      "text/html": [
       "<div>\n",
       "<style scoped>\n",
       "    .dataframe tbody tr th:only-of-type {\n",
       "        vertical-align: middle;\n",
       "    }\n",
       "\n",
       "    .dataframe tbody tr th {\n",
       "        vertical-align: top;\n",
       "    }\n",
       "\n",
       "    .dataframe thead th {\n",
       "        text-align: right;\n",
       "    }\n",
       "</style>\n",
       "<table border=\"1\" class=\"dataframe\">\n",
       "  <thead>\n",
       "    <tr style=\"text-align: right;\">\n",
       "      <th></th>\n",
       "      <th>Category</th>\n",
       "      <th>Values</th>\n",
       "    </tr>\n",
       "  </thead>\n",
       "  <tbody>\n",
       "    <tr>\n",
       "      <th>0</th>\n",
       "      <td>A</td>\n",
       "      <td>32</td>\n",
       "    </tr>\n",
       "    <tr>\n",
       "      <th>1</th>\n",
       "      <td>B</td>\n",
       "      <td>43</td>\n",
       "    </tr>\n",
       "    <tr>\n",
       "      <th>2</th>\n",
       "      <td>C</td>\n",
       "      <td>50</td>\n",
       "    </tr>\n",
       "  </tbody>\n",
       "</table>\n",
       "</div>"
      ],
      "text/plain": [
       "  Category  Values\n",
       "0        A      32\n",
       "1        B      43\n",
       "2        C      50"
      ]
     },
     "execution_count": 27,
     "metadata": {},
     "output_type": "execute_result"
    }
   ],
   "source": [
    "df2.head()"
   ]
  },
  {
   "cell_type": "markdown",
   "metadata": {},
   "source": [
    "## Using Cufflinks and iplot()\n",
    "\n",
    "* scatter\n",
    "* bar\n",
    "* box\n",
    "* spread\n",
    "* ratio\n",
    "* heatmap\n",
    "* surface\n",
    "* histogram\n",
    "* bubble"
   ]
  },
  {
   "cell_type": "markdown",
   "metadata": {},
   "source": [
    "## Scatter"
   ]
  },
  {
   "cell_type": "code",
   "execution_count": 28,
   "metadata": {},
   "outputs": [
    {
     "data": {
      "application/vnd.plotly.v1+json": {
       "config": {
        "linkText": "Export to plot.ly",
        "plotlyServerURL": "https://plot.ly",
        "showLink": true
       },
       "data": [
        {
         "line": {
          "color": "rgba(255, 153, 51, 1.0)",
          "dash": "solid",
          "shape": "linear",
          "width": 1.3
         },
         "marker": {
          "size": 10,
          "symbol": "circle"
         },
         "mode": "markers",
         "name": "B",
         "text": "",
         "type": "scatter",
         "x": [
          0.33530550154152494,
          0.09065339513616581,
          -0.01630297475032681,
          -0.07869977638765072,
          -0.11280955759602175,
          -0.1401151965190619,
          0.37726332968436377,
          0.9807848237014964,
          0.810497685246533,
          -0.5369994090996112,
          0.4665515681528577,
          -0.4027752710747494,
          0.8450873692592444,
          -1.6713871998577774,
          -0.5647159680856547,
          -1.0454373654393754,
          -0.19128198431349563,
          -0.08380197880652643,
          -0.6808409250243673,
          1.5314298215111735,
          -0.8472738029656343,
          2.016894424729286,
          0.5675939625303773,
          -0.12570665669379766,
          -2.9530064435370353,
          -0.7623240462719839,
          0.24650554670245756,
          0.677974153571497,
          0.34498118682073425,
          0.7050866228571876,
          0.48289759808491,
          0.19661274001139517,
          -0.10839634016900147,
          1.2955729007966614,
          -1.2080228686216006,
          -0.8868820384240231,
          -0.8504568442746137,
          -0.8592195770336528,
          0.23891912898121961,
          -0.390740080415598,
          0.7899539300986534,
          1.9073166225165692,
          0.7332345874800306,
          0.076279312025144,
          -0.1606368966839194,
          0.3722445893819746,
          0.6054925610989462,
          0.7956873319712157,
          0.9725100209690856,
          0.24018718772850134,
          -1.390060796293999,
          -1.7325819543366443,
          -1.0531172370304538,
          -0.8435755679018383,
          -1.8669241001205663,
          0.1430069081678792,
          0.3503266506041815,
          0.4798291478777767,
          0.5100131008826317,
          2.0749173355937347,
          -1.3690344750713008,
          -0.06876435799003278,
          -0.4505688369932266,
          1.078456943733188,
          0.30714997296703755,
          -0.4139398828429726,
          1.7895416427199355,
          0.776518393126592,
          1.1006209089834444,
          2.3663267206891385,
          -0.748679596212696,
          -0.8895687565692749,
          0.8656205411908345,
          0.41104469157294404,
          -0.609241534591123,
          -1.4383026828323873,
          0.26635612483594606,
          -1.8980379983631288,
          -1.738277833733187,
          -1.5289927281839082,
          0.23529718024963092,
          -0.08309493795682184,
          0.273378453933951,
          -0.4817320634709933,
          -0.1375488620604106,
          0.33783356180165247,
          0.6998816614904454,
          0.537709684336636,
          0.8069903649895979,
          -0.6731094896210476,
          1.443158574532866,
          1.2870986328443184,
          0.7035596946386531,
          -0.7921994935980345,
          -0.489915251036213,
          -0.5231506439766499,
          0.385676724326846,
          -0.09919321074167252,
          0.8202815108228418,
          1.2975442876253223
         ],
         "y": [
          -0.6760691106235645,
          0.18372206965000965,
          -0.34323330233492,
          -2.070801152584343,
          0.34577707775890487,
          2.1301507636241146,
          -0.5531762406825648,
          -0.7399323363908722,
          0.26241129162089216,
          -1.4337004355910643,
          -0.8594491355414683,
          -0.4912756822823481,
          0.583450794405381,
          -1.5045213827074095,
          1.752280268786307,
          -0.5863715567174779,
          -0.04012310455887652,
          1.9455806784460525,
          1.4257375049163175,
          -0.23411141816222264,
          -1.4491472757323403,
          -0.5833671584039474,
          -0.7529753578098609,
          0.10339329905994711,
          -0.004541122623439102,
          -1.7573449484289683,
          0.9043005711761228,
          -0.5799998214961695,
          -2.182073073509037,
          0.6117543628483829,
          -1.046866238177497,
          0.1451050144527596,
          -1.7091895613300523,
          0.7730883681592071,
          0.11046956239724635,
          0.860561453912868,
          1.7817168794154585,
          0.5941911948405838,
          1.7464390750714196,
          1.3443851144456052,
          -0.653941015096149,
          -0.6481687041989921,
          0.7565231993307985,
          -0.3377428990829017,
          -0.24165345197325094,
          -1.0946339421083284,
          -0.6566654045105857,
          1.4656164547884096,
          1.6971479352132062,
          0.06229333566246116,
          -0.33487264062175487,
          0.4575692496097571,
          -1.6218757011147977,
          -0.07516494673505354,
          1.2557900113465656,
          0.5178613245423704,
          0.5719740142416783,
          1.6678064203880918,
          1.2178665474743848,
          -0.7714648529472447,
          -0.21634347844280188,
          -0.058793758991811655,
          -1.3667740058247482,
          -0.47598627590409903,
          1.125778904159132,
          0.7835229441755038,
          0.09036040956928859,
          -0.15580677569506976,
          0.21970059205786405,
          -2.2347952553428714,
          0.30004649144884643,
          1.3109454582592848,
          0.580259232168523,
          -0.358579231338049,
          -1.21979233901239,
          -0.8050965907187663,
          1.836896105180095,
          -0.406968255985467,
          -0.6343369641269744,
          1.451527328603819,
          0.8033320096526525,
          -0.7679911742675111,
          -1.7453939281965098,
          -2.5858164646107724,
          -0.6622222603851182,
          -0.35412184689296267,
          -0.278741803965597,
          1.2277706222638571,
          -0.1364186492754009,
          -1.149210347160463,
          0.4790085316866908,
          0.8690059859342354,
          -0.5550546023569558,
          -0.5491642438620772,
          -0.9837564753414033,
          0.46931440157870213,
          -0.032044133111769284,
          -1.4470251258178546,
          0.20863537293074075,
          0.10224247082485786
         ]
        }
       ],
       "layout": {
        "legend": {
         "bgcolor": "#F5F6F9",
         "font": {
          "color": "#4D5663"
         }
        },
        "paper_bgcolor": "#F5F6F9",
        "plot_bgcolor": "#F5F6F9",
        "template": {
         "data": {
          "bar": [
           {
            "error_x": {
             "color": "#2a3f5f"
            },
            "error_y": {
             "color": "#2a3f5f"
            },
            "marker": {
             "line": {
              "color": "#E5ECF6",
              "width": 0.5
             }
            },
            "type": "bar"
           }
          ],
          "barpolar": [
           {
            "marker": {
             "line": {
              "color": "#E5ECF6",
              "width": 0.5
             }
            },
            "type": "barpolar"
           }
          ],
          "carpet": [
           {
            "aaxis": {
             "endlinecolor": "#2a3f5f",
             "gridcolor": "white",
             "linecolor": "white",
             "minorgridcolor": "white",
             "startlinecolor": "#2a3f5f"
            },
            "baxis": {
             "endlinecolor": "#2a3f5f",
             "gridcolor": "white",
             "linecolor": "white",
             "minorgridcolor": "white",
             "startlinecolor": "#2a3f5f"
            },
            "type": "carpet"
           }
          ],
          "choropleth": [
           {
            "colorbar": {
             "outlinewidth": 0,
             "ticks": ""
            },
            "type": "choropleth"
           }
          ],
          "contour": [
           {
            "colorbar": {
             "outlinewidth": 0,
             "ticks": ""
            },
            "colorscale": [
             [
              0,
              "#0d0887"
             ],
             [
              0.1111111111111111,
              "#46039f"
             ],
             [
              0.2222222222222222,
              "#7201a8"
             ],
             [
              0.3333333333333333,
              "#9c179e"
             ],
             [
              0.4444444444444444,
              "#bd3786"
             ],
             [
              0.5555555555555556,
              "#d8576b"
             ],
             [
              0.6666666666666666,
              "#ed7953"
             ],
             [
              0.7777777777777778,
              "#fb9f3a"
             ],
             [
              0.8888888888888888,
              "#fdca26"
             ],
             [
              1,
              "#f0f921"
             ]
            ],
            "type": "contour"
           }
          ],
          "contourcarpet": [
           {
            "colorbar": {
             "outlinewidth": 0,
             "ticks": ""
            },
            "type": "contourcarpet"
           }
          ],
          "heatmap": [
           {
            "colorbar": {
             "outlinewidth": 0,
             "ticks": ""
            },
            "colorscale": [
             [
              0,
              "#0d0887"
             ],
             [
              0.1111111111111111,
              "#46039f"
             ],
             [
              0.2222222222222222,
              "#7201a8"
             ],
             [
              0.3333333333333333,
              "#9c179e"
             ],
             [
              0.4444444444444444,
              "#bd3786"
             ],
             [
              0.5555555555555556,
              "#d8576b"
             ],
             [
              0.6666666666666666,
              "#ed7953"
             ],
             [
              0.7777777777777778,
              "#fb9f3a"
             ],
             [
              0.8888888888888888,
              "#fdca26"
             ],
             [
              1,
              "#f0f921"
             ]
            ],
            "type": "heatmap"
           }
          ],
          "heatmapgl": [
           {
            "colorbar": {
             "outlinewidth": 0,
             "ticks": ""
            },
            "colorscale": [
             [
              0,
              "#0d0887"
             ],
             [
              0.1111111111111111,
              "#46039f"
             ],
             [
              0.2222222222222222,
              "#7201a8"
             ],
             [
              0.3333333333333333,
              "#9c179e"
             ],
             [
              0.4444444444444444,
              "#bd3786"
             ],
             [
              0.5555555555555556,
              "#d8576b"
             ],
             [
              0.6666666666666666,
              "#ed7953"
             ],
             [
              0.7777777777777778,
              "#fb9f3a"
             ],
             [
              0.8888888888888888,
              "#fdca26"
             ],
             [
              1,
              "#f0f921"
             ]
            ],
            "type": "heatmapgl"
           }
          ],
          "histogram": [
           {
            "marker": {
             "colorbar": {
              "outlinewidth": 0,
              "ticks": ""
             }
            },
            "type": "histogram"
           }
          ],
          "histogram2d": [
           {
            "colorbar": {
             "outlinewidth": 0,
             "ticks": ""
            },
            "colorscale": [
             [
              0,
              "#0d0887"
             ],
             [
              0.1111111111111111,
              "#46039f"
             ],
             [
              0.2222222222222222,
              "#7201a8"
             ],
             [
              0.3333333333333333,
              "#9c179e"
             ],
             [
              0.4444444444444444,
              "#bd3786"
             ],
             [
              0.5555555555555556,
              "#d8576b"
             ],
             [
              0.6666666666666666,
              "#ed7953"
             ],
             [
              0.7777777777777778,
              "#fb9f3a"
             ],
             [
              0.8888888888888888,
              "#fdca26"
             ],
             [
              1,
              "#f0f921"
             ]
            ],
            "type": "histogram2d"
           }
          ],
          "histogram2dcontour": [
           {
            "colorbar": {
             "outlinewidth": 0,
             "ticks": ""
            },
            "colorscale": [
             [
              0,
              "#0d0887"
             ],
             [
              0.1111111111111111,
              "#46039f"
             ],
             [
              0.2222222222222222,
              "#7201a8"
             ],
             [
              0.3333333333333333,
              "#9c179e"
             ],
             [
              0.4444444444444444,
              "#bd3786"
             ],
             [
              0.5555555555555556,
              "#d8576b"
             ],
             [
              0.6666666666666666,
              "#ed7953"
             ],
             [
              0.7777777777777778,
              "#fb9f3a"
             ],
             [
              0.8888888888888888,
              "#fdca26"
             ],
             [
              1,
              "#f0f921"
             ]
            ],
            "type": "histogram2dcontour"
           }
          ],
          "mesh3d": [
           {
            "colorbar": {
             "outlinewidth": 0,
             "ticks": ""
            },
            "type": "mesh3d"
           }
          ],
          "parcoords": [
           {
            "line": {
             "colorbar": {
              "outlinewidth": 0,
              "ticks": ""
             }
            },
            "type": "parcoords"
           }
          ],
          "pie": [
           {
            "automargin": true,
            "type": "pie"
           }
          ],
          "scatter": [
           {
            "marker": {
             "colorbar": {
              "outlinewidth": 0,
              "ticks": ""
             }
            },
            "type": "scatter"
           }
          ],
          "scatter3d": [
           {
            "line": {
             "colorbar": {
              "outlinewidth": 0,
              "ticks": ""
             }
            },
            "marker": {
             "colorbar": {
              "outlinewidth": 0,
              "ticks": ""
             }
            },
            "type": "scatter3d"
           }
          ],
          "scattercarpet": [
           {
            "marker": {
             "colorbar": {
              "outlinewidth": 0,
              "ticks": ""
             }
            },
            "type": "scattercarpet"
           }
          ],
          "scattergeo": [
           {
            "marker": {
             "colorbar": {
              "outlinewidth": 0,
              "ticks": ""
             }
            },
            "type": "scattergeo"
           }
          ],
          "scattergl": [
           {
            "marker": {
             "colorbar": {
              "outlinewidth": 0,
              "ticks": ""
             }
            },
            "type": "scattergl"
           }
          ],
          "scattermapbox": [
           {
            "marker": {
             "colorbar": {
              "outlinewidth": 0,
              "ticks": ""
             }
            },
            "type": "scattermapbox"
           }
          ],
          "scatterpolar": [
           {
            "marker": {
             "colorbar": {
              "outlinewidth": 0,
              "ticks": ""
             }
            },
            "type": "scatterpolar"
           }
          ],
          "scatterpolargl": [
           {
            "marker": {
             "colorbar": {
              "outlinewidth": 0,
              "ticks": ""
             }
            },
            "type": "scatterpolargl"
           }
          ],
          "scatterternary": [
           {
            "marker": {
             "colorbar": {
              "outlinewidth": 0,
              "ticks": ""
             }
            },
            "type": "scatterternary"
           }
          ],
          "surface": [
           {
            "colorbar": {
             "outlinewidth": 0,
             "ticks": ""
            },
            "colorscale": [
             [
              0,
              "#0d0887"
             ],
             [
              0.1111111111111111,
              "#46039f"
             ],
             [
              0.2222222222222222,
              "#7201a8"
             ],
             [
              0.3333333333333333,
              "#9c179e"
             ],
             [
              0.4444444444444444,
              "#bd3786"
             ],
             [
              0.5555555555555556,
              "#d8576b"
             ],
             [
              0.6666666666666666,
              "#ed7953"
             ],
             [
              0.7777777777777778,
              "#fb9f3a"
             ],
             [
              0.8888888888888888,
              "#fdca26"
             ],
             [
              1,
              "#f0f921"
             ]
            ],
            "type": "surface"
           }
          ],
          "table": [
           {
            "cells": {
             "fill": {
              "color": "#EBF0F8"
             },
             "line": {
              "color": "white"
             }
            },
            "header": {
             "fill": {
              "color": "#C8D4E3"
             },
             "line": {
              "color": "white"
             }
            },
            "type": "table"
           }
          ]
         },
         "layout": {
          "annotationdefaults": {
           "arrowcolor": "#2a3f5f",
           "arrowhead": 0,
           "arrowwidth": 1
          },
          "coloraxis": {
           "colorbar": {
            "outlinewidth": 0,
            "ticks": ""
           }
          },
          "colorscale": {
           "diverging": [
            [
             0,
             "#8e0152"
            ],
            [
             0.1,
             "#c51b7d"
            ],
            [
             0.2,
             "#de77ae"
            ],
            [
             0.3,
             "#f1b6da"
            ],
            [
             0.4,
             "#fde0ef"
            ],
            [
             0.5,
             "#f7f7f7"
            ],
            [
             0.6,
             "#e6f5d0"
            ],
            [
             0.7,
             "#b8e186"
            ],
            [
             0.8,
             "#7fbc41"
            ],
            [
             0.9,
             "#4d9221"
            ],
            [
             1,
             "#276419"
            ]
           ],
           "sequential": [
            [
             0,
             "#0d0887"
            ],
            [
             0.1111111111111111,
             "#46039f"
            ],
            [
             0.2222222222222222,
             "#7201a8"
            ],
            [
             0.3333333333333333,
             "#9c179e"
            ],
            [
             0.4444444444444444,
             "#bd3786"
            ],
            [
             0.5555555555555556,
             "#d8576b"
            ],
            [
             0.6666666666666666,
             "#ed7953"
            ],
            [
             0.7777777777777778,
             "#fb9f3a"
            ],
            [
             0.8888888888888888,
             "#fdca26"
            ],
            [
             1,
             "#f0f921"
            ]
           ],
           "sequentialminus": [
            [
             0,
             "#0d0887"
            ],
            [
             0.1111111111111111,
             "#46039f"
            ],
            [
             0.2222222222222222,
             "#7201a8"
            ],
            [
             0.3333333333333333,
             "#9c179e"
            ],
            [
             0.4444444444444444,
             "#bd3786"
            ],
            [
             0.5555555555555556,
             "#d8576b"
            ],
            [
             0.6666666666666666,
             "#ed7953"
            ],
            [
             0.7777777777777778,
             "#fb9f3a"
            ],
            [
             0.8888888888888888,
             "#fdca26"
            ],
            [
             1,
             "#f0f921"
            ]
           ]
          },
          "colorway": [
           "#636efa",
           "#EF553B",
           "#00cc96",
           "#ab63fa",
           "#FFA15A",
           "#19d3f3",
           "#FF6692",
           "#B6E880",
           "#FF97FF",
           "#FECB52"
          ],
          "font": {
           "color": "#2a3f5f"
          },
          "geo": {
           "bgcolor": "white",
           "lakecolor": "white",
           "landcolor": "#E5ECF6",
           "showlakes": true,
           "showland": true,
           "subunitcolor": "white"
          },
          "hoverlabel": {
           "align": "left"
          },
          "hovermode": "closest",
          "mapbox": {
           "style": "light"
          },
          "paper_bgcolor": "white",
          "plot_bgcolor": "#E5ECF6",
          "polar": {
           "angularaxis": {
            "gridcolor": "white",
            "linecolor": "white",
            "ticks": ""
           },
           "bgcolor": "#E5ECF6",
           "radialaxis": {
            "gridcolor": "white",
            "linecolor": "white",
            "ticks": ""
           }
          },
          "scene": {
           "xaxis": {
            "backgroundcolor": "#E5ECF6",
            "gridcolor": "white",
            "gridwidth": 2,
            "linecolor": "white",
            "showbackground": true,
            "ticks": "",
            "zerolinecolor": "white"
           },
           "yaxis": {
            "backgroundcolor": "#E5ECF6",
            "gridcolor": "white",
            "gridwidth": 2,
            "linecolor": "white",
            "showbackground": true,
            "ticks": "",
            "zerolinecolor": "white"
           },
           "zaxis": {
            "backgroundcolor": "#E5ECF6",
            "gridcolor": "white",
            "gridwidth": 2,
            "linecolor": "white",
            "showbackground": true,
            "ticks": "",
            "zerolinecolor": "white"
           }
          },
          "shapedefaults": {
           "line": {
            "color": "#2a3f5f"
           }
          },
          "ternary": {
           "aaxis": {
            "gridcolor": "white",
            "linecolor": "white",
            "ticks": ""
           },
           "baxis": {
            "gridcolor": "white",
            "linecolor": "white",
            "ticks": ""
           },
           "bgcolor": "#E5ECF6",
           "caxis": {
            "gridcolor": "white",
            "linecolor": "white",
            "ticks": ""
           }
          },
          "title": {
           "x": 0.05
          },
          "xaxis": {
           "automargin": true,
           "gridcolor": "white",
           "linecolor": "white",
           "ticks": "",
           "title": {
            "standoff": 15
           },
           "zerolinecolor": "white",
           "zerolinewidth": 2
          },
          "yaxis": {
           "automargin": true,
           "gridcolor": "white",
           "linecolor": "white",
           "ticks": "",
           "title": {
            "standoff": 15
           },
           "zerolinecolor": "white",
           "zerolinewidth": 2
          }
         }
        },
        "title": {
         "font": {
          "color": "#4D5663"
         }
        },
        "xaxis": {
         "gridcolor": "#E1E5ED",
         "showgrid": true,
         "tickfont": {
          "color": "#4D5663"
         },
         "title": {
          "font": {
           "color": "#4D5663"
          },
          "text": ""
         },
         "zerolinecolor": "#E1E5ED"
        },
        "yaxis": {
         "gridcolor": "#E1E5ED",
         "showgrid": true,
         "tickfont": {
          "color": "#4D5663"
         },
         "title": {
          "font": {
           "color": "#4D5663"
          },
          "text": ""
         },
         "zerolinecolor": "#E1E5ED"
        }
       }
      },
      "text/html": [
       "<div>\n",
       "        \n",
       "        \n",
       "            <div id=\"ed499d0c-3c5b-451a-bf0a-58e20e62dac1\" class=\"plotly-graph-div\" style=\"height:525px; width:100%;\"></div>\n",
       "            <script type=\"text/javascript\">\n",
       "                require([\"plotly\"], function(Plotly) {\n",
       "                    window.PLOTLYENV=window.PLOTLYENV || {};\n",
       "                    window.PLOTLYENV.BASE_URL='https://plot.ly';\n",
       "                    \n",
       "                if (document.getElementById(\"ed499d0c-3c5b-451a-bf0a-58e20e62dac1\")) {\n",
       "                    Plotly.newPlot(\n",
       "                        'ed499d0c-3c5b-451a-bf0a-58e20e62dac1',\n",
       "                        [{\"line\": {\"color\": \"rgba(255, 153, 51, 1.0)\", \"dash\": \"solid\", \"shape\": \"linear\", \"width\": 1.3}, \"marker\": {\"size\": 10, \"symbol\": \"circle\"}, \"mode\": \"markers\", \"name\": \"B\", \"text\": \"\", \"type\": \"scatter\", \"x\": [0.33530550154152494, 0.09065339513616581, -0.01630297475032681, -0.07869977638765072, -0.11280955759602175, -0.1401151965190619, 0.37726332968436377, 0.9807848237014964, 0.810497685246533, -0.5369994090996112, 0.4665515681528577, -0.4027752710747494, 0.8450873692592444, -1.6713871998577774, -0.5647159680856547, -1.0454373654393754, -0.19128198431349563, -0.08380197880652643, -0.6808409250243673, 1.5314298215111735, -0.8472738029656343, 2.016894424729286, 0.5675939625303773, -0.12570665669379766, -2.9530064435370353, -0.7623240462719839, 0.24650554670245756, 0.677974153571497, 0.34498118682073425, 0.7050866228571876, 0.48289759808491, 0.19661274001139517, -0.10839634016900147, 1.2955729007966614, -1.2080228686216006, -0.8868820384240231, -0.8504568442746137, -0.8592195770336528, 0.23891912898121961, -0.390740080415598, 0.7899539300986534, 1.9073166225165692, 0.7332345874800306, 0.076279312025144, -0.1606368966839194, 0.3722445893819746, 0.6054925610989462, 0.7956873319712157, 0.9725100209690856, 0.24018718772850134, -1.390060796293999, -1.7325819543366443, -1.0531172370304538, -0.8435755679018383, -1.8669241001205663, 0.1430069081678792, 0.3503266506041815, 0.4798291478777767, 0.5100131008826317, 2.0749173355937347, -1.3690344750713008, -0.06876435799003278, -0.4505688369932266, 1.078456943733188, 0.30714997296703755, -0.4139398828429726, 1.7895416427199355, 0.776518393126592, 1.1006209089834444, 2.3663267206891385, -0.748679596212696, -0.8895687565692749, 0.8656205411908345, 0.41104469157294404, -0.609241534591123, -1.4383026828323873, 0.26635612483594606, -1.8980379983631288, -1.738277833733187, -1.5289927281839082, 0.23529718024963092, -0.08309493795682184, 0.273378453933951, -0.4817320634709933, -0.1375488620604106, 0.33783356180165247, 0.6998816614904454, 0.537709684336636, 0.8069903649895979, -0.6731094896210476, 1.443158574532866, 1.2870986328443184, 0.7035596946386531, -0.7921994935980345, -0.489915251036213, -0.5231506439766499, 0.385676724326846, -0.09919321074167252, 0.8202815108228418, 1.2975442876253223], \"y\": [-0.6760691106235645, 0.18372206965000965, -0.34323330233492, -2.070801152584343, 0.34577707775890487, 2.1301507636241146, -0.5531762406825648, -0.7399323363908722, 0.26241129162089216, -1.4337004355910643, -0.8594491355414683, -0.4912756822823481, 0.583450794405381, -1.5045213827074095, 1.752280268786307, -0.5863715567174779, -0.04012310455887652, 1.9455806784460525, 1.4257375049163175, -0.23411141816222264, -1.4491472757323403, -0.5833671584039474, -0.7529753578098609, 0.10339329905994711, -0.004541122623439102, -1.7573449484289683, 0.9043005711761228, -0.5799998214961695, -2.182073073509037, 0.6117543628483829, -1.046866238177497, 0.1451050144527596, -1.7091895613300523, 0.7730883681592071, 0.11046956239724635, 0.860561453912868, 1.7817168794154585, 0.5941911948405838, 1.7464390750714196, 1.3443851144456052, -0.653941015096149, -0.6481687041989921, 0.7565231993307985, -0.3377428990829017, -0.24165345197325094, -1.0946339421083284, -0.6566654045105857, 1.4656164547884096, 1.6971479352132062, 0.06229333566246116, -0.33487264062175487, 0.4575692496097571, -1.6218757011147977, -0.07516494673505354, 1.2557900113465656, 0.5178613245423704, 0.5719740142416783, 1.6678064203880918, 1.2178665474743848, -0.7714648529472447, -0.21634347844280188, -0.058793758991811655, -1.3667740058247482, -0.47598627590409903, 1.125778904159132, 0.7835229441755038, 0.09036040956928859, -0.15580677569506976, 0.21970059205786405, -2.2347952553428714, 0.30004649144884643, 1.3109454582592848, 0.580259232168523, -0.358579231338049, -1.21979233901239, -0.8050965907187663, 1.836896105180095, -0.406968255985467, -0.6343369641269744, 1.451527328603819, 0.8033320096526525, -0.7679911742675111, -1.7453939281965098, -2.5858164646107724, -0.6622222603851182, -0.35412184689296267, -0.278741803965597, 1.2277706222638571, -0.1364186492754009, -1.149210347160463, 0.4790085316866908, 0.8690059859342354, -0.5550546023569558, -0.5491642438620772, -0.9837564753414033, 0.46931440157870213, -0.032044133111769284, -1.4470251258178546, 0.20863537293074075, 0.10224247082485786]}],\n",
       "                        {\"legend\": {\"bgcolor\": \"#F5F6F9\", \"font\": {\"color\": \"#4D5663\"}}, \"paper_bgcolor\": \"#F5F6F9\", \"plot_bgcolor\": \"#F5F6F9\", \"template\": {\"data\": {\"bar\": [{\"error_x\": {\"color\": \"#2a3f5f\"}, \"error_y\": {\"color\": \"#2a3f5f\"}, \"marker\": {\"line\": {\"color\": \"#E5ECF6\", \"width\": 0.5}}, \"type\": \"bar\"}], \"barpolar\": [{\"marker\": {\"line\": {\"color\": \"#E5ECF6\", \"width\": 0.5}}, \"type\": \"barpolar\"}], \"carpet\": [{\"aaxis\": {\"endlinecolor\": \"#2a3f5f\", \"gridcolor\": \"white\", \"linecolor\": \"white\", \"minorgridcolor\": \"white\", \"startlinecolor\": \"#2a3f5f\"}, \"baxis\": {\"endlinecolor\": \"#2a3f5f\", \"gridcolor\": \"white\", \"linecolor\": \"white\", \"minorgridcolor\": \"white\", \"startlinecolor\": \"#2a3f5f\"}, \"type\": \"carpet\"}], \"choropleth\": [{\"colorbar\": {\"outlinewidth\": 0, \"ticks\": \"\"}, \"type\": \"choropleth\"}], \"contour\": [{\"colorbar\": {\"outlinewidth\": 0, \"ticks\": \"\"}, \"colorscale\": [[0.0, \"#0d0887\"], [0.1111111111111111, \"#46039f\"], [0.2222222222222222, \"#7201a8\"], [0.3333333333333333, \"#9c179e\"], [0.4444444444444444, \"#bd3786\"], [0.5555555555555556, \"#d8576b\"], [0.6666666666666666, \"#ed7953\"], [0.7777777777777778, \"#fb9f3a\"], [0.8888888888888888, \"#fdca26\"], [1.0, \"#f0f921\"]], \"type\": \"contour\"}], \"contourcarpet\": [{\"colorbar\": {\"outlinewidth\": 0, \"ticks\": \"\"}, \"type\": \"contourcarpet\"}], \"heatmap\": [{\"colorbar\": {\"outlinewidth\": 0, \"ticks\": \"\"}, \"colorscale\": [[0.0, \"#0d0887\"], [0.1111111111111111, \"#46039f\"], [0.2222222222222222, \"#7201a8\"], [0.3333333333333333, \"#9c179e\"], [0.4444444444444444, \"#bd3786\"], [0.5555555555555556, \"#d8576b\"], [0.6666666666666666, \"#ed7953\"], [0.7777777777777778, \"#fb9f3a\"], [0.8888888888888888, \"#fdca26\"], [1.0, \"#f0f921\"]], \"type\": \"heatmap\"}], \"heatmapgl\": [{\"colorbar\": {\"outlinewidth\": 0, \"ticks\": \"\"}, \"colorscale\": [[0.0, \"#0d0887\"], [0.1111111111111111, \"#46039f\"], [0.2222222222222222, \"#7201a8\"], [0.3333333333333333, \"#9c179e\"], [0.4444444444444444, \"#bd3786\"], [0.5555555555555556, \"#d8576b\"], [0.6666666666666666, \"#ed7953\"], [0.7777777777777778, \"#fb9f3a\"], [0.8888888888888888, \"#fdca26\"], [1.0, \"#f0f921\"]], \"type\": \"heatmapgl\"}], \"histogram\": [{\"marker\": {\"colorbar\": {\"outlinewidth\": 0, \"ticks\": \"\"}}, \"type\": \"histogram\"}], \"histogram2d\": [{\"colorbar\": {\"outlinewidth\": 0, \"ticks\": \"\"}, \"colorscale\": [[0.0, \"#0d0887\"], [0.1111111111111111, \"#46039f\"], [0.2222222222222222, \"#7201a8\"], [0.3333333333333333, \"#9c179e\"], [0.4444444444444444, \"#bd3786\"], [0.5555555555555556, \"#d8576b\"], [0.6666666666666666, \"#ed7953\"], [0.7777777777777778, \"#fb9f3a\"], [0.8888888888888888, \"#fdca26\"], [1.0, \"#f0f921\"]], \"type\": \"histogram2d\"}], \"histogram2dcontour\": [{\"colorbar\": {\"outlinewidth\": 0, \"ticks\": \"\"}, \"colorscale\": [[0.0, \"#0d0887\"], [0.1111111111111111, \"#46039f\"], [0.2222222222222222, \"#7201a8\"], [0.3333333333333333, \"#9c179e\"], [0.4444444444444444, \"#bd3786\"], [0.5555555555555556, \"#d8576b\"], [0.6666666666666666, \"#ed7953\"], [0.7777777777777778, \"#fb9f3a\"], [0.8888888888888888, \"#fdca26\"], [1.0, \"#f0f921\"]], \"type\": \"histogram2dcontour\"}], \"mesh3d\": [{\"colorbar\": {\"outlinewidth\": 0, \"ticks\": \"\"}, \"type\": \"mesh3d\"}], \"parcoords\": [{\"line\": {\"colorbar\": {\"outlinewidth\": 0, \"ticks\": \"\"}}, \"type\": \"parcoords\"}], \"pie\": [{\"automargin\": true, \"type\": \"pie\"}], \"scatter\": [{\"marker\": {\"colorbar\": {\"outlinewidth\": 0, \"ticks\": \"\"}}, \"type\": \"scatter\"}], \"scatter3d\": [{\"line\": {\"colorbar\": {\"outlinewidth\": 0, \"ticks\": \"\"}}, \"marker\": {\"colorbar\": {\"outlinewidth\": 0, \"ticks\": \"\"}}, \"type\": \"scatter3d\"}], \"scattercarpet\": [{\"marker\": {\"colorbar\": {\"outlinewidth\": 0, \"ticks\": \"\"}}, \"type\": \"scattercarpet\"}], \"scattergeo\": [{\"marker\": {\"colorbar\": {\"outlinewidth\": 0, \"ticks\": \"\"}}, \"type\": \"scattergeo\"}], \"scattergl\": [{\"marker\": {\"colorbar\": {\"outlinewidth\": 0, \"ticks\": \"\"}}, \"type\": \"scattergl\"}], \"scattermapbox\": [{\"marker\": {\"colorbar\": {\"outlinewidth\": 0, \"ticks\": \"\"}}, \"type\": \"scattermapbox\"}], \"scatterpolar\": [{\"marker\": {\"colorbar\": {\"outlinewidth\": 0, \"ticks\": \"\"}}, \"type\": \"scatterpolar\"}], \"scatterpolargl\": [{\"marker\": {\"colorbar\": {\"outlinewidth\": 0, \"ticks\": \"\"}}, \"type\": \"scatterpolargl\"}], \"scatterternary\": [{\"marker\": {\"colorbar\": {\"outlinewidth\": 0, \"ticks\": \"\"}}, \"type\": \"scatterternary\"}], \"surface\": [{\"colorbar\": {\"outlinewidth\": 0, \"ticks\": \"\"}, \"colorscale\": [[0.0, \"#0d0887\"], [0.1111111111111111, \"#46039f\"], [0.2222222222222222, \"#7201a8\"], [0.3333333333333333, \"#9c179e\"], [0.4444444444444444, \"#bd3786\"], [0.5555555555555556, \"#d8576b\"], [0.6666666666666666, \"#ed7953\"], [0.7777777777777778, \"#fb9f3a\"], [0.8888888888888888, \"#fdca26\"], [1.0, \"#f0f921\"]], \"type\": \"surface\"}], \"table\": [{\"cells\": {\"fill\": {\"color\": \"#EBF0F8\"}, \"line\": {\"color\": \"white\"}}, \"header\": {\"fill\": {\"color\": \"#C8D4E3\"}, \"line\": {\"color\": \"white\"}}, \"type\": \"table\"}]}, \"layout\": {\"annotationdefaults\": {\"arrowcolor\": \"#2a3f5f\", \"arrowhead\": 0, \"arrowwidth\": 1}, \"coloraxis\": {\"colorbar\": {\"outlinewidth\": 0, \"ticks\": \"\"}}, \"colorscale\": {\"diverging\": [[0, \"#8e0152\"], [0.1, \"#c51b7d\"], [0.2, \"#de77ae\"], [0.3, \"#f1b6da\"], [0.4, \"#fde0ef\"], [0.5, \"#f7f7f7\"], [0.6, \"#e6f5d0\"], [0.7, \"#b8e186\"], [0.8, \"#7fbc41\"], [0.9, \"#4d9221\"], [1, \"#276419\"]], \"sequential\": [[0.0, \"#0d0887\"], [0.1111111111111111, \"#46039f\"], [0.2222222222222222, \"#7201a8\"], [0.3333333333333333, \"#9c179e\"], [0.4444444444444444, \"#bd3786\"], [0.5555555555555556, \"#d8576b\"], [0.6666666666666666, \"#ed7953\"], [0.7777777777777778, \"#fb9f3a\"], [0.8888888888888888, \"#fdca26\"], [1.0, \"#f0f921\"]], \"sequentialminus\": [[0.0, \"#0d0887\"], [0.1111111111111111, \"#46039f\"], [0.2222222222222222, \"#7201a8\"], [0.3333333333333333, \"#9c179e\"], [0.4444444444444444, \"#bd3786\"], [0.5555555555555556, \"#d8576b\"], [0.6666666666666666, \"#ed7953\"], [0.7777777777777778, \"#fb9f3a\"], [0.8888888888888888, \"#fdca26\"], [1.0, \"#f0f921\"]]}, \"colorway\": [\"#636efa\", \"#EF553B\", \"#00cc96\", \"#ab63fa\", \"#FFA15A\", \"#19d3f3\", \"#FF6692\", \"#B6E880\", \"#FF97FF\", \"#FECB52\"], \"font\": {\"color\": \"#2a3f5f\"}, \"geo\": {\"bgcolor\": \"white\", \"lakecolor\": \"white\", \"landcolor\": \"#E5ECF6\", \"showlakes\": true, \"showland\": true, \"subunitcolor\": \"white\"}, \"hoverlabel\": {\"align\": \"left\"}, \"hovermode\": \"closest\", \"mapbox\": {\"style\": \"light\"}, \"paper_bgcolor\": \"white\", \"plot_bgcolor\": \"#E5ECF6\", \"polar\": {\"angularaxis\": {\"gridcolor\": \"white\", \"linecolor\": \"white\", \"ticks\": \"\"}, \"bgcolor\": \"#E5ECF6\", \"radialaxis\": {\"gridcolor\": \"white\", \"linecolor\": \"white\", \"ticks\": \"\"}}, \"scene\": {\"xaxis\": {\"backgroundcolor\": \"#E5ECF6\", \"gridcolor\": \"white\", \"gridwidth\": 2, \"linecolor\": \"white\", \"showbackground\": true, \"ticks\": \"\", \"zerolinecolor\": \"white\"}, \"yaxis\": {\"backgroundcolor\": \"#E5ECF6\", \"gridcolor\": \"white\", \"gridwidth\": 2, \"linecolor\": \"white\", \"showbackground\": true, \"ticks\": \"\", \"zerolinecolor\": \"white\"}, \"zaxis\": {\"backgroundcolor\": \"#E5ECF6\", \"gridcolor\": \"white\", \"gridwidth\": 2, \"linecolor\": \"white\", \"showbackground\": true, \"ticks\": \"\", \"zerolinecolor\": \"white\"}}, \"shapedefaults\": {\"line\": {\"color\": \"#2a3f5f\"}}, \"ternary\": {\"aaxis\": {\"gridcolor\": \"white\", \"linecolor\": \"white\", \"ticks\": \"\"}, \"baxis\": {\"gridcolor\": \"white\", \"linecolor\": \"white\", \"ticks\": \"\"}, \"bgcolor\": \"#E5ECF6\", \"caxis\": {\"gridcolor\": \"white\", \"linecolor\": \"white\", \"ticks\": \"\"}}, \"title\": {\"x\": 0.05}, \"xaxis\": {\"automargin\": true, \"gridcolor\": \"white\", \"linecolor\": \"white\", \"ticks\": \"\", \"title\": {\"standoff\": 15}, \"zerolinecolor\": \"white\", \"zerolinewidth\": 2}, \"yaxis\": {\"automargin\": true, \"gridcolor\": \"white\", \"linecolor\": \"white\", \"ticks\": \"\", \"title\": {\"standoff\": 15}, \"zerolinecolor\": \"white\", \"zerolinewidth\": 2}}}, \"title\": {\"font\": {\"color\": \"#4D5663\"}}, \"xaxis\": {\"gridcolor\": \"#E1E5ED\", \"showgrid\": true, \"tickfont\": {\"color\": \"#4D5663\"}, \"title\": {\"font\": {\"color\": \"#4D5663\"}, \"text\": \"\"}, \"zerolinecolor\": \"#E1E5ED\"}, \"yaxis\": {\"gridcolor\": \"#E1E5ED\", \"showgrid\": true, \"tickfont\": {\"color\": \"#4D5663\"}, \"title\": {\"font\": {\"color\": \"#4D5663\"}, \"text\": \"\"}, \"zerolinecolor\": \"#E1E5ED\"}},\n",
       "                        {\"showLink\": true, \"linkText\": \"Export to plot.ly\", \"plotlyServerURL\": \"https://plot.ly\", \"responsive\": true}\n",
       "                    ).then(function(){\n",
       "                            \n",
       "var gd = document.getElementById('ed499d0c-3c5b-451a-bf0a-58e20e62dac1');\n",
       "var x = new MutationObserver(function (mutations, observer) {{\n",
       "        var display = window.getComputedStyle(gd).display;\n",
       "        if (!display || display === 'none') {{\n",
       "            console.log([gd, 'removed!']);\n",
       "            Plotly.purge(gd);\n",
       "            observer.disconnect();\n",
       "        }}\n",
       "}});\n",
       "\n",
       "// Listen for the removal of the full notebook cells\n",
       "var notebookContainer = gd.closest('#notebook-container');\n",
       "if (notebookContainer) {{\n",
       "    x.observe(notebookContainer, {childList: true});\n",
       "}}\n",
       "\n",
       "// Listen for the clearing of the current output cell\n",
       "var outputEl = gd.closest('.output');\n",
       "if (outputEl) {{\n",
       "    x.observe(outputEl, {childList: true});\n",
       "}}\n",
       "\n",
       "                        })\n",
       "                };\n",
       "                });\n",
       "            </script>\n",
       "        </div>"
      ]
     },
     "metadata": {},
     "output_type": "display_data"
    }
   ],
   "source": [
    "df.iplot(kind='scatter',x='A',y='B',mode='markers',size=10)"
   ]
  },
  {
   "cell_type": "markdown",
   "metadata": {},
   "source": [
    "## Bar Plots"
   ]
  },
  {
   "cell_type": "code",
   "execution_count": 29,
   "metadata": {},
   "outputs": [
    {
     "data": {
      "application/vnd.plotly.v1+json": {
       "config": {
        "linkText": "Export to plot.ly",
        "plotlyServerURL": "https://plot.ly",
        "showLink": true
       },
       "data": [
        {
         "marker": {
          "color": "rgba(255, 153, 51, 0.6)",
          "line": {
           "color": "rgba(255, 153, 51, 1.0)",
           "width": 1
          }
         },
         "name": "Values",
         "orientation": "v",
         "text": "",
         "type": "bar",
         "x": [
          "A",
          "B",
          "C"
         ],
         "y": [
          32,
          43,
          50
         ]
        }
       ],
       "layout": {
        "legend": {
         "bgcolor": "#F5F6F9",
         "font": {
          "color": "#4D5663"
         }
        },
        "paper_bgcolor": "#F5F6F9",
        "plot_bgcolor": "#F5F6F9",
        "template": {
         "data": {
          "bar": [
           {
            "error_x": {
             "color": "#2a3f5f"
            },
            "error_y": {
             "color": "#2a3f5f"
            },
            "marker": {
             "line": {
              "color": "#E5ECF6",
              "width": 0.5
             }
            },
            "type": "bar"
           }
          ],
          "barpolar": [
           {
            "marker": {
             "line": {
              "color": "#E5ECF6",
              "width": 0.5
             }
            },
            "type": "barpolar"
           }
          ],
          "carpet": [
           {
            "aaxis": {
             "endlinecolor": "#2a3f5f",
             "gridcolor": "white",
             "linecolor": "white",
             "minorgridcolor": "white",
             "startlinecolor": "#2a3f5f"
            },
            "baxis": {
             "endlinecolor": "#2a3f5f",
             "gridcolor": "white",
             "linecolor": "white",
             "minorgridcolor": "white",
             "startlinecolor": "#2a3f5f"
            },
            "type": "carpet"
           }
          ],
          "choropleth": [
           {
            "colorbar": {
             "outlinewidth": 0,
             "ticks": ""
            },
            "type": "choropleth"
           }
          ],
          "contour": [
           {
            "colorbar": {
             "outlinewidth": 0,
             "ticks": ""
            },
            "colorscale": [
             [
              0,
              "#0d0887"
             ],
             [
              0.1111111111111111,
              "#46039f"
             ],
             [
              0.2222222222222222,
              "#7201a8"
             ],
             [
              0.3333333333333333,
              "#9c179e"
             ],
             [
              0.4444444444444444,
              "#bd3786"
             ],
             [
              0.5555555555555556,
              "#d8576b"
             ],
             [
              0.6666666666666666,
              "#ed7953"
             ],
             [
              0.7777777777777778,
              "#fb9f3a"
             ],
             [
              0.8888888888888888,
              "#fdca26"
             ],
             [
              1,
              "#f0f921"
             ]
            ],
            "type": "contour"
           }
          ],
          "contourcarpet": [
           {
            "colorbar": {
             "outlinewidth": 0,
             "ticks": ""
            },
            "type": "contourcarpet"
           }
          ],
          "heatmap": [
           {
            "colorbar": {
             "outlinewidth": 0,
             "ticks": ""
            },
            "colorscale": [
             [
              0,
              "#0d0887"
             ],
             [
              0.1111111111111111,
              "#46039f"
             ],
             [
              0.2222222222222222,
              "#7201a8"
             ],
             [
              0.3333333333333333,
              "#9c179e"
             ],
             [
              0.4444444444444444,
              "#bd3786"
             ],
             [
              0.5555555555555556,
              "#d8576b"
             ],
             [
              0.6666666666666666,
              "#ed7953"
             ],
             [
              0.7777777777777778,
              "#fb9f3a"
             ],
             [
              0.8888888888888888,
              "#fdca26"
             ],
             [
              1,
              "#f0f921"
             ]
            ],
            "type": "heatmap"
           }
          ],
          "heatmapgl": [
           {
            "colorbar": {
             "outlinewidth": 0,
             "ticks": ""
            },
            "colorscale": [
             [
              0,
              "#0d0887"
             ],
             [
              0.1111111111111111,
              "#46039f"
             ],
             [
              0.2222222222222222,
              "#7201a8"
             ],
             [
              0.3333333333333333,
              "#9c179e"
             ],
             [
              0.4444444444444444,
              "#bd3786"
             ],
             [
              0.5555555555555556,
              "#d8576b"
             ],
             [
              0.6666666666666666,
              "#ed7953"
             ],
             [
              0.7777777777777778,
              "#fb9f3a"
             ],
             [
              0.8888888888888888,
              "#fdca26"
             ],
             [
              1,
              "#f0f921"
             ]
            ],
            "type": "heatmapgl"
           }
          ],
          "histogram": [
           {
            "marker": {
             "colorbar": {
              "outlinewidth": 0,
              "ticks": ""
             }
            },
            "type": "histogram"
           }
          ],
          "histogram2d": [
           {
            "colorbar": {
             "outlinewidth": 0,
             "ticks": ""
            },
            "colorscale": [
             [
              0,
              "#0d0887"
             ],
             [
              0.1111111111111111,
              "#46039f"
             ],
             [
              0.2222222222222222,
              "#7201a8"
             ],
             [
              0.3333333333333333,
              "#9c179e"
             ],
             [
              0.4444444444444444,
              "#bd3786"
             ],
             [
              0.5555555555555556,
              "#d8576b"
             ],
             [
              0.6666666666666666,
              "#ed7953"
             ],
             [
              0.7777777777777778,
              "#fb9f3a"
             ],
             [
              0.8888888888888888,
              "#fdca26"
             ],
             [
              1,
              "#f0f921"
             ]
            ],
            "type": "histogram2d"
           }
          ],
          "histogram2dcontour": [
           {
            "colorbar": {
             "outlinewidth": 0,
             "ticks": ""
            },
            "colorscale": [
             [
              0,
              "#0d0887"
             ],
             [
              0.1111111111111111,
              "#46039f"
             ],
             [
              0.2222222222222222,
              "#7201a8"
             ],
             [
              0.3333333333333333,
              "#9c179e"
             ],
             [
              0.4444444444444444,
              "#bd3786"
             ],
             [
              0.5555555555555556,
              "#d8576b"
             ],
             [
              0.6666666666666666,
              "#ed7953"
             ],
             [
              0.7777777777777778,
              "#fb9f3a"
             ],
             [
              0.8888888888888888,
              "#fdca26"
             ],
             [
              1,
              "#f0f921"
             ]
            ],
            "type": "histogram2dcontour"
           }
          ],
          "mesh3d": [
           {
            "colorbar": {
             "outlinewidth": 0,
             "ticks": ""
            },
            "type": "mesh3d"
           }
          ],
          "parcoords": [
           {
            "line": {
             "colorbar": {
              "outlinewidth": 0,
              "ticks": ""
             }
            },
            "type": "parcoords"
           }
          ],
          "pie": [
           {
            "automargin": true,
            "type": "pie"
           }
          ],
          "scatter": [
           {
            "marker": {
             "colorbar": {
              "outlinewidth": 0,
              "ticks": ""
             }
            },
            "type": "scatter"
           }
          ],
          "scatter3d": [
           {
            "line": {
             "colorbar": {
              "outlinewidth": 0,
              "ticks": ""
             }
            },
            "marker": {
             "colorbar": {
              "outlinewidth": 0,
              "ticks": ""
             }
            },
            "type": "scatter3d"
           }
          ],
          "scattercarpet": [
           {
            "marker": {
             "colorbar": {
              "outlinewidth": 0,
              "ticks": ""
             }
            },
            "type": "scattercarpet"
           }
          ],
          "scattergeo": [
           {
            "marker": {
             "colorbar": {
              "outlinewidth": 0,
              "ticks": ""
             }
            },
            "type": "scattergeo"
           }
          ],
          "scattergl": [
           {
            "marker": {
             "colorbar": {
              "outlinewidth": 0,
              "ticks": ""
             }
            },
            "type": "scattergl"
           }
          ],
          "scattermapbox": [
           {
            "marker": {
             "colorbar": {
              "outlinewidth": 0,
              "ticks": ""
             }
            },
            "type": "scattermapbox"
           }
          ],
          "scatterpolar": [
           {
            "marker": {
             "colorbar": {
              "outlinewidth": 0,
              "ticks": ""
             }
            },
            "type": "scatterpolar"
           }
          ],
          "scatterpolargl": [
           {
            "marker": {
             "colorbar": {
              "outlinewidth": 0,
              "ticks": ""
             }
            },
            "type": "scatterpolargl"
           }
          ],
          "scatterternary": [
           {
            "marker": {
             "colorbar": {
              "outlinewidth": 0,
              "ticks": ""
             }
            },
            "type": "scatterternary"
           }
          ],
          "surface": [
           {
            "colorbar": {
             "outlinewidth": 0,
             "ticks": ""
            },
            "colorscale": [
             [
              0,
              "#0d0887"
             ],
             [
              0.1111111111111111,
              "#46039f"
             ],
             [
              0.2222222222222222,
              "#7201a8"
             ],
             [
              0.3333333333333333,
              "#9c179e"
             ],
             [
              0.4444444444444444,
              "#bd3786"
             ],
             [
              0.5555555555555556,
              "#d8576b"
             ],
             [
              0.6666666666666666,
              "#ed7953"
             ],
             [
              0.7777777777777778,
              "#fb9f3a"
             ],
             [
              0.8888888888888888,
              "#fdca26"
             ],
             [
              1,
              "#f0f921"
             ]
            ],
            "type": "surface"
           }
          ],
          "table": [
           {
            "cells": {
             "fill": {
              "color": "#EBF0F8"
             },
             "line": {
              "color": "white"
             }
            },
            "header": {
             "fill": {
              "color": "#C8D4E3"
             },
             "line": {
              "color": "white"
             }
            },
            "type": "table"
           }
          ]
         },
         "layout": {
          "annotationdefaults": {
           "arrowcolor": "#2a3f5f",
           "arrowhead": 0,
           "arrowwidth": 1
          },
          "coloraxis": {
           "colorbar": {
            "outlinewidth": 0,
            "ticks": ""
           }
          },
          "colorscale": {
           "diverging": [
            [
             0,
             "#8e0152"
            ],
            [
             0.1,
             "#c51b7d"
            ],
            [
             0.2,
             "#de77ae"
            ],
            [
             0.3,
             "#f1b6da"
            ],
            [
             0.4,
             "#fde0ef"
            ],
            [
             0.5,
             "#f7f7f7"
            ],
            [
             0.6,
             "#e6f5d0"
            ],
            [
             0.7,
             "#b8e186"
            ],
            [
             0.8,
             "#7fbc41"
            ],
            [
             0.9,
             "#4d9221"
            ],
            [
             1,
             "#276419"
            ]
           ],
           "sequential": [
            [
             0,
             "#0d0887"
            ],
            [
             0.1111111111111111,
             "#46039f"
            ],
            [
             0.2222222222222222,
             "#7201a8"
            ],
            [
             0.3333333333333333,
             "#9c179e"
            ],
            [
             0.4444444444444444,
             "#bd3786"
            ],
            [
             0.5555555555555556,
             "#d8576b"
            ],
            [
             0.6666666666666666,
             "#ed7953"
            ],
            [
             0.7777777777777778,
             "#fb9f3a"
            ],
            [
             0.8888888888888888,
             "#fdca26"
            ],
            [
             1,
             "#f0f921"
            ]
           ],
           "sequentialminus": [
            [
             0,
             "#0d0887"
            ],
            [
             0.1111111111111111,
             "#46039f"
            ],
            [
             0.2222222222222222,
             "#7201a8"
            ],
            [
             0.3333333333333333,
             "#9c179e"
            ],
            [
             0.4444444444444444,
             "#bd3786"
            ],
            [
             0.5555555555555556,
             "#d8576b"
            ],
            [
             0.6666666666666666,
             "#ed7953"
            ],
            [
             0.7777777777777778,
             "#fb9f3a"
            ],
            [
             0.8888888888888888,
             "#fdca26"
            ],
            [
             1,
             "#f0f921"
            ]
           ]
          },
          "colorway": [
           "#636efa",
           "#EF553B",
           "#00cc96",
           "#ab63fa",
           "#FFA15A",
           "#19d3f3",
           "#FF6692",
           "#B6E880",
           "#FF97FF",
           "#FECB52"
          ],
          "font": {
           "color": "#2a3f5f"
          },
          "geo": {
           "bgcolor": "white",
           "lakecolor": "white",
           "landcolor": "#E5ECF6",
           "showlakes": true,
           "showland": true,
           "subunitcolor": "white"
          },
          "hoverlabel": {
           "align": "left"
          },
          "hovermode": "closest",
          "mapbox": {
           "style": "light"
          },
          "paper_bgcolor": "white",
          "plot_bgcolor": "#E5ECF6",
          "polar": {
           "angularaxis": {
            "gridcolor": "white",
            "linecolor": "white",
            "ticks": ""
           },
           "bgcolor": "#E5ECF6",
           "radialaxis": {
            "gridcolor": "white",
            "linecolor": "white",
            "ticks": ""
           }
          },
          "scene": {
           "xaxis": {
            "backgroundcolor": "#E5ECF6",
            "gridcolor": "white",
            "gridwidth": 2,
            "linecolor": "white",
            "showbackground": true,
            "ticks": "",
            "zerolinecolor": "white"
           },
           "yaxis": {
            "backgroundcolor": "#E5ECF6",
            "gridcolor": "white",
            "gridwidth": 2,
            "linecolor": "white",
            "showbackground": true,
            "ticks": "",
            "zerolinecolor": "white"
           },
           "zaxis": {
            "backgroundcolor": "#E5ECF6",
            "gridcolor": "white",
            "gridwidth": 2,
            "linecolor": "white",
            "showbackground": true,
            "ticks": "",
            "zerolinecolor": "white"
           }
          },
          "shapedefaults": {
           "line": {
            "color": "#2a3f5f"
           }
          },
          "ternary": {
           "aaxis": {
            "gridcolor": "white",
            "linecolor": "white",
            "ticks": ""
           },
           "baxis": {
            "gridcolor": "white",
            "linecolor": "white",
            "ticks": ""
           },
           "bgcolor": "#E5ECF6",
           "caxis": {
            "gridcolor": "white",
            "linecolor": "white",
            "ticks": ""
           }
          },
          "title": {
           "x": 0.05
          },
          "xaxis": {
           "automargin": true,
           "gridcolor": "white",
           "linecolor": "white",
           "ticks": "",
           "title": {
            "standoff": 15
           },
           "zerolinecolor": "white",
           "zerolinewidth": 2
          },
          "yaxis": {
           "automargin": true,
           "gridcolor": "white",
           "linecolor": "white",
           "ticks": "",
           "title": {
            "standoff": 15
           },
           "zerolinecolor": "white",
           "zerolinewidth": 2
          }
         }
        },
        "title": {
         "font": {
          "color": "#4D5663"
         }
        },
        "xaxis": {
         "gridcolor": "#E1E5ED",
         "showgrid": true,
         "tickfont": {
          "color": "#4D5663"
         },
         "title": {
          "font": {
           "color": "#4D5663"
          },
          "text": ""
         },
         "zerolinecolor": "#E1E5ED"
        },
        "yaxis": {
         "gridcolor": "#E1E5ED",
         "showgrid": true,
         "tickfont": {
          "color": "#4D5663"
         },
         "title": {
          "font": {
           "color": "#4D5663"
          },
          "text": ""
         },
         "zerolinecolor": "#E1E5ED"
        }
       }
      },
      "text/html": [
       "<div>\n",
       "        \n",
       "        \n",
       "            <div id=\"c9c2a1e5-b4ce-4be8-b3b4-f0c024fddaec\" class=\"plotly-graph-div\" style=\"height:525px; width:100%;\"></div>\n",
       "            <script type=\"text/javascript\">\n",
       "                require([\"plotly\"], function(Plotly) {\n",
       "                    window.PLOTLYENV=window.PLOTLYENV || {};\n",
       "                    window.PLOTLYENV.BASE_URL='https://plot.ly';\n",
       "                    \n",
       "                if (document.getElementById(\"c9c2a1e5-b4ce-4be8-b3b4-f0c024fddaec\")) {\n",
       "                    Plotly.newPlot(\n",
       "                        'c9c2a1e5-b4ce-4be8-b3b4-f0c024fddaec',\n",
       "                        [{\"marker\": {\"color\": \"rgba(255, 153, 51, 0.6)\", \"line\": {\"color\": \"rgba(255, 153, 51, 1.0)\", \"width\": 1}}, \"name\": \"Values\", \"orientation\": \"v\", \"text\": \"\", \"type\": \"bar\", \"x\": [\"A\", \"B\", \"C\"], \"y\": [32, 43, 50]}],\n",
       "                        {\"legend\": {\"bgcolor\": \"#F5F6F9\", \"font\": {\"color\": \"#4D5663\"}}, \"paper_bgcolor\": \"#F5F6F9\", \"plot_bgcolor\": \"#F5F6F9\", \"template\": {\"data\": {\"bar\": [{\"error_x\": {\"color\": \"#2a3f5f\"}, \"error_y\": {\"color\": \"#2a3f5f\"}, \"marker\": {\"line\": {\"color\": \"#E5ECF6\", \"width\": 0.5}}, \"type\": \"bar\"}], \"barpolar\": [{\"marker\": {\"line\": {\"color\": \"#E5ECF6\", \"width\": 0.5}}, \"type\": \"barpolar\"}], \"carpet\": [{\"aaxis\": {\"endlinecolor\": \"#2a3f5f\", \"gridcolor\": \"white\", \"linecolor\": \"white\", \"minorgridcolor\": \"white\", \"startlinecolor\": \"#2a3f5f\"}, \"baxis\": {\"endlinecolor\": \"#2a3f5f\", \"gridcolor\": \"white\", \"linecolor\": \"white\", \"minorgridcolor\": \"white\", \"startlinecolor\": \"#2a3f5f\"}, \"type\": \"carpet\"}], \"choropleth\": [{\"colorbar\": {\"outlinewidth\": 0, \"ticks\": \"\"}, \"type\": \"choropleth\"}], \"contour\": [{\"colorbar\": {\"outlinewidth\": 0, \"ticks\": \"\"}, \"colorscale\": [[0.0, \"#0d0887\"], [0.1111111111111111, \"#46039f\"], [0.2222222222222222, \"#7201a8\"], [0.3333333333333333, \"#9c179e\"], [0.4444444444444444, \"#bd3786\"], [0.5555555555555556, \"#d8576b\"], [0.6666666666666666, \"#ed7953\"], [0.7777777777777778, \"#fb9f3a\"], [0.8888888888888888, \"#fdca26\"], [1.0, \"#f0f921\"]], \"type\": \"contour\"}], \"contourcarpet\": [{\"colorbar\": {\"outlinewidth\": 0, \"ticks\": \"\"}, \"type\": \"contourcarpet\"}], \"heatmap\": [{\"colorbar\": {\"outlinewidth\": 0, \"ticks\": \"\"}, \"colorscale\": [[0.0, \"#0d0887\"], [0.1111111111111111, \"#46039f\"], [0.2222222222222222, \"#7201a8\"], [0.3333333333333333, \"#9c179e\"], [0.4444444444444444, \"#bd3786\"], [0.5555555555555556, \"#d8576b\"], [0.6666666666666666, \"#ed7953\"], [0.7777777777777778, \"#fb9f3a\"], [0.8888888888888888, \"#fdca26\"], [1.0, \"#f0f921\"]], \"type\": \"heatmap\"}], \"heatmapgl\": [{\"colorbar\": {\"outlinewidth\": 0, \"ticks\": \"\"}, \"colorscale\": [[0.0, \"#0d0887\"], [0.1111111111111111, \"#46039f\"], [0.2222222222222222, \"#7201a8\"], [0.3333333333333333, \"#9c179e\"], [0.4444444444444444, \"#bd3786\"], [0.5555555555555556, \"#d8576b\"], [0.6666666666666666, \"#ed7953\"], [0.7777777777777778, \"#fb9f3a\"], [0.8888888888888888, \"#fdca26\"], [1.0, \"#f0f921\"]], \"type\": \"heatmapgl\"}], \"histogram\": [{\"marker\": {\"colorbar\": {\"outlinewidth\": 0, \"ticks\": \"\"}}, \"type\": \"histogram\"}], \"histogram2d\": [{\"colorbar\": {\"outlinewidth\": 0, \"ticks\": \"\"}, \"colorscale\": [[0.0, \"#0d0887\"], [0.1111111111111111, \"#46039f\"], [0.2222222222222222, \"#7201a8\"], [0.3333333333333333, \"#9c179e\"], [0.4444444444444444, \"#bd3786\"], [0.5555555555555556, \"#d8576b\"], [0.6666666666666666, \"#ed7953\"], [0.7777777777777778, \"#fb9f3a\"], [0.8888888888888888, \"#fdca26\"], [1.0, \"#f0f921\"]], \"type\": \"histogram2d\"}], \"histogram2dcontour\": [{\"colorbar\": {\"outlinewidth\": 0, \"ticks\": \"\"}, \"colorscale\": [[0.0, \"#0d0887\"], [0.1111111111111111, \"#46039f\"], [0.2222222222222222, \"#7201a8\"], [0.3333333333333333, \"#9c179e\"], [0.4444444444444444, \"#bd3786\"], [0.5555555555555556, \"#d8576b\"], [0.6666666666666666, \"#ed7953\"], [0.7777777777777778, \"#fb9f3a\"], [0.8888888888888888, \"#fdca26\"], [1.0, \"#f0f921\"]], \"type\": \"histogram2dcontour\"}], \"mesh3d\": [{\"colorbar\": {\"outlinewidth\": 0, \"ticks\": \"\"}, \"type\": \"mesh3d\"}], \"parcoords\": [{\"line\": {\"colorbar\": {\"outlinewidth\": 0, \"ticks\": \"\"}}, \"type\": \"parcoords\"}], \"pie\": [{\"automargin\": true, \"type\": \"pie\"}], \"scatter\": [{\"marker\": {\"colorbar\": {\"outlinewidth\": 0, \"ticks\": \"\"}}, \"type\": \"scatter\"}], \"scatter3d\": [{\"line\": {\"colorbar\": {\"outlinewidth\": 0, \"ticks\": \"\"}}, \"marker\": {\"colorbar\": {\"outlinewidth\": 0, \"ticks\": \"\"}}, \"type\": \"scatter3d\"}], \"scattercarpet\": [{\"marker\": {\"colorbar\": {\"outlinewidth\": 0, \"ticks\": \"\"}}, \"type\": \"scattercarpet\"}], \"scattergeo\": [{\"marker\": {\"colorbar\": {\"outlinewidth\": 0, \"ticks\": \"\"}}, \"type\": \"scattergeo\"}], \"scattergl\": [{\"marker\": {\"colorbar\": {\"outlinewidth\": 0, \"ticks\": \"\"}}, \"type\": \"scattergl\"}], \"scattermapbox\": [{\"marker\": {\"colorbar\": {\"outlinewidth\": 0, \"ticks\": \"\"}}, \"type\": \"scattermapbox\"}], \"scatterpolar\": [{\"marker\": {\"colorbar\": {\"outlinewidth\": 0, \"ticks\": \"\"}}, \"type\": \"scatterpolar\"}], \"scatterpolargl\": [{\"marker\": {\"colorbar\": {\"outlinewidth\": 0, \"ticks\": \"\"}}, \"type\": \"scatterpolargl\"}], \"scatterternary\": [{\"marker\": {\"colorbar\": {\"outlinewidth\": 0, \"ticks\": \"\"}}, \"type\": \"scatterternary\"}], \"surface\": [{\"colorbar\": {\"outlinewidth\": 0, \"ticks\": \"\"}, \"colorscale\": [[0.0, \"#0d0887\"], [0.1111111111111111, \"#46039f\"], [0.2222222222222222, \"#7201a8\"], [0.3333333333333333, \"#9c179e\"], [0.4444444444444444, \"#bd3786\"], [0.5555555555555556, \"#d8576b\"], [0.6666666666666666, \"#ed7953\"], [0.7777777777777778, \"#fb9f3a\"], [0.8888888888888888, \"#fdca26\"], [1.0, \"#f0f921\"]], \"type\": \"surface\"}], \"table\": [{\"cells\": {\"fill\": {\"color\": \"#EBF0F8\"}, \"line\": {\"color\": \"white\"}}, \"header\": {\"fill\": {\"color\": \"#C8D4E3\"}, \"line\": {\"color\": \"white\"}}, \"type\": \"table\"}]}, \"layout\": {\"annotationdefaults\": {\"arrowcolor\": \"#2a3f5f\", \"arrowhead\": 0, \"arrowwidth\": 1}, \"coloraxis\": {\"colorbar\": {\"outlinewidth\": 0, \"ticks\": \"\"}}, \"colorscale\": {\"diverging\": [[0, \"#8e0152\"], [0.1, \"#c51b7d\"], [0.2, \"#de77ae\"], [0.3, \"#f1b6da\"], [0.4, \"#fde0ef\"], [0.5, \"#f7f7f7\"], [0.6, \"#e6f5d0\"], [0.7, \"#b8e186\"], [0.8, \"#7fbc41\"], [0.9, \"#4d9221\"], [1, \"#276419\"]], \"sequential\": [[0.0, \"#0d0887\"], [0.1111111111111111, \"#46039f\"], [0.2222222222222222, \"#7201a8\"], [0.3333333333333333, \"#9c179e\"], [0.4444444444444444, \"#bd3786\"], [0.5555555555555556, \"#d8576b\"], [0.6666666666666666, \"#ed7953\"], [0.7777777777777778, \"#fb9f3a\"], [0.8888888888888888, \"#fdca26\"], [1.0, \"#f0f921\"]], \"sequentialminus\": [[0.0, \"#0d0887\"], [0.1111111111111111, \"#46039f\"], [0.2222222222222222, \"#7201a8\"], [0.3333333333333333, \"#9c179e\"], [0.4444444444444444, \"#bd3786\"], [0.5555555555555556, \"#d8576b\"], [0.6666666666666666, \"#ed7953\"], [0.7777777777777778, \"#fb9f3a\"], [0.8888888888888888, \"#fdca26\"], [1.0, \"#f0f921\"]]}, \"colorway\": [\"#636efa\", \"#EF553B\", \"#00cc96\", \"#ab63fa\", \"#FFA15A\", \"#19d3f3\", \"#FF6692\", \"#B6E880\", \"#FF97FF\", \"#FECB52\"], \"font\": {\"color\": \"#2a3f5f\"}, \"geo\": {\"bgcolor\": \"white\", \"lakecolor\": \"white\", \"landcolor\": \"#E5ECF6\", \"showlakes\": true, \"showland\": true, \"subunitcolor\": \"white\"}, \"hoverlabel\": {\"align\": \"left\"}, \"hovermode\": \"closest\", \"mapbox\": {\"style\": \"light\"}, \"paper_bgcolor\": \"white\", \"plot_bgcolor\": \"#E5ECF6\", \"polar\": {\"angularaxis\": {\"gridcolor\": \"white\", \"linecolor\": \"white\", \"ticks\": \"\"}, \"bgcolor\": \"#E5ECF6\", \"radialaxis\": {\"gridcolor\": \"white\", \"linecolor\": \"white\", \"ticks\": \"\"}}, \"scene\": {\"xaxis\": {\"backgroundcolor\": \"#E5ECF6\", \"gridcolor\": \"white\", \"gridwidth\": 2, \"linecolor\": \"white\", \"showbackground\": true, \"ticks\": \"\", \"zerolinecolor\": \"white\"}, \"yaxis\": {\"backgroundcolor\": \"#E5ECF6\", \"gridcolor\": \"white\", \"gridwidth\": 2, \"linecolor\": \"white\", \"showbackground\": true, \"ticks\": \"\", \"zerolinecolor\": \"white\"}, \"zaxis\": {\"backgroundcolor\": \"#E5ECF6\", \"gridcolor\": \"white\", \"gridwidth\": 2, \"linecolor\": \"white\", \"showbackground\": true, \"ticks\": \"\", \"zerolinecolor\": \"white\"}}, \"shapedefaults\": {\"line\": {\"color\": \"#2a3f5f\"}}, \"ternary\": {\"aaxis\": {\"gridcolor\": \"white\", \"linecolor\": \"white\", \"ticks\": \"\"}, \"baxis\": {\"gridcolor\": \"white\", \"linecolor\": \"white\", \"ticks\": \"\"}, \"bgcolor\": \"#E5ECF6\", \"caxis\": {\"gridcolor\": \"white\", \"linecolor\": \"white\", \"ticks\": \"\"}}, \"title\": {\"x\": 0.05}, \"xaxis\": {\"automargin\": true, \"gridcolor\": \"white\", \"linecolor\": \"white\", \"ticks\": \"\", \"title\": {\"standoff\": 15}, \"zerolinecolor\": \"white\", \"zerolinewidth\": 2}, \"yaxis\": {\"automargin\": true, \"gridcolor\": \"white\", \"linecolor\": \"white\", \"ticks\": \"\", \"title\": {\"standoff\": 15}, \"zerolinecolor\": \"white\", \"zerolinewidth\": 2}}}, \"title\": {\"font\": {\"color\": \"#4D5663\"}}, \"xaxis\": {\"gridcolor\": \"#E1E5ED\", \"showgrid\": true, \"tickfont\": {\"color\": \"#4D5663\"}, \"title\": {\"font\": {\"color\": \"#4D5663\"}, \"text\": \"\"}, \"zerolinecolor\": \"#E1E5ED\"}, \"yaxis\": {\"gridcolor\": \"#E1E5ED\", \"showgrid\": true, \"tickfont\": {\"color\": \"#4D5663\"}, \"title\": {\"font\": {\"color\": \"#4D5663\"}, \"text\": \"\"}, \"zerolinecolor\": \"#E1E5ED\"}},\n",
       "                        {\"showLink\": true, \"linkText\": \"Export to plot.ly\", \"plotlyServerURL\": \"https://plot.ly\", \"responsive\": true}\n",
       "                    ).then(function(){\n",
       "                            \n",
       "var gd = document.getElementById('c9c2a1e5-b4ce-4be8-b3b4-f0c024fddaec');\n",
       "var x = new MutationObserver(function (mutations, observer) {{\n",
       "        var display = window.getComputedStyle(gd).display;\n",
       "        if (!display || display === 'none') {{\n",
       "            console.log([gd, 'removed!']);\n",
       "            Plotly.purge(gd);\n",
       "            observer.disconnect();\n",
       "        }}\n",
       "}});\n",
       "\n",
       "// Listen for the removal of the full notebook cells\n",
       "var notebookContainer = gd.closest('#notebook-container');\n",
       "if (notebookContainer) {{\n",
       "    x.observe(notebookContainer, {childList: true});\n",
       "}}\n",
       "\n",
       "// Listen for the clearing of the current output cell\n",
       "var outputEl = gd.closest('.output');\n",
       "if (outputEl) {{\n",
       "    x.observe(outputEl, {childList: true});\n",
       "}}\n",
       "\n",
       "                        })\n",
       "                };\n",
       "                });\n",
       "            </script>\n",
       "        </div>"
      ]
     },
     "metadata": {},
     "output_type": "display_data"
    }
   ],
   "source": [
    "df2.iplot(kind='bar',x='Category',y='Values')"
   ]
  },
  {
   "cell_type": "code",
   "execution_count": 30,
   "metadata": {},
   "outputs": [
    {
     "data": {
      "application/vnd.plotly.v1+json": {
       "config": {
        "linkText": "Export to plot.ly",
        "plotlyServerURL": "https://plot.ly",
        "showLink": true
       },
       "data": [
        {
         "marker": {
          "color": "rgba(255, 153, 51, 0.6)",
          "line": {
           "color": "rgba(255, 153, 51, 1.0)",
           "width": 1
          }
         },
         "name": "None",
         "orientation": "v",
         "text": "",
         "type": "bar",
         "x": [
          "A",
          "B",
          "C",
          "D"
         ],
         "y": [
          100,
          100,
          100,
          100
         ]
        }
       ],
       "layout": {
        "legend": {
         "bgcolor": "#F5F6F9",
         "font": {
          "color": "#4D5663"
         }
        },
        "paper_bgcolor": "#F5F6F9",
        "plot_bgcolor": "#F5F6F9",
        "template": {
         "data": {
          "bar": [
           {
            "error_x": {
             "color": "#2a3f5f"
            },
            "error_y": {
             "color": "#2a3f5f"
            },
            "marker": {
             "line": {
              "color": "#E5ECF6",
              "width": 0.5
             }
            },
            "type": "bar"
           }
          ],
          "barpolar": [
           {
            "marker": {
             "line": {
              "color": "#E5ECF6",
              "width": 0.5
             }
            },
            "type": "barpolar"
           }
          ],
          "carpet": [
           {
            "aaxis": {
             "endlinecolor": "#2a3f5f",
             "gridcolor": "white",
             "linecolor": "white",
             "minorgridcolor": "white",
             "startlinecolor": "#2a3f5f"
            },
            "baxis": {
             "endlinecolor": "#2a3f5f",
             "gridcolor": "white",
             "linecolor": "white",
             "minorgridcolor": "white",
             "startlinecolor": "#2a3f5f"
            },
            "type": "carpet"
           }
          ],
          "choropleth": [
           {
            "colorbar": {
             "outlinewidth": 0,
             "ticks": ""
            },
            "type": "choropleth"
           }
          ],
          "contour": [
           {
            "colorbar": {
             "outlinewidth": 0,
             "ticks": ""
            },
            "colorscale": [
             [
              0,
              "#0d0887"
             ],
             [
              0.1111111111111111,
              "#46039f"
             ],
             [
              0.2222222222222222,
              "#7201a8"
             ],
             [
              0.3333333333333333,
              "#9c179e"
             ],
             [
              0.4444444444444444,
              "#bd3786"
             ],
             [
              0.5555555555555556,
              "#d8576b"
             ],
             [
              0.6666666666666666,
              "#ed7953"
             ],
             [
              0.7777777777777778,
              "#fb9f3a"
             ],
             [
              0.8888888888888888,
              "#fdca26"
             ],
             [
              1,
              "#f0f921"
             ]
            ],
            "type": "contour"
           }
          ],
          "contourcarpet": [
           {
            "colorbar": {
             "outlinewidth": 0,
             "ticks": ""
            },
            "type": "contourcarpet"
           }
          ],
          "heatmap": [
           {
            "colorbar": {
             "outlinewidth": 0,
             "ticks": ""
            },
            "colorscale": [
             [
              0,
              "#0d0887"
             ],
             [
              0.1111111111111111,
              "#46039f"
             ],
             [
              0.2222222222222222,
              "#7201a8"
             ],
             [
              0.3333333333333333,
              "#9c179e"
             ],
             [
              0.4444444444444444,
              "#bd3786"
             ],
             [
              0.5555555555555556,
              "#d8576b"
             ],
             [
              0.6666666666666666,
              "#ed7953"
             ],
             [
              0.7777777777777778,
              "#fb9f3a"
             ],
             [
              0.8888888888888888,
              "#fdca26"
             ],
             [
              1,
              "#f0f921"
             ]
            ],
            "type": "heatmap"
           }
          ],
          "heatmapgl": [
           {
            "colorbar": {
             "outlinewidth": 0,
             "ticks": ""
            },
            "colorscale": [
             [
              0,
              "#0d0887"
             ],
             [
              0.1111111111111111,
              "#46039f"
             ],
             [
              0.2222222222222222,
              "#7201a8"
             ],
             [
              0.3333333333333333,
              "#9c179e"
             ],
             [
              0.4444444444444444,
              "#bd3786"
             ],
             [
              0.5555555555555556,
              "#d8576b"
             ],
             [
              0.6666666666666666,
              "#ed7953"
             ],
             [
              0.7777777777777778,
              "#fb9f3a"
             ],
             [
              0.8888888888888888,
              "#fdca26"
             ],
             [
              1,
              "#f0f921"
             ]
            ],
            "type": "heatmapgl"
           }
          ],
          "histogram": [
           {
            "marker": {
             "colorbar": {
              "outlinewidth": 0,
              "ticks": ""
             }
            },
            "type": "histogram"
           }
          ],
          "histogram2d": [
           {
            "colorbar": {
             "outlinewidth": 0,
             "ticks": ""
            },
            "colorscale": [
             [
              0,
              "#0d0887"
             ],
             [
              0.1111111111111111,
              "#46039f"
             ],
             [
              0.2222222222222222,
              "#7201a8"
             ],
             [
              0.3333333333333333,
              "#9c179e"
             ],
             [
              0.4444444444444444,
              "#bd3786"
             ],
             [
              0.5555555555555556,
              "#d8576b"
             ],
             [
              0.6666666666666666,
              "#ed7953"
             ],
             [
              0.7777777777777778,
              "#fb9f3a"
             ],
             [
              0.8888888888888888,
              "#fdca26"
             ],
             [
              1,
              "#f0f921"
             ]
            ],
            "type": "histogram2d"
           }
          ],
          "histogram2dcontour": [
           {
            "colorbar": {
             "outlinewidth": 0,
             "ticks": ""
            },
            "colorscale": [
             [
              0,
              "#0d0887"
             ],
             [
              0.1111111111111111,
              "#46039f"
             ],
             [
              0.2222222222222222,
              "#7201a8"
             ],
             [
              0.3333333333333333,
              "#9c179e"
             ],
             [
              0.4444444444444444,
              "#bd3786"
             ],
             [
              0.5555555555555556,
              "#d8576b"
             ],
             [
              0.6666666666666666,
              "#ed7953"
             ],
             [
              0.7777777777777778,
              "#fb9f3a"
             ],
             [
              0.8888888888888888,
              "#fdca26"
             ],
             [
              1,
              "#f0f921"
             ]
            ],
            "type": "histogram2dcontour"
           }
          ],
          "mesh3d": [
           {
            "colorbar": {
             "outlinewidth": 0,
             "ticks": ""
            },
            "type": "mesh3d"
           }
          ],
          "parcoords": [
           {
            "line": {
             "colorbar": {
              "outlinewidth": 0,
              "ticks": ""
             }
            },
            "type": "parcoords"
           }
          ],
          "pie": [
           {
            "automargin": true,
            "type": "pie"
           }
          ],
          "scatter": [
           {
            "marker": {
             "colorbar": {
              "outlinewidth": 0,
              "ticks": ""
             }
            },
            "type": "scatter"
           }
          ],
          "scatter3d": [
           {
            "line": {
             "colorbar": {
              "outlinewidth": 0,
              "ticks": ""
             }
            },
            "marker": {
             "colorbar": {
              "outlinewidth": 0,
              "ticks": ""
             }
            },
            "type": "scatter3d"
           }
          ],
          "scattercarpet": [
           {
            "marker": {
             "colorbar": {
              "outlinewidth": 0,
              "ticks": ""
             }
            },
            "type": "scattercarpet"
           }
          ],
          "scattergeo": [
           {
            "marker": {
             "colorbar": {
              "outlinewidth": 0,
              "ticks": ""
             }
            },
            "type": "scattergeo"
           }
          ],
          "scattergl": [
           {
            "marker": {
             "colorbar": {
              "outlinewidth": 0,
              "ticks": ""
             }
            },
            "type": "scattergl"
           }
          ],
          "scattermapbox": [
           {
            "marker": {
             "colorbar": {
              "outlinewidth": 0,
              "ticks": ""
             }
            },
            "type": "scattermapbox"
           }
          ],
          "scatterpolar": [
           {
            "marker": {
             "colorbar": {
              "outlinewidth": 0,
              "ticks": ""
             }
            },
            "type": "scatterpolar"
           }
          ],
          "scatterpolargl": [
           {
            "marker": {
             "colorbar": {
              "outlinewidth": 0,
              "ticks": ""
             }
            },
            "type": "scatterpolargl"
           }
          ],
          "scatterternary": [
           {
            "marker": {
             "colorbar": {
              "outlinewidth": 0,
              "ticks": ""
             }
            },
            "type": "scatterternary"
           }
          ],
          "surface": [
           {
            "colorbar": {
             "outlinewidth": 0,
             "ticks": ""
            },
            "colorscale": [
             [
              0,
              "#0d0887"
             ],
             [
              0.1111111111111111,
              "#46039f"
             ],
             [
              0.2222222222222222,
              "#7201a8"
             ],
             [
              0.3333333333333333,
              "#9c179e"
             ],
             [
              0.4444444444444444,
              "#bd3786"
             ],
             [
              0.5555555555555556,
              "#d8576b"
             ],
             [
              0.6666666666666666,
              "#ed7953"
             ],
             [
              0.7777777777777778,
              "#fb9f3a"
             ],
             [
              0.8888888888888888,
              "#fdca26"
             ],
             [
              1,
              "#f0f921"
             ]
            ],
            "type": "surface"
           }
          ],
          "table": [
           {
            "cells": {
             "fill": {
              "color": "#EBF0F8"
             },
             "line": {
              "color": "white"
             }
            },
            "header": {
             "fill": {
              "color": "#C8D4E3"
             },
             "line": {
              "color": "white"
             }
            },
            "type": "table"
           }
          ]
         },
         "layout": {
          "annotationdefaults": {
           "arrowcolor": "#2a3f5f",
           "arrowhead": 0,
           "arrowwidth": 1
          },
          "coloraxis": {
           "colorbar": {
            "outlinewidth": 0,
            "ticks": ""
           }
          },
          "colorscale": {
           "diverging": [
            [
             0,
             "#8e0152"
            ],
            [
             0.1,
             "#c51b7d"
            ],
            [
             0.2,
             "#de77ae"
            ],
            [
             0.3,
             "#f1b6da"
            ],
            [
             0.4,
             "#fde0ef"
            ],
            [
             0.5,
             "#f7f7f7"
            ],
            [
             0.6,
             "#e6f5d0"
            ],
            [
             0.7,
             "#b8e186"
            ],
            [
             0.8,
             "#7fbc41"
            ],
            [
             0.9,
             "#4d9221"
            ],
            [
             1,
             "#276419"
            ]
           ],
           "sequential": [
            [
             0,
             "#0d0887"
            ],
            [
             0.1111111111111111,
             "#46039f"
            ],
            [
             0.2222222222222222,
             "#7201a8"
            ],
            [
             0.3333333333333333,
             "#9c179e"
            ],
            [
             0.4444444444444444,
             "#bd3786"
            ],
            [
             0.5555555555555556,
             "#d8576b"
            ],
            [
             0.6666666666666666,
             "#ed7953"
            ],
            [
             0.7777777777777778,
             "#fb9f3a"
            ],
            [
             0.8888888888888888,
             "#fdca26"
            ],
            [
             1,
             "#f0f921"
            ]
           ],
           "sequentialminus": [
            [
             0,
             "#0d0887"
            ],
            [
             0.1111111111111111,
             "#46039f"
            ],
            [
             0.2222222222222222,
             "#7201a8"
            ],
            [
             0.3333333333333333,
             "#9c179e"
            ],
            [
             0.4444444444444444,
             "#bd3786"
            ],
            [
             0.5555555555555556,
             "#d8576b"
            ],
            [
             0.6666666666666666,
             "#ed7953"
            ],
            [
             0.7777777777777778,
             "#fb9f3a"
            ],
            [
             0.8888888888888888,
             "#fdca26"
            ],
            [
             1,
             "#f0f921"
            ]
           ]
          },
          "colorway": [
           "#636efa",
           "#EF553B",
           "#00cc96",
           "#ab63fa",
           "#FFA15A",
           "#19d3f3",
           "#FF6692",
           "#B6E880",
           "#FF97FF",
           "#FECB52"
          ],
          "font": {
           "color": "#2a3f5f"
          },
          "geo": {
           "bgcolor": "white",
           "lakecolor": "white",
           "landcolor": "#E5ECF6",
           "showlakes": true,
           "showland": true,
           "subunitcolor": "white"
          },
          "hoverlabel": {
           "align": "left"
          },
          "hovermode": "closest",
          "mapbox": {
           "style": "light"
          },
          "paper_bgcolor": "white",
          "plot_bgcolor": "#E5ECF6",
          "polar": {
           "angularaxis": {
            "gridcolor": "white",
            "linecolor": "white",
            "ticks": ""
           },
           "bgcolor": "#E5ECF6",
           "radialaxis": {
            "gridcolor": "white",
            "linecolor": "white",
            "ticks": ""
           }
          },
          "scene": {
           "xaxis": {
            "backgroundcolor": "#E5ECF6",
            "gridcolor": "white",
            "gridwidth": 2,
            "linecolor": "white",
            "showbackground": true,
            "ticks": "",
            "zerolinecolor": "white"
           },
           "yaxis": {
            "backgroundcolor": "#E5ECF6",
            "gridcolor": "white",
            "gridwidth": 2,
            "linecolor": "white",
            "showbackground": true,
            "ticks": "",
            "zerolinecolor": "white"
           },
           "zaxis": {
            "backgroundcolor": "#E5ECF6",
            "gridcolor": "white",
            "gridwidth": 2,
            "linecolor": "white",
            "showbackground": true,
            "ticks": "",
            "zerolinecolor": "white"
           }
          },
          "shapedefaults": {
           "line": {
            "color": "#2a3f5f"
           }
          },
          "ternary": {
           "aaxis": {
            "gridcolor": "white",
            "linecolor": "white",
            "ticks": ""
           },
           "baxis": {
            "gridcolor": "white",
            "linecolor": "white",
            "ticks": ""
           },
           "bgcolor": "#E5ECF6",
           "caxis": {
            "gridcolor": "white",
            "linecolor": "white",
            "ticks": ""
           }
          },
          "title": {
           "x": 0.05
          },
          "xaxis": {
           "automargin": true,
           "gridcolor": "white",
           "linecolor": "white",
           "ticks": "",
           "title": {
            "standoff": 15
           },
           "zerolinecolor": "white",
           "zerolinewidth": 2
          },
          "yaxis": {
           "automargin": true,
           "gridcolor": "white",
           "linecolor": "white",
           "ticks": "",
           "title": {
            "standoff": 15
           },
           "zerolinecolor": "white",
           "zerolinewidth": 2
          }
         }
        },
        "title": {
         "font": {
          "color": "#4D5663"
         }
        },
        "xaxis": {
         "gridcolor": "#E1E5ED",
         "showgrid": true,
         "tickfont": {
          "color": "#4D5663"
         },
         "title": {
          "font": {
           "color": "#4D5663"
          },
          "text": ""
         },
         "zerolinecolor": "#E1E5ED"
        },
        "yaxis": {
         "gridcolor": "#E1E5ED",
         "showgrid": true,
         "tickfont": {
          "color": "#4D5663"
         },
         "title": {
          "font": {
           "color": "#4D5663"
          },
          "text": ""
         },
         "zerolinecolor": "#E1E5ED"
        }
       }
      },
      "text/html": [
       "<div>\n",
       "        \n",
       "        \n",
       "            <div id=\"10a4b275-fd75-498a-883f-6ebc4c8af2f1\" class=\"plotly-graph-div\" style=\"height:525px; width:100%;\"></div>\n",
       "            <script type=\"text/javascript\">\n",
       "                require([\"plotly\"], function(Plotly) {\n",
       "                    window.PLOTLYENV=window.PLOTLYENV || {};\n",
       "                    window.PLOTLYENV.BASE_URL='https://plot.ly';\n",
       "                    \n",
       "                if (document.getElementById(\"10a4b275-fd75-498a-883f-6ebc4c8af2f1\")) {\n",
       "                    Plotly.newPlot(\n",
       "                        '10a4b275-fd75-498a-883f-6ebc4c8af2f1',\n",
       "                        [{\"marker\": {\"color\": \"rgba(255, 153, 51, 0.6)\", \"line\": {\"color\": \"rgba(255, 153, 51, 1.0)\", \"width\": 1}}, \"name\": \"None\", \"orientation\": \"v\", \"text\": \"\", \"type\": \"bar\", \"x\": [\"A\", \"B\", \"C\", \"D\"], \"y\": [100, 100, 100, 100]}],\n",
       "                        {\"legend\": {\"bgcolor\": \"#F5F6F9\", \"font\": {\"color\": \"#4D5663\"}}, \"paper_bgcolor\": \"#F5F6F9\", \"plot_bgcolor\": \"#F5F6F9\", \"template\": {\"data\": {\"bar\": [{\"error_x\": {\"color\": \"#2a3f5f\"}, \"error_y\": {\"color\": \"#2a3f5f\"}, \"marker\": {\"line\": {\"color\": \"#E5ECF6\", \"width\": 0.5}}, \"type\": \"bar\"}], \"barpolar\": [{\"marker\": {\"line\": {\"color\": \"#E5ECF6\", \"width\": 0.5}}, \"type\": \"barpolar\"}], \"carpet\": [{\"aaxis\": {\"endlinecolor\": \"#2a3f5f\", \"gridcolor\": \"white\", \"linecolor\": \"white\", \"minorgridcolor\": \"white\", \"startlinecolor\": \"#2a3f5f\"}, \"baxis\": {\"endlinecolor\": \"#2a3f5f\", \"gridcolor\": \"white\", \"linecolor\": \"white\", \"minorgridcolor\": \"white\", \"startlinecolor\": \"#2a3f5f\"}, \"type\": \"carpet\"}], \"choropleth\": [{\"colorbar\": {\"outlinewidth\": 0, \"ticks\": \"\"}, \"type\": \"choropleth\"}], \"contour\": [{\"colorbar\": {\"outlinewidth\": 0, \"ticks\": \"\"}, \"colorscale\": [[0.0, \"#0d0887\"], [0.1111111111111111, \"#46039f\"], [0.2222222222222222, \"#7201a8\"], [0.3333333333333333, \"#9c179e\"], [0.4444444444444444, \"#bd3786\"], [0.5555555555555556, \"#d8576b\"], [0.6666666666666666, \"#ed7953\"], [0.7777777777777778, \"#fb9f3a\"], [0.8888888888888888, \"#fdca26\"], [1.0, \"#f0f921\"]], \"type\": \"contour\"}], \"contourcarpet\": [{\"colorbar\": {\"outlinewidth\": 0, \"ticks\": \"\"}, \"type\": \"contourcarpet\"}], \"heatmap\": [{\"colorbar\": {\"outlinewidth\": 0, \"ticks\": \"\"}, \"colorscale\": [[0.0, \"#0d0887\"], [0.1111111111111111, \"#46039f\"], [0.2222222222222222, \"#7201a8\"], [0.3333333333333333, \"#9c179e\"], [0.4444444444444444, \"#bd3786\"], [0.5555555555555556, \"#d8576b\"], [0.6666666666666666, \"#ed7953\"], [0.7777777777777778, \"#fb9f3a\"], [0.8888888888888888, \"#fdca26\"], [1.0, \"#f0f921\"]], \"type\": \"heatmap\"}], \"heatmapgl\": [{\"colorbar\": {\"outlinewidth\": 0, \"ticks\": \"\"}, \"colorscale\": [[0.0, \"#0d0887\"], [0.1111111111111111, \"#46039f\"], [0.2222222222222222, \"#7201a8\"], [0.3333333333333333, \"#9c179e\"], [0.4444444444444444, \"#bd3786\"], [0.5555555555555556, \"#d8576b\"], [0.6666666666666666, \"#ed7953\"], [0.7777777777777778, \"#fb9f3a\"], [0.8888888888888888, \"#fdca26\"], [1.0, \"#f0f921\"]], \"type\": \"heatmapgl\"}], \"histogram\": [{\"marker\": {\"colorbar\": {\"outlinewidth\": 0, \"ticks\": \"\"}}, \"type\": \"histogram\"}], \"histogram2d\": [{\"colorbar\": {\"outlinewidth\": 0, \"ticks\": \"\"}, \"colorscale\": [[0.0, \"#0d0887\"], [0.1111111111111111, \"#46039f\"], [0.2222222222222222, \"#7201a8\"], [0.3333333333333333, \"#9c179e\"], [0.4444444444444444, \"#bd3786\"], [0.5555555555555556, \"#d8576b\"], [0.6666666666666666, \"#ed7953\"], [0.7777777777777778, \"#fb9f3a\"], [0.8888888888888888, \"#fdca26\"], [1.0, \"#f0f921\"]], \"type\": \"histogram2d\"}], \"histogram2dcontour\": [{\"colorbar\": {\"outlinewidth\": 0, \"ticks\": \"\"}, \"colorscale\": [[0.0, \"#0d0887\"], [0.1111111111111111, \"#46039f\"], [0.2222222222222222, \"#7201a8\"], [0.3333333333333333, \"#9c179e\"], [0.4444444444444444, \"#bd3786\"], [0.5555555555555556, \"#d8576b\"], [0.6666666666666666, \"#ed7953\"], [0.7777777777777778, \"#fb9f3a\"], [0.8888888888888888, \"#fdca26\"], [1.0, \"#f0f921\"]], \"type\": \"histogram2dcontour\"}], \"mesh3d\": [{\"colorbar\": {\"outlinewidth\": 0, \"ticks\": \"\"}, \"type\": \"mesh3d\"}], \"parcoords\": [{\"line\": {\"colorbar\": {\"outlinewidth\": 0, \"ticks\": \"\"}}, \"type\": \"parcoords\"}], \"pie\": [{\"automargin\": true, \"type\": \"pie\"}], \"scatter\": [{\"marker\": {\"colorbar\": {\"outlinewidth\": 0, \"ticks\": \"\"}}, \"type\": \"scatter\"}], \"scatter3d\": [{\"line\": {\"colorbar\": {\"outlinewidth\": 0, \"ticks\": \"\"}}, \"marker\": {\"colorbar\": {\"outlinewidth\": 0, \"ticks\": \"\"}}, \"type\": \"scatter3d\"}], \"scattercarpet\": [{\"marker\": {\"colorbar\": {\"outlinewidth\": 0, \"ticks\": \"\"}}, \"type\": \"scattercarpet\"}], \"scattergeo\": [{\"marker\": {\"colorbar\": {\"outlinewidth\": 0, \"ticks\": \"\"}}, \"type\": \"scattergeo\"}], \"scattergl\": [{\"marker\": {\"colorbar\": {\"outlinewidth\": 0, \"ticks\": \"\"}}, \"type\": \"scattergl\"}], \"scattermapbox\": [{\"marker\": {\"colorbar\": {\"outlinewidth\": 0, \"ticks\": \"\"}}, \"type\": \"scattermapbox\"}], \"scatterpolar\": [{\"marker\": {\"colorbar\": {\"outlinewidth\": 0, \"ticks\": \"\"}}, \"type\": \"scatterpolar\"}], \"scatterpolargl\": [{\"marker\": {\"colorbar\": {\"outlinewidth\": 0, \"ticks\": \"\"}}, \"type\": \"scatterpolargl\"}], \"scatterternary\": [{\"marker\": {\"colorbar\": {\"outlinewidth\": 0, \"ticks\": \"\"}}, \"type\": \"scatterternary\"}], \"surface\": [{\"colorbar\": {\"outlinewidth\": 0, \"ticks\": \"\"}, \"colorscale\": [[0.0, \"#0d0887\"], [0.1111111111111111, \"#46039f\"], [0.2222222222222222, \"#7201a8\"], [0.3333333333333333, \"#9c179e\"], [0.4444444444444444, \"#bd3786\"], [0.5555555555555556, \"#d8576b\"], [0.6666666666666666, \"#ed7953\"], [0.7777777777777778, \"#fb9f3a\"], [0.8888888888888888, \"#fdca26\"], [1.0, \"#f0f921\"]], \"type\": \"surface\"}], \"table\": [{\"cells\": {\"fill\": {\"color\": \"#EBF0F8\"}, \"line\": {\"color\": \"white\"}}, \"header\": {\"fill\": {\"color\": \"#C8D4E3\"}, \"line\": {\"color\": \"white\"}}, \"type\": \"table\"}]}, \"layout\": {\"annotationdefaults\": {\"arrowcolor\": \"#2a3f5f\", \"arrowhead\": 0, \"arrowwidth\": 1}, \"coloraxis\": {\"colorbar\": {\"outlinewidth\": 0, \"ticks\": \"\"}}, \"colorscale\": {\"diverging\": [[0, \"#8e0152\"], [0.1, \"#c51b7d\"], [0.2, \"#de77ae\"], [0.3, \"#f1b6da\"], [0.4, \"#fde0ef\"], [0.5, \"#f7f7f7\"], [0.6, \"#e6f5d0\"], [0.7, \"#b8e186\"], [0.8, \"#7fbc41\"], [0.9, \"#4d9221\"], [1, \"#276419\"]], \"sequential\": [[0.0, \"#0d0887\"], [0.1111111111111111, \"#46039f\"], [0.2222222222222222, \"#7201a8\"], [0.3333333333333333, \"#9c179e\"], [0.4444444444444444, \"#bd3786\"], [0.5555555555555556, \"#d8576b\"], [0.6666666666666666, \"#ed7953\"], [0.7777777777777778, \"#fb9f3a\"], [0.8888888888888888, \"#fdca26\"], [1.0, \"#f0f921\"]], \"sequentialminus\": [[0.0, \"#0d0887\"], [0.1111111111111111, \"#46039f\"], [0.2222222222222222, \"#7201a8\"], [0.3333333333333333, \"#9c179e\"], [0.4444444444444444, \"#bd3786\"], [0.5555555555555556, \"#d8576b\"], [0.6666666666666666, \"#ed7953\"], [0.7777777777777778, \"#fb9f3a\"], [0.8888888888888888, \"#fdca26\"], [1.0, \"#f0f921\"]]}, \"colorway\": [\"#636efa\", \"#EF553B\", \"#00cc96\", \"#ab63fa\", \"#FFA15A\", \"#19d3f3\", \"#FF6692\", \"#B6E880\", \"#FF97FF\", \"#FECB52\"], \"font\": {\"color\": \"#2a3f5f\"}, \"geo\": {\"bgcolor\": \"white\", \"lakecolor\": \"white\", \"landcolor\": \"#E5ECF6\", \"showlakes\": true, \"showland\": true, \"subunitcolor\": \"white\"}, \"hoverlabel\": {\"align\": \"left\"}, \"hovermode\": \"closest\", \"mapbox\": {\"style\": \"light\"}, \"paper_bgcolor\": \"white\", \"plot_bgcolor\": \"#E5ECF6\", \"polar\": {\"angularaxis\": {\"gridcolor\": \"white\", \"linecolor\": \"white\", \"ticks\": \"\"}, \"bgcolor\": \"#E5ECF6\", \"radialaxis\": {\"gridcolor\": \"white\", \"linecolor\": \"white\", \"ticks\": \"\"}}, \"scene\": {\"xaxis\": {\"backgroundcolor\": \"#E5ECF6\", \"gridcolor\": \"white\", \"gridwidth\": 2, \"linecolor\": \"white\", \"showbackground\": true, \"ticks\": \"\", \"zerolinecolor\": \"white\"}, \"yaxis\": {\"backgroundcolor\": \"#E5ECF6\", \"gridcolor\": \"white\", \"gridwidth\": 2, \"linecolor\": \"white\", \"showbackground\": true, \"ticks\": \"\", \"zerolinecolor\": \"white\"}, \"zaxis\": {\"backgroundcolor\": \"#E5ECF6\", \"gridcolor\": \"white\", \"gridwidth\": 2, \"linecolor\": \"white\", \"showbackground\": true, \"ticks\": \"\", \"zerolinecolor\": \"white\"}}, \"shapedefaults\": {\"line\": {\"color\": \"#2a3f5f\"}}, \"ternary\": {\"aaxis\": {\"gridcolor\": \"white\", \"linecolor\": \"white\", \"ticks\": \"\"}, \"baxis\": {\"gridcolor\": \"white\", \"linecolor\": \"white\", \"ticks\": \"\"}, \"bgcolor\": \"#E5ECF6\", \"caxis\": {\"gridcolor\": \"white\", \"linecolor\": \"white\", \"ticks\": \"\"}}, \"title\": {\"x\": 0.05}, \"xaxis\": {\"automargin\": true, \"gridcolor\": \"white\", \"linecolor\": \"white\", \"ticks\": \"\", \"title\": {\"standoff\": 15}, \"zerolinecolor\": \"white\", \"zerolinewidth\": 2}, \"yaxis\": {\"automargin\": true, \"gridcolor\": \"white\", \"linecolor\": \"white\", \"ticks\": \"\", \"title\": {\"standoff\": 15}, \"zerolinecolor\": \"white\", \"zerolinewidth\": 2}}}, \"title\": {\"font\": {\"color\": \"#4D5663\"}}, \"xaxis\": {\"gridcolor\": \"#E1E5ED\", \"showgrid\": true, \"tickfont\": {\"color\": \"#4D5663\"}, \"title\": {\"font\": {\"color\": \"#4D5663\"}, \"text\": \"\"}, \"zerolinecolor\": \"#E1E5ED\"}, \"yaxis\": {\"gridcolor\": \"#E1E5ED\", \"showgrid\": true, \"tickfont\": {\"color\": \"#4D5663\"}, \"title\": {\"font\": {\"color\": \"#4D5663\"}, \"text\": \"\"}, \"zerolinecolor\": \"#E1E5ED\"}},\n",
       "                        {\"showLink\": true, \"linkText\": \"Export to plot.ly\", \"plotlyServerURL\": \"https://plot.ly\", \"responsive\": true}\n",
       "                    ).then(function(){\n",
       "                            \n",
       "var gd = document.getElementById('10a4b275-fd75-498a-883f-6ebc4c8af2f1');\n",
       "var x = new MutationObserver(function (mutations, observer) {{\n",
       "        var display = window.getComputedStyle(gd).display;\n",
       "        if (!display || display === 'none') {{\n",
       "            console.log([gd, 'removed!']);\n",
       "            Plotly.purge(gd);\n",
       "            observer.disconnect();\n",
       "        }}\n",
       "}});\n",
       "\n",
       "// Listen for the removal of the full notebook cells\n",
       "var notebookContainer = gd.closest('#notebook-container');\n",
       "if (notebookContainer) {{\n",
       "    x.observe(notebookContainer, {childList: true});\n",
       "}}\n",
       "\n",
       "// Listen for the clearing of the current output cell\n",
       "var outputEl = gd.closest('.output');\n",
       "if (outputEl) {{\n",
       "    x.observe(outputEl, {childList: true});\n",
       "}}\n",
       "\n",
       "                        })\n",
       "                };\n",
       "                });\n",
       "            </script>\n",
       "        </div>"
      ]
     },
     "metadata": {},
     "output_type": "display_data"
    }
   ],
   "source": [
    "df.count().iplot(kind='bar')"
   ]
  },
  {
   "cell_type": "markdown",
   "metadata": {},
   "source": [
    "## Boxplots"
   ]
  },
  {
   "cell_type": "code",
   "execution_count": 31,
   "metadata": {},
   "outputs": [
    {
     "data": {
      "application/vnd.plotly.v1+json": {
       "config": {
        "linkText": "Export to plot.ly",
        "plotlyServerURL": "https://plot.ly",
        "showLink": true
       },
       "data": [
        {
         "boxpoints": false,
         "line": {
          "width": 1.3
         },
         "marker": {
          "color": "rgba(255, 153, 51, 1.0)"
         },
         "name": "A",
         "orientation": "v",
         "type": "box",
         "y": [
          0.33530550154152494,
          0.09065339513616581,
          -0.01630297475032681,
          -0.07869977638765072,
          -0.11280955759602175,
          -0.1401151965190619,
          0.37726332968436377,
          0.9807848237014964,
          0.810497685246533,
          -0.5369994090996112,
          0.4665515681528577,
          -0.4027752710747494,
          0.8450873692592444,
          -1.6713871998577774,
          -0.5647159680856547,
          -1.0454373654393754,
          -0.19128198431349563,
          -0.08380197880652643,
          -0.6808409250243673,
          1.5314298215111735,
          -0.8472738029656343,
          2.016894424729286,
          0.5675939625303773,
          -0.12570665669379766,
          -2.9530064435370353,
          -0.7623240462719839,
          0.24650554670245756,
          0.677974153571497,
          0.34498118682073425,
          0.7050866228571876,
          0.48289759808491,
          0.19661274001139517,
          -0.10839634016900147,
          1.2955729007966614,
          -1.2080228686216006,
          -0.8868820384240231,
          -0.8504568442746137,
          -0.8592195770336528,
          0.23891912898121961,
          -0.390740080415598,
          0.7899539300986534,
          1.9073166225165692,
          0.7332345874800306,
          0.076279312025144,
          -0.1606368966839194,
          0.3722445893819746,
          0.6054925610989462,
          0.7956873319712157,
          0.9725100209690856,
          0.24018718772850134,
          -1.390060796293999,
          -1.7325819543366443,
          -1.0531172370304538,
          -0.8435755679018383,
          -1.8669241001205663,
          0.1430069081678792,
          0.3503266506041815,
          0.4798291478777767,
          0.5100131008826317,
          2.0749173355937347,
          -1.3690344750713008,
          -0.06876435799003278,
          -0.4505688369932266,
          1.078456943733188,
          0.30714997296703755,
          -0.4139398828429726,
          1.7895416427199355,
          0.776518393126592,
          1.1006209089834444,
          2.3663267206891385,
          -0.748679596212696,
          -0.8895687565692749,
          0.8656205411908345,
          0.41104469157294404,
          -0.609241534591123,
          -1.4383026828323873,
          0.26635612483594606,
          -1.8980379983631288,
          -1.738277833733187,
          -1.5289927281839082,
          0.23529718024963092,
          -0.08309493795682184,
          0.273378453933951,
          -0.4817320634709933,
          -0.1375488620604106,
          0.33783356180165247,
          0.6998816614904454,
          0.537709684336636,
          0.8069903649895979,
          -0.6731094896210476,
          1.443158574532866,
          1.2870986328443184,
          0.7035596946386531,
          -0.7921994935980345,
          -0.489915251036213,
          -0.5231506439766499,
          0.385676724326846,
          -0.09919321074167252,
          0.8202815108228418,
          1.2975442876253223
         ]
        },
        {
         "boxpoints": false,
         "line": {
          "width": 1.3
         },
         "marker": {
          "color": "rgba(55, 128, 191, 1.0)"
         },
         "name": "B",
         "orientation": "v",
         "type": "box",
         "y": [
          -0.6760691106235645,
          0.18372206965000965,
          -0.34323330233492,
          -2.070801152584343,
          0.34577707775890487,
          2.1301507636241146,
          -0.5531762406825648,
          -0.7399323363908722,
          0.26241129162089216,
          -1.4337004355910643,
          -0.8594491355414683,
          -0.4912756822823481,
          0.583450794405381,
          -1.5045213827074095,
          1.752280268786307,
          -0.5863715567174779,
          -0.04012310455887652,
          1.9455806784460525,
          1.4257375049163175,
          -0.23411141816222264,
          -1.4491472757323403,
          -0.5833671584039474,
          -0.7529753578098609,
          0.10339329905994711,
          -0.004541122623439102,
          -1.7573449484289683,
          0.9043005711761228,
          -0.5799998214961695,
          -2.182073073509037,
          0.6117543628483829,
          -1.046866238177497,
          0.1451050144527596,
          -1.7091895613300523,
          0.7730883681592071,
          0.11046956239724635,
          0.860561453912868,
          1.7817168794154585,
          0.5941911948405838,
          1.7464390750714196,
          1.3443851144456052,
          -0.653941015096149,
          -0.6481687041989921,
          0.7565231993307985,
          -0.3377428990829017,
          -0.24165345197325094,
          -1.0946339421083284,
          -0.6566654045105857,
          1.4656164547884096,
          1.6971479352132062,
          0.06229333566246116,
          -0.33487264062175487,
          0.4575692496097571,
          -1.6218757011147977,
          -0.07516494673505354,
          1.2557900113465656,
          0.5178613245423704,
          0.5719740142416783,
          1.6678064203880918,
          1.2178665474743848,
          -0.7714648529472447,
          -0.21634347844280188,
          -0.058793758991811655,
          -1.3667740058247482,
          -0.47598627590409903,
          1.125778904159132,
          0.7835229441755038,
          0.09036040956928859,
          -0.15580677569506976,
          0.21970059205786405,
          -2.2347952553428714,
          0.30004649144884643,
          1.3109454582592848,
          0.580259232168523,
          -0.358579231338049,
          -1.21979233901239,
          -0.8050965907187663,
          1.836896105180095,
          -0.406968255985467,
          -0.6343369641269744,
          1.451527328603819,
          0.8033320096526525,
          -0.7679911742675111,
          -1.7453939281965098,
          -2.5858164646107724,
          -0.6622222603851182,
          -0.35412184689296267,
          -0.278741803965597,
          1.2277706222638571,
          -0.1364186492754009,
          -1.149210347160463,
          0.4790085316866908,
          0.8690059859342354,
          -0.5550546023569558,
          -0.5491642438620772,
          -0.9837564753414033,
          0.46931440157870213,
          -0.032044133111769284,
          -1.4470251258178546,
          0.20863537293074075,
          0.10224247082485786
         ]
        },
        {
         "boxpoints": false,
         "line": {
          "width": 1.3
         },
         "marker": {
          "color": "rgba(50, 171, 96, 1.0)"
         },
         "name": "C",
         "orientation": "v",
         "type": "box",
         "y": [
          0.4976635153390595,
          -0.21790464096552933,
          1.8770568401163243,
          -0.08406329467212004,
          0.05047910130544238,
          -1.863119628570406,
          1.446686846495153,
          -0.4672959564642441,
          0.17173494323369048,
          0.48510954634981424,
          0.25894409234384486,
          -0.9907031509616347,
          -2.4765792073811785,
          0.13222033594138874,
          0.1443372495251389,
          0.09192344590453913,
          1.363885521029763,
          0.9197398757088081,
          3.1928661368771363,
          -0.34532606934295906,
          -1.507993249260039,
          -2.2560123287121083,
          -0.6038699413830702,
          -0.684452821760146,
          1.1194954883913042,
          -0.3846851354573298,
          -0.3194957124760941,
          -1.4704541460822047,
          0.572481472517222,
          -0.7872909127878106,
          0.7119242579447129,
          -0.5060207969696873,
          -0.40581934035404,
          -1.689273216260599,
          1.5823761755509458,
          -0.9700587722108596,
          0.35284881883627267,
          0.07924865304953307,
          0.6023573355088919,
          1.1202598058899436,
          -0.4477991916778235,
          0.8288463153154215,
          0.49772006964362825,
          -0.9505049971937803,
          -0.8140694642569831,
          -1.5529584699026207,
          -2.8809889027391304,
          -0.3417047889214654,
          -0.4084512140100783,
          -0.10456338893965307,
          0.9750386663920425,
          0.3946273695069198,
          1.3859616732854472,
          -0.6559827031709952,
          -0.7596889618125324,
          0.577932974981754,
          -1.0852209880182069,
          -1.2301294141994743,
          -0.8506515510864039,
          -2.5556952466223506,
          0.6004778581018496,
          0.5606158727475441,
          -0.8738107488147265,
          -1.1686346897067181,
          -0.20877839887826147,
          1.180163364462233,
          0.36535104793371614,
          0.2073904589342936,
          -0.6555404560646885,
          0.8881599742336906,
          -0.6711198606757098,
          0.3043941689392284,
          0.1258776385388952,
          -0.8051862402866529,
          -0.08028806660732918,
          -0.5167021376486441,
          -0.3346278148569162,
          -0.5744857100427638,
          0.41274885195909183,
          0.3270866038813453,
          -0.08857726307529906,
          0.26419135206184197,
          1.338994160548854,
          1.9992795048884158,
          0.7141750750859873,
          -1.888414529239671,
          1.4929320822433116,
          -1.3935753058577032,
          0.4786657984036205,
          -0.5662358279373066,
          1.3853965021502659,
          1.310768730747306,
          -1.2195161056820787,
          -0.30134328416469597,
          -1.8628772101274784,
          0.13656636905168743,
          0.15866495799556496,
          0.7753693348344339,
          -0.16909181430015702,
          -0.6141646672866208
         ]
        },
        {
         "boxpoints": false,
         "line": {
          "width": 1.3
         },
         "marker": {
          "color": "rgba(128, 0, 128, 1.0)"
         },
         "name": "D",
         "orientation": "v",
         "type": "box",
         "y": [
          -0.48422610212364575,
          1.5720740917937719,
          0.29417676876254484,
          0.40695172654422823,
          1.8457057994470416,
          -0.22952687758607296,
          -1.4110412284931044,
          0.6622101937639742,
          0.2592665157840242,
          -1.1303136586350027,
          -0.9599244711714722,
          -2.9186523196758443,
          -1.220473307280125,
          -1.2845916926982326,
          0.695535527521974,
          -0.9410364272007093,
          -1.054438031492874,
          0.5786441680218358,
          -0.0009718609257263874,
          0.18385236601283705,
          0.8318731750611098,
          -1.2931331157932895,
          -0.473766295947915,
          0.21989469373577272,
          0.751519393731062,
          -0.8012409929519795,
          0.15717088097675325,
          0.08775590090120683,
          -1.5558711389261641,
          1.9100101943226668,
          -0.15024764424622192,
          -1.0873795965963182,
          0.6221884644119188,
          -0.7535658454708033,
          1.5420181648169597,
          0.43343134106589176,
          -0.7626239289295567,
          -0.11348077823666365,
          -0.4513994686538723,
          -1.3407248052036569,
          -1.1427204975189829,
          0.38490878622382924,
          1.1918871947298688,
          -1.1973844029991414,
          0.4427464888319099,
          -1.1165564301063253,
          0.45268501115174387,
          -0.7867863308971418,
          -0.40074023156815547,
          -0.09075355010727543,
          -0.9092733551878476,
          1.4801414765327043,
          -0.4864947224254879,
          -0.23553281518066121,
          -0.2604302198504222,
          -2.132184211795599,
          1.6263417593658696,
          0.10511365671282863,
          -0.7410307229762749,
          -0.27093812808134227,
          -0.34702317462092325,
          -0.34518985162498145,
          1.3833305918126406,
          0.41893754318194665,
          0.8749548193155436,
          -1.8505471278177148,
          -0.7245909334187343,
          -1.5919431295609106,
          -0.03634213035411084,
          -0.8349045571560765,
          -1.4844417570109985,
          -1.1863614757506453,
          0.7976643520601201,
          -0.8220721158635732,
          0.8865084569468012,
          0.6211572391849196,
          0.44190214365607716,
          0.25241338736425195,
          -0.8611530763022871,
          0.03612345805337376,
          -0.22931884616308534,
          0.3036281352810886,
          0.28167047279521784,
          -1.0826462314722138,
          -0.43986928804430997,
          1.2566381357755039,
          0.5991147482153631,
          -0.7182811491327988,
          1.008991043079794,
          -0.00942881536656502,
          -0.5174739528077554,
          0.5597354180307877,
          -1.37114336207063,
          0.6087502156043381,
          -0.6738609551229755,
          0.8082999592912838,
          -0.9025518546702369,
          -1.3890791489736931,
          1.365786540799907,
          -0.7780683191686512
         ]
        }
       ],
       "layout": {
        "legend": {
         "bgcolor": "#F5F6F9",
         "font": {
          "color": "#4D5663"
         }
        },
        "paper_bgcolor": "#F5F6F9",
        "plot_bgcolor": "#F5F6F9",
        "template": {
         "data": {
          "bar": [
           {
            "error_x": {
             "color": "#2a3f5f"
            },
            "error_y": {
             "color": "#2a3f5f"
            },
            "marker": {
             "line": {
              "color": "#E5ECF6",
              "width": 0.5
             }
            },
            "type": "bar"
           }
          ],
          "barpolar": [
           {
            "marker": {
             "line": {
              "color": "#E5ECF6",
              "width": 0.5
             }
            },
            "type": "barpolar"
           }
          ],
          "carpet": [
           {
            "aaxis": {
             "endlinecolor": "#2a3f5f",
             "gridcolor": "white",
             "linecolor": "white",
             "minorgridcolor": "white",
             "startlinecolor": "#2a3f5f"
            },
            "baxis": {
             "endlinecolor": "#2a3f5f",
             "gridcolor": "white",
             "linecolor": "white",
             "minorgridcolor": "white",
             "startlinecolor": "#2a3f5f"
            },
            "type": "carpet"
           }
          ],
          "choropleth": [
           {
            "colorbar": {
             "outlinewidth": 0,
             "ticks": ""
            },
            "type": "choropleth"
           }
          ],
          "contour": [
           {
            "colorbar": {
             "outlinewidth": 0,
             "ticks": ""
            },
            "colorscale": [
             [
              0,
              "#0d0887"
             ],
             [
              0.1111111111111111,
              "#46039f"
             ],
             [
              0.2222222222222222,
              "#7201a8"
             ],
             [
              0.3333333333333333,
              "#9c179e"
             ],
             [
              0.4444444444444444,
              "#bd3786"
             ],
             [
              0.5555555555555556,
              "#d8576b"
             ],
             [
              0.6666666666666666,
              "#ed7953"
             ],
             [
              0.7777777777777778,
              "#fb9f3a"
             ],
             [
              0.8888888888888888,
              "#fdca26"
             ],
             [
              1,
              "#f0f921"
             ]
            ],
            "type": "contour"
           }
          ],
          "contourcarpet": [
           {
            "colorbar": {
             "outlinewidth": 0,
             "ticks": ""
            },
            "type": "contourcarpet"
           }
          ],
          "heatmap": [
           {
            "colorbar": {
             "outlinewidth": 0,
             "ticks": ""
            },
            "colorscale": [
             [
              0,
              "#0d0887"
             ],
             [
              0.1111111111111111,
              "#46039f"
             ],
             [
              0.2222222222222222,
              "#7201a8"
             ],
             [
              0.3333333333333333,
              "#9c179e"
             ],
             [
              0.4444444444444444,
              "#bd3786"
             ],
             [
              0.5555555555555556,
              "#d8576b"
             ],
             [
              0.6666666666666666,
              "#ed7953"
             ],
             [
              0.7777777777777778,
              "#fb9f3a"
             ],
             [
              0.8888888888888888,
              "#fdca26"
             ],
             [
              1,
              "#f0f921"
             ]
            ],
            "type": "heatmap"
           }
          ],
          "heatmapgl": [
           {
            "colorbar": {
             "outlinewidth": 0,
             "ticks": ""
            },
            "colorscale": [
             [
              0,
              "#0d0887"
             ],
             [
              0.1111111111111111,
              "#46039f"
             ],
             [
              0.2222222222222222,
              "#7201a8"
             ],
             [
              0.3333333333333333,
              "#9c179e"
             ],
             [
              0.4444444444444444,
              "#bd3786"
             ],
             [
              0.5555555555555556,
              "#d8576b"
             ],
             [
              0.6666666666666666,
              "#ed7953"
             ],
             [
              0.7777777777777778,
              "#fb9f3a"
             ],
             [
              0.8888888888888888,
              "#fdca26"
             ],
             [
              1,
              "#f0f921"
             ]
            ],
            "type": "heatmapgl"
           }
          ],
          "histogram": [
           {
            "marker": {
             "colorbar": {
              "outlinewidth": 0,
              "ticks": ""
             }
            },
            "type": "histogram"
           }
          ],
          "histogram2d": [
           {
            "colorbar": {
             "outlinewidth": 0,
             "ticks": ""
            },
            "colorscale": [
             [
              0,
              "#0d0887"
             ],
             [
              0.1111111111111111,
              "#46039f"
             ],
             [
              0.2222222222222222,
              "#7201a8"
             ],
             [
              0.3333333333333333,
              "#9c179e"
             ],
             [
              0.4444444444444444,
              "#bd3786"
             ],
             [
              0.5555555555555556,
              "#d8576b"
             ],
             [
              0.6666666666666666,
              "#ed7953"
             ],
             [
              0.7777777777777778,
              "#fb9f3a"
             ],
             [
              0.8888888888888888,
              "#fdca26"
             ],
             [
              1,
              "#f0f921"
             ]
            ],
            "type": "histogram2d"
           }
          ],
          "histogram2dcontour": [
           {
            "colorbar": {
             "outlinewidth": 0,
             "ticks": ""
            },
            "colorscale": [
             [
              0,
              "#0d0887"
             ],
             [
              0.1111111111111111,
              "#46039f"
             ],
             [
              0.2222222222222222,
              "#7201a8"
             ],
             [
              0.3333333333333333,
              "#9c179e"
             ],
             [
              0.4444444444444444,
              "#bd3786"
             ],
             [
              0.5555555555555556,
              "#d8576b"
             ],
             [
              0.6666666666666666,
              "#ed7953"
             ],
             [
              0.7777777777777778,
              "#fb9f3a"
             ],
             [
              0.8888888888888888,
              "#fdca26"
             ],
             [
              1,
              "#f0f921"
             ]
            ],
            "type": "histogram2dcontour"
           }
          ],
          "mesh3d": [
           {
            "colorbar": {
             "outlinewidth": 0,
             "ticks": ""
            },
            "type": "mesh3d"
           }
          ],
          "parcoords": [
           {
            "line": {
             "colorbar": {
              "outlinewidth": 0,
              "ticks": ""
             }
            },
            "type": "parcoords"
           }
          ],
          "pie": [
           {
            "automargin": true,
            "type": "pie"
           }
          ],
          "scatter": [
           {
            "marker": {
             "colorbar": {
              "outlinewidth": 0,
              "ticks": ""
             }
            },
            "type": "scatter"
           }
          ],
          "scatter3d": [
           {
            "line": {
             "colorbar": {
              "outlinewidth": 0,
              "ticks": ""
             }
            },
            "marker": {
             "colorbar": {
              "outlinewidth": 0,
              "ticks": ""
             }
            },
            "type": "scatter3d"
           }
          ],
          "scattercarpet": [
           {
            "marker": {
             "colorbar": {
              "outlinewidth": 0,
              "ticks": ""
             }
            },
            "type": "scattercarpet"
           }
          ],
          "scattergeo": [
           {
            "marker": {
             "colorbar": {
              "outlinewidth": 0,
              "ticks": ""
             }
            },
            "type": "scattergeo"
           }
          ],
          "scattergl": [
           {
            "marker": {
             "colorbar": {
              "outlinewidth": 0,
              "ticks": ""
             }
            },
            "type": "scattergl"
           }
          ],
          "scattermapbox": [
           {
            "marker": {
             "colorbar": {
              "outlinewidth": 0,
              "ticks": ""
             }
            },
            "type": "scattermapbox"
           }
          ],
          "scatterpolar": [
           {
            "marker": {
             "colorbar": {
              "outlinewidth": 0,
              "ticks": ""
             }
            },
            "type": "scatterpolar"
           }
          ],
          "scatterpolargl": [
           {
            "marker": {
             "colorbar": {
              "outlinewidth": 0,
              "ticks": ""
             }
            },
            "type": "scatterpolargl"
           }
          ],
          "scatterternary": [
           {
            "marker": {
             "colorbar": {
              "outlinewidth": 0,
              "ticks": ""
             }
            },
            "type": "scatterternary"
           }
          ],
          "surface": [
           {
            "colorbar": {
             "outlinewidth": 0,
             "ticks": ""
            },
            "colorscale": [
             [
              0,
              "#0d0887"
             ],
             [
              0.1111111111111111,
              "#46039f"
             ],
             [
              0.2222222222222222,
              "#7201a8"
             ],
             [
              0.3333333333333333,
              "#9c179e"
             ],
             [
              0.4444444444444444,
              "#bd3786"
             ],
             [
              0.5555555555555556,
              "#d8576b"
             ],
             [
              0.6666666666666666,
              "#ed7953"
             ],
             [
              0.7777777777777778,
              "#fb9f3a"
             ],
             [
              0.8888888888888888,
              "#fdca26"
             ],
             [
              1,
              "#f0f921"
             ]
            ],
            "type": "surface"
           }
          ],
          "table": [
           {
            "cells": {
             "fill": {
              "color": "#EBF0F8"
             },
             "line": {
              "color": "white"
             }
            },
            "header": {
             "fill": {
              "color": "#C8D4E3"
             },
             "line": {
              "color": "white"
             }
            },
            "type": "table"
           }
          ]
         },
         "layout": {
          "annotationdefaults": {
           "arrowcolor": "#2a3f5f",
           "arrowhead": 0,
           "arrowwidth": 1
          },
          "coloraxis": {
           "colorbar": {
            "outlinewidth": 0,
            "ticks": ""
           }
          },
          "colorscale": {
           "diverging": [
            [
             0,
             "#8e0152"
            ],
            [
             0.1,
             "#c51b7d"
            ],
            [
             0.2,
             "#de77ae"
            ],
            [
             0.3,
             "#f1b6da"
            ],
            [
             0.4,
             "#fde0ef"
            ],
            [
             0.5,
             "#f7f7f7"
            ],
            [
             0.6,
             "#e6f5d0"
            ],
            [
             0.7,
             "#b8e186"
            ],
            [
             0.8,
             "#7fbc41"
            ],
            [
             0.9,
             "#4d9221"
            ],
            [
             1,
             "#276419"
            ]
           ],
           "sequential": [
            [
             0,
             "#0d0887"
            ],
            [
             0.1111111111111111,
             "#46039f"
            ],
            [
             0.2222222222222222,
             "#7201a8"
            ],
            [
             0.3333333333333333,
             "#9c179e"
            ],
            [
             0.4444444444444444,
             "#bd3786"
            ],
            [
             0.5555555555555556,
             "#d8576b"
            ],
            [
             0.6666666666666666,
             "#ed7953"
            ],
            [
             0.7777777777777778,
             "#fb9f3a"
            ],
            [
             0.8888888888888888,
             "#fdca26"
            ],
            [
             1,
             "#f0f921"
            ]
           ],
           "sequentialminus": [
            [
             0,
             "#0d0887"
            ],
            [
             0.1111111111111111,
             "#46039f"
            ],
            [
             0.2222222222222222,
             "#7201a8"
            ],
            [
             0.3333333333333333,
             "#9c179e"
            ],
            [
             0.4444444444444444,
             "#bd3786"
            ],
            [
             0.5555555555555556,
             "#d8576b"
            ],
            [
             0.6666666666666666,
             "#ed7953"
            ],
            [
             0.7777777777777778,
             "#fb9f3a"
            ],
            [
             0.8888888888888888,
             "#fdca26"
            ],
            [
             1,
             "#f0f921"
            ]
           ]
          },
          "colorway": [
           "#636efa",
           "#EF553B",
           "#00cc96",
           "#ab63fa",
           "#FFA15A",
           "#19d3f3",
           "#FF6692",
           "#B6E880",
           "#FF97FF",
           "#FECB52"
          ],
          "font": {
           "color": "#2a3f5f"
          },
          "geo": {
           "bgcolor": "white",
           "lakecolor": "white",
           "landcolor": "#E5ECF6",
           "showlakes": true,
           "showland": true,
           "subunitcolor": "white"
          },
          "hoverlabel": {
           "align": "left"
          },
          "hovermode": "closest",
          "mapbox": {
           "style": "light"
          },
          "paper_bgcolor": "white",
          "plot_bgcolor": "#E5ECF6",
          "polar": {
           "angularaxis": {
            "gridcolor": "white",
            "linecolor": "white",
            "ticks": ""
           },
           "bgcolor": "#E5ECF6",
           "radialaxis": {
            "gridcolor": "white",
            "linecolor": "white",
            "ticks": ""
           }
          },
          "scene": {
           "xaxis": {
            "backgroundcolor": "#E5ECF6",
            "gridcolor": "white",
            "gridwidth": 2,
            "linecolor": "white",
            "showbackground": true,
            "ticks": "",
            "zerolinecolor": "white"
           },
           "yaxis": {
            "backgroundcolor": "#E5ECF6",
            "gridcolor": "white",
            "gridwidth": 2,
            "linecolor": "white",
            "showbackground": true,
            "ticks": "",
            "zerolinecolor": "white"
           },
           "zaxis": {
            "backgroundcolor": "#E5ECF6",
            "gridcolor": "white",
            "gridwidth": 2,
            "linecolor": "white",
            "showbackground": true,
            "ticks": "",
            "zerolinecolor": "white"
           }
          },
          "shapedefaults": {
           "line": {
            "color": "#2a3f5f"
           }
          },
          "ternary": {
           "aaxis": {
            "gridcolor": "white",
            "linecolor": "white",
            "ticks": ""
           },
           "baxis": {
            "gridcolor": "white",
            "linecolor": "white",
            "ticks": ""
           },
           "bgcolor": "#E5ECF6",
           "caxis": {
            "gridcolor": "white",
            "linecolor": "white",
            "ticks": ""
           }
          },
          "title": {
           "x": 0.05
          },
          "xaxis": {
           "automargin": true,
           "gridcolor": "white",
           "linecolor": "white",
           "ticks": "",
           "title": {
            "standoff": 15
           },
           "zerolinecolor": "white",
           "zerolinewidth": 2
          },
          "yaxis": {
           "automargin": true,
           "gridcolor": "white",
           "linecolor": "white",
           "ticks": "",
           "title": {
            "standoff": 15
           },
           "zerolinecolor": "white",
           "zerolinewidth": 2
          }
         }
        },
        "title": {
         "font": {
          "color": "#4D5663"
         }
        },
        "xaxis": {
         "gridcolor": "#E1E5ED",
         "showgrid": true,
         "tickfont": {
          "color": "#4D5663"
         },
         "title": {
          "font": {
           "color": "#4D5663"
          },
          "text": ""
         },
         "zerolinecolor": "#E1E5ED"
        },
        "yaxis": {
         "gridcolor": "#E1E5ED",
         "showgrid": true,
         "tickfont": {
          "color": "#4D5663"
         },
         "title": {
          "font": {
           "color": "#4D5663"
          },
          "text": ""
         },
         "zerolinecolor": "#E1E5ED"
        }
       }
      },
      "text/html": [
       "<div>\n",
       "        \n",
       "        \n",
       "            <div id=\"4e1ed3be-3e77-49c7-b9d0-541d586c4e70\" class=\"plotly-graph-div\" style=\"height:525px; width:100%;\"></div>\n",
       "            <script type=\"text/javascript\">\n",
       "                require([\"plotly\"], function(Plotly) {\n",
       "                    window.PLOTLYENV=window.PLOTLYENV || {};\n",
       "                    window.PLOTLYENV.BASE_URL='https://plot.ly';\n",
       "                    \n",
       "                if (document.getElementById(\"4e1ed3be-3e77-49c7-b9d0-541d586c4e70\")) {\n",
       "                    Plotly.newPlot(\n",
       "                        '4e1ed3be-3e77-49c7-b9d0-541d586c4e70',\n",
       "                        [{\"boxpoints\": false, \"line\": {\"width\": 1.3}, \"marker\": {\"color\": \"rgba(255, 153, 51, 1.0)\"}, \"name\": \"A\", \"orientation\": \"v\", \"type\": \"box\", \"y\": [0.33530550154152494, 0.09065339513616581, -0.01630297475032681, -0.07869977638765072, -0.11280955759602175, -0.1401151965190619, 0.37726332968436377, 0.9807848237014964, 0.810497685246533, -0.5369994090996112, 0.4665515681528577, -0.4027752710747494, 0.8450873692592444, -1.6713871998577774, -0.5647159680856547, -1.0454373654393754, -0.19128198431349563, -0.08380197880652643, -0.6808409250243673, 1.5314298215111735, -0.8472738029656343, 2.016894424729286, 0.5675939625303773, -0.12570665669379766, -2.9530064435370353, -0.7623240462719839, 0.24650554670245756, 0.677974153571497, 0.34498118682073425, 0.7050866228571876, 0.48289759808491, 0.19661274001139517, -0.10839634016900147, 1.2955729007966614, -1.2080228686216006, -0.8868820384240231, -0.8504568442746137, -0.8592195770336528, 0.23891912898121961, -0.390740080415598, 0.7899539300986534, 1.9073166225165692, 0.7332345874800306, 0.076279312025144, -0.1606368966839194, 0.3722445893819746, 0.6054925610989462, 0.7956873319712157, 0.9725100209690856, 0.24018718772850134, -1.390060796293999, -1.7325819543366443, -1.0531172370304538, -0.8435755679018383, -1.8669241001205663, 0.1430069081678792, 0.3503266506041815, 0.4798291478777767, 0.5100131008826317, 2.0749173355937347, -1.3690344750713008, -0.06876435799003278, -0.4505688369932266, 1.078456943733188, 0.30714997296703755, -0.4139398828429726, 1.7895416427199355, 0.776518393126592, 1.1006209089834444, 2.3663267206891385, -0.748679596212696, -0.8895687565692749, 0.8656205411908345, 0.41104469157294404, -0.609241534591123, -1.4383026828323873, 0.26635612483594606, -1.8980379983631288, -1.738277833733187, -1.5289927281839082, 0.23529718024963092, -0.08309493795682184, 0.273378453933951, -0.4817320634709933, -0.1375488620604106, 0.33783356180165247, 0.6998816614904454, 0.537709684336636, 0.8069903649895979, -0.6731094896210476, 1.443158574532866, 1.2870986328443184, 0.7035596946386531, -0.7921994935980345, -0.489915251036213, -0.5231506439766499, 0.385676724326846, -0.09919321074167252, 0.8202815108228418, 1.2975442876253223]}, {\"boxpoints\": false, \"line\": {\"width\": 1.3}, \"marker\": {\"color\": \"rgba(55, 128, 191, 1.0)\"}, \"name\": \"B\", \"orientation\": \"v\", \"type\": \"box\", \"y\": [-0.6760691106235645, 0.18372206965000965, -0.34323330233492, -2.070801152584343, 0.34577707775890487, 2.1301507636241146, -0.5531762406825648, -0.7399323363908722, 0.26241129162089216, -1.4337004355910643, -0.8594491355414683, -0.4912756822823481, 0.583450794405381, -1.5045213827074095, 1.752280268786307, -0.5863715567174779, -0.04012310455887652, 1.9455806784460525, 1.4257375049163175, -0.23411141816222264, -1.4491472757323403, -0.5833671584039474, -0.7529753578098609, 0.10339329905994711, -0.004541122623439102, -1.7573449484289683, 0.9043005711761228, -0.5799998214961695, -2.182073073509037, 0.6117543628483829, -1.046866238177497, 0.1451050144527596, -1.7091895613300523, 0.7730883681592071, 0.11046956239724635, 0.860561453912868, 1.7817168794154585, 0.5941911948405838, 1.7464390750714196, 1.3443851144456052, -0.653941015096149, -0.6481687041989921, 0.7565231993307985, -0.3377428990829017, -0.24165345197325094, -1.0946339421083284, -0.6566654045105857, 1.4656164547884096, 1.6971479352132062, 0.06229333566246116, -0.33487264062175487, 0.4575692496097571, -1.6218757011147977, -0.07516494673505354, 1.2557900113465656, 0.5178613245423704, 0.5719740142416783, 1.6678064203880918, 1.2178665474743848, -0.7714648529472447, -0.21634347844280188, -0.058793758991811655, -1.3667740058247482, -0.47598627590409903, 1.125778904159132, 0.7835229441755038, 0.09036040956928859, -0.15580677569506976, 0.21970059205786405, -2.2347952553428714, 0.30004649144884643, 1.3109454582592848, 0.580259232168523, -0.358579231338049, -1.21979233901239, -0.8050965907187663, 1.836896105180095, -0.406968255985467, -0.6343369641269744, 1.451527328603819, 0.8033320096526525, -0.7679911742675111, -1.7453939281965098, -2.5858164646107724, -0.6622222603851182, -0.35412184689296267, -0.278741803965597, 1.2277706222638571, -0.1364186492754009, -1.149210347160463, 0.4790085316866908, 0.8690059859342354, -0.5550546023569558, -0.5491642438620772, -0.9837564753414033, 0.46931440157870213, -0.032044133111769284, -1.4470251258178546, 0.20863537293074075, 0.10224247082485786]}, {\"boxpoints\": false, \"line\": {\"width\": 1.3}, \"marker\": {\"color\": \"rgba(50, 171, 96, 1.0)\"}, \"name\": \"C\", \"orientation\": \"v\", \"type\": \"box\", \"y\": [0.4976635153390595, -0.21790464096552933, 1.8770568401163243, -0.08406329467212004, 0.05047910130544238, -1.863119628570406, 1.446686846495153, -0.4672959564642441, 0.17173494323369048, 0.48510954634981424, 0.25894409234384486, -0.9907031509616347, -2.4765792073811785, 0.13222033594138874, 0.1443372495251389, 0.09192344590453913, 1.363885521029763, 0.9197398757088081, 3.1928661368771363, -0.34532606934295906, -1.507993249260039, -2.2560123287121083, -0.6038699413830702, -0.684452821760146, 1.1194954883913042, -0.3846851354573298, -0.3194957124760941, -1.4704541460822047, 0.572481472517222, -0.7872909127878106, 0.7119242579447129, -0.5060207969696873, -0.40581934035404, -1.689273216260599, 1.5823761755509458, -0.9700587722108596, 0.35284881883627267, 0.07924865304953307, 0.6023573355088919, 1.1202598058899436, -0.4477991916778235, 0.8288463153154215, 0.49772006964362825, -0.9505049971937803, -0.8140694642569831, -1.5529584699026207, -2.8809889027391304, -0.3417047889214654, -0.4084512140100783, -0.10456338893965307, 0.9750386663920425, 0.3946273695069198, 1.3859616732854472, -0.6559827031709952, -0.7596889618125324, 0.577932974981754, -1.0852209880182069, -1.2301294141994743, -0.8506515510864039, -2.5556952466223506, 0.6004778581018496, 0.5606158727475441, -0.8738107488147265, -1.1686346897067181, -0.20877839887826147, 1.180163364462233, 0.36535104793371614, 0.2073904589342936, -0.6555404560646885, 0.8881599742336906, -0.6711198606757098, 0.3043941689392284, 0.1258776385388952, -0.8051862402866529, -0.08028806660732918, -0.5167021376486441, -0.3346278148569162, -0.5744857100427638, 0.41274885195909183, 0.3270866038813453, -0.08857726307529906, 0.26419135206184197, 1.338994160548854, 1.9992795048884158, 0.7141750750859873, -1.888414529239671, 1.4929320822433116, -1.3935753058577032, 0.4786657984036205, -0.5662358279373066, 1.3853965021502659, 1.310768730747306, -1.2195161056820787, -0.30134328416469597, -1.8628772101274784, 0.13656636905168743, 0.15866495799556496, 0.7753693348344339, -0.16909181430015702, -0.6141646672866208]}, {\"boxpoints\": false, \"line\": {\"width\": 1.3}, \"marker\": {\"color\": \"rgba(128, 0, 128, 1.0)\"}, \"name\": \"D\", \"orientation\": \"v\", \"type\": \"box\", \"y\": [-0.48422610212364575, 1.5720740917937719, 0.29417676876254484, 0.40695172654422823, 1.8457057994470416, -0.22952687758607296, -1.4110412284931044, 0.6622101937639742, 0.2592665157840242, -1.1303136586350027, -0.9599244711714722, -2.9186523196758443, -1.220473307280125, -1.2845916926982326, 0.695535527521974, -0.9410364272007093, -1.054438031492874, 0.5786441680218358, -0.0009718609257263874, 0.18385236601283705, 0.8318731750611098, -1.2931331157932895, -0.473766295947915, 0.21989469373577272, 0.751519393731062, -0.8012409929519795, 0.15717088097675325, 0.08775590090120683, -1.5558711389261641, 1.9100101943226668, -0.15024764424622192, -1.0873795965963182, 0.6221884644119188, -0.7535658454708033, 1.5420181648169597, 0.43343134106589176, -0.7626239289295567, -0.11348077823666365, -0.4513994686538723, -1.3407248052036569, -1.1427204975189829, 0.38490878622382924, 1.1918871947298688, -1.1973844029991414, 0.4427464888319099, -1.1165564301063253, 0.45268501115174387, -0.7867863308971418, -0.40074023156815547, -0.09075355010727543, -0.9092733551878476, 1.4801414765327043, -0.4864947224254879, -0.23553281518066121, -0.2604302198504222, -2.132184211795599, 1.6263417593658696, 0.10511365671282863, -0.7410307229762749, -0.27093812808134227, -0.34702317462092325, -0.34518985162498145, 1.3833305918126406, 0.41893754318194665, 0.8749548193155436, -1.8505471278177148, -0.7245909334187343, -1.5919431295609106, -0.03634213035411084, -0.8349045571560765, -1.4844417570109985, -1.1863614757506453, 0.7976643520601201, -0.8220721158635732, 0.8865084569468012, 0.6211572391849196, 0.44190214365607716, 0.25241338736425195, -0.8611530763022871, 0.03612345805337376, -0.22931884616308534, 0.3036281352810886, 0.28167047279521784, -1.0826462314722138, -0.43986928804430997, 1.2566381357755039, 0.5991147482153631, -0.7182811491327988, 1.008991043079794, -0.00942881536656502, -0.5174739528077554, 0.5597354180307877, -1.37114336207063, 0.6087502156043381, -0.6738609551229755, 0.8082999592912838, -0.9025518546702369, -1.3890791489736931, 1.365786540799907, -0.7780683191686512]}],\n",
       "                        {\"legend\": {\"bgcolor\": \"#F5F6F9\", \"font\": {\"color\": \"#4D5663\"}}, \"paper_bgcolor\": \"#F5F6F9\", \"plot_bgcolor\": \"#F5F6F9\", \"template\": {\"data\": {\"bar\": [{\"error_x\": {\"color\": \"#2a3f5f\"}, \"error_y\": {\"color\": \"#2a3f5f\"}, \"marker\": {\"line\": {\"color\": \"#E5ECF6\", \"width\": 0.5}}, \"type\": \"bar\"}], \"barpolar\": [{\"marker\": {\"line\": {\"color\": \"#E5ECF6\", \"width\": 0.5}}, \"type\": \"barpolar\"}], \"carpet\": [{\"aaxis\": {\"endlinecolor\": \"#2a3f5f\", \"gridcolor\": \"white\", \"linecolor\": \"white\", \"minorgridcolor\": \"white\", \"startlinecolor\": \"#2a3f5f\"}, \"baxis\": {\"endlinecolor\": \"#2a3f5f\", \"gridcolor\": \"white\", \"linecolor\": \"white\", \"minorgridcolor\": \"white\", \"startlinecolor\": \"#2a3f5f\"}, \"type\": \"carpet\"}], \"choropleth\": [{\"colorbar\": {\"outlinewidth\": 0, \"ticks\": \"\"}, \"type\": \"choropleth\"}], \"contour\": [{\"colorbar\": {\"outlinewidth\": 0, \"ticks\": \"\"}, \"colorscale\": [[0.0, \"#0d0887\"], [0.1111111111111111, \"#46039f\"], [0.2222222222222222, \"#7201a8\"], [0.3333333333333333, \"#9c179e\"], [0.4444444444444444, \"#bd3786\"], [0.5555555555555556, \"#d8576b\"], [0.6666666666666666, \"#ed7953\"], [0.7777777777777778, \"#fb9f3a\"], [0.8888888888888888, \"#fdca26\"], [1.0, \"#f0f921\"]], \"type\": \"contour\"}], \"contourcarpet\": [{\"colorbar\": {\"outlinewidth\": 0, \"ticks\": \"\"}, \"type\": \"contourcarpet\"}], \"heatmap\": [{\"colorbar\": {\"outlinewidth\": 0, \"ticks\": \"\"}, \"colorscale\": [[0.0, \"#0d0887\"], [0.1111111111111111, \"#46039f\"], [0.2222222222222222, \"#7201a8\"], [0.3333333333333333, \"#9c179e\"], [0.4444444444444444, \"#bd3786\"], [0.5555555555555556, \"#d8576b\"], [0.6666666666666666, \"#ed7953\"], [0.7777777777777778, \"#fb9f3a\"], [0.8888888888888888, \"#fdca26\"], [1.0, \"#f0f921\"]], \"type\": \"heatmap\"}], \"heatmapgl\": [{\"colorbar\": {\"outlinewidth\": 0, \"ticks\": \"\"}, \"colorscale\": [[0.0, \"#0d0887\"], [0.1111111111111111, \"#46039f\"], [0.2222222222222222, \"#7201a8\"], [0.3333333333333333, \"#9c179e\"], [0.4444444444444444, \"#bd3786\"], [0.5555555555555556, \"#d8576b\"], [0.6666666666666666, \"#ed7953\"], [0.7777777777777778, \"#fb9f3a\"], [0.8888888888888888, \"#fdca26\"], [1.0, \"#f0f921\"]], \"type\": \"heatmapgl\"}], \"histogram\": [{\"marker\": {\"colorbar\": {\"outlinewidth\": 0, \"ticks\": \"\"}}, \"type\": \"histogram\"}], \"histogram2d\": [{\"colorbar\": {\"outlinewidth\": 0, \"ticks\": \"\"}, \"colorscale\": [[0.0, \"#0d0887\"], [0.1111111111111111, \"#46039f\"], [0.2222222222222222, \"#7201a8\"], [0.3333333333333333, \"#9c179e\"], [0.4444444444444444, \"#bd3786\"], [0.5555555555555556, \"#d8576b\"], [0.6666666666666666, \"#ed7953\"], [0.7777777777777778, \"#fb9f3a\"], [0.8888888888888888, \"#fdca26\"], [1.0, \"#f0f921\"]], \"type\": \"histogram2d\"}], \"histogram2dcontour\": [{\"colorbar\": {\"outlinewidth\": 0, \"ticks\": \"\"}, \"colorscale\": [[0.0, \"#0d0887\"], [0.1111111111111111, \"#46039f\"], [0.2222222222222222, \"#7201a8\"], [0.3333333333333333, \"#9c179e\"], [0.4444444444444444, \"#bd3786\"], [0.5555555555555556, \"#d8576b\"], [0.6666666666666666, \"#ed7953\"], [0.7777777777777778, \"#fb9f3a\"], [0.8888888888888888, \"#fdca26\"], [1.0, \"#f0f921\"]], \"type\": \"histogram2dcontour\"}], \"mesh3d\": [{\"colorbar\": {\"outlinewidth\": 0, \"ticks\": \"\"}, \"type\": \"mesh3d\"}], \"parcoords\": [{\"line\": {\"colorbar\": {\"outlinewidth\": 0, \"ticks\": \"\"}}, \"type\": \"parcoords\"}], \"pie\": [{\"automargin\": true, \"type\": \"pie\"}], \"scatter\": [{\"marker\": {\"colorbar\": {\"outlinewidth\": 0, \"ticks\": \"\"}}, \"type\": \"scatter\"}], \"scatter3d\": [{\"line\": {\"colorbar\": {\"outlinewidth\": 0, \"ticks\": \"\"}}, \"marker\": {\"colorbar\": {\"outlinewidth\": 0, \"ticks\": \"\"}}, \"type\": \"scatter3d\"}], \"scattercarpet\": [{\"marker\": {\"colorbar\": {\"outlinewidth\": 0, \"ticks\": \"\"}}, \"type\": \"scattercarpet\"}], \"scattergeo\": [{\"marker\": {\"colorbar\": {\"outlinewidth\": 0, \"ticks\": \"\"}}, \"type\": \"scattergeo\"}], \"scattergl\": [{\"marker\": {\"colorbar\": {\"outlinewidth\": 0, \"ticks\": \"\"}}, \"type\": \"scattergl\"}], \"scattermapbox\": [{\"marker\": {\"colorbar\": {\"outlinewidth\": 0, \"ticks\": \"\"}}, \"type\": \"scattermapbox\"}], \"scatterpolar\": [{\"marker\": {\"colorbar\": {\"outlinewidth\": 0, \"ticks\": \"\"}}, \"type\": \"scatterpolar\"}], \"scatterpolargl\": [{\"marker\": {\"colorbar\": {\"outlinewidth\": 0, \"ticks\": \"\"}}, \"type\": \"scatterpolargl\"}], \"scatterternary\": [{\"marker\": {\"colorbar\": {\"outlinewidth\": 0, \"ticks\": \"\"}}, \"type\": \"scatterternary\"}], \"surface\": [{\"colorbar\": {\"outlinewidth\": 0, \"ticks\": \"\"}, \"colorscale\": [[0.0, \"#0d0887\"], [0.1111111111111111, \"#46039f\"], [0.2222222222222222, \"#7201a8\"], [0.3333333333333333, \"#9c179e\"], [0.4444444444444444, \"#bd3786\"], [0.5555555555555556, \"#d8576b\"], [0.6666666666666666, \"#ed7953\"], [0.7777777777777778, \"#fb9f3a\"], [0.8888888888888888, \"#fdca26\"], [1.0, \"#f0f921\"]], \"type\": \"surface\"}], \"table\": [{\"cells\": {\"fill\": {\"color\": \"#EBF0F8\"}, \"line\": {\"color\": \"white\"}}, \"header\": {\"fill\": {\"color\": \"#C8D4E3\"}, \"line\": {\"color\": \"white\"}}, \"type\": \"table\"}]}, \"layout\": {\"annotationdefaults\": {\"arrowcolor\": \"#2a3f5f\", \"arrowhead\": 0, \"arrowwidth\": 1}, \"coloraxis\": {\"colorbar\": {\"outlinewidth\": 0, \"ticks\": \"\"}}, \"colorscale\": {\"diverging\": [[0, \"#8e0152\"], [0.1, \"#c51b7d\"], [0.2, \"#de77ae\"], [0.3, \"#f1b6da\"], [0.4, \"#fde0ef\"], [0.5, \"#f7f7f7\"], [0.6, \"#e6f5d0\"], [0.7, \"#b8e186\"], [0.8, \"#7fbc41\"], [0.9, \"#4d9221\"], [1, \"#276419\"]], \"sequential\": [[0.0, \"#0d0887\"], [0.1111111111111111, \"#46039f\"], [0.2222222222222222, \"#7201a8\"], [0.3333333333333333, \"#9c179e\"], [0.4444444444444444, \"#bd3786\"], [0.5555555555555556, \"#d8576b\"], [0.6666666666666666, \"#ed7953\"], [0.7777777777777778, \"#fb9f3a\"], [0.8888888888888888, \"#fdca26\"], [1.0, \"#f0f921\"]], \"sequentialminus\": [[0.0, \"#0d0887\"], [0.1111111111111111, \"#46039f\"], [0.2222222222222222, \"#7201a8\"], [0.3333333333333333, \"#9c179e\"], [0.4444444444444444, \"#bd3786\"], [0.5555555555555556, \"#d8576b\"], [0.6666666666666666, \"#ed7953\"], [0.7777777777777778, \"#fb9f3a\"], [0.8888888888888888, \"#fdca26\"], [1.0, \"#f0f921\"]]}, \"colorway\": [\"#636efa\", \"#EF553B\", \"#00cc96\", \"#ab63fa\", \"#FFA15A\", \"#19d3f3\", \"#FF6692\", \"#B6E880\", \"#FF97FF\", \"#FECB52\"], \"font\": {\"color\": \"#2a3f5f\"}, \"geo\": {\"bgcolor\": \"white\", \"lakecolor\": \"white\", \"landcolor\": \"#E5ECF6\", \"showlakes\": true, \"showland\": true, \"subunitcolor\": \"white\"}, \"hoverlabel\": {\"align\": \"left\"}, \"hovermode\": \"closest\", \"mapbox\": {\"style\": \"light\"}, \"paper_bgcolor\": \"white\", \"plot_bgcolor\": \"#E5ECF6\", \"polar\": {\"angularaxis\": {\"gridcolor\": \"white\", \"linecolor\": \"white\", \"ticks\": \"\"}, \"bgcolor\": \"#E5ECF6\", \"radialaxis\": {\"gridcolor\": \"white\", \"linecolor\": \"white\", \"ticks\": \"\"}}, \"scene\": {\"xaxis\": {\"backgroundcolor\": \"#E5ECF6\", \"gridcolor\": \"white\", \"gridwidth\": 2, \"linecolor\": \"white\", \"showbackground\": true, \"ticks\": \"\", \"zerolinecolor\": \"white\"}, \"yaxis\": {\"backgroundcolor\": \"#E5ECF6\", \"gridcolor\": \"white\", \"gridwidth\": 2, \"linecolor\": \"white\", \"showbackground\": true, \"ticks\": \"\", \"zerolinecolor\": \"white\"}, \"zaxis\": {\"backgroundcolor\": \"#E5ECF6\", \"gridcolor\": \"white\", \"gridwidth\": 2, \"linecolor\": \"white\", \"showbackground\": true, \"ticks\": \"\", \"zerolinecolor\": \"white\"}}, \"shapedefaults\": {\"line\": {\"color\": \"#2a3f5f\"}}, \"ternary\": {\"aaxis\": {\"gridcolor\": \"white\", \"linecolor\": \"white\", \"ticks\": \"\"}, \"baxis\": {\"gridcolor\": \"white\", \"linecolor\": \"white\", \"ticks\": \"\"}, \"bgcolor\": \"#E5ECF6\", \"caxis\": {\"gridcolor\": \"white\", \"linecolor\": \"white\", \"ticks\": \"\"}}, \"title\": {\"x\": 0.05}, \"xaxis\": {\"automargin\": true, \"gridcolor\": \"white\", \"linecolor\": \"white\", \"ticks\": \"\", \"title\": {\"standoff\": 15}, \"zerolinecolor\": \"white\", \"zerolinewidth\": 2}, \"yaxis\": {\"automargin\": true, \"gridcolor\": \"white\", \"linecolor\": \"white\", \"ticks\": \"\", \"title\": {\"standoff\": 15}, \"zerolinecolor\": \"white\", \"zerolinewidth\": 2}}}, \"title\": {\"font\": {\"color\": \"#4D5663\"}}, \"xaxis\": {\"gridcolor\": \"#E1E5ED\", \"showgrid\": true, \"tickfont\": {\"color\": \"#4D5663\"}, \"title\": {\"font\": {\"color\": \"#4D5663\"}, \"text\": \"\"}, \"zerolinecolor\": \"#E1E5ED\"}, \"yaxis\": {\"gridcolor\": \"#E1E5ED\", \"showgrid\": true, \"tickfont\": {\"color\": \"#4D5663\"}, \"title\": {\"font\": {\"color\": \"#4D5663\"}, \"text\": \"\"}, \"zerolinecolor\": \"#E1E5ED\"}},\n",
       "                        {\"showLink\": true, \"linkText\": \"Export to plot.ly\", \"plotlyServerURL\": \"https://plot.ly\", \"responsive\": true}\n",
       "                    ).then(function(){\n",
       "                            \n",
       "var gd = document.getElementById('4e1ed3be-3e77-49c7-b9d0-541d586c4e70');\n",
       "var x = new MutationObserver(function (mutations, observer) {{\n",
       "        var display = window.getComputedStyle(gd).display;\n",
       "        if (!display || display === 'none') {{\n",
       "            console.log([gd, 'removed!']);\n",
       "            Plotly.purge(gd);\n",
       "            observer.disconnect();\n",
       "        }}\n",
       "}});\n",
       "\n",
       "// Listen for the removal of the full notebook cells\n",
       "var notebookContainer = gd.closest('#notebook-container');\n",
       "if (notebookContainer) {{\n",
       "    x.observe(notebookContainer, {childList: true});\n",
       "}}\n",
       "\n",
       "// Listen for the clearing of the current output cell\n",
       "var outputEl = gd.closest('.output');\n",
       "if (outputEl) {{\n",
       "    x.observe(outputEl, {childList: true});\n",
       "}}\n",
       "\n",
       "                        })\n",
       "                };\n",
       "                });\n",
       "            </script>\n",
       "        </div>"
      ]
     },
     "metadata": {},
     "output_type": "display_data"
    }
   ],
   "source": [
    "df.iplot(kind='box')"
   ]
  },
  {
   "cell_type": "markdown",
   "metadata": {},
   "source": [
    "## 3d Surface"
   ]
  },
  {
   "cell_type": "code",
   "execution_count": 32,
   "metadata": {},
   "outputs": [
    {
     "data": {
      "application/vnd.plotly.v1+json": {
       "config": {
        "linkText": "Export to plot.ly",
        "plotlyServerURL": "https://plot.ly",
        "showLink": true
       },
       "data": [
        {
         "colorscale": [
          [
           0,
           "rgb(165,0,38)"
          ],
          [
           0.1,
           "rgb(215,48,39)"
          ],
          [
           0.2,
           "rgb(244,109,67)"
          ],
          [
           0.3,
           "rgb(253,174,97)"
          ],
          [
           0.4,
           "rgb(254,224,144)"
          ],
          [
           0.5,
           "rgb(255,255,191)"
          ],
          [
           0.6,
           "rgb(224,243,248)"
          ],
          [
           0.7,
           "rgb(171,217,233)"
          ],
          [
           0.8,
           "rgb(116,173,209)"
          ],
          [
           0.9,
           "rgb(69,117,180)"
          ],
          [
           1,
           "rgb(49,54,149)"
          ]
         ],
         "type": "surface",
         "x": [
          0,
          1,
          2,
          3,
          4
         ],
         "y": [
          "x",
          "y",
          "z"
         ],
         "z": [
          [
           1,
           2,
           3,
           4,
           5
          ],
          [
           10,
           20,
           30,
           20,
           10
          ],
          [
           5,
           4,
           3,
           2,
           1
          ]
         ]
        }
       ],
       "layout": {
        "legend": {
         "bgcolor": "#F5F6F9",
         "font": {
          "color": "#4D5663"
         }
        },
        "paper_bgcolor": "#F5F6F9",
        "plot_bgcolor": "#F5F6F9",
        "template": {
         "data": {
          "bar": [
           {
            "error_x": {
             "color": "#2a3f5f"
            },
            "error_y": {
             "color": "#2a3f5f"
            },
            "marker": {
             "line": {
              "color": "#E5ECF6",
              "width": 0.5
             }
            },
            "type": "bar"
           }
          ],
          "barpolar": [
           {
            "marker": {
             "line": {
              "color": "#E5ECF6",
              "width": 0.5
             }
            },
            "type": "barpolar"
           }
          ],
          "carpet": [
           {
            "aaxis": {
             "endlinecolor": "#2a3f5f",
             "gridcolor": "white",
             "linecolor": "white",
             "minorgridcolor": "white",
             "startlinecolor": "#2a3f5f"
            },
            "baxis": {
             "endlinecolor": "#2a3f5f",
             "gridcolor": "white",
             "linecolor": "white",
             "minorgridcolor": "white",
             "startlinecolor": "#2a3f5f"
            },
            "type": "carpet"
           }
          ],
          "choropleth": [
           {
            "colorbar": {
             "outlinewidth": 0,
             "ticks": ""
            },
            "type": "choropleth"
           }
          ],
          "contour": [
           {
            "colorbar": {
             "outlinewidth": 0,
             "ticks": ""
            },
            "colorscale": [
             [
              0,
              "#0d0887"
             ],
             [
              0.1111111111111111,
              "#46039f"
             ],
             [
              0.2222222222222222,
              "#7201a8"
             ],
             [
              0.3333333333333333,
              "#9c179e"
             ],
             [
              0.4444444444444444,
              "#bd3786"
             ],
             [
              0.5555555555555556,
              "#d8576b"
             ],
             [
              0.6666666666666666,
              "#ed7953"
             ],
             [
              0.7777777777777778,
              "#fb9f3a"
             ],
             [
              0.8888888888888888,
              "#fdca26"
             ],
             [
              1,
              "#f0f921"
             ]
            ],
            "type": "contour"
           }
          ],
          "contourcarpet": [
           {
            "colorbar": {
             "outlinewidth": 0,
             "ticks": ""
            },
            "type": "contourcarpet"
           }
          ],
          "heatmap": [
           {
            "colorbar": {
             "outlinewidth": 0,
             "ticks": ""
            },
            "colorscale": [
             [
              0,
              "#0d0887"
             ],
             [
              0.1111111111111111,
              "#46039f"
             ],
             [
              0.2222222222222222,
              "#7201a8"
             ],
             [
              0.3333333333333333,
              "#9c179e"
             ],
             [
              0.4444444444444444,
              "#bd3786"
             ],
             [
              0.5555555555555556,
              "#d8576b"
             ],
             [
              0.6666666666666666,
              "#ed7953"
             ],
             [
              0.7777777777777778,
              "#fb9f3a"
             ],
             [
              0.8888888888888888,
              "#fdca26"
             ],
             [
              1,
              "#f0f921"
             ]
            ],
            "type": "heatmap"
           }
          ],
          "heatmapgl": [
           {
            "colorbar": {
             "outlinewidth": 0,
             "ticks": ""
            },
            "colorscale": [
             [
              0,
              "#0d0887"
             ],
             [
              0.1111111111111111,
              "#46039f"
             ],
             [
              0.2222222222222222,
              "#7201a8"
             ],
             [
              0.3333333333333333,
              "#9c179e"
             ],
             [
              0.4444444444444444,
              "#bd3786"
             ],
             [
              0.5555555555555556,
              "#d8576b"
             ],
             [
              0.6666666666666666,
              "#ed7953"
             ],
             [
              0.7777777777777778,
              "#fb9f3a"
             ],
             [
              0.8888888888888888,
              "#fdca26"
             ],
             [
              1,
              "#f0f921"
             ]
            ],
            "type": "heatmapgl"
           }
          ],
          "histogram": [
           {
            "marker": {
             "colorbar": {
              "outlinewidth": 0,
              "ticks": ""
             }
            },
            "type": "histogram"
           }
          ],
          "histogram2d": [
           {
            "colorbar": {
             "outlinewidth": 0,
             "ticks": ""
            },
            "colorscale": [
             [
              0,
              "#0d0887"
             ],
             [
              0.1111111111111111,
              "#46039f"
             ],
             [
              0.2222222222222222,
              "#7201a8"
             ],
             [
              0.3333333333333333,
              "#9c179e"
             ],
             [
              0.4444444444444444,
              "#bd3786"
             ],
             [
              0.5555555555555556,
              "#d8576b"
             ],
             [
              0.6666666666666666,
              "#ed7953"
             ],
             [
              0.7777777777777778,
              "#fb9f3a"
             ],
             [
              0.8888888888888888,
              "#fdca26"
             ],
             [
              1,
              "#f0f921"
             ]
            ],
            "type": "histogram2d"
           }
          ],
          "histogram2dcontour": [
           {
            "colorbar": {
             "outlinewidth": 0,
             "ticks": ""
            },
            "colorscale": [
             [
              0,
              "#0d0887"
             ],
             [
              0.1111111111111111,
              "#46039f"
             ],
             [
              0.2222222222222222,
              "#7201a8"
             ],
             [
              0.3333333333333333,
              "#9c179e"
             ],
             [
              0.4444444444444444,
              "#bd3786"
             ],
             [
              0.5555555555555556,
              "#d8576b"
             ],
             [
              0.6666666666666666,
              "#ed7953"
             ],
             [
              0.7777777777777778,
              "#fb9f3a"
             ],
             [
              0.8888888888888888,
              "#fdca26"
             ],
             [
              1,
              "#f0f921"
             ]
            ],
            "type": "histogram2dcontour"
           }
          ],
          "mesh3d": [
           {
            "colorbar": {
             "outlinewidth": 0,
             "ticks": ""
            },
            "type": "mesh3d"
           }
          ],
          "parcoords": [
           {
            "line": {
             "colorbar": {
              "outlinewidth": 0,
              "ticks": ""
             }
            },
            "type": "parcoords"
           }
          ],
          "pie": [
           {
            "automargin": true,
            "type": "pie"
           }
          ],
          "scatter": [
           {
            "marker": {
             "colorbar": {
              "outlinewidth": 0,
              "ticks": ""
             }
            },
            "type": "scatter"
           }
          ],
          "scatter3d": [
           {
            "line": {
             "colorbar": {
              "outlinewidth": 0,
              "ticks": ""
             }
            },
            "marker": {
             "colorbar": {
              "outlinewidth": 0,
              "ticks": ""
             }
            },
            "type": "scatter3d"
           }
          ],
          "scattercarpet": [
           {
            "marker": {
             "colorbar": {
              "outlinewidth": 0,
              "ticks": ""
             }
            },
            "type": "scattercarpet"
           }
          ],
          "scattergeo": [
           {
            "marker": {
             "colorbar": {
              "outlinewidth": 0,
              "ticks": ""
             }
            },
            "type": "scattergeo"
           }
          ],
          "scattergl": [
           {
            "marker": {
             "colorbar": {
              "outlinewidth": 0,
              "ticks": ""
             }
            },
            "type": "scattergl"
           }
          ],
          "scattermapbox": [
           {
            "marker": {
             "colorbar": {
              "outlinewidth": 0,
              "ticks": ""
             }
            },
            "type": "scattermapbox"
           }
          ],
          "scatterpolar": [
           {
            "marker": {
             "colorbar": {
              "outlinewidth": 0,
              "ticks": ""
             }
            },
            "type": "scatterpolar"
           }
          ],
          "scatterpolargl": [
           {
            "marker": {
             "colorbar": {
              "outlinewidth": 0,
              "ticks": ""
             }
            },
            "type": "scatterpolargl"
           }
          ],
          "scatterternary": [
           {
            "marker": {
             "colorbar": {
              "outlinewidth": 0,
              "ticks": ""
             }
            },
            "type": "scatterternary"
           }
          ],
          "surface": [
           {
            "colorbar": {
             "outlinewidth": 0,
             "ticks": ""
            },
            "colorscale": [
             [
              0,
              "#0d0887"
             ],
             [
              0.1111111111111111,
              "#46039f"
             ],
             [
              0.2222222222222222,
              "#7201a8"
             ],
             [
              0.3333333333333333,
              "#9c179e"
             ],
             [
              0.4444444444444444,
              "#bd3786"
             ],
             [
              0.5555555555555556,
              "#d8576b"
             ],
             [
              0.6666666666666666,
              "#ed7953"
             ],
             [
              0.7777777777777778,
              "#fb9f3a"
             ],
             [
              0.8888888888888888,
              "#fdca26"
             ],
             [
              1,
              "#f0f921"
             ]
            ],
            "type": "surface"
           }
          ],
          "table": [
           {
            "cells": {
             "fill": {
              "color": "#EBF0F8"
             },
             "line": {
              "color": "white"
             }
            },
            "header": {
             "fill": {
              "color": "#C8D4E3"
             },
             "line": {
              "color": "white"
             }
            },
            "type": "table"
           }
          ]
         },
         "layout": {
          "annotationdefaults": {
           "arrowcolor": "#2a3f5f",
           "arrowhead": 0,
           "arrowwidth": 1
          },
          "coloraxis": {
           "colorbar": {
            "outlinewidth": 0,
            "ticks": ""
           }
          },
          "colorscale": {
           "diverging": [
            [
             0,
             "#8e0152"
            ],
            [
             0.1,
             "#c51b7d"
            ],
            [
             0.2,
             "#de77ae"
            ],
            [
             0.3,
             "#f1b6da"
            ],
            [
             0.4,
             "#fde0ef"
            ],
            [
             0.5,
             "#f7f7f7"
            ],
            [
             0.6,
             "#e6f5d0"
            ],
            [
             0.7,
             "#b8e186"
            ],
            [
             0.8,
             "#7fbc41"
            ],
            [
             0.9,
             "#4d9221"
            ],
            [
             1,
             "#276419"
            ]
           ],
           "sequential": [
            [
             0,
             "#0d0887"
            ],
            [
             0.1111111111111111,
             "#46039f"
            ],
            [
             0.2222222222222222,
             "#7201a8"
            ],
            [
             0.3333333333333333,
             "#9c179e"
            ],
            [
             0.4444444444444444,
             "#bd3786"
            ],
            [
             0.5555555555555556,
             "#d8576b"
            ],
            [
             0.6666666666666666,
             "#ed7953"
            ],
            [
             0.7777777777777778,
             "#fb9f3a"
            ],
            [
             0.8888888888888888,
             "#fdca26"
            ],
            [
             1,
             "#f0f921"
            ]
           ],
           "sequentialminus": [
            [
             0,
             "#0d0887"
            ],
            [
             0.1111111111111111,
             "#46039f"
            ],
            [
             0.2222222222222222,
             "#7201a8"
            ],
            [
             0.3333333333333333,
             "#9c179e"
            ],
            [
             0.4444444444444444,
             "#bd3786"
            ],
            [
             0.5555555555555556,
             "#d8576b"
            ],
            [
             0.6666666666666666,
             "#ed7953"
            ],
            [
             0.7777777777777778,
             "#fb9f3a"
            ],
            [
             0.8888888888888888,
             "#fdca26"
            ],
            [
             1,
             "#f0f921"
            ]
           ]
          },
          "colorway": [
           "#636efa",
           "#EF553B",
           "#00cc96",
           "#ab63fa",
           "#FFA15A",
           "#19d3f3",
           "#FF6692",
           "#B6E880",
           "#FF97FF",
           "#FECB52"
          ],
          "font": {
           "color": "#2a3f5f"
          },
          "geo": {
           "bgcolor": "white",
           "lakecolor": "white",
           "landcolor": "#E5ECF6",
           "showlakes": true,
           "showland": true,
           "subunitcolor": "white"
          },
          "hoverlabel": {
           "align": "left"
          },
          "hovermode": "closest",
          "mapbox": {
           "style": "light"
          },
          "paper_bgcolor": "white",
          "plot_bgcolor": "#E5ECF6",
          "polar": {
           "angularaxis": {
            "gridcolor": "white",
            "linecolor": "white",
            "ticks": ""
           },
           "bgcolor": "#E5ECF6",
           "radialaxis": {
            "gridcolor": "white",
            "linecolor": "white",
            "ticks": ""
           }
          },
          "scene": {
           "xaxis": {
            "backgroundcolor": "#E5ECF6",
            "gridcolor": "white",
            "gridwidth": 2,
            "linecolor": "white",
            "showbackground": true,
            "ticks": "",
            "zerolinecolor": "white"
           },
           "yaxis": {
            "backgroundcolor": "#E5ECF6",
            "gridcolor": "white",
            "gridwidth": 2,
            "linecolor": "white",
            "showbackground": true,
            "ticks": "",
            "zerolinecolor": "white"
           },
           "zaxis": {
            "backgroundcolor": "#E5ECF6",
            "gridcolor": "white",
            "gridwidth": 2,
            "linecolor": "white",
            "showbackground": true,
            "ticks": "",
            "zerolinecolor": "white"
           }
          },
          "shapedefaults": {
           "line": {
            "color": "#2a3f5f"
           }
          },
          "ternary": {
           "aaxis": {
            "gridcolor": "white",
            "linecolor": "white",
            "ticks": ""
           },
           "baxis": {
            "gridcolor": "white",
            "linecolor": "white",
            "ticks": ""
           },
           "bgcolor": "#E5ECF6",
           "caxis": {
            "gridcolor": "white",
            "linecolor": "white",
            "ticks": ""
           }
          },
          "title": {
           "x": 0.05
          },
          "xaxis": {
           "automargin": true,
           "gridcolor": "white",
           "linecolor": "white",
           "ticks": "",
           "title": {
            "standoff": 15
           },
           "zerolinecolor": "white",
           "zerolinewidth": 2
          },
          "yaxis": {
           "automargin": true,
           "gridcolor": "white",
           "linecolor": "white",
           "ticks": "",
           "title": {
            "standoff": 15
           },
           "zerolinecolor": "white",
           "zerolinewidth": 2
          }
         }
        },
        "title": {
         "font": {
          "color": "#4D5663"
         }
        },
        "xaxis": {
         "gridcolor": "#E1E5ED",
         "showgrid": true,
         "tickfont": {
          "color": "#4D5663"
         },
         "title": {
          "font": {
           "color": "#4D5663"
          },
          "text": ""
         },
         "zerolinecolor": "#E1E5ED"
        },
        "yaxis": {
         "gridcolor": "#E1E5ED",
         "showgrid": true,
         "tickfont": {
          "color": "#4D5663"
         },
         "title": {
          "font": {
           "color": "#4D5663"
          },
          "text": ""
         },
         "zerolinecolor": "#E1E5ED"
        }
       }
      },
      "text/html": [
       "<div>\n",
       "        \n",
       "        \n",
       "            <div id=\"a22970b9-dc0d-4486-98e1-a9013a91220c\" class=\"plotly-graph-div\" style=\"height:525px; width:100%;\"></div>\n",
       "            <script type=\"text/javascript\">\n",
       "                require([\"plotly\"], function(Plotly) {\n",
       "                    window.PLOTLYENV=window.PLOTLYENV || {};\n",
       "                    window.PLOTLYENV.BASE_URL='https://plot.ly';\n",
       "                    \n",
       "                if (document.getElementById(\"a22970b9-dc0d-4486-98e1-a9013a91220c\")) {\n",
       "                    Plotly.newPlot(\n",
       "                        'a22970b9-dc0d-4486-98e1-a9013a91220c',\n",
       "                        [{\"colorscale\": [[0.0, \"rgb(165,0,38)\"], [0.1, \"rgb(215,48,39)\"], [0.2, \"rgb(244,109,67)\"], [0.3, \"rgb(253,174,97)\"], [0.4, \"rgb(254,224,144)\"], [0.5, \"rgb(255,255,191)\"], [0.6, \"rgb(224,243,248)\"], [0.7, \"rgb(171,217,233)\"], [0.8, \"rgb(116,173,209)\"], [0.9, \"rgb(69,117,180)\"], [1.0, \"rgb(49,54,149)\"]], \"type\": \"surface\", \"x\": [0, 1, 2, 3, 4], \"y\": [\"x\", \"y\", \"z\"], \"z\": [[1, 2, 3, 4, 5], [10, 20, 30, 20, 10], [5, 4, 3, 2, 1]]}],\n",
       "                        {\"legend\": {\"bgcolor\": \"#F5F6F9\", \"font\": {\"color\": \"#4D5663\"}}, \"paper_bgcolor\": \"#F5F6F9\", \"plot_bgcolor\": \"#F5F6F9\", \"template\": {\"data\": {\"bar\": [{\"error_x\": {\"color\": \"#2a3f5f\"}, \"error_y\": {\"color\": \"#2a3f5f\"}, \"marker\": {\"line\": {\"color\": \"#E5ECF6\", \"width\": 0.5}}, \"type\": \"bar\"}], \"barpolar\": [{\"marker\": {\"line\": {\"color\": \"#E5ECF6\", \"width\": 0.5}}, \"type\": \"barpolar\"}], \"carpet\": [{\"aaxis\": {\"endlinecolor\": \"#2a3f5f\", \"gridcolor\": \"white\", \"linecolor\": \"white\", \"minorgridcolor\": \"white\", \"startlinecolor\": \"#2a3f5f\"}, \"baxis\": {\"endlinecolor\": \"#2a3f5f\", \"gridcolor\": \"white\", \"linecolor\": \"white\", \"minorgridcolor\": \"white\", \"startlinecolor\": \"#2a3f5f\"}, \"type\": \"carpet\"}], \"choropleth\": [{\"colorbar\": {\"outlinewidth\": 0, \"ticks\": \"\"}, \"type\": \"choropleth\"}], \"contour\": [{\"colorbar\": {\"outlinewidth\": 0, \"ticks\": \"\"}, \"colorscale\": [[0.0, \"#0d0887\"], [0.1111111111111111, \"#46039f\"], [0.2222222222222222, \"#7201a8\"], [0.3333333333333333, \"#9c179e\"], [0.4444444444444444, \"#bd3786\"], [0.5555555555555556, \"#d8576b\"], [0.6666666666666666, \"#ed7953\"], [0.7777777777777778, \"#fb9f3a\"], [0.8888888888888888, \"#fdca26\"], [1.0, \"#f0f921\"]], \"type\": \"contour\"}], \"contourcarpet\": [{\"colorbar\": {\"outlinewidth\": 0, \"ticks\": \"\"}, \"type\": \"contourcarpet\"}], \"heatmap\": [{\"colorbar\": {\"outlinewidth\": 0, \"ticks\": \"\"}, \"colorscale\": [[0.0, \"#0d0887\"], [0.1111111111111111, \"#46039f\"], [0.2222222222222222, \"#7201a8\"], [0.3333333333333333, \"#9c179e\"], [0.4444444444444444, \"#bd3786\"], [0.5555555555555556, \"#d8576b\"], [0.6666666666666666, \"#ed7953\"], [0.7777777777777778, \"#fb9f3a\"], [0.8888888888888888, \"#fdca26\"], [1.0, \"#f0f921\"]], \"type\": \"heatmap\"}], \"heatmapgl\": [{\"colorbar\": {\"outlinewidth\": 0, \"ticks\": \"\"}, \"colorscale\": [[0.0, \"#0d0887\"], [0.1111111111111111, \"#46039f\"], [0.2222222222222222, \"#7201a8\"], [0.3333333333333333, \"#9c179e\"], [0.4444444444444444, \"#bd3786\"], [0.5555555555555556, \"#d8576b\"], [0.6666666666666666, \"#ed7953\"], [0.7777777777777778, \"#fb9f3a\"], [0.8888888888888888, \"#fdca26\"], [1.0, \"#f0f921\"]], \"type\": \"heatmapgl\"}], \"histogram\": [{\"marker\": {\"colorbar\": {\"outlinewidth\": 0, \"ticks\": \"\"}}, \"type\": \"histogram\"}], \"histogram2d\": [{\"colorbar\": {\"outlinewidth\": 0, \"ticks\": \"\"}, \"colorscale\": [[0.0, \"#0d0887\"], [0.1111111111111111, \"#46039f\"], [0.2222222222222222, \"#7201a8\"], [0.3333333333333333, \"#9c179e\"], [0.4444444444444444, \"#bd3786\"], [0.5555555555555556, \"#d8576b\"], [0.6666666666666666, \"#ed7953\"], [0.7777777777777778, \"#fb9f3a\"], [0.8888888888888888, \"#fdca26\"], [1.0, \"#f0f921\"]], \"type\": \"histogram2d\"}], \"histogram2dcontour\": [{\"colorbar\": {\"outlinewidth\": 0, \"ticks\": \"\"}, \"colorscale\": [[0.0, \"#0d0887\"], [0.1111111111111111, \"#46039f\"], [0.2222222222222222, \"#7201a8\"], [0.3333333333333333, \"#9c179e\"], [0.4444444444444444, \"#bd3786\"], [0.5555555555555556, \"#d8576b\"], [0.6666666666666666, \"#ed7953\"], [0.7777777777777778, \"#fb9f3a\"], [0.8888888888888888, \"#fdca26\"], [1.0, \"#f0f921\"]], \"type\": \"histogram2dcontour\"}], \"mesh3d\": [{\"colorbar\": {\"outlinewidth\": 0, \"ticks\": \"\"}, \"type\": \"mesh3d\"}], \"parcoords\": [{\"line\": {\"colorbar\": {\"outlinewidth\": 0, \"ticks\": \"\"}}, \"type\": \"parcoords\"}], \"pie\": [{\"automargin\": true, \"type\": \"pie\"}], \"scatter\": [{\"marker\": {\"colorbar\": {\"outlinewidth\": 0, \"ticks\": \"\"}}, \"type\": \"scatter\"}], \"scatter3d\": [{\"line\": {\"colorbar\": {\"outlinewidth\": 0, \"ticks\": \"\"}}, \"marker\": {\"colorbar\": {\"outlinewidth\": 0, \"ticks\": \"\"}}, \"type\": \"scatter3d\"}], \"scattercarpet\": [{\"marker\": {\"colorbar\": {\"outlinewidth\": 0, \"ticks\": \"\"}}, \"type\": \"scattercarpet\"}], \"scattergeo\": [{\"marker\": {\"colorbar\": {\"outlinewidth\": 0, \"ticks\": \"\"}}, \"type\": \"scattergeo\"}], \"scattergl\": [{\"marker\": {\"colorbar\": {\"outlinewidth\": 0, \"ticks\": \"\"}}, \"type\": \"scattergl\"}], \"scattermapbox\": [{\"marker\": {\"colorbar\": {\"outlinewidth\": 0, \"ticks\": \"\"}}, \"type\": \"scattermapbox\"}], \"scatterpolar\": [{\"marker\": {\"colorbar\": {\"outlinewidth\": 0, \"ticks\": \"\"}}, \"type\": \"scatterpolar\"}], \"scatterpolargl\": [{\"marker\": {\"colorbar\": {\"outlinewidth\": 0, \"ticks\": \"\"}}, \"type\": \"scatterpolargl\"}], \"scatterternary\": [{\"marker\": {\"colorbar\": {\"outlinewidth\": 0, \"ticks\": \"\"}}, \"type\": \"scatterternary\"}], \"surface\": [{\"colorbar\": {\"outlinewidth\": 0, \"ticks\": \"\"}, \"colorscale\": [[0.0, \"#0d0887\"], [0.1111111111111111, \"#46039f\"], [0.2222222222222222, \"#7201a8\"], [0.3333333333333333, \"#9c179e\"], [0.4444444444444444, \"#bd3786\"], [0.5555555555555556, \"#d8576b\"], [0.6666666666666666, \"#ed7953\"], [0.7777777777777778, \"#fb9f3a\"], [0.8888888888888888, \"#fdca26\"], [1.0, \"#f0f921\"]], \"type\": \"surface\"}], \"table\": [{\"cells\": {\"fill\": {\"color\": \"#EBF0F8\"}, \"line\": {\"color\": \"white\"}}, \"header\": {\"fill\": {\"color\": \"#C8D4E3\"}, \"line\": {\"color\": \"white\"}}, \"type\": \"table\"}]}, \"layout\": {\"annotationdefaults\": {\"arrowcolor\": \"#2a3f5f\", \"arrowhead\": 0, \"arrowwidth\": 1}, \"coloraxis\": {\"colorbar\": {\"outlinewidth\": 0, \"ticks\": \"\"}}, \"colorscale\": {\"diverging\": [[0, \"#8e0152\"], [0.1, \"#c51b7d\"], [0.2, \"#de77ae\"], [0.3, \"#f1b6da\"], [0.4, \"#fde0ef\"], [0.5, \"#f7f7f7\"], [0.6, \"#e6f5d0\"], [0.7, \"#b8e186\"], [0.8, \"#7fbc41\"], [0.9, \"#4d9221\"], [1, \"#276419\"]], \"sequential\": [[0.0, \"#0d0887\"], [0.1111111111111111, \"#46039f\"], [0.2222222222222222, \"#7201a8\"], [0.3333333333333333, \"#9c179e\"], [0.4444444444444444, \"#bd3786\"], [0.5555555555555556, \"#d8576b\"], [0.6666666666666666, \"#ed7953\"], [0.7777777777777778, \"#fb9f3a\"], [0.8888888888888888, \"#fdca26\"], [1.0, \"#f0f921\"]], \"sequentialminus\": [[0.0, \"#0d0887\"], [0.1111111111111111, \"#46039f\"], [0.2222222222222222, \"#7201a8\"], [0.3333333333333333, \"#9c179e\"], [0.4444444444444444, \"#bd3786\"], [0.5555555555555556, \"#d8576b\"], [0.6666666666666666, \"#ed7953\"], [0.7777777777777778, \"#fb9f3a\"], [0.8888888888888888, \"#fdca26\"], [1.0, \"#f0f921\"]]}, \"colorway\": [\"#636efa\", \"#EF553B\", \"#00cc96\", \"#ab63fa\", \"#FFA15A\", \"#19d3f3\", \"#FF6692\", \"#B6E880\", \"#FF97FF\", \"#FECB52\"], \"font\": {\"color\": \"#2a3f5f\"}, \"geo\": {\"bgcolor\": \"white\", \"lakecolor\": \"white\", \"landcolor\": \"#E5ECF6\", \"showlakes\": true, \"showland\": true, \"subunitcolor\": \"white\"}, \"hoverlabel\": {\"align\": \"left\"}, \"hovermode\": \"closest\", \"mapbox\": {\"style\": \"light\"}, \"paper_bgcolor\": \"white\", \"plot_bgcolor\": \"#E5ECF6\", \"polar\": {\"angularaxis\": {\"gridcolor\": \"white\", \"linecolor\": \"white\", \"ticks\": \"\"}, \"bgcolor\": \"#E5ECF6\", \"radialaxis\": {\"gridcolor\": \"white\", \"linecolor\": \"white\", \"ticks\": \"\"}}, \"scene\": {\"xaxis\": {\"backgroundcolor\": \"#E5ECF6\", \"gridcolor\": \"white\", \"gridwidth\": 2, \"linecolor\": \"white\", \"showbackground\": true, \"ticks\": \"\", \"zerolinecolor\": \"white\"}, \"yaxis\": {\"backgroundcolor\": \"#E5ECF6\", \"gridcolor\": \"white\", \"gridwidth\": 2, \"linecolor\": \"white\", \"showbackground\": true, \"ticks\": \"\", \"zerolinecolor\": \"white\"}, \"zaxis\": {\"backgroundcolor\": \"#E5ECF6\", \"gridcolor\": \"white\", \"gridwidth\": 2, \"linecolor\": \"white\", \"showbackground\": true, \"ticks\": \"\", \"zerolinecolor\": \"white\"}}, \"shapedefaults\": {\"line\": {\"color\": \"#2a3f5f\"}}, \"ternary\": {\"aaxis\": {\"gridcolor\": \"white\", \"linecolor\": \"white\", \"ticks\": \"\"}, \"baxis\": {\"gridcolor\": \"white\", \"linecolor\": \"white\", \"ticks\": \"\"}, \"bgcolor\": \"#E5ECF6\", \"caxis\": {\"gridcolor\": \"white\", \"linecolor\": \"white\", \"ticks\": \"\"}}, \"title\": {\"x\": 0.05}, \"xaxis\": {\"automargin\": true, \"gridcolor\": \"white\", \"linecolor\": \"white\", \"ticks\": \"\", \"title\": {\"standoff\": 15}, \"zerolinecolor\": \"white\", \"zerolinewidth\": 2}, \"yaxis\": {\"automargin\": true, \"gridcolor\": \"white\", \"linecolor\": \"white\", \"ticks\": \"\", \"title\": {\"standoff\": 15}, \"zerolinecolor\": \"white\", \"zerolinewidth\": 2}}}, \"title\": {\"font\": {\"color\": \"#4D5663\"}}, \"xaxis\": {\"gridcolor\": \"#E1E5ED\", \"showgrid\": true, \"tickfont\": {\"color\": \"#4D5663\"}, \"title\": {\"font\": {\"color\": \"#4D5663\"}, \"text\": \"\"}, \"zerolinecolor\": \"#E1E5ED\"}, \"yaxis\": {\"gridcolor\": \"#E1E5ED\", \"showgrid\": true, \"tickfont\": {\"color\": \"#4D5663\"}, \"title\": {\"font\": {\"color\": \"#4D5663\"}, \"text\": \"\"}, \"zerolinecolor\": \"#E1E5ED\"}},\n",
       "                        {\"showLink\": true, \"linkText\": \"Export to plot.ly\", \"plotlyServerURL\": \"https://plot.ly\", \"responsive\": true}\n",
       "                    ).then(function(){\n",
       "                            \n",
       "var gd = document.getElementById('a22970b9-dc0d-4486-98e1-a9013a91220c');\n",
       "var x = new MutationObserver(function (mutations, observer) {{\n",
       "        var display = window.getComputedStyle(gd).display;\n",
       "        if (!display || display === 'none') {{\n",
       "            console.log([gd, 'removed!']);\n",
       "            Plotly.purge(gd);\n",
       "            observer.disconnect();\n",
       "        }}\n",
       "}});\n",
       "\n",
       "// Listen for the removal of the full notebook cells\n",
       "var notebookContainer = gd.closest('#notebook-container');\n",
       "if (notebookContainer) {{\n",
       "    x.observe(notebookContainer, {childList: true});\n",
       "}}\n",
       "\n",
       "// Listen for the clearing of the current output cell\n",
       "var outputEl = gd.closest('.output');\n",
       "if (outputEl) {{\n",
       "    x.observe(outputEl, {childList: true});\n",
       "}}\n",
       "\n",
       "                        })\n",
       "                };\n",
       "                });\n",
       "            </script>\n",
       "        </div>"
      ]
     },
     "metadata": {},
     "output_type": "display_data"
    }
   ],
   "source": [
    "df3 = pd.DataFrame({'x':[1,2,3,4,5],'y':[10,20,30,20,10],'z':[5,4,3,2,1]})\n",
    "df3.iplot(kind='surface',colorscale='rdylbu')"
   ]
  },
  {
   "cell_type": "markdown",
   "metadata": {},
   "source": [
    "## Spread"
   ]
  },
  {
   "cell_type": "code",
   "execution_count": 33,
   "metadata": {},
   "outputs": [
    {
     "data": {
      "application/vnd.plotly.v1+json": {
       "config": {
        "linkText": "Export to plot.ly",
        "plotlyServerURL": "https://plot.ly",
        "showLink": true
       },
       "data": [
        {
         "line": {
          "color": "rgba(255, 153, 51, 1.0)",
          "dash": "solid",
          "shape": "linear",
          "width": 1.3
         },
         "mode": "lines",
         "name": "A",
         "text": "",
         "type": "scatter",
         "x": [
          0,
          1,
          2,
          3,
          4,
          5,
          6,
          7,
          8,
          9,
          10,
          11,
          12,
          13,
          14,
          15,
          16,
          17,
          18,
          19,
          20,
          21,
          22,
          23,
          24,
          25,
          26,
          27,
          28,
          29,
          30,
          31,
          32,
          33,
          34,
          35,
          36,
          37,
          38,
          39,
          40,
          41,
          42,
          43,
          44,
          45,
          46,
          47,
          48,
          49,
          50,
          51,
          52,
          53,
          54,
          55,
          56,
          57,
          58,
          59,
          60,
          61,
          62,
          63,
          64,
          65,
          66,
          67,
          68,
          69,
          70,
          71,
          72,
          73,
          74,
          75,
          76,
          77,
          78,
          79,
          80,
          81,
          82,
          83,
          84,
          85,
          86,
          87,
          88,
          89,
          90,
          91,
          92,
          93,
          94,
          95,
          96,
          97,
          98,
          99
         ],
         "y": [
          0.33530550154152494,
          0.09065339513616581,
          -0.01630297475032681,
          -0.07869977638765072,
          -0.11280955759602175,
          -0.1401151965190619,
          0.37726332968436377,
          0.9807848237014964,
          0.810497685246533,
          -0.5369994090996112,
          0.4665515681528577,
          -0.4027752710747494,
          0.8450873692592444,
          -1.6713871998577774,
          -0.5647159680856547,
          -1.0454373654393754,
          -0.19128198431349563,
          -0.08380197880652643,
          -0.6808409250243673,
          1.5314298215111735,
          -0.8472738029656343,
          2.016894424729286,
          0.5675939625303773,
          -0.12570665669379766,
          -2.9530064435370353,
          -0.7623240462719839,
          0.24650554670245756,
          0.677974153571497,
          0.34498118682073425,
          0.7050866228571876,
          0.48289759808491,
          0.19661274001139517,
          -0.10839634016900147,
          1.2955729007966614,
          -1.2080228686216006,
          -0.8868820384240231,
          -0.8504568442746137,
          -0.8592195770336528,
          0.23891912898121961,
          -0.390740080415598,
          0.7899539300986534,
          1.9073166225165692,
          0.7332345874800306,
          0.076279312025144,
          -0.1606368966839194,
          0.3722445893819746,
          0.6054925610989462,
          0.7956873319712157,
          0.9725100209690856,
          0.24018718772850134,
          -1.390060796293999,
          -1.7325819543366443,
          -1.0531172370304538,
          -0.8435755679018383,
          -1.8669241001205663,
          0.1430069081678792,
          0.3503266506041815,
          0.4798291478777767,
          0.5100131008826317,
          2.0749173355937347,
          -1.3690344750713008,
          -0.06876435799003278,
          -0.4505688369932266,
          1.078456943733188,
          0.30714997296703755,
          -0.4139398828429726,
          1.7895416427199355,
          0.776518393126592,
          1.1006209089834444,
          2.3663267206891385,
          -0.748679596212696,
          -0.8895687565692749,
          0.8656205411908345,
          0.41104469157294404,
          -0.609241534591123,
          -1.4383026828323873,
          0.26635612483594606,
          -1.8980379983631288,
          -1.738277833733187,
          -1.5289927281839082,
          0.23529718024963092,
          -0.08309493795682184,
          0.273378453933951,
          -0.4817320634709933,
          -0.1375488620604106,
          0.33783356180165247,
          0.6998816614904454,
          0.537709684336636,
          0.8069903649895979,
          -0.6731094896210476,
          1.443158574532866,
          1.2870986328443184,
          0.7035596946386531,
          -0.7921994935980345,
          -0.489915251036213,
          -0.5231506439766499,
          0.385676724326846,
          -0.09919321074167252,
          0.8202815108228418,
          1.2975442876253223
         ]
        },
        {
         "line": {
          "color": "rgba(55, 128, 191, 1.0)",
          "dash": "solid",
          "shape": "linear",
          "width": 1.3
         },
         "mode": "lines",
         "name": "B",
         "text": "",
         "type": "scatter",
         "x": [
          0,
          1,
          2,
          3,
          4,
          5,
          6,
          7,
          8,
          9,
          10,
          11,
          12,
          13,
          14,
          15,
          16,
          17,
          18,
          19,
          20,
          21,
          22,
          23,
          24,
          25,
          26,
          27,
          28,
          29,
          30,
          31,
          32,
          33,
          34,
          35,
          36,
          37,
          38,
          39,
          40,
          41,
          42,
          43,
          44,
          45,
          46,
          47,
          48,
          49,
          50,
          51,
          52,
          53,
          54,
          55,
          56,
          57,
          58,
          59,
          60,
          61,
          62,
          63,
          64,
          65,
          66,
          67,
          68,
          69,
          70,
          71,
          72,
          73,
          74,
          75,
          76,
          77,
          78,
          79,
          80,
          81,
          82,
          83,
          84,
          85,
          86,
          87,
          88,
          89,
          90,
          91,
          92,
          93,
          94,
          95,
          96,
          97,
          98,
          99
         ],
         "y": [
          -0.6760691106235645,
          0.18372206965000965,
          -0.34323330233492,
          -2.070801152584343,
          0.34577707775890487,
          2.1301507636241146,
          -0.5531762406825648,
          -0.7399323363908722,
          0.26241129162089216,
          -1.4337004355910643,
          -0.8594491355414683,
          -0.4912756822823481,
          0.583450794405381,
          -1.5045213827074095,
          1.752280268786307,
          -0.5863715567174779,
          -0.04012310455887652,
          1.9455806784460525,
          1.4257375049163175,
          -0.23411141816222264,
          -1.4491472757323403,
          -0.5833671584039474,
          -0.7529753578098609,
          0.10339329905994711,
          -0.004541122623439102,
          -1.7573449484289683,
          0.9043005711761228,
          -0.5799998214961695,
          -2.182073073509037,
          0.6117543628483829,
          -1.046866238177497,
          0.1451050144527596,
          -1.7091895613300523,
          0.7730883681592071,
          0.11046956239724635,
          0.860561453912868,
          1.7817168794154585,
          0.5941911948405838,
          1.7464390750714196,
          1.3443851144456052,
          -0.653941015096149,
          -0.6481687041989921,
          0.7565231993307985,
          -0.3377428990829017,
          -0.24165345197325094,
          -1.0946339421083284,
          -0.6566654045105857,
          1.4656164547884096,
          1.6971479352132062,
          0.06229333566246116,
          -0.33487264062175487,
          0.4575692496097571,
          -1.6218757011147977,
          -0.07516494673505354,
          1.2557900113465656,
          0.5178613245423704,
          0.5719740142416783,
          1.6678064203880918,
          1.2178665474743848,
          -0.7714648529472447,
          -0.21634347844280188,
          -0.058793758991811655,
          -1.3667740058247482,
          -0.47598627590409903,
          1.125778904159132,
          0.7835229441755038,
          0.09036040956928859,
          -0.15580677569506976,
          0.21970059205786405,
          -2.2347952553428714,
          0.30004649144884643,
          1.3109454582592848,
          0.580259232168523,
          -0.358579231338049,
          -1.21979233901239,
          -0.8050965907187663,
          1.836896105180095,
          -0.406968255985467,
          -0.6343369641269744,
          1.451527328603819,
          0.8033320096526525,
          -0.7679911742675111,
          -1.7453939281965098,
          -2.5858164646107724,
          -0.6622222603851182,
          -0.35412184689296267,
          -0.278741803965597,
          1.2277706222638571,
          -0.1364186492754009,
          -1.149210347160463,
          0.4790085316866908,
          0.8690059859342354,
          -0.5550546023569558,
          -0.5491642438620772,
          -0.9837564753414033,
          0.46931440157870213,
          -0.032044133111769284,
          -1.4470251258178546,
          0.20863537293074075,
          0.10224247082485786
         ]
        },
        {
         "connectgaps": false,
         "fill": "tozeroy",
         "line": {
          "color": "green",
          "dash": "solid",
          "shape": "linear",
          "width": 0.5
         },
         "mode": "lines",
         "name": "Spread",
         "showlegend": false,
         "type": "scatter",
         "x": [
          0,
          1,
          2,
          3,
          4,
          5,
          6,
          7,
          8,
          9,
          10,
          11,
          12,
          13,
          14,
          15,
          16,
          17,
          18,
          19,
          20,
          21,
          22,
          23,
          24,
          25,
          26,
          27,
          28,
          29,
          30,
          31,
          32,
          33,
          34,
          35,
          36,
          37,
          38,
          39,
          40,
          41,
          42,
          43,
          44,
          45,
          46,
          47,
          48,
          49,
          50,
          51,
          52,
          53,
          54,
          55,
          56,
          57,
          58,
          59,
          60,
          61,
          62,
          63,
          64,
          65,
          66,
          67,
          68,
          69,
          70,
          71,
          72,
          73,
          74,
          75,
          76,
          77,
          78,
          79,
          80,
          81,
          82,
          83,
          84,
          85,
          86,
          87,
          88,
          89,
          90,
          91,
          92,
          93,
          94,
          95,
          96,
          97,
          98,
          99
         ],
         "xaxis": "x2",
         "y": [
          1.0113746121650893,
          "",
          0.32693032758459317,
          1.9921013761966921,
          "",
          "",
          0.9304395703669286,
          1.7207171600923687,
          0.5480863936256408,
          0.8967010264914531,
          1.326000703694326,
          0.08850041120759866,
          0.2616365748538635,
          "",
          "",
          "",
          "",
          "",
          "",
          1.765541239673396,
          0.601873472766706,
          2.6002615831332334,
          1.3205693203402382,
          "",
          "",
          0.9950209021569844,
          "",
          1.2579739750676664,
          2.527054260329771,
          0.09333226000880468,
          1.5297638362624069,
          0.05150772555863556,
          1.6007932211610507,
          0.5224845326374543,
          "",
          "",
          "",
          "",
          "",
          "",
          1.4438949451948024,
          2.5554853267155613,
          "",
          0.4140222111080457,
          0.08101655528933155,
          1.466878531490303,
          1.262157965609532,
          "",
          "",
          0.1778938520660402,
          "",
          "",
          0.5687584640843439,
          "",
          "",
          "",
          "",
          "",
          "",
          2.8463821885409795,
          "",
          "",
          0.9162051688315216,
          1.554443219637287,
          "",
          "",
          1.699181233150647,
          0.9323251688216617,
          0.8809203169255804,
          4.60112197603201,
          "",
          "",
          0.2853613090223115,
          0.769623922910993,
          0.610550804421267,
          "",
          "",
          "",
          "",
          "",
          "",
          0.6848962363106892,
          2.018772382130461,
          2.104084401139779,
          0.5246733983247076,
          0.6919554086946151,
          0.9786234654560424,
          "",
          0.9434090142649988,
          0.47610085753941556,
          0.9641500428461751,
          0.41809264691008297,
          1.258614296995609,
          "",
          0.49384122430519034,
          "",
          0.4177208574386153,
          1.3478319150761822,
          0.6116461378921011,
          1.1953018168004643
         ],
         "yaxis": "y2"
        },
        {
         "connectgaps": false,
         "fill": "tozeroy",
         "line": {
          "color": "red",
          "dash": "solid",
          "shape": "linear",
          "width": 0.5
         },
         "mode": "lines",
         "name": "Spread",
         "showlegend": false,
         "type": "scatter",
         "x": [
          0,
          1,
          2,
          3,
          4,
          5,
          6,
          7,
          8,
          9,
          10,
          11,
          12,
          13,
          14,
          15,
          16,
          17,
          18,
          19,
          20,
          21,
          22,
          23,
          24,
          25,
          26,
          27,
          28,
          29,
          30,
          31,
          32,
          33,
          34,
          35,
          36,
          37,
          38,
          39,
          40,
          41,
          42,
          43,
          44,
          45,
          46,
          47,
          48,
          49,
          50,
          51,
          52,
          53,
          54,
          55,
          56,
          57,
          58,
          59,
          60,
          61,
          62,
          63,
          64,
          65,
          66,
          67,
          68,
          69,
          70,
          71,
          72,
          73,
          74,
          75,
          76,
          77,
          78,
          79,
          80,
          81,
          82,
          83,
          84,
          85,
          86,
          87,
          88,
          89,
          90,
          91,
          92,
          93,
          94,
          95,
          96,
          97,
          98,
          99
         ],
         "xaxis": "x2",
         "y": [
          "",
          -0.09306867451384383,
          "",
          "",
          -0.4585866353549266,
          -2.2702659601431767,
          "",
          "",
          "",
          "",
          "",
          "",
          "",
          -0.16686581715036786,
          -2.3169962368719617,
          -0.4590658087218975,
          -0.1511588797546191,
          -2.029382657252579,
          -2.1065784299406847,
          "",
          "",
          "",
          "",
          -0.22909995575374476,
          -2.9484653209135963,
          "",
          -0.6577950244736652,
          "",
          "",
          "",
          "",
          "",
          "",
          "",
          -1.3184924310188468,
          -1.7474434923368911,
          -2.632173723690072,
          -1.4534107718742366,
          -1.5075199460902,
          -1.7351251948612032,
          "",
          "",
          -0.023288611850767915,
          "",
          "",
          "",
          "",
          -0.669929122817194,
          -0.7246379142441206,
          "",
          -1.0551881556722442,
          -2.1901512039464013,
          "",
          -0.7684106211667847,
          -3.1227141114671317,
          -0.37485441637449124,
          -0.22164736363749676,
          -1.187977272510315,
          -0.7078534465917531,
          "",
          -1.152690996628499,
          -0.009970598998221121,
          "",
          "",
          -0.8186289311920945,
          -1.1974628270184764,
          "",
          "",
          "",
          "",
          -1.0487260876615423,
          -2.2005142148285595,
          "",
          "",
          "",
          -0.633206092113621,
          -1.5705399803441489,
          -1.4910697423776618,
          -1.1039408696062125,
          -2.9805200567877272,
          -0.5680348294030215,
          "",
          "",
          "",
          "",
          "",
          "",
          -0.6900609379272211,
          "",
          "",
          "",
          "",
          "",
          -0.24303524973595736,
          "",
          -0.9924650455553521,
          "",
          "",
          "",
          ""
         ],
         "yaxis": "y2"
        }
       ],
       "layout": {
        "hovermode": "x",
        "legend": {
         "bgcolor": "#F5F6F9",
         "font": {
          "color": "#4D5663"
         }
        },
        "paper_bgcolor": "#F5F6F9",
        "plot_bgcolor": "#F5F6F9",
        "template": {
         "data": {
          "bar": [
           {
            "error_x": {
             "color": "#2a3f5f"
            },
            "error_y": {
             "color": "#2a3f5f"
            },
            "marker": {
             "line": {
              "color": "#E5ECF6",
              "width": 0.5
             }
            },
            "type": "bar"
           }
          ],
          "barpolar": [
           {
            "marker": {
             "line": {
              "color": "#E5ECF6",
              "width": 0.5
             }
            },
            "type": "barpolar"
           }
          ],
          "carpet": [
           {
            "aaxis": {
             "endlinecolor": "#2a3f5f",
             "gridcolor": "white",
             "linecolor": "white",
             "minorgridcolor": "white",
             "startlinecolor": "#2a3f5f"
            },
            "baxis": {
             "endlinecolor": "#2a3f5f",
             "gridcolor": "white",
             "linecolor": "white",
             "minorgridcolor": "white",
             "startlinecolor": "#2a3f5f"
            },
            "type": "carpet"
           }
          ],
          "choropleth": [
           {
            "colorbar": {
             "outlinewidth": 0,
             "ticks": ""
            },
            "type": "choropleth"
           }
          ],
          "contour": [
           {
            "colorbar": {
             "outlinewidth": 0,
             "ticks": ""
            },
            "colorscale": [
             [
              0,
              "#0d0887"
             ],
             [
              0.1111111111111111,
              "#46039f"
             ],
             [
              0.2222222222222222,
              "#7201a8"
             ],
             [
              0.3333333333333333,
              "#9c179e"
             ],
             [
              0.4444444444444444,
              "#bd3786"
             ],
             [
              0.5555555555555556,
              "#d8576b"
             ],
             [
              0.6666666666666666,
              "#ed7953"
             ],
             [
              0.7777777777777778,
              "#fb9f3a"
             ],
             [
              0.8888888888888888,
              "#fdca26"
             ],
             [
              1,
              "#f0f921"
             ]
            ],
            "type": "contour"
           }
          ],
          "contourcarpet": [
           {
            "colorbar": {
             "outlinewidth": 0,
             "ticks": ""
            },
            "type": "contourcarpet"
           }
          ],
          "heatmap": [
           {
            "colorbar": {
             "outlinewidth": 0,
             "ticks": ""
            },
            "colorscale": [
             [
              0,
              "#0d0887"
             ],
             [
              0.1111111111111111,
              "#46039f"
             ],
             [
              0.2222222222222222,
              "#7201a8"
             ],
             [
              0.3333333333333333,
              "#9c179e"
             ],
             [
              0.4444444444444444,
              "#bd3786"
             ],
             [
              0.5555555555555556,
              "#d8576b"
             ],
             [
              0.6666666666666666,
              "#ed7953"
             ],
             [
              0.7777777777777778,
              "#fb9f3a"
             ],
             [
              0.8888888888888888,
              "#fdca26"
             ],
             [
              1,
              "#f0f921"
             ]
            ],
            "type": "heatmap"
           }
          ],
          "heatmapgl": [
           {
            "colorbar": {
             "outlinewidth": 0,
             "ticks": ""
            },
            "colorscale": [
             [
              0,
              "#0d0887"
             ],
             [
              0.1111111111111111,
              "#46039f"
             ],
             [
              0.2222222222222222,
              "#7201a8"
             ],
             [
              0.3333333333333333,
              "#9c179e"
             ],
             [
              0.4444444444444444,
              "#bd3786"
             ],
             [
              0.5555555555555556,
              "#d8576b"
             ],
             [
              0.6666666666666666,
              "#ed7953"
             ],
             [
              0.7777777777777778,
              "#fb9f3a"
             ],
             [
              0.8888888888888888,
              "#fdca26"
             ],
             [
              1,
              "#f0f921"
             ]
            ],
            "type": "heatmapgl"
           }
          ],
          "histogram": [
           {
            "marker": {
             "colorbar": {
              "outlinewidth": 0,
              "ticks": ""
             }
            },
            "type": "histogram"
           }
          ],
          "histogram2d": [
           {
            "colorbar": {
             "outlinewidth": 0,
             "ticks": ""
            },
            "colorscale": [
             [
              0,
              "#0d0887"
             ],
             [
              0.1111111111111111,
              "#46039f"
             ],
             [
              0.2222222222222222,
              "#7201a8"
             ],
             [
              0.3333333333333333,
              "#9c179e"
             ],
             [
              0.4444444444444444,
              "#bd3786"
             ],
             [
              0.5555555555555556,
              "#d8576b"
             ],
             [
              0.6666666666666666,
              "#ed7953"
             ],
             [
              0.7777777777777778,
              "#fb9f3a"
             ],
             [
              0.8888888888888888,
              "#fdca26"
             ],
             [
              1,
              "#f0f921"
             ]
            ],
            "type": "histogram2d"
           }
          ],
          "histogram2dcontour": [
           {
            "colorbar": {
             "outlinewidth": 0,
             "ticks": ""
            },
            "colorscale": [
             [
              0,
              "#0d0887"
             ],
             [
              0.1111111111111111,
              "#46039f"
             ],
             [
              0.2222222222222222,
              "#7201a8"
             ],
             [
              0.3333333333333333,
              "#9c179e"
             ],
             [
              0.4444444444444444,
              "#bd3786"
             ],
             [
              0.5555555555555556,
              "#d8576b"
             ],
             [
              0.6666666666666666,
              "#ed7953"
             ],
             [
              0.7777777777777778,
              "#fb9f3a"
             ],
             [
              0.8888888888888888,
              "#fdca26"
             ],
             [
              1,
              "#f0f921"
             ]
            ],
            "type": "histogram2dcontour"
           }
          ],
          "mesh3d": [
           {
            "colorbar": {
             "outlinewidth": 0,
             "ticks": ""
            },
            "type": "mesh3d"
           }
          ],
          "parcoords": [
           {
            "line": {
             "colorbar": {
              "outlinewidth": 0,
              "ticks": ""
             }
            },
            "type": "parcoords"
           }
          ],
          "pie": [
           {
            "automargin": true,
            "type": "pie"
           }
          ],
          "scatter": [
           {
            "marker": {
             "colorbar": {
              "outlinewidth": 0,
              "ticks": ""
             }
            },
            "type": "scatter"
           }
          ],
          "scatter3d": [
           {
            "line": {
             "colorbar": {
              "outlinewidth": 0,
              "ticks": ""
             }
            },
            "marker": {
             "colorbar": {
              "outlinewidth": 0,
              "ticks": ""
             }
            },
            "type": "scatter3d"
           }
          ],
          "scattercarpet": [
           {
            "marker": {
             "colorbar": {
              "outlinewidth": 0,
              "ticks": ""
             }
            },
            "type": "scattercarpet"
           }
          ],
          "scattergeo": [
           {
            "marker": {
             "colorbar": {
              "outlinewidth": 0,
              "ticks": ""
             }
            },
            "type": "scattergeo"
           }
          ],
          "scattergl": [
           {
            "marker": {
             "colorbar": {
              "outlinewidth": 0,
              "ticks": ""
             }
            },
            "type": "scattergl"
           }
          ],
          "scattermapbox": [
           {
            "marker": {
             "colorbar": {
              "outlinewidth": 0,
              "ticks": ""
             }
            },
            "type": "scattermapbox"
           }
          ],
          "scatterpolar": [
           {
            "marker": {
             "colorbar": {
              "outlinewidth": 0,
              "ticks": ""
             }
            },
            "type": "scatterpolar"
           }
          ],
          "scatterpolargl": [
           {
            "marker": {
             "colorbar": {
              "outlinewidth": 0,
              "ticks": ""
             }
            },
            "type": "scatterpolargl"
           }
          ],
          "scatterternary": [
           {
            "marker": {
             "colorbar": {
              "outlinewidth": 0,
              "ticks": ""
             }
            },
            "type": "scatterternary"
           }
          ],
          "surface": [
           {
            "colorbar": {
             "outlinewidth": 0,
             "ticks": ""
            },
            "colorscale": [
             [
              0,
              "#0d0887"
             ],
             [
              0.1111111111111111,
              "#46039f"
             ],
             [
              0.2222222222222222,
              "#7201a8"
             ],
             [
              0.3333333333333333,
              "#9c179e"
             ],
             [
              0.4444444444444444,
              "#bd3786"
             ],
             [
              0.5555555555555556,
              "#d8576b"
             ],
             [
              0.6666666666666666,
              "#ed7953"
             ],
             [
              0.7777777777777778,
              "#fb9f3a"
             ],
             [
              0.8888888888888888,
              "#fdca26"
             ],
             [
              1,
              "#f0f921"
             ]
            ],
            "type": "surface"
           }
          ],
          "table": [
           {
            "cells": {
             "fill": {
              "color": "#EBF0F8"
             },
             "line": {
              "color": "white"
             }
            },
            "header": {
             "fill": {
              "color": "#C8D4E3"
             },
             "line": {
              "color": "white"
             }
            },
            "type": "table"
           }
          ]
         },
         "layout": {
          "annotationdefaults": {
           "arrowcolor": "#2a3f5f",
           "arrowhead": 0,
           "arrowwidth": 1
          },
          "coloraxis": {
           "colorbar": {
            "outlinewidth": 0,
            "ticks": ""
           }
          },
          "colorscale": {
           "diverging": [
            [
             0,
             "#8e0152"
            ],
            [
             0.1,
             "#c51b7d"
            ],
            [
             0.2,
             "#de77ae"
            ],
            [
             0.3,
             "#f1b6da"
            ],
            [
             0.4,
             "#fde0ef"
            ],
            [
             0.5,
             "#f7f7f7"
            ],
            [
             0.6,
             "#e6f5d0"
            ],
            [
             0.7,
             "#b8e186"
            ],
            [
             0.8,
             "#7fbc41"
            ],
            [
             0.9,
             "#4d9221"
            ],
            [
             1,
             "#276419"
            ]
           ],
           "sequential": [
            [
             0,
             "#0d0887"
            ],
            [
             0.1111111111111111,
             "#46039f"
            ],
            [
             0.2222222222222222,
             "#7201a8"
            ],
            [
             0.3333333333333333,
             "#9c179e"
            ],
            [
             0.4444444444444444,
             "#bd3786"
            ],
            [
             0.5555555555555556,
             "#d8576b"
            ],
            [
             0.6666666666666666,
             "#ed7953"
            ],
            [
             0.7777777777777778,
             "#fb9f3a"
            ],
            [
             0.8888888888888888,
             "#fdca26"
            ],
            [
             1,
             "#f0f921"
            ]
           ],
           "sequentialminus": [
            [
             0,
             "#0d0887"
            ],
            [
             0.1111111111111111,
             "#46039f"
            ],
            [
             0.2222222222222222,
             "#7201a8"
            ],
            [
             0.3333333333333333,
             "#9c179e"
            ],
            [
             0.4444444444444444,
             "#bd3786"
            ],
            [
             0.5555555555555556,
             "#d8576b"
            ],
            [
             0.6666666666666666,
             "#ed7953"
            ],
            [
             0.7777777777777778,
             "#fb9f3a"
            ],
            [
             0.8888888888888888,
             "#fdca26"
            ],
            [
             1,
             "#f0f921"
            ]
           ]
          },
          "colorway": [
           "#636efa",
           "#EF553B",
           "#00cc96",
           "#ab63fa",
           "#FFA15A",
           "#19d3f3",
           "#FF6692",
           "#B6E880",
           "#FF97FF",
           "#FECB52"
          ],
          "font": {
           "color": "#2a3f5f"
          },
          "geo": {
           "bgcolor": "white",
           "lakecolor": "white",
           "landcolor": "#E5ECF6",
           "showlakes": true,
           "showland": true,
           "subunitcolor": "white"
          },
          "hoverlabel": {
           "align": "left"
          },
          "hovermode": "closest",
          "mapbox": {
           "style": "light"
          },
          "paper_bgcolor": "white",
          "plot_bgcolor": "#E5ECF6",
          "polar": {
           "angularaxis": {
            "gridcolor": "white",
            "linecolor": "white",
            "ticks": ""
           },
           "bgcolor": "#E5ECF6",
           "radialaxis": {
            "gridcolor": "white",
            "linecolor": "white",
            "ticks": ""
           }
          },
          "scene": {
           "xaxis": {
            "backgroundcolor": "#E5ECF6",
            "gridcolor": "white",
            "gridwidth": 2,
            "linecolor": "white",
            "showbackground": true,
            "ticks": "",
            "zerolinecolor": "white"
           },
           "yaxis": {
            "backgroundcolor": "#E5ECF6",
            "gridcolor": "white",
            "gridwidth": 2,
            "linecolor": "white",
            "showbackground": true,
            "ticks": "",
            "zerolinecolor": "white"
           },
           "zaxis": {
            "backgroundcolor": "#E5ECF6",
            "gridcolor": "white",
            "gridwidth": 2,
            "linecolor": "white",
            "showbackground": true,
            "ticks": "",
            "zerolinecolor": "white"
           }
          },
          "shapedefaults": {
           "line": {
            "color": "#2a3f5f"
           }
          },
          "ternary": {
           "aaxis": {
            "gridcolor": "white",
            "linecolor": "white",
            "ticks": ""
           },
           "baxis": {
            "gridcolor": "white",
            "linecolor": "white",
            "ticks": ""
           },
           "bgcolor": "#E5ECF6",
           "caxis": {
            "gridcolor": "white",
            "linecolor": "white",
            "ticks": ""
           }
          },
          "title": {
           "x": 0.05
          },
          "xaxis": {
           "automargin": true,
           "gridcolor": "white",
           "linecolor": "white",
           "ticks": "",
           "title": {
            "standoff": 15
           },
           "zerolinecolor": "white",
           "zerolinewidth": 2
          },
          "yaxis": {
           "automargin": true,
           "gridcolor": "white",
           "linecolor": "white",
           "ticks": "",
           "title": {
            "standoff": 15
           },
           "zerolinecolor": "white",
           "zerolinewidth": 2
          }
         }
        },
        "title": {
         "font": {
          "color": "#4D5663"
         }
        },
        "xaxis": {
         "gridcolor": "#E1E5ED",
         "showgrid": true,
         "tickfont": {
          "color": "#4D5663"
         },
         "title": {
          "font": {
           "color": "#4D5663"
          },
          "text": ""
         },
         "zerolinecolor": "#E1E5ED"
        },
        "xaxis2": {
         "anchor": "y2",
         "gridcolor": "#E1E5ED",
         "showgrid": true,
         "showticklabels": false,
         "tickfont": {
          "color": "#4D5663"
         },
         "title": {
          "font": {
           "color": "#4D5663"
          },
          "text": ""
         },
         "zerolinecolor": "#E1E5ED"
        },
        "yaxis": {
         "domain": [
          0.3,
          1
         ],
         "gridcolor": "#E1E5ED",
         "showgrid": true,
         "tickfont": {
          "color": "#4D5663"
         },
         "title": {
          "font": {
           "color": "#4D5663"
          },
          "text": ""
         },
         "zerolinecolor": "#E1E5ED"
        },
        "yaxis2": {
         "domain": [
          0,
          0.25
         ],
         "gridcolor": "#E1E5ED",
         "showgrid": true,
         "tickfont": {
          "color": "#4D5663"
         },
         "title": {
          "font": {
           "color": "#4D5663"
          },
          "text": "Spread"
         },
         "zerolinecolor": "#E1E5ED"
        }
       }
      },
      "text/html": [
       "<div>\n",
       "        \n",
       "        \n",
       "            <div id=\"8acfc36a-2ac5-4d13-a3d6-e4d7fb779c27\" class=\"plotly-graph-div\" style=\"height:525px; width:100%;\"></div>\n",
       "            <script type=\"text/javascript\">\n",
       "                require([\"plotly\"], function(Plotly) {\n",
       "                    window.PLOTLYENV=window.PLOTLYENV || {};\n",
       "                    window.PLOTLYENV.BASE_URL='https://plot.ly';\n",
       "                    \n",
       "                if (document.getElementById(\"8acfc36a-2ac5-4d13-a3d6-e4d7fb779c27\")) {\n",
       "                    Plotly.newPlot(\n",
       "                        '8acfc36a-2ac5-4d13-a3d6-e4d7fb779c27',\n",
       "                        [{\"line\": {\"color\": \"rgba(255, 153, 51, 1.0)\", \"dash\": \"solid\", \"shape\": \"linear\", \"width\": 1.3}, \"mode\": \"lines\", \"name\": \"A\", \"text\": \"\", \"type\": \"scatter\", \"x\": [0, 1, 2, 3, 4, 5, 6, 7, 8, 9, 10, 11, 12, 13, 14, 15, 16, 17, 18, 19, 20, 21, 22, 23, 24, 25, 26, 27, 28, 29, 30, 31, 32, 33, 34, 35, 36, 37, 38, 39, 40, 41, 42, 43, 44, 45, 46, 47, 48, 49, 50, 51, 52, 53, 54, 55, 56, 57, 58, 59, 60, 61, 62, 63, 64, 65, 66, 67, 68, 69, 70, 71, 72, 73, 74, 75, 76, 77, 78, 79, 80, 81, 82, 83, 84, 85, 86, 87, 88, 89, 90, 91, 92, 93, 94, 95, 96, 97, 98, 99], \"y\": [0.33530550154152494, 0.09065339513616581, -0.01630297475032681, -0.07869977638765072, -0.11280955759602175, -0.1401151965190619, 0.37726332968436377, 0.9807848237014964, 0.810497685246533, -0.5369994090996112, 0.4665515681528577, -0.4027752710747494, 0.8450873692592444, -1.6713871998577774, -0.5647159680856547, -1.0454373654393754, -0.19128198431349563, -0.08380197880652643, -0.6808409250243673, 1.5314298215111735, -0.8472738029656343, 2.016894424729286, 0.5675939625303773, -0.12570665669379766, -2.9530064435370353, -0.7623240462719839, 0.24650554670245756, 0.677974153571497, 0.34498118682073425, 0.7050866228571876, 0.48289759808491, 0.19661274001139517, -0.10839634016900147, 1.2955729007966614, -1.2080228686216006, -0.8868820384240231, -0.8504568442746137, -0.8592195770336528, 0.23891912898121961, -0.390740080415598, 0.7899539300986534, 1.9073166225165692, 0.7332345874800306, 0.076279312025144, -0.1606368966839194, 0.3722445893819746, 0.6054925610989462, 0.7956873319712157, 0.9725100209690856, 0.24018718772850134, -1.390060796293999, -1.7325819543366443, -1.0531172370304538, -0.8435755679018383, -1.8669241001205663, 0.1430069081678792, 0.3503266506041815, 0.4798291478777767, 0.5100131008826317, 2.0749173355937347, -1.3690344750713008, -0.06876435799003278, -0.4505688369932266, 1.078456943733188, 0.30714997296703755, -0.4139398828429726, 1.7895416427199355, 0.776518393126592, 1.1006209089834444, 2.3663267206891385, -0.748679596212696, -0.8895687565692749, 0.8656205411908345, 0.41104469157294404, -0.609241534591123, -1.4383026828323873, 0.26635612483594606, -1.8980379983631288, -1.738277833733187, -1.5289927281839082, 0.23529718024963092, -0.08309493795682184, 0.273378453933951, -0.4817320634709933, -0.1375488620604106, 0.33783356180165247, 0.6998816614904454, 0.537709684336636, 0.8069903649895979, -0.6731094896210476, 1.443158574532866, 1.2870986328443184, 0.7035596946386531, -0.7921994935980345, -0.489915251036213, -0.5231506439766499, 0.385676724326846, -0.09919321074167252, 0.8202815108228418, 1.2975442876253223]}, {\"line\": {\"color\": \"rgba(55, 128, 191, 1.0)\", \"dash\": \"solid\", \"shape\": \"linear\", \"width\": 1.3}, \"mode\": \"lines\", \"name\": \"B\", \"text\": \"\", \"type\": \"scatter\", \"x\": [0, 1, 2, 3, 4, 5, 6, 7, 8, 9, 10, 11, 12, 13, 14, 15, 16, 17, 18, 19, 20, 21, 22, 23, 24, 25, 26, 27, 28, 29, 30, 31, 32, 33, 34, 35, 36, 37, 38, 39, 40, 41, 42, 43, 44, 45, 46, 47, 48, 49, 50, 51, 52, 53, 54, 55, 56, 57, 58, 59, 60, 61, 62, 63, 64, 65, 66, 67, 68, 69, 70, 71, 72, 73, 74, 75, 76, 77, 78, 79, 80, 81, 82, 83, 84, 85, 86, 87, 88, 89, 90, 91, 92, 93, 94, 95, 96, 97, 98, 99], \"y\": [-0.6760691106235645, 0.18372206965000965, -0.34323330233492, -2.070801152584343, 0.34577707775890487, 2.1301507636241146, -0.5531762406825648, -0.7399323363908722, 0.26241129162089216, -1.4337004355910643, -0.8594491355414683, -0.4912756822823481, 0.583450794405381, -1.5045213827074095, 1.752280268786307, -0.5863715567174779, -0.04012310455887652, 1.9455806784460525, 1.4257375049163175, -0.23411141816222264, -1.4491472757323403, -0.5833671584039474, -0.7529753578098609, 0.10339329905994711, -0.004541122623439102, -1.7573449484289683, 0.9043005711761228, -0.5799998214961695, -2.182073073509037, 0.6117543628483829, -1.046866238177497, 0.1451050144527596, -1.7091895613300523, 0.7730883681592071, 0.11046956239724635, 0.860561453912868, 1.7817168794154585, 0.5941911948405838, 1.7464390750714196, 1.3443851144456052, -0.653941015096149, -0.6481687041989921, 0.7565231993307985, -0.3377428990829017, -0.24165345197325094, -1.0946339421083284, -0.6566654045105857, 1.4656164547884096, 1.6971479352132062, 0.06229333566246116, -0.33487264062175487, 0.4575692496097571, -1.6218757011147977, -0.07516494673505354, 1.2557900113465656, 0.5178613245423704, 0.5719740142416783, 1.6678064203880918, 1.2178665474743848, -0.7714648529472447, -0.21634347844280188, -0.058793758991811655, -1.3667740058247482, -0.47598627590409903, 1.125778904159132, 0.7835229441755038, 0.09036040956928859, -0.15580677569506976, 0.21970059205786405, -2.2347952553428714, 0.30004649144884643, 1.3109454582592848, 0.580259232168523, -0.358579231338049, -1.21979233901239, -0.8050965907187663, 1.836896105180095, -0.406968255985467, -0.6343369641269744, 1.451527328603819, 0.8033320096526525, -0.7679911742675111, -1.7453939281965098, -2.5858164646107724, -0.6622222603851182, -0.35412184689296267, -0.278741803965597, 1.2277706222638571, -0.1364186492754009, -1.149210347160463, 0.4790085316866908, 0.8690059859342354, -0.5550546023569558, -0.5491642438620772, -0.9837564753414033, 0.46931440157870213, -0.032044133111769284, -1.4470251258178546, 0.20863537293074075, 0.10224247082485786]}, {\"connectgaps\": false, \"fill\": \"tozeroy\", \"line\": {\"color\": \"green\", \"dash\": \"solid\", \"shape\": \"linear\", \"width\": 0.5}, \"mode\": \"lines\", \"name\": \"Spread\", \"showlegend\": false, \"type\": \"scatter\", \"x\": [0, 1, 2, 3, 4, 5, 6, 7, 8, 9, 10, 11, 12, 13, 14, 15, 16, 17, 18, 19, 20, 21, 22, 23, 24, 25, 26, 27, 28, 29, 30, 31, 32, 33, 34, 35, 36, 37, 38, 39, 40, 41, 42, 43, 44, 45, 46, 47, 48, 49, 50, 51, 52, 53, 54, 55, 56, 57, 58, 59, 60, 61, 62, 63, 64, 65, 66, 67, 68, 69, 70, 71, 72, 73, 74, 75, 76, 77, 78, 79, 80, 81, 82, 83, 84, 85, 86, 87, 88, 89, 90, 91, 92, 93, 94, 95, 96, 97, 98, 99], \"xaxis\": \"x2\", \"y\": [1.0113746121650893, \"\", 0.32693032758459317, 1.9921013761966921, \"\", \"\", 0.9304395703669286, 1.7207171600923687, 0.5480863936256408, 0.8967010264914531, 1.326000703694326, 0.08850041120759866, 0.2616365748538635, \"\", \"\", \"\", \"\", \"\", \"\", 1.765541239673396, 0.601873472766706, 2.6002615831332334, 1.3205693203402382, \"\", \"\", 0.9950209021569844, \"\", 1.2579739750676664, 2.527054260329771, 0.09333226000880468, 1.5297638362624069, 0.05150772555863556, 1.6007932211610507, 0.5224845326374543, \"\", \"\", \"\", \"\", \"\", \"\", 1.4438949451948024, 2.5554853267155613, \"\", 0.4140222111080457, 0.08101655528933155, 1.466878531490303, 1.262157965609532, \"\", \"\", 0.1778938520660402, \"\", \"\", 0.5687584640843439, \"\", \"\", \"\", \"\", \"\", \"\", 2.8463821885409795, \"\", \"\", 0.9162051688315216, 1.554443219637287, \"\", \"\", 1.699181233150647, 0.9323251688216617, 0.8809203169255804, 4.60112197603201, \"\", \"\", 0.2853613090223115, 0.769623922910993, 0.610550804421267, \"\", \"\", \"\", \"\", \"\", \"\", 0.6848962363106892, 2.018772382130461, 2.104084401139779, 0.5246733983247076, 0.6919554086946151, 0.9786234654560424, \"\", 0.9434090142649988, 0.47610085753941556, 0.9641500428461751, 0.41809264691008297, 1.258614296995609, \"\", 0.49384122430519034, \"\", 0.4177208574386153, 1.3478319150761822, 0.6116461378921011, 1.1953018168004643], \"yaxis\": \"y2\"}, {\"connectgaps\": false, \"fill\": \"tozeroy\", \"line\": {\"color\": \"red\", \"dash\": \"solid\", \"shape\": \"linear\", \"width\": 0.5}, \"mode\": \"lines\", \"name\": \"Spread\", \"showlegend\": false, \"type\": \"scatter\", \"x\": [0, 1, 2, 3, 4, 5, 6, 7, 8, 9, 10, 11, 12, 13, 14, 15, 16, 17, 18, 19, 20, 21, 22, 23, 24, 25, 26, 27, 28, 29, 30, 31, 32, 33, 34, 35, 36, 37, 38, 39, 40, 41, 42, 43, 44, 45, 46, 47, 48, 49, 50, 51, 52, 53, 54, 55, 56, 57, 58, 59, 60, 61, 62, 63, 64, 65, 66, 67, 68, 69, 70, 71, 72, 73, 74, 75, 76, 77, 78, 79, 80, 81, 82, 83, 84, 85, 86, 87, 88, 89, 90, 91, 92, 93, 94, 95, 96, 97, 98, 99], \"xaxis\": \"x2\", \"y\": [\"\", -0.09306867451384383, \"\", \"\", -0.4585866353549266, -2.2702659601431767, \"\", \"\", \"\", \"\", \"\", \"\", \"\", -0.16686581715036786, -2.3169962368719617, -0.4590658087218975, -0.1511588797546191, -2.029382657252579, -2.1065784299406847, \"\", \"\", \"\", \"\", -0.22909995575374476, -2.9484653209135963, \"\", -0.6577950244736652, \"\", \"\", \"\", \"\", \"\", \"\", \"\", -1.3184924310188468, -1.7474434923368911, -2.632173723690072, -1.4534107718742366, -1.5075199460902, -1.7351251948612032, \"\", \"\", -0.023288611850767915, \"\", \"\", \"\", \"\", -0.669929122817194, -0.7246379142441206, \"\", -1.0551881556722442, -2.1901512039464013, \"\", -0.7684106211667847, -3.1227141114671317, -0.37485441637449124, -0.22164736363749676, -1.187977272510315, -0.7078534465917531, \"\", -1.152690996628499, -0.009970598998221121, \"\", \"\", -0.8186289311920945, -1.1974628270184764, \"\", \"\", \"\", \"\", -1.0487260876615423, -2.2005142148285595, \"\", \"\", \"\", -0.633206092113621, -1.5705399803441489, -1.4910697423776618, -1.1039408696062125, -2.9805200567877272, -0.5680348294030215, \"\", \"\", \"\", \"\", \"\", \"\", -0.6900609379272211, \"\", \"\", \"\", \"\", \"\", -0.24303524973595736, \"\", -0.9924650455553521, \"\", \"\", \"\", \"\"], \"yaxis\": \"y2\"}],\n",
       "                        {\"hovermode\": \"x\", \"legend\": {\"bgcolor\": \"#F5F6F9\", \"font\": {\"color\": \"#4D5663\"}}, \"paper_bgcolor\": \"#F5F6F9\", \"plot_bgcolor\": \"#F5F6F9\", \"template\": {\"data\": {\"bar\": [{\"error_x\": {\"color\": \"#2a3f5f\"}, \"error_y\": {\"color\": \"#2a3f5f\"}, \"marker\": {\"line\": {\"color\": \"#E5ECF6\", \"width\": 0.5}}, \"type\": \"bar\"}], \"barpolar\": [{\"marker\": {\"line\": {\"color\": \"#E5ECF6\", \"width\": 0.5}}, \"type\": \"barpolar\"}], \"carpet\": [{\"aaxis\": {\"endlinecolor\": \"#2a3f5f\", \"gridcolor\": \"white\", \"linecolor\": \"white\", \"minorgridcolor\": \"white\", \"startlinecolor\": \"#2a3f5f\"}, \"baxis\": {\"endlinecolor\": \"#2a3f5f\", \"gridcolor\": \"white\", \"linecolor\": \"white\", \"minorgridcolor\": \"white\", \"startlinecolor\": \"#2a3f5f\"}, \"type\": \"carpet\"}], \"choropleth\": [{\"colorbar\": {\"outlinewidth\": 0, \"ticks\": \"\"}, \"type\": \"choropleth\"}], \"contour\": [{\"colorbar\": {\"outlinewidth\": 0, \"ticks\": \"\"}, \"colorscale\": [[0.0, \"#0d0887\"], [0.1111111111111111, \"#46039f\"], [0.2222222222222222, \"#7201a8\"], [0.3333333333333333, \"#9c179e\"], [0.4444444444444444, \"#bd3786\"], [0.5555555555555556, \"#d8576b\"], [0.6666666666666666, \"#ed7953\"], [0.7777777777777778, \"#fb9f3a\"], [0.8888888888888888, \"#fdca26\"], [1.0, \"#f0f921\"]], \"type\": \"contour\"}], \"contourcarpet\": [{\"colorbar\": {\"outlinewidth\": 0, \"ticks\": \"\"}, \"type\": \"contourcarpet\"}], \"heatmap\": [{\"colorbar\": {\"outlinewidth\": 0, \"ticks\": \"\"}, \"colorscale\": [[0.0, \"#0d0887\"], [0.1111111111111111, \"#46039f\"], [0.2222222222222222, \"#7201a8\"], [0.3333333333333333, \"#9c179e\"], [0.4444444444444444, \"#bd3786\"], [0.5555555555555556, \"#d8576b\"], [0.6666666666666666, \"#ed7953\"], [0.7777777777777778, \"#fb9f3a\"], [0.8888888888888888, \"#fdca26\"], [1.0, \"#f0f921\"]], \"type\": \"heatmap\"}], \"heatmapgl\": [{\"colorbar\": {\"outlinewidth\": 0, \"ticks\": \"\"}, \"colorscale\": [[0.0, \"#0d0887\"], [0.1111111111111111, \"#46039f\"], [0.2222222222222222, \"#7201a8\"], [0.3333333333333333, \"#9c179e\"], [0.4444444444444444, \"#bd3786\"], [0.5555555555555556, \"#d8576b\"], [0.6666666666666666, \"#ed7953\"], [0.7777777777777778, \"#fb9f3a\"], [0.8888888888888888, \"#fdca26\"], [1.0, \"#f0f921\"]], \"type\": \"heatmapgl\"}], \"histogram\": [{\"marker\": {\"colorbar\": {\"outlinewidth\": 0, \"ticks\": \"\"}}, \"type\": \"histogram\"}], \"histogram2d\": [{\"colorbar\": {\"outlinewidth\": 0, \"ticks\": \"\"}, \"colorscale\": [[0.0, \"#0d0887\"], [0.1111111111111111, \"#46039f\"], [0.2222222222222222, \"#7201a8\"], [0.3333333333333333, \"#9c179e\"], [0.4444444444444444, \"#bd3786\"], [0.5555555555555556, \"#d8576b\"], [0.6666666666666666, \"#ed7953\"], [0.7777777777777778, \"#fb9f3a\"], [0.8888888888888888, \"#fdca26\"], [1.0, \"#f0f921\"]], \"type\": \"histogram2d\"}], \"histogram2dcontour\": [{\"colorbar\": {\"outlinewidth\": 0, \"ticks\": \"\"}, \"colorscale\": [[0.0, \"#0d0887\"], [0.1111111111111111, \"#46039f\"], [0.2222222222222222, \"#7201a8\"], [0.3333333333333333, \"#9c179e\"], [0.4444444444444444, \"#bd3786\"], [0.5555555555555556, \"#d8576b\"], [0.6666666666666666, \"#ed7953\"], [0.7777777777777778, \"#fb9f3a\"], [0.8888888888888888, \"#fdca26\"], [1.0, \"#f0f921\"]], \"type\": \"histogram2dcontour\"}], \"mesh3d\": [{\"colorbar\": {\"outlinewidth\": 0, \"ticks\": \"\"}, \"type\": \"mesh3d\"}], \"parcoords\": [{\"line\": {\"colorbar\": {\"outlinewidth\": 0, \"ticks\": \"\"}}, \"type\": \"parcoords\"}], \"pie\": [{\"automargin\": true, \"type\": \"pie\"}], \"scatter\": [{\"marker\": {\"colorbar\": {\"outlinewidth\": 0, \"ticks\": \"\"}}, \"type\": \"scatter\"}], \"scatter3d\": [{\"line\": {\"colorbar\": {\"outlinewidth\": 0, \"ticks\": \"\"}}, \"marker\": {\"colorbar\": {\"outlinewidth\": 0, \"ticks\": \"\"}}, \"type\": \"scatter3d\"}], \"scattercarpet\": [{\"marker\": {\"colorbar\": {\"outlinewidth\": 0, \"ticks\": \"\"}}, \"type\": \"scattercarpet\"}], \"scattergeo\": [{\"marker\": {\"colorbar\": {\"outlinewidth\": 0, \"ticks\": \"\"}}, \"type\": \"scattergeo\"}], \"scattergl\": [{\"marker\": {\"colorbar\": {\"outlinewidth\": 0, \"ticks\": \"\"}}, \"type\": \"scattergl\"}], \"scattermapbox\": [{\"marker\": {\"colorbar\": {\"outlinewidth\": 0, \"ticks\": \"\"}}, \"type\": \"scattermapbox\"}], \"scatterpolar\": [{\"marker\": {\"colorbar\": {\"outlinewidth\": 0, \"ticks\": \"\"}}, \"type\": \"scatterpolar\"}], \"scatterpolargl\": [{\"marker\": {\"colorbar\": {\"outlinewidth\": 0, \"ticks\": \"\"}}, \"type\": \"scatterpolargl\"}], \"scatterternary\": [{\"marker\": {\"colorbar\": {\"outlinewidth\": 0, \"ticks\": \"\"}}, \"type\": \"scatterternary\"}], \"surface\": [{\"colorbar\": {\"outlinewidth\": 0, \"ticks\": \"\"}, \"colorscale\": [[0.0, \"#0d0887\"], [0.1111111111111111, \"#46039f\"], [0.2222222222222222, \"#7201a8\"], [0.3333333333333333, \"#9c179e\"], [0.4444444444444444, \"#bd3786\"], [0.5555555555555556, \"#d8576b\"], [0.6666666666666666, \"#ed7953\"], [0.7777777777777778, \"#fb9f3a\"], [0.8888888888888888, \"#fdca26\"], [1.0, \"#f0f921\"]], \"type\": \"surface\"}], \"table\": [{\"cells\": {\"fill\": {\"color\": \"#EBF0F8\"}, \"line\": {\"color\": \"white\"}}, \"header\": {\"fill\": {\"color\": \"#C8D4E3\"}, \"line\": {\"color\": \"white\"}}, \"type\": \"table\"}]}, \"layout\": {\"annotationdefaults\": {\"arrowcolor\": \"#2a3f5f\", \"arrowhead\": 0, \"arrowwidth\": 1}, \"coloraxis\": {\"colorbar\": {\"outlinewidth\": 0, \"ticks\": \"\"}}, \"colorscale\": {\"diverging\": [[0, \"#8e0152\"], [0.1, \"#c51b7d\"], [0.2, \"#de77ae\"], [0.3, \"#f1b6da\"], [0.4, \"#fde0ef\"], [0.5, \"#f7f7f7\"], [0.6, \"#e6f5d0\"], [0.7, \"#b8e186\"], [0.8, \"#7fbc41\"], [0.9, \"#4d9221\"], [1, \"#276419\"]], \"sequential\": [[0.0, \"#0d0887\"], [0.1111111111111111, \"#46039f\"], [0.2222222222222222, \"#7201a8\"], [0.3333333333333333, \"#9c179e\"], [0.4444444444444444, \"#bd3786\"], [0.5555555555555556, \"#d8576b\"], [0.6666666666666666, \"#ed7953\"], [0.7777777777777778, \"#fb9f3a\"], [0.8888888888888888, \"#fdca26\"], [1.0, \"#f0f921\"]], \"sequentialminus\": [[0.0, \"#0d0887\"], [0.1111111111111111, \"#46039f\"], [0.2222222222222222, \"#7201a8\"], [0.3333333333333333, \"#9c179e\"], [0.4444444444444444, \"#bd3786\"], [0.5555555555555556, \"#d8576b\"], [0.6666666666666666, \"#ed7953\"], [0.7777777777777778, \"#fb9f3a\"], [0.8888888888888888, \"#fdca26\"], [1.0, \"#f0f921\"]]}, \"colorway\": [\"#636efa\", \"#EF553B\", \"#00cc96\", \"#ab63fa\", \"#FFA15A\", \"#19d3f3\", \"#FF6692\", \"#B6E880\", \"#FF97FF\", \"#FECB52\"], \"font\": {\"color\": \"#2a3f5f\"}, \"geo\": {\"bgcolor\": \"white\", \"lakecolor\": \"white\", \"landcolor\": \"#E5ECF6\", \"showlakes\": true, \"showland\": true, \"subunitcolor\": \"white\"}, \"hoverlabel\": {\"align\": \"left\"}, \"hovermode\": \"closest\", \"mapbox\": {\"style\": \"light\"}, \"paper_bgcolor\": \"white\", \"plot_bgcolor\": \"#E5ECF6\", \"polar\": {\"angularaxis\": {\"gridcolor\": \"white\", \"linecolor\": \"white\", \"ticks\": \"\"}, \"bgcolor\": \"#E5ECF6\", \"radialaxis\": {\"gridcolor\": \"white\", \"linecolor\": \"white\", \"ticks\": \"\"}}, \"scene\": {\"xaxis\": {\"backgroundcolor\": \"#E5ECF6\", \"gridcolor\": \"white\", \"gridwidth\": 2, \"linecolor\": \"white\", \"showbackground\": true, \"ticks\": \"\", \"zerolinecolor\": \"white\"}, \"yaxis\": {\"backgroundcolor\": \"#E5ECF6\", \"gridcolor\": \"white\", \"gridwidth\": 2, \"linecolor\": \"white\", \"showbackground\": true, \"ticks\": \"\", \"zerolinecolor\": \"white\"}, \"zaxis\": {\"backgroundcolor\": \"#E5ECF6\", \"gridcolor\": \"white\", \"gridwidth\": 2, \"linecolor\": \"white\", \"showbackground\": true, \"ticks\": \"\", \"zerolinecolor\": \"white\"}}, \"shapedefaults\": {\"line\": {\"color\": \"#2a3f5f\"}}, \"ternary\": {\"aaxis\": {\"gridcolor\": \"white\", \"linecolor\": \"white\", \"ticks\": \"\"}, \"baxis\": {\"gridcolor\": \"white\", \"linecolor\": \"white\", \"ticks\": \"\"}, \"bgcolor\": \"#E5ECF6\", \"caxis\": {\"gridcolor\": \"white\", \"linecolor\": \"white\", \"ticks\": \"\"}}, \"title\": {\"x\": 0.05}, \"xaxis\": {\"automargin\": true, \"gridcolor\": \"white\", \"linecolor\": \"white\", \"ticks\": \"\", \"title\": {\"standoff\": 15}, \"zerolinecolor\": \"white\", \"zerolinewidth\": 2}, \"yaxis\": {\"automargin\": true, \"gridcolor\": \"white\", \"linecolor\": \"white\", \"ticks\": \"\", \"title\": {\"standoff\": 15}, \"zerolinecolor\": \"white\", \"zerolinewidth\": 2}}}, \"title\": {\"font\": {\"color\": \"#4D5663\"}}, \"xaxis\": {\"gridcolor\": \"#E1E5ED\", \"showgrid\": true, \"tickfont\": {\"color\": \"#4D5663\"}, \"title\": {\"font\": {\"color\": \"#4D5663\"}, \"text\": \"\"}, \"zerolinecolor\": \"#E1E5ED\"}, \"xaxis2\": {\"anchor\": \"y2\", \"gridcolor\": \"#E1E5ED\", \"showgrid\": true, \"showticklabels\": false, \"tickfont\": {\"color\": \"#4D5663\"}, \"title\": {\"font\": {\"color\": \"#4D5663\"}, \"text\": \"\"}, \"zerolinecolor\": \"#E1E5ED\"}, \"yaxis\": {\"domain\": [0.3, 1], \"gridcolor\": \"#E1E5ED\", \"showgrid\": true, \"tickfont\": {\"color\": \"#4D5663\"}, \"title\": {\"font\": {\"color\": \"#4D5663\"}, \"text\": \"\"}, \"zerolinecolor\": \"#E1E5ED\"}, \"yaxis2\": {\"domain\": [0, 0.25], \"gridcolor\": \"#E1E5ED\", \"showgrid\": true, \"tickfont\": {\"color\": \"#4D5663\"}, \"title\": {\"font\": {\"color\": \"#4D5663\"}, \"text\": \"Spread\"}, \"zerolinecolor\": \"#E1E5ED\"}},\n",
       "                        {\"showLink\": true, \"linkText\": \"Export to plot.ly\", \"plotlyServerURL\": \"https://plot.ly\", \"responsive\": true}\n",
       "                    ).then(function(){\n",
       "                            \n",
       "var gd = document.getElementById('8acfc36a-2ac5-4d13-a3d6-e4d7fb779c27');\n",
       "var x = new MutationObserver(function (mutations, observer) {{\n",
       "        var display = window.getComputedStyle(gd).display;\n",
       "        if (!display || display === 'none') {{\n",
       "            console.log([gd, 'removed!']);\n",
       "            Plotly.purge(gd);\n",
       "            observer.disconnect();\n",
       "        }}\n",
       "}});\n",
       "\n",
       "// Listen for the removal of the full notebook cells\n",
       "var notebookContainer = gd.closest('#notebook-container');\n",
       "if (notebookContainer) {{\n",
       "    x.observe(notebookContainer, {childList: true});\n",
       "}}\n",
       "\n",
       "// Listen for the clearing of the current output cell\n",
       "var outputEl = gd.closest('.output');\n",
       "if (outputEl) {{\n",
       "    x.observe(outputEl, {childList: true});\n",
       "}}\n",
       "\n",
       "                        })\n",
       "                };\n",
       "                });\n",
       "            </script>\n",
       "        </div>"
      ]
     },
     "metadata": {},
     "output_type": "display_data"
    }
   ],
   "source": [
    "df[['A','B']].iplot(kind='spread')"
   ]
  },
  {
   "cell_type": "markdown",
   "metadata": {},
   "source": [
    "## histogram"
   ]
  },
  {
   "cell_type": "code",
   "execution_count": 34,
   "metadata": {},
   "outputs": [
    {
     "data": {
      "application/vnd.plotly.v1+json": {
       "config": {
        "linkText": "Export to plot.ly",
        "plotlyServerURL": "https://plot.ly",
        "showLink": true
       },
       "data": [
        {
         "histfunc": "count",
         "histnorm": "",
         "marker": {
          "color": "rgba(255, 153, 51, 1.0)",
          "line": {
           "color": "#4D5663",
           "width": 1.3
          }
         },
         "name": "A",
         "nbinsx": 25,
         "opacity": 0.8,
         "orientation": "v",
         "type": "histogram",
         "x": [
          0.33530550154152494,
          0.09065339513616581,
          -0.01630297475032681,
          -0.07869977638765072,
          -0.11280955759602175,
          -0.1401151965190619,
          0.37726332968436377,
          0.9807848237014964,
          0.810497685246533,
          -0.5369994090996112,
          0.4665515681528577,
          -0.4027752710747494,
          0.8450873692592444,
          -1.6713871998577774,
          -0.5647159680856547,
          -1.0454373654393754,
          -0.19128198431349563,
          -0.08380197880652643,
          -0.6808409250243673,
          1.5314298215111735,
          -0.8472738029656343,
          2.016894424729286,
          0.5675939625303773,
          -0.12570665669379766,
          -2.9530064435370353,
          -0.7623240462719839,
          0.24650554670245756,
          0.677974153571497,
          0.34498118682073425,
          0.7050866228571876,
          0.48289759808491,
          0.19661274001139517,
          -0.10839634016900147,
          1.2955729007966614,
          -1.2080228686216006,
          -0.8868820384240231,
          -0.8504568442746137,
          -0.8592195770336528,
          0.23891912898121961,
          -0.390740080415598,
          0.7899539300986534,
          1.9073166225165692,
          0.7332345874800306,
          0.076279312025144,
          -0.1606368966839194,
          0.3722445893819746,
          0.6054925610989462,
          0.7956873319712157,
          0.9725100209690856,
          0.24018718772850134,
          -1.390060796293999,
          -1.7325819543366443,
          -1.0531172370304538,
          -0.8435755679018383,
          -1.8669241001205663,
          0.1430069081678792,
          0.3503266506041815,
          0.4798291478777767,
          0.5100131008826317,
          2.0749173355937347,
          -1.3690344750713008,
          -0.06876435799003278,
          -0.4505688369932266,
          1.078456943733188,
          0.30714997296703755,
          -0.4139398828429726,
          1.7895416427199355,
          0.776518393126592,
          1.1006209089834444,
          2.3663267206891385,
          -0.748679596212696,
          -0.8895687565692749,
          0.8656205411908345,
          0.41104469157294404,
          -0.609241534591123,
          -1.4383026828323873,
          0.26635612483594606,
          -1.8980379983631288,
          -1.738277833733187,
          -1.5289927281839082,
          0.23529718024963092,
          -0.08309493795682184,
          0.273378453933951,
          -0.4817320634709933,
          -0.1375488620604106,
          0.33783356180165247,
          0.6998816614904454,
          0.537709684336636,
          0.8069903649895979,
          -0.6731094896210476,
          1.443158574532866,
          1.2870986328443184,
          0.7035596946386531,
          -0.7921994935980345,
          -0.489915251036213,
          -0.5231506439766499,
          0.385676724326846,
          -0.09919321074167252,
          0.8202815108228418,
          1.2975442876253223
         ]
        }
       ],
       "layout": {
        "barmode": "overlay",
        "legend": {
         "bgcolor": "#F5F6F9",
         "font": {
          "color": "#4D5663"
         }
        },
        "paper_bgcolor": "#F5F6F9",
        "plot_bgcolor": "#F5F6F9",
        "template": {
         "data": {
          "bar": [
           {
            "error_x": {
             "color": "#2a3f5f"
            },
            "error_y": {
             "color": "#2a3f5f"
            },
            "marker": {
             "line": {
              "color": "#E5ECF6",
              "width": 0.5
             }
            },
            "type": "bar"
           }
          ],
          "barpolar": [
           {
            "marker": {
             "line": {
              "color": "#E5ECF6",
              "width": 0.5
             }
            },
            "type": "barpolar"
           }
          ],
          "carpet": [
           {
            "aaxis": {
             "endlinecolor": "#2a3f5f",
             "gridcolor": "white",
             "linecolor": "white",
             "minorgridcolor": "white",
             "startlinecolor": "#2a3f5f"
            },
            "baxis": {
             "endlinecolor": "#2a3f5f",
             "gridcolor": "white",
             "linecolor": "white",
             "minorgridcolor": "white",
             "startlinecolor": "#2a3f5f"
            },
            "type": "carpet"
           }
          ],
          "choropleth": [
           {
            "colorbar": {
             "outlinewidth": 0,
             "ticks": ""
            },
            "type": "choropleth"
           }
          ],
          "contour": [
           {
            "colorbar": {
             "outlinewidth": 0,
             "ticks": ""
            },
            "colorscale": [
             [
              0,
              "#0d0887"
             ],
             [
              0.1111111111111111,
              "#46039f"
             ],
             [
              0.2222222222222222,
              "#7201a8"
             ],
             [
              0.3333333333333333,
              "#9c179e"
             ],
             [
              0.4444444444444444,
              "#bd3786"
             ],
             [
              0.5555555555555556,
              "#d8576b"
             ],
             [
              0.6666666666666666,
              "#ed7953"
             ],
             [
              0.7777777777777778,
              "#fb9f3a"
             ],
             [
              0.8888888888888888,
              "#fdca26"
             ],
             [
              1,
              "#f0f921"
             ]
            ],
            "type": "contour"
           }
          ],
          "contourcarpet": [
           {
            "colorbar": {
             "outlinewidth": 0,
             "ticks": ""
            },
            "type": "contourcarpet"
           }
          ],
          "heatmap": [
           {
            "colorbar": {
             "outlinewidth": 0,
             "ticks": ""
            },
            "colorscale": [
             [
              0,
              "#0d0887"
             ],
             [
              0.1111111111111111,
              "#46039f"
             ],
             [
              0.2222222222222222,
              "#7201a8"
             ],
             [
              0.3333333333333333,
              "#9c179e"
             ],
             [
              0.4444444444444444,
              "#bd3786"
             ],
             [
              0.5555555555555556,
              "#d8576b"
             ],
             [
              0.6666666666666666,
              "#ed7953"
             ],
             [
              0.7777777777777778,
              "#fb9f3a"
             ],
             [
              0.8888888888888888,
              "#fdca26"
             ],
             [
              1,
              "#f0f921"
             ]
            ],
            "type": "heatmap"
           }
          ],
          "heatmapgl": [
           {
            "colorbar": {
             "outlinewidth": 0,
             "ticks": ""
            },
            "colorscale": [
             [
              0,
              "#0d0887"
             ],
             [
              0.1111111111111111,
              "#46039f"
             ],
             [
              0.2222222222222222,
              "#7201a8"
             ],
             [
              0.3333333333333333,
              "#9c179e"
             ],
             [
              0.4444444444444444,
              "#bd3786"
             ],
             [
              0.5555555555555556,
              "#d8576b"
             ],
             [
              0.6666666666666666,
              "#ed7953"
             ],
             [
              0.7777777777777778,
              "#fb9f3a"
             ],
             [
              0.8888888888888888,
              "#fdca26"
             ],
             [
              1,
              "#f0f921"
             ]
            ],
            "type": "heatmapgl"
           }
          ],
          "histogram": [
           {
            "marker": {
             "colorbar": {
              "outlinewidth": 0,
              "ticks": ""
             }
            },
            "type": "histogram"
           }
          ],
          "histogram2d": [
           {
            "colorbar": {
             "outlinewidth": 0,
             "ticks": ""
            },
            "colorscale": [
             [
              0,
              "#0d0887"
             ],
             [
              0.1111111111111111,
              "#46039f"
             ],
             [
              0.2222222222222222,
              "#7201a8"
             ],
             [
              0.3333333333333333,
              "#9c179e"
             ],
             [
              0.4444444444444444,
              "#bd3786"
             ],
             [
              0.5555555555555556,
              "#d8576b"
             ],
             [
              0.6666666666666666,
              "#ed7953"
             ],
             [
              0.7777777777777778,
              "#fb9f3a"
             ],
             [
              0.8888888888888888,
              "#fdca26"
             ],
             [
              1,
              "#f0f921"
             ]
            ],
            "type": "histogram2d"
           }
          ],
          "histogram2dcontour": [
           {
            "colorbar": {
             "outlinewidth": 0,
             "ticks": ""
            },
            "colorscale": [
             [
              0,
              "#0d0887"
             ],
             [
              0.1111111111111111,
              "#46039f"
             ],
             [
              0.2222222222222222,
              "#7201a8"
             ],
             [
              0.3333333333333333,
              "#9c179e"
             ],
             [
              0.4444444444444444,
              "#bd3786"
             ],
             [
              0.5555555555555556,
              "#d8576b"
             ],
             [
              0.6666666666666666,
              "#ed7953"
             ],
             [
              0.7777777777777778,
              "#fb9f3a"
             ],
             [
              0.8888888888888888,
              "#fdca26"
             ],
             [
              1,
              "#f0f921"
             ]
            ],
            "type": "histogram2dcontour"
           }
          ],
          "mesh3d": [
           {
            "colorbar": {
             "outlinewidth": 0,
             "ticks": ""
            },
            "type": "mesh3d"
           }
          ],
          "parcoords": [
           {
            "line": {
             "colorbar": {
              "outlinewidth": 0,
              "ticks": ""
             }
            },
            "type": "parcoords"
           }
          ],
          "pie": [
           {
            "automargin": true,
            "type": "pie"
           }
          ],
          "scatter": [
           {
            "marker": {
             "colorbar": {
              "outlinewidth": 0,
              "ticks": ""
             }
            },
            "type": "scatter"
           }
          ],
          "scatter3d": [
           {
            "line": {
             "colorbar": {
              "outlinewidth": 0,
              "ticks": ""
             }
            },
            "marker": {
             "colorbar": {
              "outlinewidth": 0,
              "ticks": ""
             }
            },
            "type": "scatter3d"
           }
          ],
          "scattercarpet": [
           {
            "marker": {
             "colorbar": {
              "outlinewidth": 0,
              "ticks": ""
             }
            },
            "type": "scattercarpet"
           }
          ],
          "scattergeo": [
           {
            "marker": {
             "colorbar": {
              "outlinewidth": 0,
              "ticks": ""
             }
            },
            "type": "scattergeo"
           }
          ],
          "scattergl": [
           {
            "marker": {
             "colorbar": {
              "outlinewidth": 0,
              "ticks": ""
             }
            },
            "type": "scattergl"
           }
          ],
          "scattermapbox": [
           {
            "marker": {
             "colorbar": {
              "outlinewidth": 0,
              "ticks": ""
             }
            },
            "type": "scattermapbox"
           }
          ],
          "scatterpolar": [
           {
            "marker": {
             "colorbar": {
              "outlinewidth": 0,
              "ticks": ""
             }
            },
            "type": "scatterpolar"
           }
          ],
          "scatterpolargl": [
           {
            "marker": {
             "colorbar": {
              "outlinewidth": 0,
              "ticks": ""
             }
            },
            "type": "scatterpolargl"
           }
          ],
          "scatterternary": [
           {
            "marker": {
             "colorbar": {
              "outlinewidth": 0,
              "ticks": ""
             }
            },
            "type": "scatterternary"
           }
          ],
          "surface": [
           {
            "colorbar": {
             "outlinewidth": 0,
             "ticks": ""
            },
            "colorscale": [
             [
              0,
              "#0d0887"
             ],
             [
              0.1111111111111111,
              "#46039f"
             ],
             [
              0.2222222222222222,
              "#7201a8"
             ],
             [
              0.3333333333333333,
              "#9c179e"
             ],
             [
              0.4444444444444444,
              "#bd3786"
             ],
             [
              0.5555555555555556,
              "#d8576b"
             ],
             [
              0.6666666666666666,
              "#ed7953"
             ],
             [
              0.7777777777777778,
              "#fb9f3a"
             ],
             [
              0.8888888888888888,
              "#fdca26"
             ],
             [
              1,
              "#f0f921"
             ]
            ],
            "type": "surface"
           }
          ],
          "table": [
           {
            "cells": {
             "fill": {
              "color": "#EBF0F8"
             },
             "line": {
              "color": "white"
             }
            },
            "header": {
             "fill": {
              "color": "#C8D4E3"
             },
             "line": {
              "color": "white"
             }
            },
            "type": "table"
           }
          ]
         },
         "layout": {
          "annotationdefaults": {
           "arrowcolor": "#2a3f5f",
           "arrowhead": 0,
           "arrowwidth": 1
          },
          "coloraxis": {
           "colorbar": {
            "outlinewidth": 0,
            "ticks": ""
           }
          },
          "colorscale": {
           "diverging": [
            [
             0,
             "#8e0152"
            ],
            [
             0.1,
             "#c51b7d"
            ],
            [
             0.2,
             "#de77ae"
            ],
            [
             0.3,
             "#f1b6da"
            ],
            [
             0.4,
             "#fde0ef"
            ],
            [
             0.5,
             "#f7f7f7"
            ],
            [
             0.6,
             "#e6f5d0"
            ],
            [
             0.7,
             "#b8e186"
            ],
            [
             0.8,
             "#7fbc41"
            ],
            [
             0.9,
             "#4d9221"
            ],
            [
             1,
             "#276419"
            ]
           ],
           "sequential": [
            [
             0,
             "#0d0887"
            ],
            [
             0.1111111111111111,
             "#46039f"
            ],
            [
             0.2222222222222222,
             "#7201a8"
            ],
            [
             0.3333333333333333,
             "#9c179e"
            ],
            [
             0.4444444444444444,
             "#bd3786"
            ],
            [
             0.5555555555555556,
             "#d8576b"
            ],
            [
             0.6666666666666666,
             "#ed7953"
            ],
            [
             0.7777777777777778,
             "#fb9f3a"
            ],
            [
             0.8888888888888888,
             "#fdca26"
            ],
            [
             1,
             "#f0f921"
            ]
           ],
           "sequentialminus": [
            [
             0,
             "#0d0887"
            ],
            [
             0.1111111111111111,
             "#46039f"
            ],
            [
             0.2222222222222222,
             "#7201a8"
            ],
            [
             0.3333333333333333,
             "#9c179e"
            ],
            [
             0.4444444444444444,
             "#bd3786"
            ],
            [
             0.5555555555555556,
             "#d8576b"
            ],
            [
             0.6666666666666666,
             "#ed7953"
            ],
            [
             0.7777777777777778,
             "#fb9f3a"
            ],
            [
             0.8888888888888888,
             "#fdca26"
            ],
            [
             1,
             "#f0f921"
            ]
           ]
          },
          "colorway": [
           "#636efa",
           "#EF553B",
           "#00cc96",
           "#ab63fa",
           "#FFA15A",
           "#19d3f3",
           "#FF6692",
           "#B6E880",
           "#FF97FF",
           "#FECB52"
          ],
          "font": {
           "color": "#2a3f5f"
          },
          "geo": {
           "bgcolor": "white",
           "lakecolor": "white",
           "landcolor": "#E5ECF6",
           "showlakes": true,
           "showland": true,
           "subunitcolor": "white"
          },
          "hoverlabel": {
           "align": "left"
          },
          "hovermode": "closest",
          "mapbox": {
           "style": "light"
          },
          "paper_bgcolor": "white",
          "plot_bgcolor": "#E5ECF6",
          "polar": {
           "angularaxis": {
            "gridcolor": "white",
            "linecolor": "white",
            "ticks": ""
           },
           "bgcolor": "#E5ECF6",
           "radialaxis": {
            "gridcolor": "white",
            "linecolor": "white",
            "ticks": ""
           }
          },
          "scene": {
           "xaxis": {
            "backgroundcolor": "#E5ECF6",
            "gridcolor": "white",
            "gridwidth": 2,
            "linecolor": "white",
            "showbackground": true,
            "ticks": "",
            "zerolinecolor": "white"
           },
           "yaxis": {
            "backgroundcolor": "#E5ECF6",
            "gridcolor": "white",
            "gridwidth": 2,
            "linecolor": "white",
            "showbackground": true,
            "ticks": "",
            "zerolinecolor": "white"
           },
           "zaxis": {
            "backgroundcolor": "#E5ECF6",
            "gridcolor": "white",
            "gridwidth": 2,
            "linecolor": "white",
            "showbackground": true,
            "ticks": "",
            "zerolinecolor": "white"
           }
          },
          "shapedefaults": {
           "line": {
            "color": "#2a3f5f"
           }
          },
          "ternary": {
           "aaxis": {
            "gridcolor": "white",
            "linecolor": "white",
            "ticks": ""
           },
           "baxis": {
            "gridcolor": "white",
            "linecolor": "white",
            "ticks": ""
           },
           "bgcolor": "#E5ECF6",
           "caxis": {
            "gridcolor": "white",
            "linecolor": "white",
            "ticks": ""
           }
          },
          "title": {
           "x": 0.05
          },
          "xaxis": {
           "automargin": true,
           "gridcolor": "white",
           "linecolor": "white",
           "ticks": "",
           "title": {
            "standoff": 15
           },
           "zerolinecolor": "white",
           "zerolinewidth": 2
          },
          "yaxis": {
           "automargin": true,
           "gridcolor": "white",
           "linecolor": "white",
           "ticks": "",
           "title": {
            "standoff": 15
           },
           "zerolinecolor": "white",
           "zerolinewidth": 2
          }
         }
        },
        "title": {
         "font": {
          "color": "#4D5663"
         }
        },
        "xaxis": {
         "gridcolor": "#E1E5ED",
         "showgrid": true,
         "tickfont": {
          "color": "#4D5663"
         },
         "title": {
          "font": {
           "color": "#4D5663"
          },
          "text": ""
         },
         "zerolinecolor": "#E1E5ED"
        },
        "yaxis": {
         "gridcolor": "#E1E5ED",
         "showgrid": true,
         "tickfont": {
          "color": "#4D5663"
         },
         "title": {
          "font": {
           "color": "#4D5663"
          },
          "text": ""
         },
         "zerolinecolor": "#E1E5ED"
        }
       }
      },
      "text/html": [
       "<div>\n",
       "        \n",
       "        \n",
       "            <div id=\"c049636f-db88-4b60-8088-3046890d4381\" class=\"plotly-graph-div\" style=\"height:525px; width:100%;\"></div>\n",
       "            <script type=\"text/javascript\">\n",
       "                require([\"plotly\"], function(Plotly) {\n",
       "                    window.PLOTLYENV=window.PLOTLYENV || {};\n",
       "                    window.PLOTLYENV.BASE_URL='https://plot.ly';\n",
       "                    \n",
       "                if (document.getElementById(\"c049636f-db88-4b60-8088-3046890d4381\")) {\n",
       "                    Plotly.newPlot(\n",
       "                        'c049636f-db88-4b60-8088-3046890d4381',\n",
       "                        [{\"histfunc\": \"count\", \"histnorm\": \"\", \"marker\": {\"color\": \"rgba(255, 153, 51, 1.0)\", \"line\": {\"color\": \"#4D5663\", \"width\": 1.3}}, \"name\": \"A\", \"nbinsx\": 25, \"opacity\": 0.8, \"orientation\": \"v\", \"type\": \"histogram\", \"x\": [0.33530550154152494, 0.09065339513616581, -0.01630297475032681, -0.07869977638765072, -0.11280955759602175, -0.1401151965190619, 0.37726332968436377, 0.9807848237014964, 0.810497685246533, -0.5369994090996112, 0.4665515681528577, -0.4027752710747494, 0.8450873692592444, -1.6713871998577774, -0.5647159680856547, -1.0454373654393754, -0.19128198431349563, -0.08380197880652643, -0.6808409250243673, 1.5314298215111735, -0.8472738029656343, 2.016894424729286, 0.5675939625303773, -0.12570665669379766, -2.9530064435370353, -0.7623240462719839, 0.24650554670245756, 0.677974153571497, 0.34498118682073425, 0.7050866228571876, 0.48289759808491, 0.19661274001139517, -0.10839634016900147, 1.2955729007966614, -1.2080228686216006, -0.8868820384240231, -0.8504568442746137, -0.8592195770336528, 0.23891912898121961, -0.390740080415598, 0.7899539300986534, 1.9073166225165692, 0.7332345874800306, 0.076279312025144, -0.1606368966839194, 0.3722445893819746, 0.6054925610989462, 0.7956873319712157, 0.9725100209690856, 0.24018718772850134, -1.390060796293999, -1.7325819543366443, -1.0531172370304538, -0.8435755679018383, -1.8669241001205663, 0.1430069081678792, 0.3503266506041815, 0.4798291478777767, 0.5100131008826317, 2.0749173355937347, -1.3690344750713008, -0.06876435799003278, -0.4505688369932266, 1.078456943733188, 0.30714997296703755, -0.4139398828429726, 1.7895416427199355, 0.776518393126592, 1.1006209089834444, 2.3663267206891385, -0.748679596212696, -0.8895687565692749, 0.8656205411908345, 0.41104469157294404, -0.609241534591123, -1.4383026828323873, 0.26635612483594606, -1.8980379983631288, -1.738277833733187, -1.5289927281839082, 0.23529718024963092, -0.08309493795682184, 0.273378453933951, -0.4817320634709933, -0.1375488620604106, 0.33783356180165247, 0.6998816614904454, 0.537709684336636, 0.8069903649895979, -0.6731094896210476, 1.443158574532866, 1.2870986328443184, 0.7035596946386531, -0.7921994935980345, -0.489915251036213, -0.5231506439766499, 0.385676724326846, -0.09919321074167252, 0.8202815108228418, 1.2975442876253223]}],\n",
       "                        {\"barmode\": \"overlay\", \"legend\": {\"bgcolor\": \"#F5F6F9\", \"font\": {\"color\": \"#4D5663\"}}, \"paper_bgcolor\": \"#F5F6F9\", \"plot_bgcolor\": \"#F5F6F9\", \"template\": {\"data\": {\"bar\": [{\"error_x\": {\"color\": \"#2a3f5f\"}, \"error_y\": {\"color\": \"#2a3f5f\"}, \"marker\": {\"line\": {\"color\": \"#E5ECF6\", \"width\": 0.5}}, \"type\": \"bar\"}], \"barpolar\": [{\"marker\": {\"line\": {\"color\": \"#E5ECF6\", \"width\": 0.5}}, \"type\": \"barpolar\"}], \"carpet\": [{\"aaxis\": {\"endlinecolor\": \"#2a3f5f\", \"gridcolor\": \"white\", \"linecolor\": \"white\", \"minorgridcolor\": \"white\", \"startlinecolor\": \"#2a3f5f\"}, \"baxis\": {\"endlinecolor\": \"#2a3f5f\", \"gridcolor\": \"white\", \"linecolor\": \"white\", \"minorgridcolor\": \"white\", \"startlinecolor\": \"#2a3f5f\"}, \"type\": \"carpet\"}], \"choropleth\": [{\"colorbar\": {\"outlinewidth\": 0, \"ticks\": \"\"}, \"type\": \"choropleth\"}], \"contour\": [{\"colorbar\": {\"outlinewidth\": 0, \"ticks\": \"\"}, \"colorscale\": [[0.0, \"#0d0887\"], [0.1111111111111111, \"#46039f\"], [0.2222222222222222, \"#7201a8\"], [0.3333333333333333, \"#9c179e\"], [0.4444444444444444, \"#bd3786\"], [0.5555555555555556, \"#d8576b\"], [0.6666666666666666, \"#ed7953\"], [0.7777777777777778, \"#fb9f3a\"], [0.8888888888888888, \"#fdca26\"], [1.0, \"#f0f921\"]], \"type\": \"contour\"}], \"contourcarpet\": [{\"colorbar\": {\"outlinewidth\": 0, \"ticks\": \"\"}, \"type\": \"contourcarpet\"}], \"heatmap\": [{\"colorbar\": {\"outlinewidth\": 0, \"ticks\": \"\"}, \"colorscale\": [[0.0, \"#0d0887\"], [0.1111111111111111, \"#46039f\"], [0.2222222222222222, \"#7201a8\"], [0.3333333333333333, \"#9c179e\"], [0.4444444444444444, \"#bd3786\"], [0.5555555555555556, \"#d8576b\"], [0.6666666666666666, \"#ed7953\"], [0.7777777777777778, \"#fb9f3a\"], [0.8888888888888888, \"#fdca26\"], [1.0, \"#f0f921\"]], \"type\": \"heatmap\"}], \"heatmapgl\": [{\"colorbar\": {\"outlinewidth\": 0, \"ticks\": \"\"}, \"colorscale\": [[0.0, \"#0d0887\"], [0.1111111111111111, \"#46039f\"], [0.2222222222222222, \"#7201a8\"], [0.3333333333333333, \"#9c179e\"], [0.4444444444444444, \"#bd3786\"], [0.5555555555555556, \"#d8576b\"], [0.6666666666666666, \"#ed7953\"], [0.7777777777777778, \"#fb9f3a\"], [0.8888888888888888, \"#fdca26\"], [1.0, \"#f0f921\"]], \"type\": \"heatmapgl\"}], \"histogram\": [{\"marker\": {\"colorbar\": {\"outlinewidth\": 0, \"ticks\": \"\"}}, \"type\": \"histogram\"}], \"histogram2d\": [{\"colorbar\": {\"outlinewidth\": 0, \"ticks\": \"\"}, \"colorscale\": [[0.0, \"#0d0887\"], [0.1111111111111111, \"#46039f\"], [0.2222222222222222, \"#7201a8\"], [0.3333333333333333, \"#9c179e\"], [0.4444444444444444, \"#bd3786\"], [0.5555555555555556, \"#d8576b\"], [0.6666666666666666, \"#ed7953\"], [0.7777777777777778, \"#fb9f3a\"], [0.8888888888888888, \"#fdca26\"], [1.0, \"#f0f921\"]], \"type\": \"histogram2d\"}], \"histogram2dcontour\": [{\"colorbar\": {\"outlinewidth\": 0, \"ticks\": \"\"}, \"colorscale\": [[0.0, \"#0d0887\"], [0.1111111111111111, \"#46039f\"], [0.2222222222222222, \"#7201a8\"], [0.3333333333333333, \"#9c179e\"], [0.4444444444444444, \"#bd3786\"], [0.5555555555555556, \"#d8576b\"], [0.6666666666666666, \"#ed7953\"], [0.7777777777777778, \"#fb9f3a\"], [0.8888888888888888, \"#fdca26\"], [1.0, \"#f0f921\"]], \"type\": \"histogram2dcontour\"}], \"mesh3d\": [{\"colorbar\": {\"outlinewidth\": 0, \"ticks\": \"\"}, \"type\": \"mesh3d\"}], \"parcoords\": [{\"line\": {\"colorbar\": {\"outlinewidth\": 0, \"ticks\": \"\"}}, \"type\": \"parcoords\"}], \"pie\": [{\"automargin\": true, \"type\": \"pie\"}], \"scatter\": [{\"marker\": {\"colorbar\": {\"outlinewidth\": 0, \"ticks\": \"\"}}, \"type\": \"scatter\"}], \"scatter3d\": [{\"line\": {\"colorbar\": {\"outlinewidth\": 0, \"ticks\": \"\"}}, \"marker\": {\"colorbar\": {\"outlinewidth\": 0, \"ticks\": \"\"}}, \"type\": \"scatter3d\"}], \"scattercarpet\": [{\"marker\": {\"colorbar\": {\"outlinewidth\": 0, \"ticks\": \"\"}}, \"type\": \"scattercarpet\"}], \"scattergeo\": [{\"marker\": {\"colorbar\": {\"outlinewidth\": 0, \"ticks\": \"\"}}, \"type\": \"scattergeo\"}], \"scattergl\": [{\"marker\": {\"colorbar\": {\"outlinewidth\": 0, \"ticks\": \"\"}}, \"type\": \"scattergl\"}], \"scattermapbox\": [{\"marker\": {\"colorbar\": {\"outlinewidth\": 0, \"ticks\": \"\"}}, \"type\": \"scattermapbox\"}], \"scatterpolar\": [{\"marker\": {\"colorbar\": {\"outlinewidth\": 0, \"ticks\": \"\"}}, \"type\": \"scatterpolar\"}], \"scatterpolargl\": [{\"marker\": {\"colorbar\": {\"outlinewidth\": 0, \"ticks\": \"\"}}, \"type\": \"scatterpolargl\"}], \"scatterternary\": [{\"marker\": {\"colorbar\": {\"outlinewidth\": 0, \"ticks\": \"\"}}, \"type\": \"scatterternary\"}], \"surface\": [{\"colorbar\": {\"outlinewidth\": 0, \"ticks\": \"\"}, \"colorscale\": [[0.0, \"#0d0887\"], [0.1111111111111111, \"#46039f\"], [0.2222222222222222, \"#7201a8\"], [0.3333333333333333, \"#9c179e\"], [0.4444444444444444, \"#bd3786\"], [0.5555555555555556, \"#d8576b\"], [0.6666666666666666, \"#ed7953\"], [0.7777777777777778, \"#fb9f3a\"], [0.8888888888888888, \"#fdca26\"], [1.0, \"#f0f921\"]], \"type\": \"surface\"}], \"table\": [{\"cells\": {\"fill\": {\"color\": \"#EBF0F8\"}, \"line\": {\"color\": \"white\"}}, \"header\": {\"fill\": {\"color\": \"#C8D4E3\"}, \"line\": {\"color\": \"white\"}}, \"type\": \"table\"}]}, \"layout\": {\"annotationdefaults\": {\"arrowcolor\": \"#2a3f5f\", \"arrowhead\": 0, \"arrowwidth\": 1}, \"coloraxis\": {\"colorbar\": {\"outlinewidth\": 0, \"ticks\": \"\"}}, \"colorscale\": {\"diverging\": [[0, \"#8e0152\"], [0.1, \"#c51b7d\"], [0.2, \"#de77ae\"], [0.3, \"#f1b6da\"], [0.4, \"#fde0ef\"], [0.5, \"#f7f7f7\"], [0.6, \"#e6f5d0\"], [0.7, \"#b8e186\"], [0.8, \"#7fbc41\"], [0.9, \"#4d9221\"], [1, \"#276419\"]], \"sequential\": [[0.0, \"#0d0887\"], [0.1111111111111111, \"#46039f\"], [0.2222222222222222, \"#7201a8\"], [0.3333333333333333, \"#9c179e\"], [0.4444444444444444, \"#bd3786\"], [0.5555555555555556, \"#d8576b\"], [0.6666666666666666, \"#ed7953\"], [0.7777777777777778, \"#fb9f3a\"], [0.8888888888888888, \"#fdca26\"], [1.0, \"#f0f921\"]], \"sequentialminus\": [[0.0, \"#0d0887\"], [0.1111111111111111, \"#46039f\"], [0.2222222222222222, \"#7201a8\"], [0.3333333333333333, \"#9c179e\"], [0.4444444444444444, \"#bd3786\"], [0.5555555555555556, \"#d8576b\"], [0.6666666666666666, \"#ed7953\"], [0.7777777777777778, \"#fb9f3a\"], [0.8888888888888888, \"#fdca26\"], [1.0, \"#f0f921\"]]}, \"colorway\": [\"#636efa\", \"#EF553B\", \"#00cc96\", \"#ab63fa\", \"#FFA15A\", \"#19d3f3\", \"#FF6692\", \"#B6E880\", \"#FF97FF\", \"#FECB52\"], \"font\": {\"color\": \"#2a3f5f\"}, \"geo\": {\"bgcolor\": \"white\", \"lakecolor\": \"white\", \"landcolor\": \"#E5ECF6\", \"showlakes\": true, \"showland\": true, \"subunitcolor\": \"white\"}, \"hoverlabel\": {\"align\": \"left\"}, \"hovermode\": \"closest\", \"mapbox\": {\"style\": \"light\"}, \"paper_bgcolor\": \"white\", \"plot_bgcolor\": \"#E5ECF6\", \"polar\": {\"angularaxis\": {\"gridcolor\": \"white\", \"linecolor\": \"white\", \"ticks\": \"\"}, \"bgcolor\": \"#E5ECF6\", \"radialaxis\": {\"gridcolor\": \"white\", \"linecolor\": \"white\", \"ticks\": \"\"}}, \"scene\": {\"xaxis\": {\"backgroundcolor\": \"#E5ECF6\", \"gridcolor\": \"white\", \"gridwidth\": 2, \"linecolor\": \"white\", \"showbackground\": true, \"ticks\": \"\", \"zerolinecolor\": \"white\"}, \"yaxis\": {\"backgroundcolor\": \"#E5ECF6\", \"gridcolor\": \"white\", \"gridwidth\": 2, \"linecolor\": \"white\", \"showbackground\": true, \"ticks\": \"\", \"zerolinecolor\": \"white\"}, \"zaxis\": {\"backgroundcolor\": \"#E5ECF6\", \"gridcolor\": \"white\", \"gridwidth\": 2, \"linecolor\": \"white\", \"showbackground\": true, \"ticks\": \"\", \"zerolinecolor\": \"white\"}}, \"shapedefaults\": {\"line\": {\"color\": \"#2a3f5f\"}}, \"ternary\": {\"aaxis\": {\"gridcolor\": \"white\", \"linecolor\": \"white\", \"ticks\": \"\"}, \"baxis\": {\"gridcolor\": \"white\", \"linecolor\": \"white\", \"ticks\": \"\"}, \"bgcolor\": \"#E5ECF6\", \"caxis\": {\"gridcolor\": \"white\", \"linecolor\": \"white\", \"ticks\": \"\"}}, \"title\": {\"x\": 0.05}, \"xaxis\": {\"automargin\": true, \"gridcolor\": \"white\", \"linecolor\": \"white\", \"ticks\": \"\", \"title\": {\"standoff\": 15}, \"zerolinecolor\": \"white\", \"zerolinewidth\": 2}, \"yaxis\": {\"automargin\": true, \"gridcolor\": \"white\", \"linecolor\": \"white\", \"ticks\": \"\", \"title\": {\"standoff\": 15}, \"zerolinecolor\": \"white\", \"zerolinewidth\": 2}}}, \"title\": {\"font\": {\"color\": \"#4D5663\"}}, \"xaxis\": {\"gridcolor\": \"#E1E5ED\", \"showgrid\": true, \"tickfont\": {\"color\": \"#4D5663\"}, \"title\": {\"font\": {\"color\": \"#4D5663\"}, \"text\": \"\"}, \"zerolinecolor\": \"#E1E5ED\"}, \"yaxis\": {\"gridcolor\": \"#E1E5ED\", \"showgrid\": true, \"tickfont\": {\"color\": \"#4D5663\"}, \"title\": {\"font\": {\"color\": \"#4D5663\"}, \"text\": \"\"}, \"zerolinecolor\": \"#E1E5ED\"}},\n",
       "                        {\"showLink\": true, \"linkText\": \"Export to plot.ly\", \"plotlyServerURL\": \"https://plot.ly\", \"responsive\": true}\n",
       "                    ).then(function(){\n",
       "                            \n",
       "var gd = document.getElementById('c049636f-db88-4b60-8088-3046890d4381');\n",
       "var x = new MutationObserver(function (mutations, observer) {{\n",
       "        var display = window.getComputedStyle(gd).display;\n",
       "        if (!display || display === 'none') {{\n",
       "            console.log([gd, 'removed!']);\n",
       "            Plotly.purge(gd);\n",
       "            observer.disconnect();\n",
       "        }}\n",
       "}});\n",
       "\n",
       "// Listen for the removal of the full notebook cells\n",
       "var notebookContainer = gd.closest('#notebook-container');\n",
       "if (notebookContainer) {{\n",
       "    x.observe(notebookContainer, {childList: true});\n",
       "}}\n",
       "\n",
       "// Listen for the clearing of the current output cell\n",
       "var outputEl = gd.closest('.output');\n",
       "if (outputEl) {{\n",
       "    x.observe(outputEl, {childList: true});\n",
       "}}\n",
       "\n",
       "                        })\n",
       "                };\n",
       "                });\n",
       "            </script>\n",
       "        </div>"
      ]
     },
     "metadata": {},
     "output_type": "display_data"
    }
   ],
   "source": [
    "df['A'].iplot(kind='hist',bins=25)"
   ]
  },
  {
   "cell_type": "code",
   "execution_count": 35,
   "metadata": {},
   "outputs": [
    {
     "data": {
      "application/vnd.plotly.v1+json": {
       "config": {
        "linkText": "Export to plot.ly",
        "plotlyServerURL": "https://plot.ly",
        "showLink": true
       },
       "data": [
        {
         "marker": {
          "color": [
           "rgb(255, 153, 51)",
           "rgb(55, 128, 191)",
           "rgb(50, 171, 96)",
           "rgb(128, 0, 128)",
           "rgb(219, 64, 82)",
           "rgb(0, 128, 128)",
           "rgb(255, 255, 51)",
           "rgb(128, 128, 0)",
           "rgb(251, 128, 114)",
           "rgb(128, 177, 211)"
          ],
          "line": {
           "width": 1.3
          },
          "size": [
           67,
           55,
           90,
           58,
           60,
           28,
           83,
           51,
           62,
           67,
           63,
           43,
           18,
           61,
           61,
           60,
           81,
           74,
           112,
           53,
           34,
           22,
           49,
           48,
           77,
           53,
           54,
           35,
           68,
           46,
           71,
           51,
           52,
           31,
           85,
           43,
           65,
           60,
           69,
           77,
           52,
           73,
           67,
           43,
           46,
           33,
           12,
           53,
           52,
           57,
           75,
           65,
           82,
           48,
           46,
           68,
           41,
           39,
           45,
           17,
           69,
           68,
           45,
           40,
           55,
           78,
           65,
           62,
           48,
           74,
           48,
           64,
           61,
           46,
           58,
           50,
           53,
           49,
           66,
           64,
           57,
           63,
           81,
           92,
           71,
           28,
           84,
           36,
           67,
           50,
           82,
           81,
           39,
           54,
           28,
           61,
           62,
           72,
           56,
           49
          ],
          "symbol": "circle"
         },
         "mode": "markers",
         "text": "",
         "type": "scatter",
         "x": [
          0.33530550154152494,
          0.09065339513616581,
          -0.01630297475032681,
          -0.07869977638765072,
          -0.11280955759602175,
          -0.1401151965190619,
          0.37726332968436377,
          0.9807848237014964,
          0.810497685246533,
          -0.5369994090996112,
          0.4665515681528577,
          -0.4027752710747494,
          0.8450873692592444,
          -1.6713871998577774,
          -0.5647159680856547,
          -1.0454373654393754,
          -0.19128198431349563,
          -0.08380197880652643,
          -0.6808409250243673,
          1.5314298215111735,
          -0.8472738029656343,
          2.016894424729286,
          0.5675939625303773,
          -0.12570665669379766,
          -2.9530064435370353,
          -0.7623240462719839,
          0.24650554670245756,
          0.677974153571497,
          0.34498118682073425,
          0.7050866228571876,
          0.48289759808491,
          0.19661274001139517,
          -0.10839634016900147,
          1.2955729007966614,
          -1.2080228686216006,
          -0.8868820384240231,
          -0.8504568442746137,
          -0.8592195770336528,
          0.23891912898121961,
          -0.390740080415598,
          0.7899539300986534,
          1.9073166225165692,
          0.7332345874800306,
          0.076279312025144,
          -0.1606368966839194,
          0.3722445893819746,
          0.6054925610989462,
          0.7956873319712157,
          0.9725100209690856,
          0.24018718772850134,
          -1.390060796293999,
          -1.7325819543366443,
          -1.0531172370304538,
          -0.8435755679018383,
          -1.8669241001205663,
          0.1430069081678792,
          0.3503266506041815,
          0.4798291478777767,
          0.5100131008826317,
          2.0749173355937347,
          -1.3690344750713008,
          -0.06876435799003278,
          -0.4505688369932266,
          1.078456943733188,
          0.30714997296703755,
          -0.4139398828429726,
          1.7895416427199355,
          0.776518393126592,
          1.1006209089834444,
          2.3663267206891385,
          -0.748679596212696,
          -0.8895687565692749,
          0.8656205411908345,
          0.41104469157294404,
          -0.609241534591123,
          -1.4383026828323873,
          0.26635612483594606,
          -1.8980379983631288,
          -1.738277833733187,
          -1.5289927281839082,
          0.23529718024963092,
          -0.08309493795682184,
          0.273378453933951,
          -0.4817320634709933,
          -0.1375488620604106,
          0.33783356180165247,
          0.6998816614904454,
          0.537709684336636,
          0.8069903649895979,
          -0.6731094896210476,
          1.443158574532866,
          1.2870986328443184,
          0.7035596946386531,
          -0.7921994935980345,
          -0.489915251036213,
          -0.5231506439766499,
          0.385676724326846,
          -0.09919321074167252,
          0.8202815108228418,
          1.2975442876253223
         ],
         "y": [
          -0.6760691106235645,
          0.18372206965000965,
          -0.34323330233492,
          -2.070801152584343,
          0.34577707775890487,
          2.1301507636241146,
          -0.5531762406825648,
          -0.7399323363908722,
          0.26241129162089216,
          -1.4337004355910643,
          -0.8594491355414683,
          -0.4912756822823481,
          0.583450794405381,
          -1.5045213827074095,
          1.752280268786307,
          -0.5863715567174779,
          -0.04012310455887652,
          1.9455806784460525,
          1.4257375049163175,
          -0.23411141816222264,
          -1.4491472757323403,
          -0.5833671584039474,
          -0.7529753578098609,
          0.10339329905994711,
          -0.004541122623439102,
          -1.7573449484289683,
          0.9043005711761228,
          -0.5799998214961695,
          -2.182073073509037,
          0.6117543628483829,
          -1.046866238177497,
          0.1451050144527596,
          -1.7091895613300523,
          0.7730883681592071,
          0.11046956239724635,
          0.860561453912868,
          1.7817168794154585,
          0.5941911948405838,
          1.7464390750714196,
          1.3443851144456052,
          -0.653941015096149,
          -0.6481687041989921,
          0.7565231993307985,
          -0.3377428990829017,
          -0.24165345197325094,
          -1.0946339421083284,
          -0.6566654045105857,
          1.4656164547884096,
          1.6971479352132062,
          0.06229333566246116,
          -0.33487264062175487,
          0.4575692496097571,
          -1.6218757011147977,
          -0.07516494673505354,
          1.2557900113465656,
          0.5178613245423704,
          0.5719740142416783,
          1.6678064203880918,
          1.2178665474743848,
          -0.7714648529472447,
          -0.21634347844280188,
          -0.058793758991811655,
          -1.3667740058247482,
          -0.47598627590409903,
          1.125778904159132,
          0.7835229441755038,
          0.09036040956928859,
          -0.15580677569506976,
          0.21970059205786405,
          -2.2347952553428714,
          0.30004649144884643,
          1.3109454582592848,
          0.580259232168523,
          -0.358579231338049,
          -1.21979233901239,
          -0.8050965907187663,
          1.836896105180095,
          -0.406968255985467,
          -0.6343369641269744,
          1.451527328603819,
          0.8033320096526525,
          -0.7679911742675111,
          -1.7453939281965098,
          -2.5858164646107724,
          -0.6622222603851182,
          -0.35412184689296267,
          -0.278741803965597,
          1.2277706222638571,
          -0.1364186492754009,
          -1.149210347160463,
          0.4790085316866908,
          0.8690059859342354,
          -0.5550546023569558,
          -0.5491642438620772,
          -0.9837564753414033,
          0.46931440157870213,
          -0.032044133111769284,
          -1.4470251258178546,
          0.20863537293074075,
          0.10224247082485786
         ]
        }
       ],
       "layout": {
        "legend": {
         "bgcolor": "#F5F6F9",
         "font": {
          "color": "#4D5663"
         }
        },
        "paper_bgcolor": "#F5F6F9",
        "plot_bgcolor": "#F5F6F9",
        "template": {
         "data": {
          "bar": [
           {
            "error_x": {
             "color": "#2a3f5f"
            },
            "error_y": {
             "color": "#2a3f5f"
            },
            "marker": {
             "line": {
              "color": "#E5ECF6",
              "width": 0.5
             }
            },
            "type": "bar"
           }
          ],
          "barpolar": [
           {
            "marker": {
             "line": {
              "color": "#E5ECF6",
              "width": 0.5
             }
            },
            "type": "barpolar"
           }
          ],
          "carpet": [
           {
            "aaxis": {
             "endlinecolor": "#2a3f5f",
             "gridcolor": "white",
             "linecolor": "white",
             "minorgridcolor": "white",
             "startlinecolor": "#2a3f5f"
            },
            "baxis": {
             "endlinecolor": "#2a3f5f",
             "gridcolor": "white",
             "linecolor": "white",
             "minorgridcolor": "white",
             "startlinecolor": "#2a3f5f"
            },
            "type": "carpet"
           }
          ],
          "choropleth": [
           {
            "colorbar": {
             "outlinewidth": 0,
             "ticks": ""
            },
            "type": "choropleth"
           }
          ],
          "contour": [
           {
            "colorbar": {
             "outlinewidth": 0,
             "ticks": ""
            },
            "colorscale": [
             [
              0,
              "#0d0887"
             ],
             [
              0.1111111111111111,
              "#46039f"
             ],
             [
              0.2222222222222222,
              "#7201a8"
             ],
             [
              0.3333333333333333,
              "#9c179e"
             ],
             [
              0.4444444444444444,
              "#bd3786"
             ],
             [
              0.5555555555555556,
              "#d8576b"
             ],
             [
              0.6666666666666666,
              "#ed7953"
             ],
             [
              0.7777777777777778,
              "#fb9f3a"
             ],
             [
              0.8888888888888888,
              "#fdca26"
             ],
             [
              1,
              "#f0f921"
             ]
            ],
            "type": "contour"
           }
          ],
          "contourcarpet": [
           {
            "colorbar": {
             "outlinewidth": 0,
             "ticks": ""
            },
            "type": "contourcarpet"
           }
          ],
          "heatmap": [
           {
            "colorbar": {
             "outlinewidth": 0,
             "ticks": ""
            },
            "colorscale": [
             [
              0,
              "#0d0887"
             ],
             [
              0.1111111111111111,
              "#46039f"
             ],
             [
              0.2222222222222222,
              "#7201a8"
             ],
             [
              0.3333333333333333,
              "#9c179e"
             ],
             [
              0.4444444444444444,
              "#bd3786"
             ],
             [
              0.5555555555555556,
              "#d8576b"
             ],
             [
              0.6666666666666666,
              "#ed7953"
             ],
             [
              0.7777777777777778,
              "#fb9f3a"
             ],
             [
              0.8888888888888888,
              "#fdca26"
             ],
             [
              1,
              "#f0f921"
             ]
            ],
            "type": "heatmap"
           }
          ],
          "heatmapgl": [
           {
            "colorbar": {
             "outlinewidth": 0,
             "ticks": ""
            },
            "colorscale": [
             [
              0,
              "#0d0887"
             ],
             [
              0.1111111111111111,
              "#46039f"
             ],
             [
              0.2222222222222222,
              "#7201a8"
             ],
             [
              0.3333333333333333,
              "#9c179e"
             ],
             [
              0.4444444444444444,
              "#bd3786"
             ],
             [
              0.5555555555555556,
              "#d8576b"
             ],
             [
              0.6666666666666666,
              "#ed7953"
             ],
             [
              0.7777777777777778,
              "#fb9f3a"
             ],
             [
              0.8888888888888888,
              "#fdca26"
             ],
             [
              1,
              "#f0f921"
             ]
            ],
            "type": "heatmapgl"
           }
          ],
          "histogram": [
           {
            "marker": {
             "colorbar": {
              "outlinewidth": 0,
              "ticks": ""
             }
            },
            "type": "histogram"
           }
          ],
          "histogram2d": [
           {
            "colorbar": {
             "outlinewidth": 0,
             "ticks": ""
            },
            "colorscale": [
             [
              0,
              "#0d0887"
             ],
             [
              0.1111111111111111,
              "#46039f"
             ],
             [
              0.2222222222222222,
              "#7201a8"
             ],
             [
              0.3333333333333333,
              "#9c179e"
             ],
             [
              0.4444444444444444,
              "#bd3786"
             ],
             [
              0.5555555555555556,
              "#d8576b"
             ],
             [
              0.6666666666666666,
              "#ed7953"
             ],
             [
              0.7777777777777778,
              "#fb9f3a"
             ],
             [
              0.8888888888888888,
              "#fdca26"
             ],
             [
              1,
              "#f0f921"
             ]
            ],
            "type": "histogram2d"
           }
          ],
          "histogram2dcontour": [
           {
            "colorbar": {
             "outlinewidth": 0,
             "ticks": ""
            },
            "colorscale": [
             [
              0,
              "#0d0887"
             ],
             [
              0.1111111111111111,
              "#46039f"
             ],
             [
              0.2222222222222222,
              "#7201a8"
             ],
             [
              0.3333333333333333,
              "#9c179e"
             ],
             [
              0.4444444444444444,
              "#bd3786"
             ],
             [
              0.5555555555555556,
              "#d8576b"
             ],
             [
              0.6666666666666666,
              "#ed7953"
             ],
             [
              0.7777777777777778,
              "#fb9f3a"
             ],
             [
              0.8888888888888888,
              "#fdca26"
             ],
             [
              1,
              "#f0f921"
             ]
            ],
            "type": "histogram2dcontour"
           }
          ],
          "mesh3d": [
           {
            "colorbar": {
             "outlinewidth": 0,
             "ticks": ""
            },
            "type": "mesh3d"
           }
          ],
          "parcoords": [
           {
            "line": {
             "colorbar": {
              "outlinewidth": 0,
              "ticks": ""
             }
            },
            "type": "parcoords"
           }
          ],
          "pie": [
           {
            "automargin": true,
            "type": "pie"
           }
          ],
          "scatter": [
           {
            "marker": {
             "colorbar": {
              "outlinewidth": 0,
              "ticks": ""
             }
            },
            "type": "scatter"
           }
          ],
          "scatter3d": [
           {
            "line": {
             "colorbar": {
              "outlinewidth": 0,
              "ticks": ""
             }
            },
            "marker": {
             "colorbar": {
              "outlinewidth": 0,
              "ticks": ""
             }
            },
            "type": "scatter3d"
           }
          ],
          "scattercarpet": [
           {
            "marker": {
             "colorbar": {
              "outlinewidth": 0,
              "ticks": ""
             }
            },
            "type": "scattercarpet"
           }
          ],
          "scattergeo": [
           {
            "marker": {
             "colorbar": {
              "outlinewidth": 0,
              "ticks": ""
             }
            },
            "type": "scattergeo"
           }
          ],
          "scattergl": [
           {
            "marker": {
             "colorbar": {
              "outlinewidth": 0,
              "ticks": ""
             }
            },
            "type": "scattergl"
           }
          ],
          "scattermapbox": [
           {
            "marker": {
             "colorbar": {
              "outlinewidth": 0,
              "ticks": ""
             }
            },
            "type": "scattermapbox"
           }
          ],
          "scatterpolar": [
           {
            "marker": {
             "colorbar": {
              "outlinewidth": 0,
              "ticks": ""
             }
            },
            "type": "scatterpolar"
           }
          ],
          "scatterpolargl": [
           {
            "marker": {
             "colorbar": {
              "outlinewidth": 0,
              "ticks": ""
             }
            },
            "type": "scatterpolargl"
           }
          ],
          "scatterternary": [
           {
            "marker": {
             "colorbar": {
              "outlinewidth": 0,
              "ticks": ""
             }
            },
            "type": "scatterternary"
           }
          ],
          "surface": [
           {
            "colorbar": {
             "outlinewidth": 0,
             "ticks": ""
            },
            "colorscale": [
             [
              0,
              "#0d0887"
             ],
             [
              0.1111111111111111,
              "#46039f"
             ],
             [
              0.2222222222222222,
              "#7201a8"
             ],
             [
              0.3333333333333333,
              "#9c179e"
             ],
             [
              0.4444444444444444,
              "#bd3786"
             ],
             [
              0.5555555555555556,
              "#d8576b"
             ],
             [
              0.6666666666666666,
              "#ed7953"
             ],
             [
              0.7777777777777778,
              "#fb9f3a"
             ],
             [
              0.8888888888888888,
              "#fdca26"
             ],
             [
              1,
              "#f0f921"
             ]
            ],
            "type": "surface"
           }
          ],
          "table": [
           {
            "cells": {
             "fill": {
              "color": "#EBF0F8"
             },
             "line": {
              "color": "white"
             }
            },
            "header": {
             "fill": {
              "color": "#C8D4E3"
             },
             "line": {
              "color": "white"
             }
            },
            "type": "table"
           }
          ]
         },
         "layout": {
          "annotationdefaults": {
           "arrowcolor": "#2a3f5f",
           "arrowhead": 0,
           "arrowwidth": 1
          },
          "coloraxis": {
           "colorbar": {
            "outlinewidth": 0,
            "ticks": ""
           }
          },
          "colorscale": {
           "diverging": [
            [
             0,
             "#8e0152"
            ],
            [
             0.1,
             "#c51b7d"
            ],
            [
             0.2,
             "#de77ae"
            ],
            [
             0.3,
             "#f1b6da"
            ],
            [
             0.4,
             "#fde0ef"
            ],
            [
             0.5,
             "#f7f7f7"
            ],
            [
             0.6,
             "#e6f5d0"
            ],
            [
             0.7,
             "#b8e186"
            ],
            [
             0.8,
             "#7fbc41"
            ],
            [
             0.9,
             "#4d9221"
            ],
            [
             1,
             "#276419"
            ]
           ],
           "sequential": [
            [
             0,
             "#0d0887"
            ],
            [
             0.1111111111111111,
             "#46039f"
            ],
            [
             0.2222222222222222,
             "#7201a8"
            ],
            [
             0.3333333333333333,
             "#9c179e"
            ],
            [
             0.4444444444444444,
             "#bd3786"
            ],
            [
             0.5555555555555556,
             "#d8576b"
            ],
            [
             0.6666666666666666,
             "#ed7953"
            ],
            [
             0.7777777777777778,
             "#fb9f3a"
            ],
            [
             0.8888888888888888,
             "#fdca26"
            ],
            [
             1,
             "#f0f921"
            ]
           ],
           "sequentialminus": [
            [
             0,
             "#0d0887"
            ],
            [
             0.1111111111111111,
             "#46039f"
            ],
            [
             0.2222222222222222,
             "#7201a8"
            ],
            [
             0.3333333333333333,
             "#9c179e"
            ],
            [
             0.4444444444444444,
             "#bd3786"
            ],
            [
             0.5555555555555556,
             "#d8576b"
            ],
            [
             0.6666666666666666,
             "#ed7953"
            ],
            [
             0.7777777777777778,
             "#fb9f3a"
            ],
            [
             0.8888888888888888,
             "#fdca26"
            ],
            [
             1,
             "#f0f921"
            ]
           ]
          },
          "colorway": [
           "#636efa",
           "#EF553B",
           "#00cc96",
           "#ab63fa",
           "#FFA15A",
           "#19d3f3",
           "#FF6692",
           "#B6E880",
           "#FF97FF",
           "#FECB52"
          ],
          "font": {
           "color": "#2a3f5f"
          },
          "geo": {
           "bgcolor": "white",
           "lakecolor": "white",
           "landcolor": "#E5ECF6",
           "showlakes": true,
           "showland": true,
           "subunitcolor": "white"
          },
          "hoverlabel": {
           "align": "left"
          },
          "hovermode": "closest",
          "mapbox": {
           "style": "light"
          },
          "paper_bgcolor": "white",
          "plot_bgcolor": "#E5ECF6",
          "polar": {
           "angularaxis": {
            "gridcolor": "white",
            "linecolor": "white",
            "ticks": ""
           },
           "bgcolor": "#E5ECF6",
           "radialaxis": {
            "gridcolor": "white",
            "linecolor": "white",
            "ticks": ""
           }
          },
          "scene": {
           "xaxis": {
            "backgroundcolor": "#E5ECF6",
            "gridcolor": "white",
            "gridwidth": 2,
            "linecolor": "white",
            "showbackground": true,
            "ticks": "",
            "zerolinecolor": "white"
           },
           "yaxis": {
            "backgroundcolor": "#E5ECF6",
            "gridcolor": "white",
            "gridwidth": 2,
            "linecolor": "white",
            "showbackground": true,
            "ticks": "",
            "zerolinecolor": "white"
           },
           "zaxis": {
            "backgroundcolor": "#E5ECF6",
            "gridcolor": "white",
            "gridwidth": 2,
            "linecolor": "white",
            "showbackground": true,
            "ticks": "",
            "zerolinecolor": "white"
           }
          },
          "shapedefaults": {
           "line": {
            "color": "#2a3f5f"
           }
          },
          "ternary": {
           "aaxis": {
            "gridcolor": "white",
            "linecolor": "white",
            "ticks": ""
           },
           "baxis": {
            "gridcolor": "white",
            "linecolor": "white",
            "ticks": ""
           },
           "bgcolor": "#E5ECF6",
           "caxis": {
            "gridcolor": "white",
            "linecolor": "white",
            "ticks": ""
           }
          },
          "title": {
           "x": 0.05
          },
          "xaxis": {
           "automargin": true,
           "gridcolor": "white",
           "linecolor": "white",
           "ticks": "",
           "title": {
            "standoff": 15
           },
           "zerolinecolor": "white",
           "zerolinewidth": 2
          },
          "yaxis": {
           "automargin": true,
           "gridcolor": "white",
           "linecolor": "white",
           "ticks": "",
           "title": {
            "standoff": 15
           },
           "zerolinecolor": "white",
           "zerolinewidth": 2
          }
         }
        },
        "title": {
         "font": {
          "color": "#4D5663"
         }
        },
        "xaxis": {
         "gridcolor": "#E1E5ED",
         "showgrid": true,
         "tickfont": {
          "color": "#4D5663"
         },
         "title": {
          "font": {
           "color": "#4D5663"
          },
          "text": ""
         },
         "zerolinecolor": "#E1E5ED"
        },
        "yaxis": {
         "gridcolor": "#E1E5ED",
         "showgrid": true,
         "tickfont": {
          "color": "#4D5663"
         },
         "title": {
          "font": {
           "color": "#4D5663"
          },
          "text": ""
         },
         "zerolinecolor": "#E1E5ED"
        }
       }
      },
      "text/html": [
       "<div>\n",
       "        \n",
       "        \n",
       "            <div id=\"f144200e-ce26-44fd-b858-8c7e37225abb\" class=\"plotly-graph-div\" style=\"height:525px; width:100%;\"></div>\n",
       "            <script type=\"text/javascript\">\n",
       "                require([\"plotly\"], function(Plotly) {\n",
       "                    window.PLOTLYENV=window.PLOTLYENV || {};\n",
       "                    window.PLOTLYENV.BASE_URL='https://plot.ly';\n",
       "                    \n",
       "                if (document.getElementById(\"f144200e-ce26-44fd-b858-8c7e37225abb\")) {\n",
       "                    Plotly.newPlot(\n",
       "                        'f144200e-ce26-44fd-b858-8c7e37225abb',\n",
       "                        [{\"marker\": {\"color\": [\"rgb(255, 153, 51)\", \"rgb(55, 128, 191)\", \"rgb(50, 171, 96)\", \"rgb(128, 0, 128)\", \"rgb(219, 64, 82)\", \"rgb(0, 128, 128)\", \"rgb(255, 255, 51)\", \"rgb(128, 128, 0)\", \"rgb(251, 128, 114)\", \"rgb(128, 177, 211)\"], \"line\": {\"width\": 1.3}, \"size\": [67, 55, 90, 58, 60, 28, 83, 51, 62, 67, 63, 43, 18, 61, 61, 60, 81, 74, 112, 53, 34, 22, 49, 48, 77, 53, 54, 35, 68, 46, 71, 51, 52, 31, 85, 43, 65, 60, 69, 77, 52, 73, 67, 43, 46, 33, 12, 53, 52, 57, 75, 65, 82, 48, 46, 68, 41, 39, 45, 17, 69, 68, 45, 40, 55, 78, 65, 62, 48, 74, 48, 64, 61, 46, 58, 50, 53, 49, 66, 64, 57, 63, 81, 92, 71, 28, 84, 36, 67, 50, 82, 81, 39, 54, 28, 61, 62, 72, 56, 49], \"symbol\": \"circle\"}, \"mode\": \"markers\", \"text\": \"\", \"type\": \"scatter\", \"x\": [0.33530550154152494, 0.09065339513616581, -0.01630297475032681, -0.07869977638765072, -0.11280955759602175, -0.1401151965190619, 0.37726332968436377, 0.9807848237014964, 0.810497685246533, -0.5369994090996112, 0.4665515681528577, -0.4027752710747494, 0.8450873692592444, -1.6713871998577774, -0.5647159680856547, -1.0454373654393754, -0.19128198431349563, -0.08380197880652643, -0.6808409250243673, 1.5314298215111735, -0.8472738029656343, 2.016894424729286, 0.5675939625303773, -0.12570665669379766, -2.9530064435370353, -0.7623240462719839, 0.24650554670245756, 0.677974153571497, 0.34498118682073425, 0.7050866228571876, 0.48289759808491, 0.19661274001139517, -0.10839634016900147, 1.2955729007966614, -1.2080228686216006, -0.8868820384240231, -0.8504568442746137, -0.8592195770336528, 0.23891912898121961, -0.390740080415598, 0.7899539300986534, 1.9073166225165692, 0.7332345874800306, 0.076279312025144, -0.1606368966839194, 0.3722445893819746, 0.6054925610989462, 0.7956873319712157, 0.9725100209690856, 0.24018718772850134, -1.390060796293999, -1.7325819543366443, -1.0531172370304538, -0.8435755679018383, -1.8669241001205663, 0.1430069081678792, 0.3503266506041815, 0.4798291478777767, 0.5100131008826317, 2.0749173355937347, -1.3690344750713008, -0.06876435799003278, -0.4505688369932266, 1.078456943733188, 0.30714997296703755, -0.4139398828429726, 1.7895416427199355, 0.776518393126592, 1.1006209089834444, 2.3663267206891385, -0.748679596212696, -0.8895687565692749, 0.8656205411908345, 0.41104469157294404, -0.609241534591123, -1.4383026828323873, 0.26635612483594606, -1.8980379983631288, -1.738277833733187, -1.5289927281839082, 0.23529718024963092, -0.08309493795682184, 0.273378453933951, -0.4817320634709933, -0.1375488620604106, 0.33783356180165247, 0.6998816614904454, 0.537709684336636, 0.8069903649895979, -0.6731094896210476, 1.443158574532866, 1.2870986328443184, 0.7035596946386531, -0.7921994935980345, -0.489915251036213, -0.5231506439766499, 0.385676724326846, -0.09919321074167252, 0.8202815108228418, 1.2975442876253223], \"y\": [-0.6760691106235645, 0.18372206965000965, -0.34323330233492, -2.070801152584343, 0.34577707775890487, 2.1301507636241146, -0.5531762406825648, -0.7399323363908722, 0.26241129162089216, -1.4337004355910643, -0.8594491355414683, -0.4912756822823481, 0.583450794405381, -1.5045213827074095, 1.752280268786307, -0.5863715567174779, -0.04012310455887652, 1.9455806784460525, 1.4257375049163175, -0.23411141816222264, -1.4491472757323403, -0.5833671584039474, -0.7529753578098609, 0.10339329905994711, -0.004541122623439102, -1.7573449484289683, 0.9043005711761228, -0.5799998214961695, -2.182073073509037, 0.6117543628483829, -1.046866238177497, 0.1451050144527596, -1.7091895613300523, 0.7730883681592071, 0.11046956239724635, 0.860561453912868, 1.7817168794154585, 0.5941911948405838, 1.7464390750714196, 1.3443851144456052, -0.653941015096149, -0.6481687041989921, 0.7565231993307985, -0.3377428990829017, -0.24165345197325094, -1.0946339421083284, -0.6566654045105857, 1.4656164547884096, 1.6971479352132062, 0.06229333566246116, -0.33487264062175487, 0.4575692496097571, -1.6218757011147977, -0.07516494673505354, 1.2557900113465656, 0.5178613245423704, 0.5719740142416783, 1.6678064203880918, 1.2178665474743848, -0.7714648529472447, -0.21634347844280188, -0.058793758991811655, -1.3667740058247482, -0.47598627590409903, 1.125778904159132, 0.7835229441755038, 0.09036040956928859, -0.15580677569506976, 0.21970059205786405, -2.2347952553428714, 0.30004649144884643, 1.3109454582592848, 0.580259232168523, -0.358579231338049, -1.21979233901239, -0.8050965907187663, 1.836896105180095, -0.406968255985467, -0.6343369641269744, 1.451527328603819, 0.8033320096526525, -0.7679911742675111, -1.7453939281965098, -2.5858164646107724, -0.6622222603851182, -0.35412184689296267, -0.278741803965597, 1.2277706222638571, -0.1364186492754009, -1.149210347160463, 0.4790085316866908, 0.8690059859342354, -0.5550546023569558, -0.5491642438620772, -0.9837564753414033, 0.46931440157870213, -0.032044133111769284, -1.4470251258178546, 0.20863537293074075, 0.10224247082485786]}],\n",
       "                        {\"legend\": {\"bgcolor\": \"#F5F6F9\", \"font\": {\"color\": \"#4D5663\"}}, \"paper_bgcolor\": \"#F5F6F9\", \"plot_bgcolor\": \"#F5F6F9\", \"template\": {\"data\": {\"bar\": [{\"error_x\": {\"color\": \"#2a3f5f\"}, \"error_y\": {\"color\": \"#2a3f5f\"}, \"marker\": {\"line\": {\"color\": \"#E5ECF6\", \"width\": 0.5}}, \"type\": \"bar\"}], \"barpolar\": [{\"marker\": {\"line\": {\"color\": \"#E5ECF6\", \"width\": 0.5}}, \"type\": \"barpolar\"}], \"carpet\": [{\"aaxis\": {\"endlinecolor\": \"#2a3f5f\", \"gridcolor\": \"white\", \"linecolor\": \"white\", \"minorgridcolor\": \"white\", \"startlinecolor\": \"#2a3f5f\"}, \"baxis\": {\"endlinecolor\": \"#2a3f5f\", \"gridcolor\": \"white\", \"linecolor\": \"white\", \"minorgridcolor\": \"white\", \"startlinecolor\": \"#2a3f5f\"}, \"type\": \"carpet\"}], \"choropleth\": [{\"colorbar\": {\"outlinewidth\": 0, \"ticks\": \"\"}, \"type\": \"choropleth\"}], \"contour\": [{\"colorbar\": {\"outlinewidth\": 0, \"ticks\": \"\"}, \"colorscale\": [[0.0, \"#0d0887\"], [0.1111111111111111, \"#46039f\"], [0.2222222222222222, \"#7201a8\"], [0.3333333333333333, \"#9c179e\"], [0.4444444444444444, \"#bd3786\"], [0.5555555555555556, \"#d8576b\"], [0.6666666666666666, \"#ed7953\"], [0.7777777777777778, \"#fb9f3a\"], [0.8888888888888888, \"#fdca26\"], [1.0, \"#f0f921\"]], \"type\": \"contour\"}], \"contourcarpet\": [{\"colorbar\": {\"outlinewidth\": 0, \"ticks\": \"\"}, \"type\": \"contourcarpet\"}], \"heatmap\": [{\"colorbar\": {\"outlinewidth\": 0, \"ticks\": \"\"}, \"colorscale\": [[0.0, \"#0d0887\"], [0.1111111111111111, \"#46039f\"], [0.2222222222222222, \"#7201a8\"], [0.3333333333333333, \"#9c179e\"], [0.4444444444444444, \"#bd3786\"], [0.5555555555555556, \"#d8576b\"], [0.6666666666666666, \"#ed7953\"], [0.7777777777777778, \"#fb9f3a\"], [0.8888888888888888, \"#fdca26\"], [1.0, \"#f0f921\"]], \"type\": \"heatmap\"}], \"heatmapgl\": [{\"colorbar\": {\"outlinewidth\": 0, \"ticks\": \"\"}, \"colorscale\": [[0.0, \"#0d0887\"], [0.1111111111111111, \"#46039f\"], [0.2222222222222222, \"#7201a8\"], [0.3333333333333333, \"#9c179e\"], [0.4444444444444444, \"#bd3786\"], [0.5555555555555556, \"#d8576b\"], [0.6666666666666666, \"#ed7953\"], [0.7777777777777778, \"#fb9f3a\"], [0.8888888888888888, \"#fdca26\"], [1.0, \"#f0f921\"]], \"type\": \"heatmapgl\"}], \"histogram\": [{\"marker\": {\"colorbar\": {\"outlinewidth\": 0, \"ticks\": \"\"}}, \"type\": \"histogram\"}], \"histogram2d\": [{\"colorbar\": {\"outlinewidth\": 0, \"ticks\": \"\"}, \"colorscale\": [[0.0, \"#0d0887\"], [0.1111111111111111, \"#46039f\"], [0.2222222222222222, \"#7201a8\"], [0.3333333333333333, \"#9c179e\"], [0.4444444444444444, \"#bd3786\"], [0.5555555555555556, \"#d8576b\"], [0.6666666666666666, \"#ed7953\"], [0.7777777777777778, \"#fb9f3a\"], [0.8888888888888888, \"#fdca26\"], [1.0, \"#f0f921\"]], \"type\": \"histogram2d\"}], \"histogram2dcontour\": [{\"colorbar\": {\"outlinewidth\": 0, \"ticks\": \"\"}, \"colorscale\": [[0.0, \"#0d0887\"], [0.1111111111111111, \"#46039f\"], [0.2222222222222222, \"#7201a8\"], [0.3333333333333333, \"#9c179e\"], [0.4444444444444444, \"#bd3786\"], [0.5555555555555556, \"#d8576b\"], [0.6666666666666666, \"#ed7953\"], [0.7777777777777778, \"#fb9f3a\"], [0.8888888888888888, \"#fdca26\"], [1.0, \"#f0f921\"]], \"type\": \"histogram2dcontour\"}], \"mesh3d\": [{\"colorbar\": {\"outlinewidth\": 0, \"ticks\": \"\"}, \"type\": \"mesh3d\"}], \"parcoords\": [{\"line\": {\"colorbar\": {\"outlinewidth\": 0, \"ticks\": \"\"}}, \"type\": \"parcoords\"}], \"pie\": [{\"automargin\": true, \"type\": \"pie\"}], \"scatter\": [{\"marker\": {\"colorbar\": {\"outlinewidth\": 0, \"ticks\": \"\"}}, \"type\": \"scatter\"}], \"scatter3d\": [{\"line\": {\"colorbar\": {\"outlinewidth\": 0, \"ticks\": \"\"}}, \"marker\": {\"colorbar\": {\"outlinewidth\": 0, \"ticks\": \"\"}}, \"type\": \"scatter3d\"}], \"scattercarpet\": [{\"marker\": {\"colorbar\": {\"outlinewidth\": 0, \"ticks\": \"\"}}, \"type\": \"scattercarpet\"}], \"scattergeo\": [{\"marker\": {\"colorbar\": {\"outlinewidth\": 0, \"ticks\": \"\"}}, \"type\": \"scattergeo\"}], \"scattergl\": [{\"marker\": {\"colorbar\": {\"outlinewidth\": 0, \"ticks\": \"\"}}, \"type\": \"scattergl\"}], \"scattermapbox\": [{\"marker\": {\"colorbar\": {\"outlinewidth\": 0, \"ticks\": \"\"}}, \"type\": \"scattermapbox\"}], \"scatterpolar\": [{\"marker\": {\"colorbar\": {\"outlinewidth\": 0, \"ticks\": \"\"}}, \"type\": \"scatterpolar\"}], \"scatterpolargl\": [{\"marker\": {\"colorbar\": {\"outlinewidth\": 0, \"ticks\": \"\"}}, \"type\": \"scatterpolargl\"}], \"scatterternary\": [{\"marker\": {\"colorbar\": {\"outlinewidth\": 0, \"ticks\": \"\"}}, \"type\": \"scatterternary\"}], \"surface\": [{\"colorbar\": {\"outlinewidth\": 0, \"ticks\": \"\"}, \"colorscale\": [[0.0, \"#0d0887\"], [0.1111111111111111, \"#46039f\"], [0.2222222222222222, \"#7201a8\"], [0.3333333333333333, \"#9c179e\"], [0.4444444444444444, \"#bd3786\"], [0.5555555555555556, \"#d8576b\"], [0.6666666666666666, \"#ed7953\"], [0.7777777777777778, \"#fb9f3a\"], [0.8888888888888888, \"#fdca26\"], [1.0, \"#f0f921\"]], \"type\": \"surface\"}], \"table\": [{\"cells\": {\"fill\": {\"color\": \"#EBF0F8\"}, \"line\": {\"color\": \"white\"}}, \"header\": {\"fill\": {\"color\": \"#C8D4E3\"}, \"line\": {\"color\": \"white\"}}, \"type\": \"table\"}]}, \"layout\": {\"annotationdefaults\": {\"arrowcolor\": \"#2a3f5f\", \"arrowhead\": 0, \"arrowwidth\": 1}, \"coloraxis\": {\"colorbar\": {\"outlinewidth\": 0, \"ticks\": \"\"}}, \"colorscale\": {\"diverging\": [[0, \"#8e0152\"], [0.1, \"#c51b7d\"], [0.2, \"#de77ae\"], [0.3, \"#f1b6da\"], [0.4, \"#fde0ef\"], [0.5, \"#f7f7f7\"], [0.6, \"#e6f5d0\"], [0.7, \"#b8e186\"], [0.8, \"#7fbc41\"], [0.9, \"#4d9221\"], [1, \"#276419\"]], \"sequential\": [[0.0, \"#0d0887\"], [0.1111111111111111, \"#46039f\"], [0.2222222222222222, \"#7201a8\"], [0.3333333333333333, \"#9c179e\"], [0.4444444444444444, \"#bd3786\"], [0.5555555555555556, \"#d8576b\"], [0.6666666666666666, \"#ed7953\"], [0.7777777777777778, \"#fb9f3a\"], [0.8888888888888888, \"#fdca26\"], [1.0, \"#f0f921\"]], \"sequentialminus\": [[0.0, \"#0d0887\"], [0.1111111111111111, \"#46039f\"], [0.2222222222222222, \"#7201a8\"], [0.3333333333333333, \"#9c179e\"], [0.4444444444444444, \"#bd3786\"], [0.5555555555555556, \"#d8576b\"], [0.6666666666666666, \"#ed7953\"], [0.7777777777777778, \"#fb9f3a\"], [0.8888888888888888, \"#fdca26\"], [1.0, \"#f0f921\"]]}, \"colorway\": [\"#636efa\", \"#EF553B\", \"#00cc96\", \"#ab63fa\", \"#FFA15A\", \"#19d3f3\", \"#FF6692\", \"#B6E880\", \"#FF97FF\", \"#FECB52\"], \"font\": {\"color\": \"#2a3f5f\"}, \"geo\": {\"bgcolor\": \"white\", \"lakecolor\": \"white\", \"landcolor\": \"#E5ECF6\", \"showlakes\": true, \"showland\": true, \"subunitcolor\": \"white\"}, \"hoverlabel\": {\"align\": \"left\"}, \"hovermode\": \"closest\", \"mapbox\": {\"style\": \"light\"}, \"paper_bgcolor\": \"white\", \"plot_bgcolor\": \"#E5ECF6\", \"polar\": {\"angularaxis\": {\"gridcolor\": \"white\", \"linecolor\": \"white\", \"ticks\": \"\"}, \"bgcolor\": \"#E5ECF6\", \"radialaxis\": {\"gridcolor\": \"white\", \"linecolor\": \"white\", \"ticks\": \"\"}}, \"scene\": {\"xaxis\": {\"backgroundcolor\": \"#E5ECF6\", \"gridcolor\": \"white\", \"gridwidth\": 2, \"linecolor\": \"white\", \"showbackground\": true, \"ticks\": \"\", \"zerolinecolor\": \"white\"}, \"yaxis\": {\"backgroundcolor\": \"#E5ECF6\", \"gridcolor\": \"white\", \"gridwidth\": 2, \"linecolor\": \"white\", \"showbackground\": true, \"ticks\": \"\", \"zerolinecolor\": \"white\"}, \"zaxis\": {\"backgroundcolor\": \"#E5ECF6\", \"gridcolor\": \"white\", \"gridwidth\": 2, \"linecolor\": \"white\", \"showbackground\": true, \"ticks\": \"\", \"zerolinecolor\": \"white\"}}, \"shapedefaults\": {\"line\": {\"color\": \"#2a3f5f\"}}, \"ternary\": {\"aaxis\": {\"gridcolor\": \"white\", \"linecolor\": \"white\", \"ticks\": \"\"}, \"baxis\": {\"gridcolor\": \"white\", \"linecolor\": \"white\", \"ticks\": \"\"}, \"bgcolor\": \"#E5ECF6\", \"caxis\": {\"gridcolor\": \"white\", \"linecolor\": \"white\", \"ticks\": \"\"}}, \"title\": {\"x\": 0.05}, \"xaxis\": {\"automargin\": true, \"gridcolor\": \"white\", \"linecolor\": \"white\", \"ticks\": \"\", \"title\": {\"standoff\": 15}, \"zerolinecolor\": \"white\", \"zerolinewidth\": 2}, \"yaxis\": {\"automargin\": true, \"gridcolor\": \"white\", \"linecolor\": \"white\", \"ticks\": \"\", \"title\": {\"standoff\": 15}, \"zerolinecolor\": \"white\", \"zerolinewidth\": 2}}}, \"title\": {\"font\": {\"color\": \"#4D5663\"}}, \"xaxis\": {\"gridcolor\": \"#E1E5ED\", \"showgrid\": true, \"tickfont\": {\"color\": \"#4D5663\"}, \"title\": {\"font\": {\"color\": \"#4D5663\"}, \"text\": \"\"}, \"zerolinecolor\": \"#E1E5ED\"}, \"yaxis\": {\"gridcolor\": \"#E1E5ED\", \"showgrid\": true, \"tickfont\": {\"color\": \"#4D5663\"}, \"title\": {\"font\": {\"color\": \"#4D5663\"}, \"text\": \"\"}, \"zerolinecolor\": \"#E1E5ED\"}},\n",
       "                        {\"showLink\": true, \"linkText\": \"Export to plot.ly\", \"plotlyServerURL\": \"https://plot.ly\", \"responsive\": true}\n",
       "                    ).then(function(){\n",
       "                            \n",
       "var gd = document.getElementById('f144200e-ce26-44fd-b858-8c7e37225abb');\n",
       "var x = new MutationObserver(function (mutations, observer) {{\n",
       "        var display = window.getComputedStyle(gd).display;\n",
       "        if (!display || display === 'none') {{\n",
       "            console.log([gd, 'removed!']);\n",
       "            Plotly.purge(gd);\n",
       "            observer.disconnect();\n",
       "        }}\n",
       "}});\n",
       "\n",
       "// Listen for the removal of the full notebook cells\n",
       "var notebookContainer = gd.closest('#notebook-container');\n",
       "if (notebookContainer) {{\n",
       "    x.observe(notebookContainer, {childList: true});\n",
       "}}\n",
       "\n",
       "// Listen for the clearing of the current output cell\n",
       "var outputEl = gd.closest('.output');\n",
       "if (outputEl) {{\n",
       "    x.observe(outputEl, {childList: true});\n",
       "}}\n",
       "\n",
       "                        })\n",
       "                };\n",
       "                });\n",
       "            </script>\n",
       "        </div>"
      ]
     },
     "metadata": {},
     "output_type": "display_data"
    }
   ],
   "source": [
    "df.iplot(kind='bubble',x='A',y='B',size='C')"
   ]
  },
  {
   "cell_type": "markdown",
   "metadata": {},
   "source": [
    "## scatter_matrix()\n",
    "\n",
    "Similar to sns.pairplot()"
   ]
  },
  {
   "cell_type": "code",
   "execution_count": 36,
   "metadata": {},
   "outputs": [
    {
     "data": {
      "application/vnd.plotly.v1+json": {
       "config": {
        "linkText": "Export to plot.ly",
        "plotlyServerURL": "https://plot.ly",
        "showLink": true
       },
       "data": [
        {
         "histfunc": "count",
         "histnorm": "",
         "marker": {
          "color": "rgba(255, 153, 51, 1.0)",
          "line": {
           "color": "#4D5663",
           "width": 1.3
          }
         },
         "name": "A",
         "nbinsx": 10,
         "opacity": 0.8,
         "orientation": "v",
         "type": "histogram",
         "x": [
          0.33530550154152494,
          0.09065339513616581,
          -0.01630297475032681,
          -0.07869977638765072,
          -0.11280955759602175,
          -0.1401151965190619,
          0.37726332968436377,
          0.9807848237014964,
          0.810497685246533,
          -0.5369994090996112,
          0.4665515681528577,
          -0.4027752710747494,
          0.8450873692592444,
          -1.6713871998577774,
          -0.5647159680856547,
          -1.0454373654393754,
          -0.19128198431349563,
          -0.08380197880652643,
          -0.6808409250243673,
          1.5314298215111735,
          -0.8472738029656343,
          2.016894424729286,
          0.5675939625303773,
          -0.12570665669379766,
          -2.9530064435370353,
          -0.7623240462719839,
          0.24650554670245756,
          0.677974153571497,
          0.34498118682073425,
          0.7050866228571876,
          0.48289759808491,
          0.19661274001139517,
          -0.10839634016900147,
          1.2955729007966614,
          -1.2080228686216006,
          -0.8868820384240231,
          -0.8504568442746137,
          -0.8592195770336528,
          0.23891912898121961,
          -0.390740080415598,
          0.7899539300986534,
          1.9073166225165692,
          0.7332345874800306,
          0.076279312025144,
          -0.1606368966839194,
          0.3722445893819746,
          0.6054925610989462,
          0.7956873319712157,
          0.9725100209690856,
          0.24018718772850134,
          -1.390060796293999,
          -1.7325819543366443,
          -1.0531172370304538,
          -0.8435755679018383,
          -1.8669241001205663,
          0.1430069081678792,
          0.3503266506041815,
          0.4798291478777767,
          0.5100131008826317,
          2.0749173355937347,
          -1.3690344750713008,
          -0.06876435799003278,
          -0.4505688369932266,
          1.078456943733188,
          0.30714997296703755,
          -0.4139398828429726,
          1.7895416427199355,
          0.776518393126592,
          1.1006209089834444,
          2.3663267206891385,
          -0.748679596212696,
          -0.8895687565692749,
          0.8656205411908345,
          0.41104469157294404,
          -0.609241534591123,
          -1.4383026828323873,
          0.26635612483594606,
          -1.8980379983631288,
          -1.738277833733187,
          -1.5289927281839082,
          0.23529718024963092,
          -0.08309493795682184,
          0.273378453933951,
          -0.4817320634709933,
          -0.1375488620604106,
          0.33783356180165247,
          0.6998816614904454,
          0.537709684336636,
          0.8069903649895979,
          -0.6731094896210476,
          1.443158574532866,
          1.2870986328443184,
          0.7035596946386531,
          -0.7921994935980345,
          -0.489915251036213,
          -0.5231506439766499,
          0.385676724326846,
          -0.09919321074167252,
          0.8202815108228418,
          1.2975442876253223
         ],
         "xaxis": "x",
         "yaxis": "y"
        },
        {
         "line": {
          "color": "rgba(128, 128, 128, 1.0)",
          "dash": "solid",
          "shape": "linear",
          "width": 1.3
         },
         "marker": {
          "size": 2,
          "symbol": "circle"
         },
         "mode": "markers",
         "name": "A",
         "text": "",
         "type": "scatter",
         "x": [
          -0.6760691106235645,
          0.18372206965000965,
          -0.34323330233492,
          -2.070801152584343,
          0.34577707775890487,
          2.1301507636241146,
          -0.5531762406825648,
          -0.7399323363908722,
          0.26241129162089216,
          -1.4337004355910643,
          -0.8594491355414683,
          -0.4912756822823481,
          0.583450794405381,
          -1.5045213827074095,
          1.752280268786307,
          -0.5863715567174779,
          -0.04012310455887652,
          1.9455806784460525,
          1.4257375049163175,
          -0.23411141816222264,
          -1.4491472757323403,
          -0.5833671584039474,
          -0.7529753578098609,
          0.10339329905994711,
          -0.004541122623439102,
          -1.7573449484289683,
          0.9043005711761228,
          -0.5799998214961695,
          -2.182073073509037,
          0.6117543628483829,
          -1.046866238177497,
          0.1451050144527596,
          -1.7091895613300523,
          0.7730883681592071,
          0.11046956239724635,
          0.860561453912868,
          1.7817168794154585,
          0.5941911948405838,
          1.7464390750714196,
          1.3443851144456052,
          -0.653941015096149,
          -0.6481687041989921,
          0.7565231993307985,
          -0.3377428990829017,
          -0.24165345197325094,
          -1.0946339421083284,
          -0.6566654045105857,
          1.4656164547884096,
          1.6971479352132062,
          0.06229333566246116,
          -0.33487264062175487,
          0.4575692496097571,
          -1.6218757011147977,
          -0.07516494673505354,
          1.2557900113465656,
          0.5178613245423704,
          0.5719740142416783,
          1.6678064203880918,
          1.2178665474743848,
          -0.7714648529472447,
          -0.21634347844280188,
          -0.058793758991811655,
          -1.3667740058247482,
          -0.47598627590409903,
          1.125778904159132,
          0.7835229441755038,
          0.09036040956928859,
          -0.15580677569506976,
          0.21970059205786405,
          -2.2347952553428714,
          0.30004649144884643,
          1.3109454582592848,
          0.580259232168523,
          -0.358579231338049,
          -1.21979233901239,
          -0.8050965907187663,
          1.836896105180095,
          -0.406968255985467,
          -0.6343369641269744,
          1.451527328603819,
          0.8033320096526525,
          -0.7679911742675111,
          -1.7453939281965098,
          -2.5858164646107724,
          -0.6622222603851182,
          -0.35412184689296267,
          -0.278741803965597,
          1.2277706222638571,
          -0.1364186492754009,
          -1.149210347160463,
          0.4790085316866908,
          0.8690059859342354,
          -0.5550546023569558,
          -0.5491642438620772,
          -0.9837564753414033,
          0.46931440157870213,
          -0.032044133111769284,
          -1.4470251258178546,
          0.20863537293074075,
          0.10224247082485786
         ],
         "xaxis": "x2",
         "y": [
          0.33530550154152494,
          0.09065339513616581,
          -0.01630297475032681,
          -0.07869977638765072,
          -0.11280955759602175,
          -0.1401151965190619,
          0.37726332968436377,
          0.9807848237014964,
          0.810497685246533,
          -0.5369994090996112,
          0.4665515681528577,
          -0.4027752710747494,
          0.8450873692592444,
          -1.6713871998577774,
          -0.5647159680856547,
          -1.0454373654393754,
          -0.19128198431349563,
          -0.08380197880652643,
          -0.6808409250243673,
          1.5314298215111735,
          -0.8472738029656343,
          2.016894424729286,
          0.5675939625303773,
          -0.12570665669379766,
          -2.9530064435370353,
          -0.7623240462719839,
          0.24650554670245756,
          0.677974153571497,
          0.34498118682073425,
          0.7050866228571876,
          0.48289759808491,
          0.19661274001139517,
          -0.10839634016900147,
          1.2955729007966614,
          -1.2080228686216006,
          -0.8868820384240231,
          -0.8504568442746137,
          -0.8592195770336528,
          0.23891912898121961,
          -0.390740080415598,
          0.7899539300986534,
          1.9073166225165692,
          0.7332345874800306,
          0.076279312025144,
          -0.1606368966839194,
          0.3722445893819746,
          0.6054925610989462,
          0.7956873319712157,
          0.9725100209690856,
          0.24018718772850134,
          -1.390060796293999,
          -1.7325819543366443,
          -1.0531172370304538,
          -0.8435755679018383,
          -1.8669241001205663,
          0.1430069081678792,
          0.3503266506041815,
          0.4798291478777767,
          0.5100131008826317,
          2.0749173355937347,
          -1.3690344750713008,
          -0.06876435799003278,
          -0.4505688369932266,
          1.078456943733188,
          0.30714997296703755,
          -0.4139398828429726,
          1.7895416427199355,
          0.776518393126592,
          1.1006209089834444,
          2.3663267206891385,
          -0.748679596212696,
          -0.8895687565692749,
          0.8656205411908345,
          0.41104469157294404,
          -0.609241534591123,
          -1.4383026828323873,
          0.26635612483594606,
          -1.8980379983631288,
          -1.738277833733187,
          -1.5289927281839082,
          0.23529718024963092,
          -0.08309493795682184,
          0.273378453933951,
          -0.4817320634709933,
          -0.1375488620604106,
          0.33783356180165247,
          0.6998816614904454,
          0.537709684336636,
          0.8069903649895979,
          -0.6731094896210476,
          1.443158574532866,
          1.2870986328443184,
          0.7035596946386531,
          -0.7921994935980345,
          -0.489915251036213,
          -0.5231506439766499,
          0.385676724326846,
          -0.09919321074167252,
          0.8202815108228418,
          1.2975442876253223
         ],
         "yaxis": "y2"
        },
        {
         "line": {
          "color": "rgba(128, 128, 128, 1.0)",
          "dash": "solid",
          "shape": "linear",
          "width": 1.3
         },
         "marker": {
          "size": 2,
          "symbol": "circle"
         },
         "mode": "markers",
         "name": "A",
         "text": "",
         "type": "scatter",
         "x": [
          0.4976635153390595,
          -0.21790464096552933,
          1.8770568401163243,
          -0.08406329467212004,
          0.05047910130544238,
          -1.863119628570406,
          1.446686846495153,
          -0.4672959564642441,
          0.17173494323369048,
          0.48510954634981424,
          0.25894409234384486,
          -0.9907031509616347,
          -2.4765792073811785,
          0.13222033594138874,
          0.1443372495251389,
          0.09192344590453913,
          1.363885521029763,
          0.9197398757088081,
          3.1928661368771363,
          -0.34532606934295906,
          -1.507993249260039,
          -2.2560123287121083,
          -0.6038699413830702,
          -0.684452821760146,
          1.1194954883913042,
          -0.3846851354573298,
          -0.3194957124760941,
          -1.4704541460822047,
          0.572481472517222,
          -0.7872909127878106,
          0.7119242579447129,
          -0.5060207969696873,
          -0.40581934035404,
          -1.689273216260599,
          1.5823761755509458,
          -0.9700587722108596,
          0.35284881883627267,
          0.07924865304953307,
          0.6023573355088919,
          1.1202598058899436,
          -0.4477991916778235,
          0.8288463153154215,
          0.49772006964362825,
          -0.9505049971937803,
          -0.8140694642569831,
          -1.5529584699026207,
          -2.8809889027391304,
          -0.3417047889214654,
          -0.4084512140100783,
          -0.10456338893965307,
          0.9750386663920425,
          0.3946273695069198,
          1.3859616732854472,
          -0.6559827031709952,
          -0.7596889618125324,
          0.577932974981754,
          -1.0852209880182069,
          -1.2301294141994743,
          -0.8506515510864039,
          -2.5556952466223506,
          0.6004778581018496,
          0.5606158727475441,
          -0.8738107488147265,
          -1.1686346897067181,
          -0.20877839887826147,
          1.180163364462233,
          0.36535104793371614,
          0.2073904589342936,
          -0.6555404560646885,
          0.8881599742336906,
          -0.6711198606757098,
          0.3043941689392284,
          0.1258776385388952,
          -0.8051862402866529,
          -0.08028806660732918,
          -0.5167021376486441,
          -0.3346278148569162,
          -0.5744857100427638,
          0.41274885195909183,
          0.3270866038813453,
          -0.08857726307529906,
          0.26419135206184197,
          1.338994160548854,
          1.9992795048884158,
          0.7141750750859873,
          -1.888414529239671,
          1.4929320822433116,
          -1.3935753058577032,
          0.4786657984036205,
          -0.5662358279373066,
          1.3853965021502659,
          1.310768730747306,
          -1.2195161056820787,
          -0.30134328416469597,
          -1.8628772101274784,
          0.13656636905168743,
          0.15866495799556496,
          0.7753693348344339,
          -0.16909181430015702,
          -0.6141646672866208
         ],
         "xaxis": "x3",
         "y": [
          0.33530550154152494,
          0.09065339513616581,
          -0.01630297475032681,
          -0.07869977638765072,
          -0.11280955759602175,
          -0.1401151965190619,
          0.37726332968436377,
          0.9807848237014964,
          0.810497685246533,
          -0.5369994090996112,
          0.4665515681528577,
          -0.4027752710747494,
          0.8450873692592444,
          -1.6713871998577774,
          -0.5647159680856547,
          -1.0454373654393754,
          -0.19128198431349563,
          -0.08380197880652643,
          -0.6808409250243673,
          1.5314298215111735,
          -0.8472738029656343,
          2.016894424729286,
          0.5675939625303773,
          -0.12570665669379766,
          -2.9530064435370353,
          -0.7623240462719839,
          0.24650554670245756,
          0.677974153571497,
          0.34498118682073425,
          0.7050866228571876,
          0.48289759808491,
          0.19661274001139517,
          -0.10839634016900147,
          1.2955729007966614,
          -1.2080228686216006,
          -0.8868820384240231,
          -0.8504568442746137,
          -0.8592195770336528,
          0.23891912898121961,
          -0.390740080415598,
          0.7899539300986534,
          1.9073166225165692,
          0.7332345874800306,
          0.076279312025144,
          -0.1606368966839194,
          0.3722445893819746,
          0.6054925610989462,
          0.7956873319712157,
          0.9725100209690856,
          0.24018718772850134,
          -1.390060796293999,
          -1.7325819543366443,
          -1.0531172370304538,
          -0.8435755679018383,
          -1.8669241001205663,
          0.1430069081678792,
          0.3503266506041815,
          0.4798291478777767,
          0.5100131008826317,
          2.0749173355937347,
          -1.3690344750713008,
          -0.06876435799003278,
          -0.4505688369932266,
          1.078456943733188,
          0.30714997296703755,
          -0.4139398828429726,
          1.7895416427199355,
          0.776518393126592,
          1.1006209089834444,
          2.3663267206891385,
          -0.748679596212696,
          -0.8895687565692749,
          0.8656205411908345,
          0.41104469157294404,
          -0.609241534591123,
          -1.4383026828323873,
          0.26635612483594606,
          -1.8980379983631288,
          -1.738277833733187,
          -1.5289927281839082,
          0.23529718024963092,
          -0.08309493795682184,
          0.273378453933951,
          -0.4817320634709933,
          -0.1375488620604106,
          0.33783356180165247,
          0.6998816614904454,
          0.537709684336636,
          0.8069903649895979,
          -0.6731094896210476,
          1.443158574532866,
          1.2870986328443184,
          0.7035596946386531,
          -0.7921994935980345,
          -0.489915251036213,
          -0.5231506439766499,
          0.385676724326846,
          -0.09919321074167252,
          0.8202815108228418,
          1.2975442876253223
         ],
         "yaxis": "y3"
        },
        {
         "line": {
          "color": "rgba(128, 128, 128, 1.0)",
          "dash": "solid",
          "shape": "linear",
          "width": 1.3
         },
         "marker": {
          "size": 2,
          "symbol": "circle"
         },
         "mode": "markers",
         "name": "A",
         "text": "",
         "type": "scatter",
         "x": [
          -0.48422610212364575,
          1.5720740917937719,
          0.29417676876254484,
          0.40695172654422823,
          1.8457057994470416,
          -0.22952687758607296,
          -1.4110412284931044,
          0.6622101937639742,
          0.2592665157840242,
          -1.1303136586350027,
          -0.9599244711714722,
          -2.9186523196758443,
          -1.220473307280125,
          -1.2845916926982326,
          0.695535527521974,
          -0.9410364272007093,
          -1.054438031492874,
          0.5786441680218358,
          -0.0009718609257263874,
          0.18385236601283705,
          0.8318731750611098,
          -1.2931331157932895,
          -0.473766295947915,
          0.21989469373577272,
          0.751519393731062,
          -0.8012409929519795,
          0.15717088097675325,
          0.08775590090120683,
          -1.5558711389261641,
          1.9100101943226668,
          -0.15024764424622192,
          -1.0873795965963182,
          0.6221884644119188,
          -0.7535658454708033,
          1.5420181648169597,
          0.43343134106589176,
          -0.7626239289295567,
          -0.11348077823666365,
          -0.4513994686538723,
          -1.3407248052036569,
          -1.1427204975189829,
          0.38490878622382924,
          1.1918871947298688,
          -1.1973844029991414,
          0.4427464888319099,
          -1.1165564301063253,
          0.45268501115174387,
          -0.7867863308971418,
          -0.40074023156815547,
          -0.09075355010727543,
          -0.9092733551878476,
          1.4801414765327043,
          -0.4864947224254879,
          -0.23553281518066121,
          -0.2604302198504222,
          -2.132184211795599,
          1.6263417593658696,
          0.10511365671282863,
          -0.7410307229762749,
          -0.27093812808134227,
          -0.34702317462092325,
          -0.34518985162498145,
          1.3833305918126406,
          0.41893754318194665,
          0.8749548193155436,
          -1.8505471278177148,
          -0.7245909334187343,
          -1.5919431295609106,
          -0.03634213035411084,
          -0.8349045571560765,
          -1.4844417570109985,
          -1.1863614757506453,
          0.7976643520601201,
          -0.8220721158635732,
          0.8865084569468012,
          0.6211572391849196,
          0.44190214365607716,
          0.25241338736425195,
          -0.8611530763022871,
          0.03612345805337376,
          -0.22931884616308534,
          0.3036281352810886,
          0.28167047279521784,
          -1.0826462314722138,
          -0.43986928804430997,
          1.2566381357755039,
          0.5991147482153631,
          -0.7182811491327988,
          1.008991043079794,
          -0.00942881536656502,
          -0.5174739528077554,
          0.5597354180307877,
          -1.37114336207063,
          0.6087502156043381,
          -0.6738609551229755,
          0.8082999592912838,
          -0.9025518546702369,
          -1.3890791489736931,
          1.365786540799907,
          -0.7780683191686512
         ],
         "xaxis": "x4",
         "y": [
          0.33530550154152494,
          0.09065339513616581,
          -0.01630297475032681,
          -0.07869977638765072,
          -0.11280955759602175,
          -0.1401151965190619,
          0.37726332968436377,
          0.9807848237014964,
          0.810497685246533,
          -0.5369994090996112,
          0.4665515681528577,
          -0.4027752710747494,
          0.8450873692592444,
          -1.6713871998577774,
          -0.5647159680856547,
          -1.0454373654393754,
          -0.19128198431349563,
          -0.08380197880652643,
          -0.6808409250243673,
          1.5314298215111735,
          -0.8472738029656343,
          2.016894424729286,
          0.5675939625303773,
          -0.12570665669379766,
          -2.9530064435370353,
          -0.7623240462719839,
          0.24650554670245756,
          0.677974153571497,
          0.34498118682073425,
          0.7050866228571876,
          0.48289759808491,
          0.19661274001139517,
          -0.10839634016900147,
          1.2955729007966614,
          -1.2080228686216006,
          -0.8868820384240231,
          -0.8504568442746137,
          -0.8592195770336528,
          0.23891912898121961,
          -0.390740080415598,
          0.7899539300986534,
          1.9073166225165692,
          0.7332345874800306,
          0.076279312025144,
          -0.1606368966839194,
          0.3722445893819746,
          0.6054925610989462,
          0.7956873319712157,
          0.9725100209690856,
          0.24018718772850134,
          -1.390060796293999,
          -1.7325819543366443,
          -1.0531172370304538,
          -0.8435755679018383,
          -1.8669241001205663,
          0.1430069081678792,
          0.3503266506041815,
          0.4798291478777767,
          0.5100131008826317,
          2.0749173355937347,
          -1.3690344750713008,
          -0.06876435799003278,
          -0.4505688369932266,
          1.078456943733188,
          0.30714997296703755,
          -0.4139398828429726,
          1.7895416427199355,
          0.776518393126592,
          1.1006209089834444,
          2.3663267206891385,
          -0.748679596212696,
          -0.8895687565692749,
          0.8656205411908345,
          0.41104469157294404,
          -0.609241534591123,
          -1.4383026828323873,
          0.26635612483594606,
          -1.8980379983631288,
          -1.738277833733187,
          -1.5289927281839082,
          0.23529718024963092,
          -0.08309493795682184,
          0.273378453933951,
          -0.4817320634709933,
          -0.1375488620604106,
          0.33783356180165247,
          0.6998816614904454,
          0.537709684336636,
          0.8069903649895979,
          -0.6731094896210476,
          1.443158574532866,
          1.2870986328443184,
          0.7035596946386531,
          -0.7921994935980345,
          -0.489915251036213,
          -0.5231506439766499,
          0.385676724326846,
          -0.09919321074167252,
          0.8202815108228418,
          1.2975442876253223
         ],
         "yaxis": "y4"
        },
        {
         "line": {
          "color": "rgba(128, 128, 128, 1.0)",
          "dash": "solid",
          "shape": "linear",
          "width": 1.3
         },
         "marker": {
          "size": 2,
          "symbol": "circle"
         },
         "mode": "markers",
         "name": "B",
         "text": "",
         "type": "scatter",
         "x": [
          0.33530550154152494,
          0.09065339513616581,
          -0.01630297475032681,
          -0.07869977638765072,
          -0.11280955759602175,
          -0.1401151965190619,
          0.37726332968436377,
          0.9807848237014964,
          0.810497685246533,
          -0.5369994090996112,
          0.4665515681528577,
          -0.4027752710747494,
          0.8450873692592444,
          -1.6713871998577774,
          -0.5647159680856547,
          -1.0454373654393754,
          -0.19128198431349563,
          -0.08380197880652643,
          -0.6808409250243673,
          1.5314298215111735,
          -0.8472738029656343,
          2.016894424729286,
          0.5675939625303773,
          -0.12570665669379766,
          -2.9530064435370353,
          -0.7623240462719839,
          0.24650554670245756,
          0.677974153571497,
          0.34498118682073425,
          0.7050866228571876,
          0.48289759808491,
          0.19661274001139517,
          -0.10839634016900147,
          1.2955729007966614,
          -1.2080228686216006,
          -0.8868820384240231,
          -0.8504568442746137,
          -0.8592195770336528,
          0.23891912898121961,
          -0.390740080415598,
          0.7899539300986534,
          1.9073166225165692,
          0.7332345874800306,
          0.076279312025144,
          -0.1606368966839194,
          0.3722445893819746,
          0.6054925610989462,
          0.7956873319712157,
          0.9725100209690856,
          0.24018718772850134,
          -1.390060796293999,
          -1.7325819543366443,
          -1.0531172370304538,
          -0.8435755679018383,
          -1.8669241001205663,
          0.1430069081678792,
          0.3503266506041815,
          0.4798291478777767,
          0.5100131008826317,
          2.0749173355937347,
          -1.3690344750713008,
          -0.06876435799003278,
          -0.4505688369932266,
          1.078456943733188,
          0.30714997296703755,
          -0.4139398828429726,
          1.7895416427199355,
          0.776518393126592,
          1.1006209089834444,
          2.3663267206891385,
          -0.748679596212696,
          -0.8895687565692749,
          0.8656205411908345,
          0.41104469157294404,
          -0.609241534591123,
          -1.4383026828323873,
          0.26635612483594606,
          -1.8980379983631288,
          -1.738277833733187,
          -1.5289927281839082,
          0.23529718024963092,
          -0.08309493795682184,
          0.273378453933951,
          -0.4817320634709933,
          -0.1375488620604106,
          0.33783356180165247,
          0.6998816614904454,
          0.537709684336636,
          0.8069903649895979,
          -0.6731094896210476,
          1.443158574532866,
          1.2870986328443184,
          0.7035596946386531,
          -0.7921994935980345,
          -0.489915251036213,
          -0.5231506439766499,
          0.385676724326846,
          -0.09919321074167252,
          0.8202815108228418,
          1.2975442876253223
         ],
         "xaxis": "x5",
         "y": [
          -0.6760691106235645,
          0.18372206965000965,
          -0.34323330233492,
          -2.070801152584343,
          0.34577707775890487,
          2.1301507636241146,
          -0.5531762406825648,
          -0.7399323363908722,
          0.26241129162089216,
          -1.4337004355910643,
          -0.8594491355414683,
          -0.4912756822823481,
          0.583450794405381,
          -1.5045213827074095,
          1.752280268786307,
          -0.5863715567174779,
          -0.04012310455887652,
          1.9455806784460525,
          1.4257375049163175,
          -0.23411141816222264,
          -1.4491472757323403,
          -0.5833671584039474,
          -0.7529753578098609,
          0.10339329905994711,
          -0.004541122623439102,
          -1.7573449484289683,
          0.9043005711761228,
          -0.5799998214961695,
          -2.182073073509037,
          0.6117543628483829,
          -1.046866238177497,
          0.1451050144527596,
          -1.7091895613300523,
          0.7730883681592071,
          0.11046956239724635,
          0.860561453912868,
          1.7817168794154585,
          0.5941911948405838,
          1.7464390750714196,
          1.3443851144456052,
          -0.653941015096149,
          -0.6481687041989921,
          0.7565231993307985,
          -0.3377428990829017,
          -0.24165345197325094,
          -1.0946339421083284,
          -0.6566654045105857,
          1.4656164547884096,
          1.6971479352132062,
          0.06229333566246116,
          -0.33487264062175487,
          0.4575692496097571,
          -1.6218757011147977,
          -0.07516494673505354,
          1.2557900113465656,
          0.5178613245423704,
          0.5719740142416783,
          1.6678064203880918,
          1.2178665474743848,
          -0.7714648529472447,
          -0.21634347844280188,
          -0.058793758991811655,
          -1.3667740058247482,
          -0.47598627590409903,
          1.125778904159132,
          0.7835229441755038,
          0.09036040956928859,
          -0.15580677569506976,
          0.21970059205786405,
          -2.2347952553428714,
          0.30004649144884643,
          1.3109454582592848,
          0.580259232168523,
          -0.358579231338049,
          -1.21979233901239,
          -0.8050965907187663,
          1.836896105180095,
          -0.406968255985467,
          -0.6343369641269744,
          1.451527328603819,
          0.8033320096526525,
          -0.7679911742675111,
          -1.7453939281965098,
          -2.5858164646107724,
          -0.6622222603851182,
          -0.35412184689296267,
          -0.278741803965597,
          1.2277706222638571,
          -0.1364186492754009,
          -1.149210347160463,
          0.4790085316866908,
          0.8690059859342354,
          -0.5550546023569558,
          -0.5491642438620772,
          -0.9837564753414033,
          0.46931440157870213,
          -0.032044133111769284,
          -1.4470251258178546,
          0.20863537293074075,
          0.10224247082485786
         ],
         "yaxis": "y5"
        },
        {
         "histfunc": "count",
         "histnorm": "",
         "marker": {
          "color": "rgba(55, 128, 191, 1.0)",
          "line": {
           "color": "#4D5663",
           "width": 1.3
          }
         },
         "name": "B",
         "nbinsx": 10,
         "opacity": 0.8,
         "orientation": "v",
         "type": "histogram",
         "x": [
          -0.6760691106235645,
          0.18372206965000965,
          -0.34323330233492,
          -2.070801152584343,
          0.34577707775890487,
          2.1301507636241146,
          -0.5531762406825648,
          -0.7399323363908722,
          0.26241129162089216,
          -1.4337004355910643,
          -0.8594491355414683,
          -0.4912756822823481,
          0.583450794405381,
          -1.5045213827074095,
          1.752280268786307,
          -0.5863715567174779,
          -0.04012310455887652,
          1.9455806784460525,
          1.4257375049163175,
          -0.23411141816222264,
          -1.4491472757323403,
          -0.5833671584039474,
          -0.7529753578098609,
          0.10339329905994711,
          -0.004541122623439102,
          -1.7573449484289683,
          0.9043005711761228,
          -0.5799998214961695,
          -2.182073073509037,
          0.6117543628483829,
          -1.046866238177497,
          0.1451050144527596,
          -1.7091895613300523,
          0.7730883681592071,
          0.11046956239724635,
          0.860561453912868,
          1.7817168794154585,
          0.5941911948405838,
          1.7464390750714196,
          1.3443851144456052,
          -0.653941015096149,
          -0.6481687041989921,
          0.7565231993307985,
          -0.3377428990829017,
          -0.24165345197325094,
          -1.0946339421083284,
          -0.6566654045105857,
          1.4656164547884096,
          1.6971479352132062,
          0.06229333566246116,
          -0.33487264062175487,
          0.4575692496097571,
          -1.6218757011147977,
          -0.07516494673505354,
          1.2557900113465656,
          0.5178613245423704,
          0.5719740142416783,
          1.6678064203880918,
          1.2178665474743848,
          -0.7714648529472447,
          -0.21634347844280188,
          -0.058793758991811655,
          -1.3667740058247482,
          -0.47598627590409903,
          1.125778904159132,
          0.7835229441755038,
          0.09036040956928859,
          -0.15580677569506976,
          0.21970059205786405,
          -2.2347952553428714,
          0.30004649144884643,
          1.3109454582592848,
          0.580259232168523,
          -0.358579231338049,
          -1.21979233901239,
          -0.8050965907187663,
          1.836896105180095,
          -0.406968255985467,
          -0.6343369641269744,
          1.451527328603819,
          0.8033320096526525,
          -0.7679911742675111,
          -1.7453939281965098,
          -2.5858164646107724,
          -0.6622222603851182,
          -0.35412184689296267,
          -0.278741803965597,
          1.2277706222638571,
          -0.1364186492754009,
          -1.149210347160463,
          0.4790085316866908,
          0.8690059859342354,
          -0.5550546023569558,
          -0.5491642438620772,
          -0.9837564753414033,
          0.46931440157870213,
          -0.032044133111769284,
          -1.4470251258178546,
          0.20863537293074075,
          0.10224247082485786
         ],
         "xaxis": "x6",
         "yaxis": "y6"
        },
        {
         "line": {
          "color": "rgba(128, 128, 128, 1.0)",
          "dash": "solid",
          "shape": "linear",
          "width": 1.3
         },
         "marker": {
          "size": 2,
          "symbol": "circle"
         },
         "mode": "markers",
         "name": "B",
         "text": "",
         "type": "scatter",
         "x": [
          0.4976635153390595,
          -0.21790464096552933,
          1.8770568401163243,
          -0.08406329467212004,
          0.05047910130544238,
          -1.863119628570406,
          1.446686846495153,
          -0.4672959564642441,
          0.17173494323369048,
          0.48510954634981424,
          0.25894409234384486,
          -0.9907031509616347,
          -2.4765792073811785,
          0.13222033594138874,
          0.1443372495251389,
          0.09192344590453913,
          1.363885521029763,
          0.9197398757088081,
          3.1928661368771363,
          -0.34532606934295906,
          -1.507993249260039,
          -2.2560123287121083,
          -0.6038699413830702,
          -0.684452821760146,
          1.1194954883913042,
          -0.3846851354573298,
          -0.3194957124760941,
          -1.4704541460822047,
          0.572481472517222,
          -0.7872909127878106,
          0.7119242579447129,
          -0.5060207969696873,
          -0.40581934035404,
          -1.689273216260599,
          1.5823761755509458,
          -0.9700587722108596,
          0.35284881883627267,
          0.07924865304953307,
          0.6023573355088919,
          1.1202598058899436,
          -0.4477991916778235,
          0.8288463153154215,
          0.49772006964362825,
          -0.9505049971937803,
          -0.8140694642569831,
          -1.5529584699026207,
          -2.8809889027391304,
          -0.3417047889214654,
          -0.4084512140100783,
          -0.10456338893965307,
          0.9750386663920425,
          0.3946273695069198,
          1.3859616732854472,
          -0.6559827031709952,
          -0.7596889618125324,
          0.577932974981754,
          -1.0852209880182069,
          -1.2301294141994743,
          -0.8506515510864039,
          -2.5556952466223506,
          0.6004778581018496,
          0.5606158727475441,
          -0.8738107488147265,
          -1.1686346897067181,
          -0.20877839887826147,
          1.180163364462233,
          0.36535104793371614,
          0.2073904589342936,
          -0.6555404560646885,
          0.8881599742336906,
          -0.6711198606757098,
          0.3043941689392284,
          0.1258776385388952,
          -0.8051862402866529,
          -0.08028806660732918,
          -0.5167021376486441,
          -0.3346278148569162,
          -0.5744857100427638,
          0.41274885195909183,
          0.3270866038813453,
          -0.08857726307529906,
          0.26419135206184197,
          1.338994160548854,
          1.9992795048884158,
          0.7141750750859873,
          -1.888414529239671,
          1.4929320822433116,
          -1.3935753058577032,
          0.4786657984036205,
          -0.5662358279373066,
          1.3853965021502659,
          1.310768730747306,
          -1.2195161056820787,
          -0.30134328416469597,
          -1.8628772101274784,
          0.13656636905168743,
          0.15866495799556496,
          0.7753693348344339,
          -0.16909181430015702,
          -0.6141646672866208
         ],
         "xaxis": "x7",
         "y": [
          -0.6760691106235645,
          0.18372206965000965,
          -0.34323330233492,
          -2.070801152584343,
          0.34577707775890487,
          2.1301507636241146,
          -0.5531762406825648,
          -0.7399323363908722,
          0.26241129162089216,
          -1.4337004355910643,
          -0.8594491355414683,
          -0.4912756822823481,
          0.583450794405381,
          -1.5045213827074095,
          1.752280268786307,
          -0.5863715567174779,
          -0.04012310455887652,
          1.9455806784460525,
          1.4257375049163175,
          -0.23411141816222264,
          -1.4491472757323403,
          -0.5833671584039474,
          -0.7529753578098609,
          0.10339329905994711,
          -0.004541122623439102,
          -1.7573449484289683,
          0.9043005711761228,
          -0.5799998214961695,
          -2.182073073509037,
          0.6117543628483829,
          -1.046866238177497,
          0.1451050144527596,
          -1.7091895613300523,
          0.7730883681592071,
          0.11046956239724635,
          0.860561453912868,
          1.7817168794154585,
          0.5941911948405838,
          1.7464390750714196,
          1.3443851144456052,
          -0.653941015096149,
          -0.6481687041989921,
          0.7565231993307985,
          -0.3377428990829017,
          -0.24165345197325094,
          -1.0946339421083284,
          -0.6566654045105857,
          1.4656164547884096,
          1.6971479352132062,
          0.06229333566246116,
          -0.33487264062175487,
          0.4575692496097571,
          -1.6218757011147977,
          -0.07516494673505354,
          1.2557900113465656,
          0.5178613245423704,
          0.5719740142416783,
          1.6678064203880918,
          1.2178665474743848,
          -0.7714648529472447,
          -0.21634347844280188,
          -0.058793758991811655,
          -1.3667740058247482,
          -0.47598627590409903,
          1.125778904159132,
          0.7835229441755038,
          0.09036040956928859,
          -0.15580677569506976,
          0.21970059205786405,
          -2.2347952553428714,
          0.30004649144884643,
          1.3109454582592848,
          0.580259232168523,
          -0.358579231338049,
          -1.21979233901239,
          -0.8050965907187663,
          1.836896105180095,
          -0.406968255985467,
          -0.6343369641269744,
          1.451527328603819,
          0.8033320096526525,
          -0.7679911742675111,
          -1.7453939281965098,
          -2.5858164646107724,
          -0.6622222603851182,
          -0.35412184689296267,
          -0.278741803965597,
          1.2277706222638571,
          -0.1364186492754009,
          -1.149210347160463,
          0.4790085316866908,
          0.8690059859342354,
          -0.5550546023569558,
          -0.5491642438620772,
          -0.9837564753414033,
          0.46931440157870213,
          -0.032044133111769284,
          -1.4470251258178546,
          0.20863537293074075,
          0.10224247082485786
         ],
         "yaxis": "y7"
        },
        {
         "line": {
          "color": "rgba(128, 128, 128, 1.0)",
          "dash": "solid",
          "shape": "linear",
          "width": 1.3
         },
         "marker": {
          "size": 2,
          "symbol": "circle"
         },
         "mode": "markers",
         "name": "B",
         "text": "",
         "type": "scatter",
         "x": [
          -0.48422610212364575,
          1.5720740917937719,
          0.29417676876254484,
          0.40695172654422823,
          1.8457057994470416,
          -0.22952687758607296,
          -1.4110412284931044,
          0.6622101937639742,
          0.2592665157840242,
          -1.1303136586350027,
          -0.9599244711714722,
          -2.9186523196758443,
          -1.220473307280125,
          -1.2845916926982326,
          0.695535527521974,
          -0.9410364272007093,
          -1.054438031492874,
          0.5786441680218358,
          -0.0009718609257263874,
          0.18385236601283705,
          0.8318731750611098,
          -1.2931331157932895,
          -0.473766295947915,
          0.21989469373577272,
          0.751519393731062,
          -0.8012409929519795,
          0.15717088097675325,
          0.08775590090120683,
          -1.5558711389261641,
          1.9100101943226668,
          -0.15024764424622192,
          -1.0873795965963182,
          0.6221884644119188,
          -0.7535658454708033,
          1.5420181648169597,
          0.43343134106589176,
          -0.7626239289295567,
          -0.11348077823666365,
          -0.4513994686538723,
          -1.3407248052036569,
          -1.1427204975189829,
          0.38490878622382924,
          1.1918871947298688,
          -1.1973844029991414,
          0.4427464888319099,
          -1.1165564301063253,
          0.45268501115174387,
          -0.7867863308971418,
          -0.40074023156815547,
          -0.09075355010727543,
          -0.9092733551878476,
          1.4801414765327043,
          -0.4864947224254879,
          -0.23553281518066121,
          -0.2604302198504222,
          -2.132184211795599,
          1.6263417593658696,
          0.10511365671282863,
          -0.7410307229762749,
          -0.27093812808134227,
          -0.34702317462092325,
          -0.34518985162498145,
          1.3833305918126406,
          0.41893754318194665,
          0.8749548193155436,
          -1.8505471278177148,
          -0.7245909334187343,
          -1.5919431295609106,
          -0.03634213035411084,
          -0.8349045571560765,
          -1.4844417570109985,
          -1.1863614757506453,
          0.7976643520601201,
          -0.8220721158635732,
          0.8865084569468012,
          0.6211572391849196,
          0.44190214365607716,
          0.25241338736425195,
          -0.8611530763022871,
          0.03612345805337376,
          -0.22931884616308534,
          0.3036281352810886,
          0.28167047279521784,
          -1.0826462314722138,
          -0.43986928804430997,
          1.2566381357755039,
          0.5991147482153631,
          -0.7182811491327988,
          1.008991043079794,
          -0.00942881536656502,
          -0.5174739528077554,
          0.5597354180307877,
          -1.37114336207063,
          0.6087502156043381,
          -0.6738609551229755,
          0.8082999592912838,
          -0.9025518546702369,
          -1.3890791489736931,
          1.365786540799907,
          -0.7780683191686512
         ],
         "xaxis": "x8",
         "y": [
          -0.6760691106235645,
          0.18372206965000965,
          -0.34323330233492,
          -2.070801152584343,
          0.34577707775890487,
          2.1301507636241146,
          -0.5531762406825648,
          -0.7399323363908722,
          0.26241129162089216,
          -1.4337004355910643,
          -0.8594491355414683,
          -0.4912756822823481,
          0.583450794405381,
          -1.5045213827074095,
          1.752280268786307,
          -0.5863715567174779,
          -0.04012310455887652,
          1.9455806784460525,
          1.4257375049163175,
          -0.23411141816222264,
          -1.4491472757323403,
          -0.5833671584039474,
          -0.7529753578098609,
          0.10339329905994711,
          -0.004541122623439102,
          -1.7573449484289683,
          0.9043005711761228,
          -0.5799998214961695,
          -2.182073073509037,
          0.6117543628483829,
          -1.046866238177497,
          0.1451050144527596,
          -1.7091895613300523,
          0.7730883681592071,
          0.11046956239724635,
          0.860561453912868,
          1.7817168794154585,
          0.5941911948405838,
          1.7464390750714196,
          1.3443851144456052,
          -0.653941015096149,
          -0.6481687041989921,
          0.7565231993307985,
          -0.3377428990829017,
          -0.24165345197325094,
          -1.0946339421083284,
          -0.6566654045105857,
          1.4656164547884096,
          1.6971479352132062,
          0.06229333566246116,
          -0.33487264062175487,
          0.4575692496097571,
          -1.6218757011147977,
          -0.07516494673505354,
          1.2557900113465656,
          0.5178613245423704,
          0.5719740142416783,
          1.6678064203880918,
          1.2178665474743848,
          -0.7714648529472447,
          -0.21634347844280188,
          -0.058793758991811655,
          -1.3667740058247482,
          -0.47598627590409903,
          1.125778904159132,
          0.7835229441755038,
          0.09036040956928859,
          -0.15580677569506976,
          0.21970059205786405,
          -2.2347952553428714,
          0.30004649144884643,
          1.3109454582592848,
          0.580259232168523,
          -0.358579231338049,
          -1.21979233901239,
          -0.8050965907187663,
          1.836896105180095,
          -0.406968255985467,
          -0.6343369641269744,
          1.451527328603819,
          0.8033320096526525,
          -0.7679911742675111,
          -1.7453939281965098,
          -2.5858164646107724,
          -0.6622222603851182,
          -0.35412184689296267,
          -0.278741803965597,
          1.2277706222638571,
          -0.1364186492754009,
          -1.149210347160463,
          0.4790085316866908,
          0.8690059859342354,
          -0.5550546023569558,
          -0.5491642438620772,
          -0.9837564753414033,
          0.46931440157870213,
          -0.032044133111769284,
          -1.4470251258178546,
          0.20863537293074075,
          0.10224247082485786
         ],
         "yaxis": "y8"
        },
        {
         "line": {
          "color": "rgba(128, 128, 128, 1.0)",
          "dash": "solid",
          "shape": "linear",
          "width": 1.3
         },
         "marker": {
          "size": 2,
          "symbol": "circle"
         },
         "mode": "markers",
         "name": "C",
         "text": "",
         "type": "scatter",
         "x": [
          0.33530550154152494,
          0.09065339513616581,
          -0.01630297475032681,
          -0.07869977638765072,
          -0.11280955759602175,
          -0.1401151965190619,
          0.37726332968436377,
          0.9807848237014964,
          0.810497685246533,
          -0.5369994090996112,
          0.4665515681528577,
          -0.4027752710747494,
          0.8450873692592444,
          -1.6713871998577774,
          -0.5647159680856547,
          -1.0454373654393754,
          -0.19128198431349563,
          -0.08380197880652643,
          -0.6808409250243673,
          1.5314298215111735,
          -0.8472738029656343,
          2.016894424729286,
          0.5675939625303773,
          -0.12570665669379766,
          -2.9530064435370353,
          -0.7623240462719839,
          0.24650554670245756,
          0.677974153571497,
          0.34498118682073425,
          0.7050866228571876,
          0.48289759808491,
          0.19661274001139517,
          -0.10839634016900147,
          1.2955729007966614,
          -1.2080228686216006,
          -0.8868820384240231,
          -0.8504568442746137,
          -0.8592195770336528,
          0.23891912898121961,
          -0.390740080415598,
          0.7899539300986534,
          1.9073166225165692,
          0.7332345874800306,
          0.076279312025144,
          -0.1606368966839194,
          0.3722445893819746,
          0.6054925610989462,
          0.7956873319712157,
          0.9725100209690856,
          0.24018718772850134,
          -1.390060796293999,
          -1.7325819543366443,
          -1.0531172370304538,
          -0.8435755679018383,
          -1.8669241001205663,
          0.1430069081678792,
          0.3503266506041815,
          0.4798291478777767,
          0.5100131008826317,
          2.0749173355937347,
          -1.3690344750713008,
          -0.06876435799003278,
          -0.4505688369932266,
          1.078456943733188,
          0.30714997296703755,
          -0.4139398828429726,
          1.7895416427199355,
          0.776518393126592,
          1.1006209089834444,
          2.3663267206891385,
          -0.748679596212696,
          -0.8895687565692749,
          0.8656205411908345,
          0.41104469157294404,
          -0.609241534591123,
          -1.4383026828323873,
          0.26635612483594606,
          -1.8980379983631288,
          -1.738277833733187,
          -1.5289927281839082,
          0.23529718024963092,
          -0.08309493795682184,
          0.273378453933951,
          -0.4817320634709933,
          -0.1375488620604106,
          0.33783356180165247,
          0.6998816614904454,
          0.537709684336636,
          0.8069903649895979,
          -0.6731094896210476,
          1.443158574532866,
          1.2870986328443184,
          0.7035596946386531,
          -0.7921994935980345,
          -0.489915251036213,
          -0.5231506439766499,
          0.385676724326846,
          -0.09919321074167252,
          0.8202815108228418,
          1.2975442876253223
         ],
         "xaxis": "x9",
         "y": [
          0.4976635153390595,
          -0.21790464096552933,
          1.8770568401163243,
          -0.08406329467212004,
          0.05047910130544238,
          -1.863119628570406,
          1.446686846495153,
          -0.4672959564642441,
          0.17173494323369048,
          0.48510954634981424,
          0.25894409234384486,
          -0.9907031509616347,
          -2.4765792073811785,
          0.13222033594138874,
          0.1443372495251389,
          0.09192344590453913,
          1.363885521029763,
          0.9197398757088081,
          3.1928661368771363,
          -0.34532606934295906,
          -1.507993249260039,
          -2.2560123287121083,
          -0.6038699413830702,
          -0.684452821760146,
          1.1194954883913042,
          -0.3846851354573298,
          -0.3194957124760941,
          -1.4704541460822047,
          0.572481472517222,
          -0.7872909127878106,
          0.7119242579447129,
          -0.5060207969696873,
          -0.40581934035404,
          -1.689273216260599,
          1.5823761755509458,
          -0.9700587722108596,
          0.35284881883627267,
          0.07924865304953307,
          0.6023573355088919,
          1.1202598058899436,
          -0.4477991916778235,
          0.8288463153154215,
          0.49772006964362825,
          -0.9505049971937803,
          -0.8140694642569831,
          -1.5529584699026207,
          -2.8809889027391304,
          -0.3417047889214654,
          -0.4084512140100783,
          -0.10456338893965307,
          0.9750386663920425,
          0.3946273695069198,
          1.3859616732854472,
          -0.6559827031709952,
          -0.7596889618125324,
          0.577932974981754,
          -1.0852209880182069,
          -1.2301294141994743,
          -0.8506515510864039,
          -2.5556952466223506,
          0.6004778581018496,
          0.5606158727475441,
          -0.8738107488147265,
          -1.1686346897067181,
          -0.20877839887826147,
          1.180163364462233,
          0.36535104793371614,
          0.2073904589342936,
          -0.6555404560646885,
          0.8881599742336906,
          -0.6711198606757098,
          0.3043941689392284,
          0.1258776385388952,
          -0.8051862402866529,
          -0.08028806660732918,
          -0.5167021376486441,
          -0.3346278148569162,
          -0.5744857100427638,
          0.41274885195909183,
          0.3270866038813453,
          -0.08857726307529906,
          0.26419135206184197,
          1.338994160548854,
          1.9992795048884158,
          0.7141750750859873,
          -1.888414529239671,
          1.4929320822433116,
          -1.3935753058577032,
          0.4786657984036205,
          -0.5662358279373066,
          1.3853965021502659,
          1.310768730747306,
          -1.2195161056820787,
          -0.30134328416469597,
          -1.8628772101274784,
          0.13656636905168743,
          0.15866495799556496,
          0.7753693348344339,
          -0.16909181430015702,
          -0.6141646672866208
         ],
         "yaxis": "y9"
        },
        {
         "line": {
          "color": "rgba(128, 128, 128, 1.0)",
          "dash": "solid",
          "shape": "linear",
          "width": 1.3
         },
         "marker": {
          "size": 2,
          "symbol": "circle"
         },
         "mode": "markers",
         "name": "C",
         "text": "",
         "type": "scatter",
         "x": [
          -0.6760691106235645,
          0.18372206965000965,
          -0.34323330233492,
          -2.070801152584343,
          0.34577707775890487,
          2.1301507636241146,
          -0.5531762406825648,
          -0.7399323363908722,
          0.26241129162089216,
          -1.4337004355910643,
          -0.8594491355414683,
          -0.4912756822823481,
          0.583450794405381,
          -1.5045213827074095,
          1.752280268786307,
          -0.5863715567174779,
          -0.04012310455887652,
          1.9455806784460525,
          1.4257375049163175,
          -0.23411141816222264,
          -1.4491472757323403,
          -0.5833671584039474,
          -0.7529753578098609,
          0.10339329905994711,
          -0.004541122623439102,
          -1.7573449484289683,
          0.9043005711761228,
          -0.5799998214961695,
          -2.182073073509037,
          0.6117543628483829,
          -1.046866238177497,
          0.1451050144527596,
          -1.7091895613300523,
          0.7730883681592071,
          0.11046956239724635,
          0.860561453912868,
          1.7817168794154585,
          0.5941911948405838,
          1.7464390750714196,
          1.3443851144456052,
          -0.653941015096149,
          -0.6481687041989921,
          0.7565231993307985,
          -0.3377428990829017,
          -0.24165345197325094,
          -1.0946339421083284,
          -0.6566654045105857,
          1.4656164547884096,
          1.6971479352132062,
          0.06229333566246116,
          -0.33487264062175487,
          0.4575692496097571,
          -1.6218757011147977,
          -0.07516494673505354,
          1.2557900113465656,
          0.5178613245423704,
          0.5719740142416783,
          1.6678064203880918,
          1.2178665474743848,
          -0.7714648529472447,
          -0.21634347844280188,
          -0.058793758991811655,
          -1.3667740058247482,
          -0.47598627590409903,
          1.125778904159132,
          0.7835229441755038,
          0.09036040956928859,
          -0.15580677569506976,
          0.21970059205786405,
          -2.2347952553428714,
          0.30004649144884643,
          1.3109454582592848,
          0.580259232168523,
          -0.358579231338049,
          -1.21979233901239,
          -0.8050965907187663,
          1.836896105180095,
          -0.406968255985467,
          -0.6343369641269744,
          1.451527328603819,
          0.8033320096526525,
          -0.7679911742675111,
          -1.7453939281965098,
          -2.5858164646107724,
          -0.6622222603851182,
          -0.35412184689296267,
          -0.278741803965597,
          1.2277706222638571,
          -0.1364186492754009,
          -1.149210347160463,
          0.4790085316866908,
          0.8690059859342354,
          -0.5550546023569558,
          -0.5491642438620772,
          -0.9837564753414033,
          0.46931440157870213,
          -0.032044133111769284,
          -1.4470251258178546,
          0.20863537293074075,
          0.10224247082485786
         ],
         "xaxis": "x10",
         "y": [
          0.4976635153390595,
          -0.21790464096552933,
          1.8770568401163243,
          -0.08406329467212004,
          0.05047910130544238,
          -1.863119628570406,
          1.446686846495153,
          -0.4672959564642441,
          0.17173494323369048,
          0.48510954634981424,
          0.25894409234384486,
          -0.9907031509616347,
          -2.4765792073811785,
          0.13222033594138874,
          0.1443372495251389,
          0.09192344590453913,
          1.363885521029763,
          0.9197398757088081,
          3.1928661368771363,
          -0.34532606934295906,
          -1.507993249260039,
          -2.2560123287121083,
          -0.6038699413830702,
          -0.684452821760146,
          1.1194954883913042,
          -0.3846851354573298,
          -0.3194957124760941,
          -1.4704541460822047,
          0.572481472517222,
          -0.7872909127878106,
          0.7119242579447129,
          -0.5060207969696873,
          -0.40581934035404,
          -1.689273216260599,
          1.5823761755509458,
          -0.9700587722108596,
          0.35284881883627267,
          0.07924865304953307,
          0.6023573355088919,
          1.1202598058899436,
          -0.4477991916778235,
          0.8288463153154215,
          0.49772006964362825,
          -0.9505049971937803,
          -0.8140694642569831,
          -1.5529584699026207,
          -2.8809889027391304,
          -0.3417047889214654,
          -0.4084512140100783,
          -0.10456338893965307,
          0.9750386663920425,
          0.3946273695069198,
          1.3859616732854472,
          -0.6559827031709952,
          -0.7596889618125324,
          0.577932974981754,
          -1.0852209880182069,
          -1.2301294141994743,
          -0.8506515510864039,
          -2.5556952466223506,
          0.6004778581018496,
          0.5606158727475441,
          -0.8738107488147265,
          -1.1686346897067181,
          -0.20877839887826147,
          1.180163364462233,
          0.36535104793371614,
          0.2073904589342936,
          -0.6555404560646885,
          0.8881599742336906,
          -0.6711198606757098,
          0.3043941689392284,
          0.1258776385388952,
          -0.8051862402866529,
          -0.08028806660732918,
          -0.5167021376486441,
          -0.3346278148569162,
          -0.5744857100427638,
          0.41274885195909183,
          0.3270866038813453,
          -0.08857726307529906,
          0.26419135206184197,
          1.338994160548854,
          1.9992795048884158,
          0.7141750750859873,
          -1.888414529239671,
          1.4929320822433116,
          -1.3935753058577032,
          0.4786657984036205,
          -0.5662358279373066,
          1.3853965021502659,
          1.310768730747306,
          -1.2195161056820787,
          -0.30134328416469597,
          -1.8628772101274784,
          0.13656636905168743,
          0.15866495799556496,
          0.7753693348344339,
          -0.16909181430015702,
          -0.6141646672866208
         ],
         "yaxis": "y10"
        },
        {
         "histfunc": "count",
         "histnorm": "",
         "marker": {
          "color": "rgba(50, 171, 96, 1.0)",
          "line": {
           "color": "#4D5663",
           "width": 1.3
          }
         },
         "name": "C",
         "nbinsx": 10,
         "opacity": 0.8,
         "orientation": "v",
         "type": "histogram",
         "x": [
          0.4976635153390595,
          -0.21790464096552933,
          1.8770568401163243,
          -0.08406329467212004,
          0.05047910130544238,
          -1.863119628570406,
          1.446686846495153,
          -0.4672959564642441,
          0.17173494323369048,
          0.48510954634981424,
          0.25894409234384486,
          -0.9907031509616347,
          -2.4765792073811785,
          0.13222033594138874,
          0.1443372495251389,
          0.09192344590453913,
          1.363885521029763,
          0.9197398757088081,
          3.1928661368771363,
          -0.34532606934295906,
          -1.507993249260039,
          -2.2560123287121083,
          -0.6038699413830702,
          -0.684452821760146,
          1.1194954883913042,
          -0.3846851354573298,
          -0.3194957124760941,
          -1.4704541460822047,
          0.572481472517222,
          -0.7872909127878106,
          0.7119242579447129,
          -0.5060207969696873,
          -0.40581934035404,
          -1.689273216260599,
          1.5823761755509458,
          -0.9700587722108596,
          0.35284881883627267,
          0.07924865304953307,
          0.6023573355088919,
          1.1202598058899436,
          -0.4477991916778235,
          0.8288463153154215,
          0.49772006964362825,
          -0.9505049971937803,
          -0.8140694642569831,
          -1.5529584699026207,
          -2.8809889027391304,
          -0.3417047889214654,
          -0.4084512140100783,
          -0.10456338893965307,
          0.9750386663920425,
          0.3946273695069198,
          1.3859616732854472,
          -0.6559827031709952,
          -0.7596889618125324,
          0.577932974981754,
          -1.0852209880182069,
          -1.2301294141994743,
          -0.8506515510864039,
          -2.5556952466223506,
          0.6004778581018496,
          0.5606158727475441,
          -0.8738107488147265,
          -1.1686346897067181,
          -0.20877839887826147,
          1.180163364462233,
          0.36535104793371614,
          0.2073904589342936,
          -0.6555404560646885,
          0.8881599742336906,
          -0.6711198606757098,
          0.3043941689392284,
          0.1258776385388952,
          -0.8051862402866529,
          -0.08028806660732918,
          -0.5167021376486441,
          -0.3346278148569162,
          -0.5744857100427638,
          0.41274885195909183,
          0.3270866038813453,
          -0.08857726307529906,
          0.26419135206184197,
          1.338994160548854,
          1.9992795048884158,
          0.7141750750859873,
          -1.888414529239671,
          1.4929320822433116,
          -1.3935753058577032,
          0.4786657984036205,
          -0.5662358279373066,
          1.3853965021502659,
          1.310768730747306,
          -1.2195161056820787,
          -0.30134328416469597,
          -1.8628772101274784,
          0.13656636905168743,
          0.15866495799556496,
          0.7753693348344339,
          -0.16909181430015702,
          -0.6141646672866208
         ],
         "xaxis": "x11",
         "yaxis": "y11"
        },
        {
         "line": {
          "color": "rgba(128, 128, 128, 1.0)",
          "dash": "solid",
          "shape": "linear",
          "width": 1.3
         },
         "marker": {
          "size": 2,
          "symbol": "circle"
         },
         "mode": "markers",
         "name": "C",
         "text": "",
         "type": "scatter",
         "x": [
          -0.48422610212364575,
          1.5720740917937719,
          0.29417676876254484,
          0.40695172654422823,
          1.8457057994470416,
          -0.22952687758607296,
          -1.4110412284931044,
          0.6622101937639742,
          0.2592665157840242,
          -1.1303136586350027,
          -0.9599244711714722,
          -2.9186523196758443,
          -1.220473307280125,
          -1.2845916926982326,
          0.695535527521974,
          -0.9410364272007093,
          -1.054438031492874,
          0.5786441680218358,
          -0.0009718609257263874,
          0.18385236601283705,
          0.8318731750611098,
          -1.2931331157932895,
          -0.473766295947915,
          0.21989469373577272,
          0.751519393731062,
          -0.8012409929519795,
          0.15717088097675325,
          0.08775590090120683,
          -1.5558711389261641,
          1.9100101943226668,
          -0.15024764424622192,
          -1.0873795965963182,
          0.6221884644119188,
          -0.7535658454708033,
          1.5420181648169597,
          0.43343134106589176,
          -0.7626239289295567,
          -0.11348077823666365,
          -0.4513994686538723,
          -1.3407248052036569,
          -1.1427204975189829,
          0.38490878622382924,
          1.1918871947298688,
          -1.1973844029991414,
          0.4427464888319099,
          -1.1165564301063253,
          0.45268501115174387,
          -0.7867863308971418,
          -0.40074023156815547,
          -0.09075355010727543,
          -0.9092733551878476,
          1.4801414765327043,
          -0.4864947224254879,
          -0.23553281518066121,
          -0.2604302198504222,
          -2.132184211795599,
          1.6263417593658696,
          0.10511365671282863,
          -0.7410307229762749,
          -0.27093812808134227,
          -0.34702317462092325,
          -0.34518985162498145,
          1.3833305918126406,
          0.41893754318194665,
          0.8749548193155436,
          -1.8505471278177148,
          -0.7245909334187343,
          -1.5919431295609106,
          -0.03634213035411084,
          -0.8349045571560765,
          -1.4844417570109985,
          -1.1863614757506453,
          0.7976643520601201,
          -0.8220721158635732,
          0.8865084569468012,
          0.6211572391849196,
          0.44190214365607716,
          0.25241338736425195,
          -0.8611530763022871,
          0.03612345805337376,
          -0.22931884616308534,
          0.3036281352810886,
          0.28167047279521784,
          -1.0826462314722138,
          -0.43986928804430997,
          1.2566381357755039,
          0.5991147482153631,
          -0.7182811491327988,
          1.008991043079794,
          -0.00942881536656502,
          -0.5174739528077554,
          0.5597354180307877,
          -1.37114336207063,
          0.6087502156043381,
          -0.6738609551229755,
          0.8082999592912838,
          -0.9025518546702369,
          -1.3890791489736931,
          1.365786540799907,
          -0.7780683191686512
         ],
         "xaxis": "x12",
         "y": [
          0.4976635153390595,
          -0.21790464096552933,
          1.8770568401163243,
          -0.08406329467212004,
          0.05047910130544238,
          -1.863119628570406,
          1.446686846495153,
          -0.4672959564642441,
          0.17173494323369048,
          0.48510954634981424,
          0.25894409234384486,
          -0.9907031509616347,
          -2.4765792073811785,
          0.13222033594138874,
          0.1443372495251389,
          0.09192344590453913,
          1.363885521029763,
          0.9197398757088081,
          3.1928661368771363,
          -0.34532606934295906,
          -1.507993249260039,
          -2.2560123287121083,
          -0.6038699413830702,
          -0.684452821760146,
          1.1194954883913042,
          -0.3846851354573298,
          -0.3194957124760941,
          -1.4704541460822047,
          0.572481472517222,
          -0.7872909127878106,
          0.7119242579447129,
          -0.5060207969696873,
          -0.40581934035404,
          -1.689273216260599,
          1.5823761755509458,
          -0.9700587722108596,
          0.35284881883627267,
          0.07924865304953307,
          0.6023573355088919,
          1.1202598058899436,
          -0.4477991916778235,
          0.8288463153154215,
          0.49772006964362825,
          -0.9505049971937803,
          -0.8140694642569831,
          -1.5529584699026207,
          -2.8809889027391304,
          -0.3417047889214654,
          -0.4084512140100783,
          -0.10456338893965307,
          0.9750386663920425,
          0.3946273695069198,
          1.3859616732854472,
          -0.6559827031709952,
          -0.7596889618125324,
          0.577932974981754,
          -1.0852209880182069,
          -1.2301294141994743,
          -0.8506515510864039,
          -2.5556952466223506,
          0.6004778581018496,
          0.5606158727475441,
          -0.8738107488147265,
          -1.1686346897067181,
          -0.20877839887826147,
          1.180163364462233,
          0.36535104793371614,
          0.2073904589342936,
          -0.6555404560646885,
          0.8881599742336906,
          -0.6711198606757098,
          0.3043941689392284,
          0.1258776385388952,
          -0.8051862402866529,
          -0.08028806660732918,
          -0.5167021376486441,
          -0.3346278148569162,
          -0.5744857100427638,
          0.41274885195909183,
          0.3270866038813453,
          -0.08857726307529906,
          0.26419135206184197,
          1.338994160548854,
          1.9992795048884158,
          0.7141750750859873,
          -1.888414529239671,
          1.4929320822433116,
          -1.3935753058577032,
          0.4786657984036205,
          -0.5662358279373066,
          1.3853965021502659,
          1.310768730747306,
          -1.2195161056820787,
          -0.30134328416469597,
          -1.8628772101274784,
          0.13656636905168743,
          0.15866495799556496,
          0.7753693348344339,
          -0.16909181430015702,
          -0.6141646672866208
         ],
         "yaxis": "y12"
        },
        {
         "line": {
          "color": "rgba(128, 128, 128, 1.0)",
          "dash": "solid",
          "shape": "linear",
          "width": 1.3
         },
         "marker": {
          "size": 2,
          "symbol": "circle"
         },
         "mode": "markers",
         "name": "D",
         "text": "",
         "type": "scatter",
         "x": [
          0.33530550154152494,
          0.09065339513616581,
          -0.01630297475032681,
          -0.07869977638765072,
          -0.11280955759602175,
          -0.1401151965190619,
          0.37726332968436377,
          0.9807848237014964,
          0.810497685246533,
          -0.5369994090996112,
          0.4665515681528577,
          -0.4027752710747494,
          0.8450873692592444,
          -1.6713871998577774,
          -0.5647159680856547,
          -1.0454373654393754,
          -0.19128198431349563,
          -0.08380197880652643,
          -0.6808409250243673,
          1.5314298215111735,
          -0.8472738029656343,
          2.016894424729286,
          0.5675939625303773,
          -0.12570665669379766,
          -2.9530064435370353,
          -0.7623240462719839,
          0.24650554670245756,
          0.677974153571497,
          0.34498118682073425,
          0.7050866228571876,
          0.48289759808491,
          0.19661274001139517,
          -0.10839634016900147,
          1.2955729007966614,
          -1.2080228686216006,
          -0.8868820384240231,
          -0.8504568442746137,
          -0.8592195770336528,
          0.23891912898121961,
          -0.390740080415598,
          0.7899539300986534,
          1.9073166225165692,
          0.7332345874800306,
          0.076279312025144,
          -0.1606368966839194,
          0.3722445893819746,
          0.6054925610989462,
          0.7956873319712157,
          0.9725100209690856,
          0.24018718772850134,
          -1.390060796293999,
          -1.7325819543366443,
          -1.0531172370304538,
          -0.8435755679018383,
          -1.8669241001205663,
          0.1430069081678792,
          0.3503266506041815,
          0.4798291478777767,
          0.5100131008826317,
          2.0749173355937347,
          -1.3690344750713008,
          -0.06876435799003278,
          -0.4505688369932266,
          1.078456943733188,
          0.30714997296703755,
          -0.4139398828429726,
          1.7895416427199355,
          0.776518393126592,
          1.1006209089834444,
          2.3663267206891385,
          -0.748679596212696,
          -0.8895687565692749,
          0.8656205411908345,
          0.41104469157294404,
          -0.609241534591123,
          -1.4383026828323873,
          0.26635612483594606,
          -1.8980379983631288,
          -1.738277833733187,
          -1.5289927281839082,
          0.23529718024963092,
          -0.08309493795682184,
          0.273378453933951,
          -0.4817320634709933,
          -0.1375488620604106,
          0.33783356180165247,
          0.6998816614904454,
          0.537709684336636,
          0.8069903649895979,
          -0.6731094896210476,
          1.443158574532866,
          1.2870986328443184,
          0.7035596946386531,
          -0.7921994935980345,
          -0.489915251036213,
          -0.5231506439766499,
          0.385676724326846,
          -0.09919321074167252,
          0.8202815108228418,
          1.2975442876253223
         ],
         "xaxis": "x13",
         "y": [
          -0.48422610212364575,
          1.5720740917937719,
          0.29417676876254484,
          0.40695172654422823,
          1.8457057994470416,
          -0.22952687758607296,
          -1.4110412284931044,
          0.6622101937639742,
          0.2592665157840242,
          -1.1303136586350027,
          -0.9599244711714722,
          -2.9186523196758443,
          -1.220473307280125,
          -1.2845916926982326,
          0.695535527521974,
          -0.9410364272007093,
          -1.054438031492874,
          0.5786441680218358,
          -0.0009718609257263874,
          0.18385236601283705,
          0.8318731750611098,
          -1.2931331157932895,
          -0.473766295947915,
          0.21989469373577272,
          0.751519393731062,
          -0.8012409929519795,
          0.15717088097675325,
          0.08775590090120683,
          -1.5558711389261641,
          1.9100101943226668,
          -0.15024764424622192,
          -1.0873795965963182,
          0.6221884644119188,
          -0.7535658454708033,
          1.5420181648169597,
          0.43343134106589176,
          -0.7626239289295567,
          -0.11348077823666365,
          -0.4513994686538723,
          -1.3407248052036569,
          -1.1427204975189829,
          0.38490878622382924,
          1.1918871947298688,
          -1.1973844029991414,
          0.4427464888319099,
          -1.1165564301063253,
          0.45268501115174387,
          -0.7867863308971418,
          -0.40074023156815547,
          -0.09075355010727543,
          -0.9092733551878476,
          1.4801414765327043,
          -0.4864947224254879,
          -0.23553281518066121,
          -0.2604302198504222,
          -2.132184211795599,
          1.6263417593658696,
          0.10511365671282863,
          -0.7410307229762749,
          -0.27093812808134227,
          -0.34702317462092325,
          -0.34518985162498145,
          1.3833305918126406,
          0.41893754318194665,
          0.8749548193155436,
          -1.8505471278177148,
          -0.7245909334187343,
          -1.5919431295609106,
          -0.03634213035411084,
          -0.8349045571560765,
          -1.4844417570109985,
          -1.1863614757506453,
          0.7976643520601201,
          -0.8220721158635732,
          0.8865084569468012,
          0.6211572391849196,
          0.44190214365607716,
          0.25241338736425195,
          -0.8611530763022871,
          0.03612345805337376,
          -0.22931884616308534,
          0.3036281352810886,
          0.28167047279521784,
          -1.0826462314722138,
          -0.43986928804430997,
          1.2566381357755039,
          0.5991147482153631,
          -0.7182811491327988,
          1.008991043079794,
          -0.00942881536656502,
          -0.5174739528077554,
          0.5597354180307877,
          -1.37114336207063,
          0.6087502156043381,
          -0.6738609551229755,
          0.8082999592912838,
          -0.9025518546702369,
          -1.3890791489736931,
          1.365786540799907,
          -0.7780683191686512
         ],
         "yaxis": "y13"
        },
        {
         "line": {
          "color": "rgba(128, 128, 128, 1.0)",
          "dash": "solid",
          "shape": "linear",
          "width": 1.3
         },
         "marker": {
          "size": 2,
          "symbol": "circle"
         },
         "mode": "markers",
         "name": "D",
         "text": "",
         "type": "scatter",
         "x": [
          -0.6760691106235645,
          0.18372206965000965,
          -0.34323330233492,
          -2.070801152584343,
          0.34577707775890487,
          2.1301507636241146,
          -0.5531762406825648,
          -0.7399323363908722,
          0.26241129162089216,
          -1.4337004355910643,
          -0.8594491355414683,
          -0.4912756822823481,
          0.583450794405381,
          -1.5045213827074095,
          1.752280268786307,
          -0.5863715567174779,
          -0.04012310455887652,
          1.9455806784460525,
          1.4257375049163175,
          -0.23411141816222264,
          -1.4491472757323403,
          -0.5833671584039474,
          -0.7529753578098609,
          0.10339329905994711,
          -0.004541122623439102,
          -1.7573449484289683,
          0.9043005711761228,
          -0.5799998214961695,
          -2.182073073509037,
          0.6117543628483829,
          -1.046866238177497,
          0.1451050144527596,
          -1.7091895613300523,
          0.7730883681592071,
          0.11046956239724635,
          0.860561453912868,
          1.7817168794154585,
          0.5941911948405838,
          1.7464390750714196,
          1.3443851144456052,
          -0.653941015096149,
          -0.6481687041989921,
          0.7565231993307985,
          -0.3377428990829017,
          -0.24165345197325094,
          -1.0946339421083284,
          -0.6566654045105857,
          1.4656164547884096,
          1.6971479352132062,
          0.06229333566246116,
          -0.33487264062175487,
          0.4575692496097571,
          -1.6218757011147977,
          -0.07516494673505354,
          1.2557900113465656,
          0.5178613245423704,
          0.5719740142416783,
          1.6678064203880918,
          1.2178665474743848,
          -0.7714648529472447,
          -0.21634347844280188,
          -0.058793758991811655,
          -1.3667740058247482,
          -0.47598627590409903,
          1.125778904159132,
          0.7835229441755038,
          0.09036040956928859,
          -0.15580677569506976,
          0.21970059205786405,
          -2.2347952553428714,
          0.30004649144884643,
          1.3109454582592848,
          0.580259232168523,
          -0.358579231338049,
          -1.21979233901239,
          -0.8050965907187663,
          1.836896105180095,
          -0.406968255985467,
          -0.6343369641269744,
          1.451527328603819,
          0.8033320096526525,
          -0.7679911742675111,
          -1.7453939281965098,
          -2.5858164646107724,
          -0.6622222603851182,
          -0.35412184689296267,
          -0.278741803965597,
          1.2277706222638571,
          -0.1364186492754009,
          -1.149210347160463,
          0.4790085316866908,
          0.8690059859342354,
          -0.5550546023569558,
          -0.5491642438620772,
          -0.9837564753414033,
          0.46931440157870213,
          -0.032044133111769284,
          -1.4470251258178546,
          0.20863537293074075,
          0.10224247082485786
         ],
         "xaxis": "x14",
         "y": [
          -0.48422610212364575,
          1.5720740917937719,
          0.29417676876254484,
          0.40695172654422823,
          1.8457057994470416,
          -0.22952687758607296,
          -1.4110412284931044,
          0.6622101937639742,
          0.2592665157840242,
          -1.1303136586350027,
          -0.9599244711714722,
          -2.9186523196758443,
          -1.220473307280125,
          -1.2845916926982326,
          0.695535527521974,
          -0.9410364272007093,
          -1.054438031492874,
          0.5786441680218358,
          -0.0009718609257263874,
          0.18385236601283705,
          0.8318731750611098,
          -1.2931331157932895,
          -0.473766295947915,
          0.21989469373577272,
          0.751519393731062,
          -0.8012409929519795,
          0.15717088097675325,
          0.08775590090120683,
          -1.5558711389261641,
          1.9100101943226668,
          -0.15024764424622192,
          -1.0873795965963182,
          0.6221884644119188,
          -0.7535658454708033,
          1.5420181648169597,
          0.43343134106589176,
          -0.7626239289295567,
          -0.11348077823666365,
          -0.4513994686538723,
          -1.3407248052036569,
          -1.1427204975189829,
          0.38490878622382924,
          1.1918871947298688,
          -1.1973844029991414,
          0.4427464888319099,
          -1.1165564301063253,
          0.45268501115174387,
          -0.7867863308971418,
          -0.40074023156815547,
          -0.09075355010727543,
          -0.9092733551878476,
          1.4801414765327043,
          -0.4864947224254879,
          -0.23553281518066121,
          -0.2604302198504222,
          -2.132184211795599,
          1.6263417593658696,
          0.10511365671282863,
          -0.7410307229762749,
          -0.27093812808134227,
          -0.34702317462092325,
          -0.34518985162498145,
          1.3833305918126406,
          0.41893754318194665,
          0.8749548193155436,
          -1.8505471278177148,
          -0.7245909334187343,
          -1.5919431295609106,
          -0.03634213035411084,
          -0.8349045571560765,
          -1.4844417570109985,
          -1.1863614757506453,
          0.7976643520601201,
          -0.8220721158635732,
          0.8865084569468012,
          0.6211572391849196,
          0.44190214365607716,
          0.25241338736425195,
          -0.8611530763022871,
          0.03612345805337376,
          -0.22931884616308534,
          0.3036281352810886,
          0.28167047279521784,
          -1.0826462314722138,
          -0.43986928804430997,
          1.2566381357755039,
          0.5991147482153631,
          -0.7182811491327988,
          1.008991043079794,
          -0.00942881536656502,
          -0.5174739528077554,
          0.5597354180307877,
          -1.37114336207063,
          0.6087502156043381,
          -0.6738609551229755,
          0.8082999592912838,
          -0.9025518546702369,
          -1.3890791489736931,
          1.365786540799907,
          -0.7780683191686512
         ],
         "yaxis": "y14"
        },
        {
         "line": {
          "color": "rgba(128, 128, 128, 1.0)",
          "dash": "solid",
          "shape": "linear",
          "width": 1.3
         },
         "marker": {
          "size": 2,
          "symbol": "circle"
         },
         "mode": "markers",
         "name": "D",
         "text": "",
         "type": "scatter",
         "x": [
          0.4976635153390595,
          -0.21790464096552933,
          1.8770568401163243,
          -0.08406329467212004,
          0.05047910130544238,
          -1.863119628570406,
          1.446686846495153,
          -0.4672959564642441,
          0.17173494323369048,
          0.48510954634981424,
          0.25894409234384486,
          -0.9907031509616347,
          -2.4765792073811785,
          0.13222033594138874,
          0.1443372495251389,
          0.09192344590453913,
          1.363885521029763,
          0.9197398757088081,
          3.1928661368771363,
          -0.34532606934295906,
          -1.507993249260039,
          -2.2560123287121083,
          -0.6038699413830702,
          -0.684452821760146,
          1.1194954883913042,
          -0.3846851354573298,
          -0.3194957124760941,
          -1.4704541460822047,
          0.572481472517222,
          -0.7872909127878106,
          0.7119242579447129,
          -0.5060207969696873,
          -0.40581934035404,
          -1.689273216260599,
          1.5823761755509458,
          -0.9700587722108596,
          0.35284881883627267,
          0.07924865304953307,
          0.6023573355088919,
          1.1202598058899436,
          -0.4477991916778235,
          0.8288463153154215,
          0.49772006964362825,
          -0.9505049971937803,
          -0.8140694642569831,
          -1.5529584699026207,
          -2.8809889027391304,
          -0.3417047889214654,
          -0.4084512140100783,
          -0.10456338893965307,
          0.9750386663920425,
          0.3946273695069198,
          1.3859616732854472,
          -0.6559827031709952,
          -0.7596889618125324,
          0.577932974981754,
          -1.0852209880182069,
          -1.2301294141994743,
          -0.8506515510864039,
          -2.5556952466223506,
          0.6004778581018496,
          0.5606158727475441,
          -0.8738107488147265,
          -1.1686346897067181,
          -0.20877839887826147,
          1.180163364462233,
          0.36535104793371614,
          0.2073904589342936,
          -0.6555404560646885,
          0.8881599742336906,
          -0.6711198606757098,
          0.3043941689392284,
          0.1258776385388952,
          -0.8051862402866529,
          -0.08028806660732918,
          -0.5167021376486441,
          -0.3346278148569162,
          -0.5744857100427638,
          0.41274885195909183,
          0.3270866038813453,
          -0.08857726307529906,
          0.26419135206184197,
          1.338994160548854,
          1.9992795048884158,
          0.7141750750859873,
          -1.888414529239671,
          1.4929320822433116,
          -1.3935753058577032,
          0.4786657984036205,
          -0.5662358279373066,
          1.3853965021502659,
          1.310768730747306,
          -1.2195161056820787,
          -0.30134328416469597,
          -1.8628772101274784,
          0.13656636905168743,
          0.15866495799556496,
          0.7753693348344339,
          -0.16909181430015702,
          -0.6141646672866208
         ],
         "xaxis": "x15",
         "y": [
          -0.48422610212364575,
          1.5720740917937719,
          0.29417676876254484,
          0.40695172654422823,
          1.8457057994470416,
          -0.22952687758607296,
          -1.4110412284931044,
          0.6622101937639742,
          0.2592665157840242,
          -1.1303136586350027,
          -0.9599244711714722,
          -2.9186523196758443,
          -1.220473307280125,
          -1.2845916926982326,
          0.695535527521974,
          -0.9410364272007093,
          -1.054438031492874,
          0.5786441680218358,
          -0.0009718609257263874,
          0.18385236601283705,
          0.8318731750611098,
          -1.2931331157932895,
          -0.473766295947915,
          0.21989469373577272,
          0.751519393731062,
          -0.8012409929519795,
          0.15717088097675325,
          0.08775590090120683,
          -1.5558711389261641,
          1.9100101943226668,
          -0.15024764424622192,
          -1.0873795965963182,
          0.6221884644119188,
          -0.7535658454708033,
          1.5420181648169597,
          0.43343134106589176,
          -0.7626239289295567,
          -0.11348077823666365,
          -0.4513994686538723,
          -1.3407248052036569,
          -1.1427204975189829,
          0.38490878622382924,
          1.1918871947298688,
          -1.1973844029991414,
          0.4427464888319099,
          -1.1165564301063253,
          0.45268501115174387,
          -0.7867863308971418,
          -0.40074023156815547,
          -0.09075355010727543,
          -0.9092733551878476,
          1.4801414765327043,
          -0.4864947224254879,
          -0.23553281518066121,
          -0.2604302198504222,
          -2.132184211795599,
          1.6263417593658696,
          0.10511365671282863,
          -0.7410307229762749,
          -0.27093812808134227,
          -0.34702317462092325,
          -0.34518985162498145,
          1.3833305918126406,
          0.41893754318194665,
          0.8749548193155436,
          -1.8505471278177148,
          -0.7245909334187343,
          -1.5919431295609106,
          -0.03634213035411084,
          -0.8349045571560765,
          -1.4844417570109985,
          -1.1863614757506453,
          0.7976643520601201,
          -0.8220721158635732,
          0.8865084569468012,
          0.6211572391849196,
          0.44190214365607716,
          0.25241338736425195,
          -0.8611530763022871,
          0.03612345805337376,
          -0.22931884616308534,
          0.3036281352810886,
          0.28167047279521784,
          -1.0826462314722138,
          -0.43986928804430997,
          1.2566381357755039,
          0.5991147482153631,
          -0.7182811491327988,
          1.008991043079794,
          -0.00942881536656502,
          -0.5174739528077554,
          0.5597354180307877,
          -1.37114336207063,
          0.6087502156043381,
          -0.6738609551229755,
          0.8082999592912838,
          -0.9025518546702369,
          -1.3890791489736931,
          1.365786540799907,
          -0.7780683191686512
         ],
         "yaxis": "y15"
        },
        {
         "histfunc": "count",
         "histnorm": "",
         "marker": {
          "color": "rgba(128, 0, 128, 1.0)",
          "line": {
           "color": "#4D5663",
           "width": 1.3
          }
         },
         "name": "D",
         "nbinsx": 10,
         "opacity": 0.8,
         "orientation": "v",
         "type": "histogram",
         "x": [
          -0.48422610212364575,
          1.5720740917937719,
          0.29417676876254484,
          0.40695172654422823,
          1.8457057994470416,
          -0.22952687758607296,
          -1.4110412284931044,
          0.6622101937639742,
          0.2592665157840242,
          -1.1303136586350027,
          -0.9599244711714722,
          -2.9186523196758443,
          -1.220473307280125,
          -1.2845916926982326,
          0.695535527521974,
          -0.9410364272007093,
          -1.054438031492874,
          0.5786441680218358,
          -0.0009718609257263874,
          0.18385236601283705,
          0.8318731750611098,
          -1.2931331157932895,
          -0.473766295947915,
          0.21989469373577272,
          0.751519393731062,
          -0.8012409929519795,
          0.15717088097675325,
          0.08775590090120683,
          -1.5558711389261641,
          1.9100101943226668,
          -0.15024764424622192,
          -1.0873795965963182,
          0.6221884644119188,
          -0.7535658454708033,
          1.5420181648169597,
          0.43343134106589176,
          -0.7626239289295567,
          -0.11348077823666365,
          -0.4513994686538723,
          -1.3407248052036569,
          -1.1427204975189829,
          0.38490878622382924,
          1.1918871947298688,
          -1.1973844029991414,
          0.4427464888319099,
          -1.1165564301063253,
          0.45268501115174387,
          -0.7867863308971418,
          -0.40074023156815547,
          -0.09075355010727543,
          -0.9092733551878476,
          1.4801414765327043,
          -0.4864947224254879,
          -0.23553281518066121,
          -0.2604302198504222,
          -2.132184211795599,
          1.6263417593658696,
          0.10511365671282863,
          -0.7410307229762749,
          -0.27093812808134227,
          -0.34702317462092325,
          -0.34518985162498145,
          1.3833305918126406,
          0.41893754318194665,
          0.8749548193155436,
          -1.8505471278177148,
          -0.7245909334187343,
          -1.5919431295609106,
          -0.03634213035411084,
          -0.8349045571560765,
          -1.4844417570109985,
          -1.1863614757506453,
          0.7976643520601201,
          -0.8220721158635732,
          0.8865084569468012,
          0.6211572391849196,
          0.44190214365607716,
          0.25241338736425195,
          -0.8611530763022871,
          0.03612345805337376,
          -0.22931884616308534,
          0.3036281352810886,
          0.28167047279521784,
          -1.0826462314722138,
          -0.43986928804430997,
          1.2566381357755039,
          0.5991147482153631,
          -0.7182811491327988,
          1.008991043079794,
          -0.00942881536656502,
          -0.5174739528077554,
          0.5597354180307877,
          -1.37114336207063,
          0.6087502156043381,
          -0.6738609551229755,
          0.8082999592912838,
          -0.9025518546702369,
          -1.3890791489736931,
          1.365786540799907,
          -0.7780683191686512
         ],
         "xaxis": "x16",
         "yaxis": "y16"
        }
       ],
       "layout": {
        "bargap": 0.02,
        "legend": {
         "bgcolor": "#F5F6F9",
         "font": {
          "color": "#4D5663"
         }
        },
        "paper_bgcolor": "#F5F6F9",
        "plot_bgcolor": "#F5F6F9",
        "showlegend": false,
        "template": {
         "data": {
          "bar": [
           {
            "error_x": {
             "color": "#2a3f5f"
            },
            "error_y": {
             "color": "#2a3f5f"
            },
            "marker": {
             "line": {
              "color": "#E5ECF6",
              "width": 0.5
             }
            },
            "type": "bar"
           }
          ],
          "barpolar": [
           {
            "marker": {
             "line": {
              "color": "#E5ECF6",
              "width": 0.5
             }
            },
            "type": "barpolar"
           }
          ],
          "carpet": [
           {
            "aaxis": {
             "endlinecolor": "#2a3f5f",
             "gridcolor": "white",
             "linecolor": "white",
             "minorgridcolor": "white",
             "startlinecolor": "#2a3f5f"
            },
            "baxis": {
             "endlinecolor": "#2a3f5f",
             "gridcolor": "white",
             "linecolor": "white",
             "minorgridcolor": "white",
             "startlinecolor": "#2a3f5f"
            },
            "type": "carpet"
           }
          ],
          "choropleth": [
           {
            "colorbar": {
             "outlinewidth": 0,
             "ticks": ""
            },
            "type": "choropleth"
           }
          ],
          "contour": [
           {
            "colorbar": {
             "outlinewidth": 0,
             "ticks": ""
            },
            "colorscale": [
             [
              0,
              "#0d0887"
             ],
             [
              0.1111111111111111,
              "#46039f"
             ],
             [
              0.2222222222222222,
              "#7201a8"
             ],
             [
              0.3333333333333333,
              "#9c179e"
             ],
             [
              0.4444444444444444,
              "#bd3786"
             ],
             [
              0.5555555555555556,
              "#d8576b"
             ],
             [
              0.6666666666666666,
              "#ed7953"
             ],
             [
              0.7777777777777778,
              "#fb9f3a"
             ],
             [
              0.8888888888888888,
              "#fdca26"
             ],
             [
              1,
              "#f0f921"
             ]
            ],
            "type": "contour"
           }
          ],
          "contourcarpet": [
           {
            "colorbar": {
             "outlinewidth": 0,
             "ticks": ""
            },
            "type": "contourcarpet"
           }
          ],
          "heatmap": [
           {
            "colorbar": {
             "outlinewidth": 0,
             "ticks": ""
            },
            "colorscale": [
             [
              0,
              "#0d0887"
             ],
             [
              0.1111111111111111,
              "#46039f"
             ],
             [
              0.2222222222222222,
              "#7201a8"
             ],
             [
              0.3333333333333333,
              "#9c179e"
             ],
             [
              0.4444444444444444,
              "#bd3786"
             ],
             [
              0.5555555555555556,
              "#d8576b"
             ],
             [
              0.6666666666666666,
              "#ed7953"
             ],
             [
              0.7777777777777778,
              "#fb9f3a"
             ],
             [
              0.8888888888888888,
              "#fdca26"
             ],
             [
              1,
              "#f0f921"
             ]
            ],
            "type": "heatmap"
           }
          ],
          "heatmapgl": [
           {
            "colorbar": {
             "outlinewidth": 0,
             "ticks": ""
            },
            "colorscale": [
             [
              0,
              "#0d0887"
             ],
             [
              0.1111111111111111,
              "#46039f"
             ],
             [
              0.2222222222222222,
              "#7201a8"
             ],
             [
              0.3333333333333333,
              "#9c179e"
             ],
             [
              0.4444444444444444,
              "#bd3786"
             ],
             [
              0.5555555555555556,
              "#d8576b"
             ],
             [
              0.6666666666666666,
              "#ed7953"
             ],
             [
              0.7777777777777778,
              "#fb9f3a"
             ],
             [
              0.8888888888888888,
              "#fdca26"
             ],
             [
              1,
              "#f0f921"
             ]
            ],
            "type": "heatmapgl"
           }
          ],
          "histogram": [
           {
            "marker": {
             "colorbar": {
              "outlinewidth": 0,
              "ticks": ""
             }
            },
            "type": "histogram"
           }
          ],
          "histogram2d": [
           {
            "colorbar": {
             "outlinewidth": 0,
             "ticks": ""
            },
            "colorscale": [
             [
              0,
              "#0d0887"
             ],
             [
              0.1111111111111111,
              "#46039f"
             ],
             [
              0.2222222222222222,
              "#7201a8"
             ],
             [
              0.3333333333333333,
              "#9c179e"
             ],
             [
              0.4444444444444444,
              "#bd3786"
             ],
             [
              0.5555555555555556,
              "#d8576b"
             ],
             [
              0.6666666666666666,
              "#ed7953"
             ],
             [
              0.7777777777777778,
              "#fb9f3a"
             ],
             [
              0.8888888888888888,
              "#fdca26"
             ],
             [
              1,
              "#f0f921"
             ]
            ],
            "type": "histogram2d"
           }
          ],
          "histogram2dcontour": [
           {
            "colorbar": {
             "outlinewidth": 0,
             "ticks": ""
            },
            "colorscale": [
             [
              0,
              "#0d0887"
             ],
             [
              0.1111111111111111,
              "#46039f"
             ],
             [
              0.2222222222222222,
              "#7201a8"
             ],
             [
              0.3333333333333333,
              "#9c179e"
             ],
             [
              0.4444444444444444,
              "#bd3786"
             ],
             [
              0.5555555555555556,
              "#d8576b"
             ],
             [
              0.6666666666666666,
              "#ed7953"
             ],
             [
              0.7777777777777778,
              "#fb9f3a"
             ],
             [
              0.8888888888888888,
              "#fdca26"
             ],
             [
              1,
              "#f0f921"
             ]
            ],
            "type": "histogram2dcontour"
           }
          ],
          "mesh3d": [
           {
            "colorbar": {
             "outlinewidth": 0,
             "ticks": ""
            },
            "type": "mesh3d"
           }
          ],
          "parcoords": [
           {
            "line": {
             "colorbar": {
              "outlinewidth": 0,
              "ticks": ""
             }
            },
            "type": "parcoords"
           }
          ],
          "pie": [
           {
            "automargin": true,
            "type": "pie"
           }
          ],
          "scatter": [
           {
            "marker": {
             "colorbar": {
              "outlinewidth": 0,
              "ticks": ""
             }
            },
            "type": "scatter"
           }
          ],
          "scatter3d": [
           {
            "line": {
             "colorbar": {
              "outlinewidth": 0,
              "ticks": ""
             }
            },
            "marker": {
             "colorbar": {
              "outlinewidth": 0,
              "ticks": ""
             }
            },
            "type": "scatter3d"
           }
          ],
          "scattercarpet": [
           {
            "marker": {
             "colorbar": {
              "outlinewidth": 0,
              "ticks": ""
             }
            },
            "type": "scattercarpet"
           }
          ],
          "scattergeo": [
           {
            "marker": {
             "colorbar": {
              "outlinewidth": 0,
              "ticks": ""
             }
            },
            "type": "scattergeo"
           }
          ],
          "scattergl": [
           {
            "marker": {
             "colorbar": {
              "outlinewidth": 0,
              "ticks": ""
             }
            },
            "type": "scattergl"
           }
          ],
          "scattermapbox": [
           {
            "marker": {
             "colorbar": {
              "outlinewidth": 0,
              "ticks": ""
             }
            },
            "type": "scattermapbox"
           }
          ],
          "scatterpolar": [
           {
            "marker": {
             "colorbar": {
              "outlinewidth": 0,
              "ticks": ""
             }
            },
            "type": "scatterpolar"
           }
          ],
          "scatterpolargl": [
           {
            "marker": {
             "colorbar": {
              "outlinewidth": 0,
              "ticks": ""
             }
            },
            "type": "scatterpolargl"
           }
          ],
          "scatterternary": [
           {
            "marker": {
             "colorbar": {
              "outlinewidth": 0,
              "ticks": ""
             }
            },
            "type": "scatterternary"
           }
          ],
          "surface": [
           {
            "colorbar": {
             "outlinewidth": 0,
             "ticks": ""
            },
            "colorscale": [
             [
              0,
              "#0d0887"
             ],
             [
              0.1111111111111111,
              "#46039f"
             ],
             [
              0.2222222222222222,
              "#7201a8"
             ],
             [
              0.3333333333333333,
              "#9c179e"
             ],
             [
              0.4444444444444444,
              "#bd3786"
             ],
             [
              0.5555555555555556,
              "#d8576b"
             ],
             [
              0.6666666666666666,
              "#ed7953"
             ],
             [
              0.7777777777777778,
              "#fb9f3a"
             ],
             [
              0.8888888888888888,
              "#fdca26"
             ],
             [
              1,
              "#f0f921"
             ]
            ],
            "type": "surface"
           }
          ],
          "table": [
           {
            "cells": {
             "fill": {
              "color": "#EBF0F8"
             },
             "line": {
              "color": "white"
             }
            },
            "header": {
             "fill": {
              "color": "#C8D4E3"
             },
             "line": {
              "color": "white"
             }
            },
            "type": "table"
           }
          ]
         },
         "layout": {
          "annotationdefaults": {
           "arrowcolor": "#2a3f5f",
           "arrowhead": 0,
           "arrowwidth": 1
          },
          "coloraxis": {
           "colorbar": {
            "outlinewidth": 0,
            "ticks": ""
           }
          },
          "colorscale": {
           "diverging": [
            [
             0,
             "#8e0152"
            ],
            [
             0.1,
             "#c51b7d"
            ],
            [
             0.2,
             "#de77ae"
            ],
            [
             0.3,
             "#f1b6da"
            ],
            [
             0.4,
             "#fde0ef"
            ],
            [
             0.5,
             "#f7f7f7"
            ],
            [
             0.6,
             "#e6f5d0"
            ],
            [
             0.7,
             "#b8e186"
            ],
            [
             0.8,
             "#7fbc41"
            ],
            [
             0.9,
             "#4d9221"
            ],
            [
             1,
             "#276419"
            ]
           ],
           "sequential": [
            [
             0,
             "#0d0887"
            ],
            [
             0.1111111111111111,
             "#46039f"
            ],
            [
             0.2222222222222222,
             "#7201a8"
            ],
            [
             0.3333333333333333,
             "#9c179e"
            ],
            [
             0.4444444444444444,
             "#bd3786"
            ],
            [
             0.5555555555555556,
             "#d8576b"
            ],
            [
             0.6666666666666666,
             "#ed7953"
            ],
            [
             0.7777777777777778,
             "#fb9f3a"
            ],
            [
             0.8888888888888888,
             "#fdca26"
            ],
            [
             1,
             "#f0f921"
            ]
           ],
           "sequentialminus": [
            [
             0,
             "#0d0887"
            ],
            [
             0.1111111111111111,
             "#46039f"
            ],
            [
             0.2222222222222222,
             "#7201a8"
            ],
            [
             0.3333333333333333,
             "#9c179e"
            ],
            [
             0.4444444444444444,
             "#bd3786"
            ],
            [
             0.5555555555555556,
             "#d8576b"
            ],
            [
             0.6666666666666666,
             "#ed7953"
            ],
            [
             0.7777777777777778,
             "#fb9f3a"
            ],
            [
             0.8888888888888888,
             "#fdca26"
            ],
            [
             1,
             "#f0f921"
            ]
           ]
          },
          "colorway": [
           "#636efa",
           "#EF553B",
           "#00cc96",
           "#ab63fa",
           "#FFA15A",
           "#19d3f3",
           "#FF6692",
           "#B6E880",
           "#FF97FF",
           "#FECB52"
          ],
          "font": {
           "color": "#2a3f5f"
          },
          "geo": {
           "bgcolor": "white",
           "lakecolor": "white",
           "landcolor": "#E5ECF6",
           "showlakes": true,
           "showland": true,
           "subunitcolor": "white"
          },
          "hoverlabel": {
           "align": "left"
          },
          "hovermode": "closest",
          "mapbox": {
           "style": "light"
          },
          "paper_bgcolor": "white",
          "plot_bgcolor": "#E5ECF6",
          "polar": {
           "angularaxis": {
            "gridcolor": "white",
            "linecolor": "white",
            "ticks": ""
           },
           "bgcolor": "#E5ECF6",
           "radialaxis": {
            "gridcolor": "white",
            "linecolor": "white",
            "ticks": ""
           }
          },
          "scene": {
           "xaxis": {
            "backgroundcolor": "#E5ECF6",
            "gridcolor": "white",
            "gridwidth": 2,
            "linecolor": "white",
            "showbackground": true,
            "ticks": "",
            "zerolinecolor": "white"
           },
           "yaxis": {
            "backgroundcolor": "#E5ECF6",
            "gridcolor": "white",
            "gridwidth": 2,
            "linecolor": "white",
            "showbackground": true,
            "ticks": "",
            "zerolinecolor": "white"
           },
           "zaxis": {
            "backgroundcolor": "#E5ECF6",
            "gridcolor": "white",
            "gridwidth": 2,
            "linecolor": "white",
            "showbackground": true,
            "ticks": "",
            "zerolinecolor": "white"
           }
          },
          "shapedefaults": {
           "line": {
            "color": "#2a3f5f"
           }
          },
          "ternary": {
           "aaxis": {
            "gridcolor": "white",
            "linecolor": "white",
            "ticks": ""
           },
           "baxis": {
            "gridcolor": "white",
            "linecolor": "white",
            "ticks": ""
           },
           "bgcolor": "#E5ECF6",
           "caxis": {
            "gridcolor": "white",
            "linecolor": "white",
            "ticks": ""
           }
          },
          "title": {
           "x": 0.05
          },
          "xaxis": {
           "automargin": true,
           "gridcolor": "white",
           "linecolor": "white",
           "ticks": "",
           "title": {
            "standoff": 15
           },
           "zerolinecolor": "white",
           "zerolinewidth": 2
          },
          "yaxis": {
           "automargin": true,
           "gridcolor": "white",
           "linecolor": "white",
           "ticks": "",
           "title": {
            "standoff": 15
           },
           "zerolinecolor": "white",
           "zerolinewidth": 2
          }
         }
        },
        "title": {
         "font": {
          "color": "#4D5663"
         }
        },
        "xaxis": {
         "anchor": "y",
         "domain": [
          0,
          0.2125
         ],
         "gridcolor": "#E1E5ED",
         "showgrid": false,
         "tickfont": {
          "color": "#4D5663"
         },
         "title": {
          "font": {
           "color": "#4D5663"
          },
          "text": ""
         },
         "zerolinecolor": "#E1E5ED"
        },
        "xaxis10": {
         "anchor": "y10",
         "domain": [
          0.2625,
          0.475
         ],
         "gridcolor": "#E1E5ED",
         "showgrid": false,
         "tickfont": {
          "color": "#4D5663"
         },
         "title": {
          "font": {
           "color": "#4D5663"
          },
          "text": ""
         },
         "zerolinecolor": "#E1E5ED"
        },
        "xaxis11": {
         "anchor": "y11",
         "domain": [
          0.525,
          0.7375
         ],
         "gridcolor": "#E1E5ED",
         "showgrid": false,
         "tickfont": {
          "color": "#4D5663"
         },
         "title": {
          "font": {
           "color": "#4D5663"
          },
          "text": ""
         },
         "zerolinecolor": "#E1E5ED"
        },
        "xaxis12": {
         "anchor": "y12",
         "domain": [
          0.7875,
          1
         ],
         "gridcolor": "#E1E5ED",
         "showgrid": false,
         "tickfont": {
          "color": "#4D5663"
         },
         "title": {
          "font": {
           "color": "#4D5663"
          },
          "text": ""
         },
         "zerolinecolor": "#E1E5ED"
        },
        "xaxis13": {
         "anchor": "y13",
         "domain": [
          0,
          0.2125
         ],
         "gridcolor": "#E1E5ED",
         "showgrid": false,
         "tickfont": {
          "color": "#4D5663"
         },
         "title": {
          "font": {
           "color": "#4D5663"
          },
          "text": ""
         },
         "zerolinecolor": "#E1E5ED"
        },
        "xaxis14": {
         "anchor": "y14",
         "domain": [
          0.2625,
          0.475
         ],
         "gridcolor": "#E1E5ED",
         "showgrid": false,
         "tickfont": {
          "color": "#4D5663"
         },
         "title": {
          "font": {
           "color": "#4D5663"
          },
          "text": ""
         },
         "zerolinecolor": "#E1E5ED"
        },
        "xaxis15": {
         "anchor": "y15",
         "domain": [
          0.525,
          0.7375
         ],
         "gridcolor": "#E1E5ED",
         "showgrid": false,
         "tickfont": {
          "color": "#4D5663"
         },
         "title": {
          "font": {
           "color": "#4D5663"
          },
          "text": ""
         },
         "zerolinecolor": "#E1E5ED"
        },
        "xaxis16": {
         "anchor": "y16",
         "domain": [
          0.7875,
          1
         ],
         "gridcolor": "#E1E5ED",
         "showgrid": false,
         "tickfont": {
          "color": "#4D5663"
         },
         "title": {
          "font": {
           "color": "#4D5663"
          },
          "text": ""
         },
         "zerolinecolor": "#E1E5ED"
        },
        "xaxis2": {
         "anchor": "y2",
         "domain": [
          0.2625,
          0.475
         ],
         "gridcolor": "#E1E5ED",
         "showgrid": false,
         "tickfont": {
          "color": "#4D5663"
         },
         "title": {
          "font": {
           "color": "#4D5663"
          },
          "text": ""
         },
         "zerolinecolor": "#E1E5ED"
        },
        "xaxis3": {
         "anchor": "y3",
         "domain": [
          0.525,
          0.7375
         ],
         "gridcolor": "#E1E5ED",
         "showgrid": false,
         "tickfont": {
          "color": "#4D5663"
         },
         "title": {
          "font": {
           "color": "#4D5663"
          },
          "text": ""
         },
         "zerolinecolor": "#E1E5ED"
        },
        "xaxis4": {
         "anchor": "y4",
         "domain": [
          0.7875,
          1
         ],
         "gridcolor": "#E1E5ED",
         "showgrid": false,
         "tickfont": {
          "color": "#4D5663"
         },
         "title": {
          "font": {
           "color": "#4D5663"
          },
          "text": ""
         },
         "zerolinecolor": "#E1E5ED"
        },
        "xaxis5": {
         "anchor": "y5",
         "domain": [
          0,
          0.2125
         ],
         "gridcolor": "#E1E5ED",
         "showgrid": false,
         "tickfont": {
          "color": "#4D5663"
         },
         "title": {
          "font": {
           "color": "#4D5663"
          },
          "text": ""
         },
         "zerolinecolor": "#E1E5ED"
        },
        "xaxis6": {
         "anchor": "y6",
         "domain": [
          0.2625,
          0.475
         ],
         "gridcolor": "#E1E5ED",
         "showgrid": false,
         "tickfont": {
          "color": "#4D5663"
         },
         "title": {
          "font": {
           "color": "#4D5663"
          },
          "text": ""
         },
         "zerolinecolor": "#E1E5ED"
        },
        "xaxis7": {
         "anchor": "y7",
         "domain": [
          0.525,
          0.7375
         ],
         "gridcolor": "#E1E5ED",
         "showgrid": false,
         "tickfont": {
          "color": "#4D5663"
         },
         "title": {
          "font": {
           "color": "#4D5663"
          },
          "text": ""
         },
         "zerolinecolor": "#E1E5ED"
        },
        "xaxis8": {
         "anchor": "y8",
         "domain": [
          0.7875,
          1
         ],
         "gridcolor": "#E1E5ED",
         "showgrid": false,
         "tickfont": {
          "color": "#4D5663"
         },
         "title": {
          "font": {
           "color": "#4D5663"
          },
          "text": ""
         },
         "zerolinecolor": "#E1E5ED"
        },
        "xaxis9": {
         "anchor": "y9",
         "domain": [
          0,
          0.2125
         ],
         "gridcolor": "#E1E5ED",
         "showgrid": false,
         "tickfont": {
          "color": "#4D5663"
         },
         "title": {
          "font": {
           "color": "#4D5663"
          },
          "text": ""
         },
         "zerolinecolor": "#E1E5ED"
        },
        "yaxis": {
         "anchor": "x",
         "domain": [
          0.8025,
          1
         ],
         "gridcolor": "#E1E5ED",
         "showgrid": false,
         "tickfont": {
          "color": "#4D5663"
         },
         "title": {
          "font": {
           "color": "#4D5663"
          },
          "text": ""
         },
         "zerolinecolor": "#E1E5ED"
        },
        "yaxis10": {
         "anchor": "x10",
         "domain": [
          0.2675,
          0.465
         ],
         "gridcolor": "#E1E5ED",
         "showgrid": false,
         "tickfont": {
          "color": "#4D5663"
         },
         "title": {
          "font": {
           "color": "#4D5663"
          },
          "text": ""
         },
         "zerolinecolor": "#E1E5ED"
        },
        "yaxis11": {
         "anchor": "x11",
         "domain": [
          0.2675,
          0.465
         ],
         "gridcolor": "#E1E5ED",
         "showgrid": false,
         "tickfont": {
          "color": "#4D5663"
         },
         "title": {
          "font": {
           "color": "#4D5663"
          },
          "text": ""
         },
         "zerolinecolor": "#E1E5ED"
        },
        "yaxis12": {
         "anchor": "x12",
         "domain": [
          0.2675,
          0.465
         ],
         "gridcolor": "#E1E5ED",
         "showgrid": false,
         "tickfont": {
          "color": "#4D5663"
         },
         "title": {
          "font": {
           "color": "#4D5663"
          },
          "text": ""
         },
         "zerolinecolor": "#E1E5ED"
        },
        "yaxis13": {
         "anchor": "x13",
         "domain": [
          0,
          0.1975
         ],
         "gridcolor": "#E1E5ED",
         "showgrid": false,
         "tickfont": {
          "color": "#4D5663"
         },
         "title": {
          "font": {
           "color": "#4D5663"
          },
          "text": ""
         },
         "zerolinecolor": "#E1E5ED"
        },
        "yaxis14": {
         "anchor": "x14",
         "domain": [
          0,
          0.1975
         ],
         "gridcolor": "#E1E5ED",
         "showgrid": false,
         "tickfont": {
          "color": "#4D5663"
         },
         "title": {
          "font": {
           "color": "#4D5663"
          },
          "text": ""
         },
         "zerolinecolor": "#E1E5ED"
        },
        "yaxis15": {
         "anchor": "x15",
         "domain": [
          0,
          0.1975
         ],
         "gridcolor": "#E1E5ED",
         "showgrid": false,
         "tickfont": {
          "color": "#4D5663"
         },
         "title": {
          "font": {
           "color": "#4D5663"
          },
          "text": ""
         },
         "zerolinecolor": "#E1E5ED"
        },
        "yaxis16": {
         "anchor": "x16",
         "domain": [
          0,
          0.1975
         ],
         "gridcolor": "#E1E5ED",
         "showgrid": false,
         "tickfont": {
          "color": "#4D5663"
         },
         "title": {
          "font": {
           "color": "#4D5663"
          },
          "text": ""
         },
         "zerolinecolor": "#E1E5ED"
        },
        "yaxis2": {
         "anchor": "x2",
         "domain": [
          0.8025,
          1
         ],
         "gridcolor": "#E1E5ED",
         "showgrid": false,
         "tickfont": {
          "color": "#4D5663"
         },
         "title": {
          "font": {
           "color": "#4D5663"
          },
          "text": ""
         },
         "zerolinecolor": "#E1E5ED"
        },
        "yaxis3": {
         "anchor": "x3",
         "domain": [
          0.8025,
          1
         ],
         "gridcolor": "#E1E5ED",
         "showgrid": false,
         "tickfont": {
          "color": "#4D5663"
         },
         "title": {
          "font": {
           "color": "#4D5663"
          },
          "text": ""
         },
         "zerolinecolor": "#E1E5ED"
        },
        "yaxis4": {
         "anchor": "x4",
         "domain": [
          0.8025,
          1
         ],
         "gridcolor": "#E1E5ED",
         "showgrid": false,
         "tickfont": {
          "color": "#4D5663"
         },
         "title": {
          "font": {
           "color": "#4D5663"
          },
          "text": ""
         },
         "zerolinecolor": "#E1E5ED"
        },
        "yaxis5": {
         "anchor": "x5",
         "domain": [
          0.535,
          0.7325
         ],
         "gridcolor": "#E1E5ED",
         "showgrid": false,
         "tickfont": {
          "color": "#4D5663"
         },
         "title": {
          "font": {
           "color": "#4D5663"
          },
          "text": ""
         },
         "zerolinecolor": "#E1E5ED"
        },
        "yaxis6": {
         "anchor": "x6",
         "domain": [
          0.535,
          0.7325
         ],
         "gridcolor": "#E1E5ED",
         "showgrid": false,
         "tickfont": {
          "color": "#4D5663"
         },
         "title": {
          "font": {
           "color": "#4D5663"
          },
          "text": ""
         },
         "zerolinecolor": "#E1E5ED"
        },
        "yaxis7": {
         "anchor": "x7",
         "domain": [
          0.535,
          0.7325
         ],
         "gridcolor": "#E1E5ED",
         "showgrid": false,
         "tickfont": {
          "color": "#4D5663"
         },
         "title": {
          "font": {
           "color": "#4D5663"
          },
          "text": ""
         },
         "zerolinecolor": "#E1E5ED"
        },
        "yaxis8": {
         "anchor": "x8",
         "domain": [
          0.535,
          0.7325
         ],
         "gridcolor": "#E1E5ED",
         "showgrid": false,
         "tickfont": {
          "color": "#4D5663"
         },
         "title": {
          "font": {
           "color": "#4D5663"
          },
          "text": ""
         },
         "zerolinecolor": "#E1E5ED"
        },
        "yaxis9": {
         "anchor": "x9",
         "domain": [
          0.2675,
          0.465
         ],
         "gridcolor": "#E1E5ED",
         "showgrid": false,
         "tickfont": {
          "color": "#4D5663"
         },
         "title": {
          "font": {
           "color": "#4D5663"
          },
          "text": ""
         },
         "zerolinecolor": "#E1E5ED"
        }
       }
      },
      "text/html": [
       "<div>\n",
       "        \n",
       "        \n",
       "            <div id=\"d0cf6645-6d92-4d90-97c0-0a296d3d37b9\" class=\"plotly-graph-div\" style=\"height:525px; width:100%;\"></div>\n",
       "            <script type=\"text/javascript\">\n",
       "                require([\"plotly\"], function(Plotly) {\n",
       "                    window.PLOTLYENV=window.PLOTLYENV || {};\n",
       "                    window.PLOTLYENV.BASE_URL='https://plot.ly';\n",
       "                    \n",
       "                if (document.getElementById(\"d0cf6645-6d92-4d90-97c0-0a296d3d37b9\")) {\n",
       "                    Plotly.newPlot(\n",
       "                        'd0cf6645-6d92-4d90-97c0-0a296d3d37b9',\n",
       "                        [{\"histfunc\": \"count\", \"histnorm\": \"\", \"marker\": {\"color\": \"rgba(255, 153, 51, 1.0)\", \"line\": {\"color\": \"#4D5663\", \"width\": 1.3}}, \"name\": \"A\", \"nbinsx\": 10, \"opacity\": 0.8, \"orientation\": \"v\", \"type\": \"histogram\", \"x\": [0.33530550154152494, 0.09065339513616581, -0.01630297475032681, -0.07869977638765072, -0.11280955759602175, -0.1401151965190619, 0.37726332968436377, 0.9807848237014964, 0.810497685246533, -0.5369994090996112, 0.4665515681528577, -0.4027752710747494, 0.8450873692592444, -1.6713871998577774, -0.5647159680856547, -1.0454373654393754, -0.19128198431349563, -0.08380197880652643, -0.6808409250243673, 1.5314298215111735, -0.8472738029656343, 2.016894424729286, 0.5675939625303773, -0.12570665669379766, -2.9530064435370353, -0.7623240462719839, 0.24650554670245756, 0.677974153571497, 0.34498118682073425, 0.7050866228571876, 0.48289759808491, 0.19661274001139517, -0.10839634016900147, 1.2955729007966614, -1.2080228686216006, -0.8868820384240231, -0.8504568442746137, -0.8592195770336528, 0.23891912898121961, -0.390740080415598, 0.7899539300986534, 1.9073166225165692, 0.7332345874800306, 0.076279312025144, -0.1606368966839194, 0.3722445893819746, 0.6054925610989462, 0.7956873319712157, 0.9725100209690856, 0.24018718772850134, -1.390060796293999, -1.7325819543366443, -1.0531172370304538, -0.8435755679018383, -1.8669241001205663, 0.1430069081678792, 0.3503266506041815, 0.4798291478777767, 0.5100131008826317, 2.0749173355937347, -1.3690344750713008, -0.06876435799003278, -0.4505688369932266, 1.078456943733188, 0.30714997296703755, -0.4139398828429726, 1.7895416427199355, 0.776518393126592, 1.1006209089834444, 2.3663267206891385, -0.748679596212696, -0.8895687565692749, 0.8656205411908345, 0.41104469157294404, -0.609241534591123, -1.4383026828323873, 0.26635612483594606, -1.8980379983631288, -1.738277833733187, -1.5289927281839082, 0.23529718024963092, -0.08309493795682184, 0.273378453933951, -0.4817320634709933, -0.1375488620604106, 0.33783356180165247, 0.6998816614904454, 0.537709684336636, 0.8069903649895979, -0.6731094896210476, 1.443158574532866, 1.2870986328443184, 0.7035596946386531, -0.7921994935980345, -0.489915251036213, -0.5231506439766499, 0.385676724326846, -0.09919321074167252, 0.8202815108228418, 1.2975442876253223], \"xaxis\": \"x\", \"yaxis\": \"y\"}, {\"line\": {\"color\": \"rgba(128, 128, 128, 1.0)\", \"dash\": \"solid\", \"shape\": \"linear\", \"width\": 1.3}, \"marker\": {\"size\": 2, \"symbol\": \"circle\"}, \"mode\": \"markers\", \"name\": \"A\", \"text\": \"\", \"type\": \"scatter\", \"x\": [-0.6760691106235645, 0.18372206965000965, -0.34323330233492, -2.070801152584343, 0.34577707775890487, 2.1301507636241146, -0.5531762406825648, -0.7399323363908722, 0.26241129162089216, -1.4337004355910643, -0.8594491355414683, -0.4912756822823481, 0.583450794405381, -1.5045213827074095, 1.752280268786307, -0.5863715567174779, -0.04012310455887652, 1.9455806784460525, 1.4257375049163175, -0.23411141816222264, -1.4491472757323403, -0.5833671584039474, -0.7529753578098609, 0.10339329905994711, -0.004541122623439102, -1.7573449484289683, 0.9043005711761228, -0.5799998214961695, -2.182073073509037, 0.6117543628483829, -1.046866238177497, 0.1451050144527596, -1.7091895613300523, 0.7730883681592071, 0.11046956239724635, 0.860561453912868, 1.7817168794154585, 0.5941911948405838, 1.7464390750714196, 1.3443851144456052, -0.653941015096149, -0.6481687041989921, 0.7565231993307985, -0.3377428990829017, -0.24165345197325094, -1.0946339421083284, -0.6566654045105857, 1.4656164547884096, 1.6971479352132062, 0.06229333566246116, -0.33487264062175487, 0.4575692496097571, -1.6218757011147977, -0.07516494673505354, 1.2557900113465656, 0.5178613245423704, 0.5719740142416783, 1.6678064203880918, 1.2178665474743848, -0.7714648529472447, -0.21634347844280188, -0.058793758991811655, -1.3667740058247482, -0.47598627590409903, 1.125778904159132, 0.7835229441755038, 0.09036040956928859, -0.15580677569506976, 0.21970059205786405, -2.2347952553428714, 0.30004649144884643, 1.3109454582592848, 0.580259232168523, -0.358579231338049, -1.21979233901239, -0.8050965907187663, 1.836896105180095, -0.406968255985467, -0.6343369641269744, 1.451527328603819, 0.8033320096526525, -0.7679911742675111, -1.7453939281965098, -2.5858164646107724, -0.6622222603851182, -0.35412184689296267, -0.278741803965597, 1.2277706222638571, -0.1364186492754009, -1.149210347160463, 0.4790085316866908, 0.8690059859342354, -0.5550546023569558, -0.5491642438620772, -0.9837564753414033, 0.46931440157870213, -0.032044133111769284, -1.4470251258178546, 0.20863537293074075, 0.10224247082485786], \"xaxis\": \"x2\", \"y\": [0.33530550154152494, 0.09065339513616581, -0.01630297475032681, -0.07869977638765072, -0.11280955759602175, -0.1401151965190619, 0.37726332968436377, 0.9807848237014964, 0.810497685246533, -0.5369994090996112, 0.4665515681528577, -0.4027752710747494, 0.8450873692592444, -1.6713871998577774, -0.5647159680856547, -1.0454373654393754, -0.19128198431349563, -0.08380197880652643, -0.6808409250243673, 1.5314298215111735, -0.8472738029656343, 2.016894424729286, 0.5675939625303773, -0.12570665669379766, -2.9530064435370353, -0.7623240462719839, 0.24650554670245756, 0.677974153571497, 0.34498118682073425, 0.7050866228571876, 0.48289759808491, 0.19661274001139517, -0.10839634016900147, 1.2955729007966614, -1.2080228686216006, -0.8868820384240231, -0.8504568442746137, -0.8592195770336528, 0.23891912898121961, -0.390740080415598, 0.7899539300986534, 1.9073166225165692, 0.7332345874800306, 0.076279312025144, -0.1606368966839194, 0.3722445893819746, 0.6054925610989462, 0.7956873319712157, 0.9725100209690856, 0.24018718772850134, -1.390060796293999, -1.7325819543366443, -1.0531172370304538, -0.8435755679018383, -1.8669241001205663, 0.1430069081678792, 0.3503266506041815, 0.4798291478777767, 0.5100131008826317, 2.0749173355937347, -1.3690344750713008, -0.06876435799003278, -0.4505688369932266, 1.078456943733188, 0.30714997296703755, -0.4139398828429726, 1.7895416427199355, 0.776518393126592, 1.1006209089834444, 2.3663267206891385, -0.748679596212696, -0.8895687565692749, 0.8656205411908345, 0.41104469157294404, -0.609241534591123, -1.4383026828323873, 0.26635612483594606, -1.8980379983631288, -1.738277833733187, -1.5289927281839082, 0.23529718024963092, -0.08309493795682184, 0.273378453933951, -0.4817320634709933, -0.1375488620604106, 0.33783356180165247, 0.6998816614904454, 0.537709684336636, 0.8069903649895979, -0.6731094896210476, 1.443158574532866, 1.2870986328443184, 0.7035596946386531, -0.7921994935980345, -0.489915251036213, -0.5231506439766499, 0.385676724326846, -0.09919321074167252, 0.8202815108228418, 1.2975442876253223], \"yaxis\": \"y2\"}, {\"line\": {\"color\": \"rgba(128, 128, 128, 1.0)\", \"dash\": \"solid\", \"shape\": \"linear\", \"width\": 1.3}, \"marker\": {\"size\": 2, \"symbol\": \"circle\"}, \"mode\": \"markers\", \"name\": \"A\", \"text\": \"\", \"type\": \"scatter\", \"x\": [0.4976635153390595, -0.21790464096552933, 1.8770568401163243, -0.08406329467212004, 0.05047910130544238, -1.863119628570406, 1.446686846495153, -0.4672959564642441, 0.17173494323369048, 0.48510954634981424, 0.25894409234384486, -0.9907031509616347, -2.4765792073811785, 0.13222033594138874, 0.1443372495251389, 0.09192344590453913, 1.363885521029763, 0.9197398757088081, 3.1928661368771363, -0.34532606934295906, -1.507993249260039, -2.2560123287121083, -0.6038699413830702, -0.684452821760146, 1.1194954883913042, -0.3846851354573298, -0.3194957124760941, -1.4704541460822047, 0.572481472517222, -0.7872909127878106, 0.7119242579447129, -0.5060207969696873, -0.40581934035404, -1.689273216260599, 1.5823761755509458, -0.9700587722108596, 0.35284881883627267, 0.07924865304953307, 0.6023573355088919, 1.1202598058899436, -0.4477991916778235, 0.8288463153154215, 0.49772006964362825, -0.9505049971937803, -0.8140694642569831, -1.5529584699026207, -2.8809889027391304, -0.3417047889214654, -0.4084512140100783, -0.10456338893965307, 0.9750386663920425, 0.3946273695069198, 1.3859616732854472, -0.6559827031709952, -0.7596889618125324, 0.577932974981754, -1.0852209880182069, -1.2301294141994743, -0.8506515510864039, -2.5556952466223506, 0.6004778581018496, 0.5606158727475441, -0.8738107488147265, -1.1686346897067181, -0.20877839887826147, 1.180163364462233, 0.36535104793371614, 0.2073904589342936, -0.6555404560646885, 0.8881599742336906, -0.6711198606757098, 0.3043941689392284, 0.1258776385388952, -0.8051862402866529, -0.08028806660732918, -0.5167021376486441, -0.3346278148569162, -0.5744857100427638, 0.41274885195909183, 0.3270866038813453, -0.08857726307529906, 0.26419135206184197, 1.338994160548854, 1.9992795048884158, 0.7141750750859873, -1.888414529239671, 1.4929320822433116, -1.3935753058577032, 0.4786657984036205, -0.5662358279373066, 1.3853965021502659, 1.310768730747306, -1.2195161056820787, -0.30134328416469597, -1.8628772101274784, 0.13656636905168743, 0.15866495799556496, 0.7753693348344339, -0.16909181430015702, -0.6141646672866208], \"xaxis\": \"x3\", \"y\": [0.33530550154152494, 0.09065339513616581, -0.01630297475032681, -0.07869977638765072, -0.11280955759602175, -0.1401151965190619, 0.37726332968436377, 0.9807848237014964, 0.810497685246533, -0.5369994090996112, 0.4665515681528577, -0.4027752710747494, 0.8450873692592444, -1.6713871998577774, -0.5647159680856547, -1.0454373654393754, -0.19128198431349563, -0.08380197880652643, -0.6808409250243673, 1.5314298215111735, -0.8472738029656343, 2.016894424729286, 0.5675939625303773, -0.12570665669379766, -2.9530064435370353, -0.7623240462719839, 0.24650554670245756, 0.677974153571497, 0.34498118682073425, 0.7050866228571876, 0.48289759808491, 0.19661274001139517, -0.10839634016900147, 1.2955729007966614, -1.2080228686216006, -0.8868820384240231, -0.8504568442746137, -0.8592195770336528, 0.23891912898121961, -0.390740080415598, 0.7899539300986534, 1.9073166225165692, 0.7332345874800306, 0.076279312025144, -0.1606368966839194, 0.3722445893819746, 0.6054925610989462, 0.7956873319712157, 0.9725100209690856, 0.24018718772850134, -1.390060796293999, -1.7325819543366443, -1.0531172370304538, -0.8435755679018383, -1.8669241001205663, 0.1430069081678792, 0.3503266506041815, 0.4798291478777767, 0.5100131008826317, 2.0749173355937347, -1.3690344750713008, -0.06876435799003278, -0.4505688369932266, 1.078456943733188, 0.30714997296703755, -0.4139398828429726, 1.7895416427199355, 0.776518393126592, 1.1006209089834444, 2.3663267206891385, -0.748679596212696, -0.8895687565692749, 0.8656205411908345, 0.41104469157294404, -0.609241534591123, -1.4383026828323873, 0.26635612483594606, -1.8980379983631288, -1.738277833733187, -1.5289927281839082, 0.23529718024963092, -0.08309493795682184, 0.273378453933951, -0.4817320634709933, -0.1375488620604106, 0.33783356180165247, 0.6998816614904454, 0.537709684336636, 0.8069903649895979, -0.6731094896210476, 1.443158574532866, 1.2870986328443184, 0.7035596946386531, -0.7921994935980345, -0.489915251036213, -0.5231506439766499, 0.385676724326846, -0.09919321074167252, 0.8202815108228418, 1.2975442876253223], \"yaxis\": \"y3\"}, {\"line\": {\"color\": \"rgba(128, 128, 128, 1.0)\", \"dash\": \"solid\", \"shape\": \"linear\", \"width\": 1.3}, \"marker\": {\"size\": 2, \"symbol\": \"circle\"}, \"mode\": \"markers\", \"name\": \"A\", \"text\": \"\", \"type\": \"scatter\", \"x\": [-0.48422610212364575, 1.5720740917937719, 0.29417676876254484, 0.40695172654422823, 1.8457057994470416, -0.22952687758607296, -1.4110412284931044, 0.6622101937639742, 0.2592665157840242, -1.1303136586350027, -0.9599244711714722, -2.9186523196758443, -1.220473307280125, -1.2845916926982326, 0.695535527521974, -0.9410364272007093, -1.054438031492874, 0.5786441680218358, -0.0009718609257263874, 0.18385236601283705, 0.8318731750611098, -1.2931331157932895, -0.473766295947915, 0.21989469373577272, 0.751519393731062, -0.8012409929519795, 0.15717088097675325, 0.08775590090120683, -1.5558711389261641, 1.9100101943226668, -0.15024764424622192, -1.0873795965963182, 0.6221884644119188, -0.7535658454708033, 1.5420181648169597, 0.43343134106589176, -0.7626239289295567, -0.11348077823666365, -0.4513994686538723, -1.3407248052036569, -1.1427204975189829, 0.38490878622382924, 1.1918871947298688, -1.1973844029991414, 0.4427464888319099, -1.1165564301063253, 0.45268501115174387, -0.7867863308971418, -0.40074023156815547, -0.09075355010727543, -0.9092733551878476, 1.4801414765327043, -0.4864947224254879, -0.23553281518066121, -0.2604302198504222, -2.132184211795599, 1.6263417593658696, 0.10511365671282863, -0.7410307229762749, -0.27093812808134227, -0.34702317462092325, -0.34518985162498145, 1.3833305918126406, 0.41893754318194665, 0.8749548193155436, -1.8505471278177148, -0.7245909334187343, -1.5919431295609106, -0.03634213035411084, -0.8349045571560765, -1.4844417570109985, -1.1863614757506453, 0.7976643520601201, -0.8220721158635732, 0.8865084569468012, 0.6211572391849196, 0.44190214365607716, 0.25241338736425195, -0.8611530763022871, 0.03612345805337376, -0.22931884616308534, 0.3036281352810886, 0.28167047279521784, -1.0826462314722138, -0.43986928804430997, 1.2566381357755039, 0.5991147482153631, -0.7182811491327988, 1.008991043079794, -0.00942881536656502, -0.5174739528077554, 0.5597354180307877, -1.37114336207063, 0.6087502156043381, -0.6738609551229755, 0.8082999592912838, -0.9025518546702369, -1.3890791489736931, 1.365786540799907, -0.7780683191686512], \"xaxis\": \"x4\", \"y\": [0.33530550154152494, 0.09065339513616581, -0.01630297475032681, -0.07869977638765072, -0.11280955759602175, -0.1401151965190619, 0.37726332968436377, 0.9807848237014964, 0.810497685246533, -0.5369994090996112, 0.4665515681528577, -0.4027752710747494, 0.8450873692592444, -1.6713871998577774, -0.5647159680856547, -1.0454373654393754, -0.19128198431349563, -0.08380197880652643, -0.6808409250243673, 1.5314298215111735, -0.8472738029656343, 2.016894424729286, 0.5675939625303773, -0.12570665669379766, -2.9530064435370353, -0.7623240462719839, 0.24650554670245756, 0.677974153571497, 0.34498118682073425, 0.7050866228571876, 0.48289759808491, 0.19661274001139517, -0.10839634016900147, 1.2955729007966614, -1.2080228686216006, -0.8868820384240231, -0.8504568442746137, -0.8592195770336528, 0.23891912898121961, -0.390740080415598, 0.7899539300986534, 1.9073166225165692, 0.7332345874800306, 0.076279312025144, -0.1606368966839194, 0.3722445893819746, 0.6054925610989462, 0.7956873319712157, 0.9725100209690856, 0.24018718772850134, -1.390060796293999, -1.7325819543366443, -1.0531172370304538, -0.8435755679018383, -1.8669241001205663, 0.1430069081678792, 0.3503266506041815, 0.4798291478777767, 0.5100131008826317, 2.0749173355937347, -1.3690344750713008, -0.06876435799003278, -0.4505688369932266, 1.078456943733188, 0.30714997296703755, -0.4139398828429726, 1.7895416427199355, 0.776518393126592, 1.1006209089834444, 2.3663267206891385, -0.748679596212696, -0.8895687565692749, 0.8656205411908345, 0.41104469157294404, -0.609241534591123, -1.4383026828323873, 0.26635612483594606, -1.8980379983631288, -1.738277833733187, -1.5289927281839082, 0.23529718024963092, -0.08309493795682184, 0.273378453933951, -0.4817320634709933, -0.1375488620604106, 0.33783356180165247, 0.6998816614904454, 0.537709684336636, 0.8069903649895979, -0.6731094896210476, 1.443158574532866, 1.2870986328443184, 0.7035596946386531, -0.7921994935980345, -0.489915251036213, -0.5231506439766499, 0.385676724326846, -0.09919321074167252, 0.8202815108228418, 1.2975442876253223], \"yaxis\": \"y4\"}, {\"line\": {\"color\": \"rgba(128, 128, 128, 1.0)\", \"dash\": \"solid\", \"shape\": \"linear\", \"width\": 1.3}, \"marker\": {\"size\": 2, \"symbol\": \"circle\"}, \"mode\": \"markers\", \"name\": \"B\", \"text\": \"\", \"type\": \"scatter\", \"x\": [0.33530550154152494, 0.09065339513616581, -0.01630297475032681, -0.07869977638765072, -0.11280955759602175, -0.1401151965190619, 0.37726332968436377, 0.9807848237014964, 0.810497685246533, -0.5369994090996112, 0.4665515681528577, -0.4027752710747494, 0.8450873692592444, -1.6713871998577774, -0.5647159680856547, -1.0454373654393754, -0.19128198431349563, -0.08380197880652643, -0.6808409250243673, 1.5314298215111735, -0.8472738029656343, 2.016894424729286, 0.5675939625303773, -0.12570665669379766, -2.9530064435370353, -0.7623240462719839, 0.24650554670245756, 0.677974153571497, 0.34498118682073425, 0.7050866228571876, 0.48289759808491, 0.19661274001139517, -0.10839634016900147, 1.2955729007966614, -1.2080228686216006, -0.8868820384240231, -0.8504568442746137, -0.8592195770336528, 0.23891912898121961, -0.390740080415598, 0.7899539300986534, 1.9073166225165692, 0.7332345874800306, 0.076279312025144, -0.1606368966839194, 0.3722445893819746, 0.6054925610989462, 0.7956873319712157, 0.9725100209690856, 0.24018718772850134, -1.390060796293999, -1.7325819543366443, -1.0531172370304538, -0.8435755679018383, -1.8669241001205663, 0.1430069081678792, 0.3503266506041815, 0.4798291478777767, 0.5100131008826317, 2.0749173355937347, -1.3690344750713008, -0.06876435799003278, -0.4505688369932266, 1.078456943733188, 0.30714997296703755, -0.4139398828429726, 1.7895416427199355, 0.776518393126592, 1.1006209089834444, 2.3663267206891385, -0.748679596212696, -0.8895687565692749, 0.8656205411908345, 0.41104469157294404, -0.609241534591123, -1.4383026828323873, 0.26635612483594606, -1.8980379983631288, -1.738277833733187, -1.5289927281839082, 0.23529718024963092, -0.08309493795682184, 0.273378453933951, -0.4817320634709933, -0.1375488620604106, 0.33783356180165247, 0.6998816614904454, 0.537709684336636, 0.8069903649895979, -0.6731094896210476, 1.443158574532866, 1.2870986328443184, 0.7035596946386531, -0.7921994935980345, -0.489915251036213, -0.5231506439766499, 0.385676724326846, -0.09919321074167252, 0.8202815108228418, 1.2975442876253223], \"xaxis\": \"x5\", \"y\": [-0.6760691106235645, 0.18372206965000965, -0.34323330233492, -2.070801152584343, 0.34577707775890487, 2.1301507636241146, -0.5531762406825648, -0.7399323363908722, 0.26241129162089216, -1.4337004355910643, -0.8594491355414683, -0.4912756822823481, 0.583450794405381, -1.5045213827074095, 1.752280268786307, -0.5863715567174779, -0.04012310455887652, 1.9455806784460525, 1.4257375049163175, -0.23411141816222264, -1.4491472757323403, -0.5833671584039474, -0.7529753578098609, 0.10339329905994711, -0.004541122623439102, -1.7573449484289683, 0.9043005711761228, -0.5799998214961695, -2.182073073509037, 0.6117543628483829, -1.046866238177497, 0.1451050144527596, -1.7091895613300523, 0.7730883681592071, 0.11046956239724635, 0.860561453912868, 1.7817168794154585, 0.5941911948405838, 1.7464390750714196, 1.3443851144456052, -0.653941015096149, -0.6481687041989921, 0.7565231993307985, -0.3377428990829017, -0.24165345197325094, -1.0946339421083284, -0.6566654045105857, 1.4656164547884096, 1.6971479352132062, 0.06229333566246116, -0.33487264062175487, 0.4575692496097571, -1.6218757011147977, -0.07516494673505354, 1.2557900113465656, 0.5178613245423704, 0.5719740142416783, 1.6678064203880918, 1.2178665474743848, -0.7714648529472447, -0.21634347844280188, -0.058793758991811655, -1.3667740058247482, -0.47598627590409903, 1.125778904159132, 0.7835229441755038, 0.09036040956928859, -0.15580677569506976, 0.21970059205786405, -2.2347952553428714, 0.30004649144884643, 1.3109454582592848, 0.580259232168523, -0.358579231338049, -1.21979233901239, -0.8050965907187663, 1.836896105180095, -0.406968255985467, -0.6343369641269744, 1.451527328603819, 0.8033320096526525, -0.7679911742675111, -1.7453939281965098, -2.5858164646107724, -0.6622222603851182, -0.35412184689296267, -0.278741803965597, 1.2277706222638571, -0.1364186492754009, -1.149210347160463, 0.4790085316866908, 0.8690059859342354, -0.5550546023569558, -0.5491642438620772, -0.9837564753414033, 0.46931440157870213, -0.032044133111769284, -1.4470251258178546, 0.20863537293074075, 0.10224247082485786], \"yaxis\": \"y5\"}, {\"histfunc\": \"count\", \"histnorm\": \"\", \"marker\": {\"color\": \"rgba(55, 128, 191, 1.0)\", \"line\": {\"color\": \"#4D5663\", \"width\": 1.3}}, \"name\": \"B\", \"nbinsx\": 10, \"opacity\": 0.8, \"orientation\": \"v\", \"type\": \"histogram\", \"x\": [-0.6760691106235645, 0.18372206965000965, -0.34323330233492, -2.070801152584343, 0.34577707775890487, 2.1301507636241146, -0.5531762406825648, -0.7399323363908722, 0.26241129162089216, -1.4337004355910643, -0.8594491355414683, -0.4912756822823481, 0.583450794405381, -1.5045213827074095, 1.752280268786307, -0.5863715567174779, -0.04012310455887652, 1.9455806784460525, 1.4257375049163175, -0.23411141816222264, -1.4491472757323403, -0.5833671584039474, -0.7529753578098609, 0.10339329905994711, -0.004541122623439102, -1.7573449484289683, 0.9043005711761228, -0.5799998214961695, -2.182073073509037, 0.6117543628483829, -1.046866238177497, 0.1451050144527596, -1.7091895613300523, 0.7730883681592071, 0.11046956239724635, 0.860561453912868, 1.7817168794154585, 0.5941911948405838, 1.7464390750714196, 1.3443851144456052, -0.653941015096149, -0.6481687041989921, 0.7565231993307985, -0.3377428990829017, -0.24165345197325094, -1.0946339421083284, -0.6566654045105857, 1.4656164547884096, 1.6971479352132062, 0.06229333566246116, -0.33487264062175487, 0.4575692496097571, -1.6218757011147977, -0.07516494673505354, 1.2557900113465656, 0.5178613245423704, 0.5719740142416783, 1.6678064203880918, 1.2178665474743848, -0.7714648529472447, -0.21634347844280188, -0.058793758991811655, -1.3667740058247482, -0.47598627590409903, 1.125778904159132, 0.7835229441755038, 0.09036040956928859, -0.15580677569506976, 0.21970059205786405, -2.2347952553428714, 0.30004649144884643, 1.3109454582592848, 0.580259232168523, -0.358579231338049, -1.21979233901239, -0.8050965907187663, 1.836896105180095, -0.406968255985467, -0.6343369641269744, 1.451527328603819, 0.8033320096526525, -0.7679911742675111, -1.7453939281965098, -2.5858164646107724, -0.6622222603851182, -0.35412184689296267, -0.278741803965597, 1.2277706222638571, -0.1364186492754009, -1.149210347160463, 0.4790085316866908, 0.8690059859342354, -0.5550546023569558, -0.5491642438620772, -0.9837564753414033, 0.46931440157870213, -0.032044133111769284, -1.4470251258178546, 0.20863537293074075, 0.10224247082485786], \"xaxis\": \"x6\", \"yaxis\": \"y6\"}, {\"line\": {\"color\": \"rgba(128, 128, 128, 1.0)\", \"dash\": \"solid\", \"shape\": \"linear\", \"width\": 1.3}, \"marker\": {\"size\": 2, \"symbol\": \"circle\"}, \"mode\": \"markers\", \"name\": \"B\", \"text\": \"\", \"type\": \"scatter\", \"x\": [0.4976635153390595, -0.21790464096552933, 1.8770568401163243, -0.08406329467212004, 0.05047910130544238, -1.863119628570406, 1.446686846495153, -0.4672959564642441, 0.17173494323369048, 0.48510954634981424, 0.25894409234384486, -0.9907031509616347, -2.4765792073811785, 0.13222033594138874, 0.1443372495251389, 0.09192344590453913, 1.363885521029763, 0.9197398757088081, 3.1928661368771363, -0.34532606934295906, -1.507993249260039, -2.2560123287121083, -0.6038699413830702, -0.684452821760146, 1.1194954883913042, -0.3846851354573298, -0.3194957124760941, -1.4704541460822047, 0.572481472517222, -0.7872909127878106, 0.7119242579447129, -0.5060207969696873, -0.40581934035404, -1.689273216260599, 1.5823761755509458, -0.9700587722108596, 0.35284881883627267, 0.07924865304953307, 0.6023573355088919, 1.1202598058899436, -0.4477991916778235, 0.8288463153154215, 0.49772006964362825, -0.9505049971937803, -0.8140694642569831, -1.5529584699026207, -2.8809889027391304, -0.3417047889214654, -0.4084512140100783, -0.10456338893965307, 0.9750386663920425, 0.3946273695069198, 1.3859616732854472, -0.6559827031709952, -0.7596889618125324, 0.577932974981754, -1.0852209880182069, -1.2301294141994743, -0.8506515510864039, -2.5556952466223506, 0.6004778581018496, 0.5606158727475441, -0.8738107488147265, -1.1686346897067181, -0.20877839887826147, 1.180163364462233, 0.36535104793371614, 0.2073904589342936, -0.6555404560646885, 0.8881599742336906, -0.6711198606757098, 0.3043941689392284, 0.1258776385388952, -0.8051862402866529, -0.08028806660732918, -0.5167021376486441, -0.3346278148569162, -0.5744857100427638, 0.41274885195909183, 0.3270866038813453, -0.08857726307529906, 0.26419135206184197, 1.338994160548854, 1.9992795048884158, 0.7141750750859873, -1.888414529239671, 1.4929320822433116, -1.3935753058577032, 0.4786657984036205, -0.5662358279373066, 1.3853965021502659, 1.310768730747306, -1.2195161056820787, -0.30134328416469597, -1.8628772101274784, 0.13656636905168743, 0.15866495799556496, 0.7753693348344339, -0.16909181430015702, -0.6141646672866208], \"xaxis\": \"x7\", \"y\": [-0.6760691106235645, 0.18372206965000965, -0.34323330233492, -2.070801152584343, 0.34577707775890487, 2.1301507636241146, -0.5531762406825648, -0.7399323363908722, 0.26241129162089216, -1.4337004355910643, -0.8594491355414683, -0.4912756822823481, 0.583450794405381, -1.5045213827074095, 1.752280268786307, -0.5863715567174779, -0.04012310455887652, 1.9455806784460525, 1.4257375049163175, -0.23411141816222264, -1.4491472757323403, -0.5833671584039474, -0.7529753578098609, 0.10339329905994711, -0.004541122623439102, -1.7573449484289683, 0.9043005711761228, -0.5799998214961695, -2.182073073509037, 0.6117543628483829, -1.046866238177497, 0.1451050144527596, -1.7091895613300523, 0.7730883681592071, 0.11046956239724635, 0.860561453912868, 1.7817168794154585, 0.5941911948405838, 1.7464390750714196, 1.3443851144456052, -0.653941015096149, -0.6481687041989921, 0.7565231993307985, -0.3377428990829017, -0.24165345197325094, -1.0946339421083284, -0.6566654045105857, 1.4656164547884096, 1.6971479352132062, 0.06229333566246116, -0.33487264062175487, 0.4575692496097571, -1.6218757011147977, -0.07516494673505354, 1.2557900113465656, 0.5178613245423704, 0.5719740142416783, 1.6678064203880918, 1.2178665474743848, -0.7714648529472447, -0.21634347844280188, -0.058793758991811655, -1.3667740058247482, -0.47598627590409903, 1.125778904159132, 0.7835229441755038, 0.09036040956928859, -0.15580677569506976, 0.21970059205786405, -2.2347952553428714, 0.30004649144884643, 1.3109454582592848, 0.580259232168523, -0.358579231338049, -1.21979233901239, -0.8050965907187663, 1.836896105180095, -0.406968255985467, -0.6343369641269744, 1.451527328603819, 0.8033320096526525, -0.7679911742675111, -1.7453939281965098, -2.5858164646107724, -0.6622222603851182, -0.35412184689296267, -0.278741803965597, 1.2277706222638571, -0.1364186492754009, -1.149210347160463, 0.4790085316866908, 0.8690059859342354, -0.5550546023569558, -0.5491642438620772, -0.9837564753414033, 0.46931440157870213, -0.032044133111769284, -1.4470251258178546, 0.20863537293074075, 0.10224247082485786], \"yaxis\": \"y7\"}, {\"line\": {\"color\": \"rgba(128, 128, 128, 1.0)\", \"dash\": \"solid\", \"shape\": \"linear\", \"width\": 1.3}, \"marker\": {\"size\": 2, \"symbol\": \"circle\"}, \"mode\": \"markers\", \"name\": \"B\", \"text\": \"\", \"type\": \"scatter\", \"x\": [-0.48422610212364575, 1.5720740917937719, 0.29417676876254484, 0.40695172654422823, 1.8457057994470416, -0.22952687758607296, -1.4110412284931044, 0.6622101937639742, 0.2592665157840242, -1.1303136586350027, -0.9599244711714722, -2.9186523196758443, -1.220473307280125, -1.2845916926982326, 0.695535527521974, -0.9410364272007093, -1.054438031492874, 0.5786441680218358, -0.0009718609257263874, 0.18385236601283705, 0.8318731750611098, -1.2931331157932895, -0.473766295947915, 0.21989469373577272, 0.751519393731062, -0.8012409929519795, 0.15717088097675325, 0.08775590090120683, -1.5558711389261641, 1.9100101943226668, -0.15024764424622192, -1.0873795965963182, 0.6221884644119188, -0.7535658454708033, 1.5420181648169597, 0.43343134106589176, -0.7626239289295567, -0.11348077823666365, -0.4513994686538723, -1.3407248052036569, -1.1427204975189829, 0.38490878622382924, 1.1918871947298688, -1.1973844029991414, 0.4427464888319099, -1.1165564301063253, 0.45268501115174387, -0.7867863308971418, -0.40074023156815547, -0.09075355010727543, -0.9092733551878476, 1.4801414765327043, -0.4864947224254879, -0.23553281518066121, -0.2604302198504222, -2.132184211795599, 1.6263417593658696, 0.10511365671282863, -0.7410307229762749, -0.27093812808134227, -0.34702317462092325, -0.34518985162498145, 1.3833305918126406, 0.41893754318194665, 0.8749548193155436, -1.8505471278177148, -0.7245909334187343, -1.5919431295609106, -0.03634213035411084, -0.8349045571560765, -1.4844417570109985, -1.1863614757506453, 0.7976643520601201, -0.8220721158635732, 0.8865084569468012, 0.6211572391849196, 0.44190214365607716, 0.25241338736425195, -0.8611530763022871, 0.03612345805337376, -0.22931884616308534, 0.3036281352810886, 0.28167047279521784, -1.0826462314722138, -0.43986928804430997, 1.2566381357755039, 0.5991147482153631, -0.7182811491327988, 1.008991043079794, -0.00942881536656502, -0.5174739528077554, 0.5597354180307877, -1.37114336207063, 0.6087502156043381, -0.6738609551229755, 0.8082999592912838, -0.9025518546702369, -1.3890791489736931, 1.365786540799907, -0.7780683191686512], \"xaxis\": \"x8\", \"y\": [-0.6760691106235645, 0.18372206965000965, -0.34323330233492, -2.070801152584343, 0.34577707775890487, 2.1301507636241146, -0.5531762406825648, -0.7399323363908722, 0.26241129162089216, -1.4337004355910643, -0.8594491355414683, -0.4912756822823481, 0.583450794405381, -1.5045213827074095, 1.752280268786307, -0.5863715567174779, -0.04012310455887652, 1.9455806784460525, 1.4257375049163175, -0.23411141816222264, -1.4491472757323403, -0.5833671584039474, -0.7529753578098609, 0.10339329905994711, -0.004541122623439102, -1.7573449484289683, 0.9043005711761228, -0.5799998214961695, -2.182073073509037, 0.6117543628483829, -1.046866238177497, 0.1451050144527596, -1.7091895613300523, 0.7730883681592071, 0.11046956239724635, 0.860561453912868, 1.7817168794154585, 0.5941911948405838, 1.7464390750714196, 1.3443851144456052, -0.653941015096149, -0.6481687041989921, 0.7565231993307985, -0.3377428990829017, -0.24165345197325094, -1.0946339421083284, -0.6566654045105857, 1.4656164547884096, 1.6971479352132062, 0.06229333566246116, -0.33487264062175487, 0.4575692496097571, -1.6218757011147977, -0.07516494673505354, 1.2557900113465656, 0.5178613245423704, 0.5719740142416783, 1.6678064203880918, 1.2178665474743848, -0.7714648529472447, -0.21634347844280188, -0.058793758991811655, -1.3667740058247482, -0.47598627590409903, 1.125778904159132, 0.7835229441755038, 0.09036040956928859, -0.15580677569506976, 0.21970059205786405, -2.2347952553428714, 0.30004649144884643, 1.3109454582592848, 0.580259232168523, -0.358579231338049, -1.21979233901239, -0.8050965907187663, 1.836896105180095, -0.406968255985467, -0.6343369641269744, 1.451527328603819, 0.8033320096526525, -0.7679911742675111, -1.7453939281965098, -2.5858164646107724, -0.6622222603851182, -0.35412184689296267, -0.278741803965597, 1.2277706222638571, -0.1364186492754009, -1.149210347160463, 0.4790085316866908, 0.8690059859342354, -0.5550546023569558, -0.5491642438620772, -0.9837564753414033, 0.46931440157870213, -0.032044133111769284, -1.4470251258178546, 0.20863537293074075, 0.10224247082485786], \"yaxis\": \"y8\"}, {\"line\": {\"color\": \"rgba(128, 128, 128, 1.0)\", \"dash\": \"solid\", \"shape\": \"linear\", \"width\": 1.3}, \"marker\": {\"size\": 2, \"symbol\": \"circle\"}, \"mode\": \"markers\", \"name\": \"C\", \"text\": \"\", \"type\": \"scatter\", \"x\": [0.33530550154152494, 0.09065339513616581, -0.01630297475032681, -0.07869977638765072, -0.11280955759602175, -0.1401151965190619, 0.37726332968436377, 0.9807848237014964, 0.810497685246533, -0.5369994090996112, 0.4665515681528577, -0.4027752710747494, 0.8450873692592444, -1.6713871998577774, -0.5647159680856547, -1.0454373654393754, -0.19128198431349563, -0.08380197880652643, -0.6808409250243673, 1.5314298215111735, -0.8472738029656343, 2.016894424729286, 0.5675939625303773, -0.12570665669379766, -2.9530064435370353, -0.7623240462719839, 0.24650554670245756, 0.677974153571497, 0.34498118682073425, 0.7050866228571876, 0.48289759808491, 0.19661274001139517, -0.10839634016900147, 1.2955729007966614, -1.2080228686216006, -0.8868820384240231, -0.8504568442746137, -0.8592195770336528, 0.23891912898121961, -0.390740080415598, 0.7899539300986534, 1.9073166225165692, 0.7332345874800306, 0.076279312025144, -0.1606368966839194, 0.3722445893819746, 0.6054925610989462, 0.7956873319712157, 0.9725100209690856, 0.24018718772850134, -1.390060796293999, -1.7325819543366443, -1.0531172370304538, -0.8435755679018383, -1.8669241001205663, 0.1430069081678792, 0.3503266506041815, 0.4798291478777767, 0.5100131008826317, 2.0749173355937347, -1.3690344750713008, -0.06876435799003278, -0.4505688369932266, 1.078456943733188, 0.30714997296703755, -0.4139398828429726, 1.7895416427199355, 0.776518393126592, 1.1006209089834444, 2.3663267206891385, -0.748679596212696, -0.8895687565692749, 0.8656205411908345, 0.41104469157294404, -0.609241534591123, -1.4383026828323873, 0.26635612483594606, -1.8980379983631288, -1.738277833733187, -1.5289927281839082, 0.23529718024963092, -0.08309493795682184, 0.273378453933951, -0.4817320634709933, -0.1375488620604106, 0.33783356180165247, 0.6998816614904454, 0.537709684336636, 0.8069903649895979, -0.6731094896210476, 1.443158574532866, 1.2870986328443184, 0.7035596946386531, -0.7921994935980345, -0.489915251036213, -0.5231506439766499, 0.385676724326846, -0.09919321074167252, 0.8202815108228418, 1.2975442876253223], \"xaxis\": \"x9\", \"y\": [0.4976635153390595, -0.21790464096552933, 1.8770568401163243, -0.08406329467212004, 0.05047910130544238, -1.863119628570406, 1.446686846495153, -0.4672959564642441, 0.17173494323369048, 0.48510954634981424, 0.25894409234384486, -0.9907031509616347, -2.4765792073811785, 0.13222033594138874, 0.1443372495251389, 0.09192344590453913, 1.363885521029763, 0.9197398757088081, 3.1928661368771363, -0.34532606934295906, -1.507993249260039, -2.2560123287121083, -0.6038699413830702, -0.684452821760146, 1.1194954883913042, -0.3846851354573298, -0.3194957124760941, -1.4704541460822047, 0.572481472517222, -0.7872909127878106, 0.7119242579447129, -0.5060207969696873, -0.40581934035404, -1.689273216260599, 1.5823761755509458, -0.9700587722108596, 0.35284881883627267, 0.07924865304953307, 0.6023573355088919, 1.1202598058899436, -0.4477991916778235, 0.8288463153154215, 0.49772006964362825, -0.9505049971937803, -0.8140694642569831, -1.5529584699026207, -2.8809889027391304, -0.3417047889214654, -0.4084512140100783, -0.10456338893965307, 0.9750386663920425, 0.3946273695069198, 1.3859616732854472, -0.6559827031709952, -0.7596889618125324, 0.577932974981754, -1.0852209880182069, -1.2301294141994743, -0.8506515510864039, -2.5556952466223506, 0.6004778581018496, 0.5606158727475441, -0.8738107488147265, -1.1686346897067181, -0.20877839887826147, 1.180163364462233, 0.36535104793371614, 0.2073904589342936, -0.6555404560646885, 0.8881599742336906, -0.6711198606757098, 0.3043941689392284, 0.1258776385388952, -0.8051862402866529, -0.08028806660732918, -0.5167021376486441, -0.3346278148569162, -0.5744857100427638, 0.41274885195909183, 0.3270866038813453, -0.08857726307529906, 0.26419135206184197, 1.338994160548854, 1.9992795048884158, 0.7141750750859873, -1.888414529239671, 1.4929320822433116, -1.3935753058577032, 0.4786657984036205, -0.5662358279373066, 1.3853965021502659, 1.310768730747306, -1.2195161056820787, -0.30134328416469597, -1.8628772101274784, 0.13656636905168743, 0.15866495799556496, 0.7753693348344339, -0.16909181430015702, -0.6141646672866208], \"yaxis\": \"y9\"}, {\"line\": {\"color\": \"rgba(128, 128, 128, 1.0)\", \"dash\": \"solid\", \"shape\": \"linear\", \"width\": 1.3}, \"marker\": {\"size\": 2, \"symbol\": \"circle\"}, \"mode\": \"markers\", \"name\": \"C\", \"text\": \"\", \"type\": \"scatter\", \"x\": [-0.6760691106235645, 0.18372206965000965, -0.34323330233492, -2.070801152584343, 0.34577707775890487, 2.1301507636241146, -0.5531762406825648, -0.7399323363908722, 0.26241129162089216, -1.4337004355910643, -0.8594491355414683, -0.4912756822823481, 0.583450794405381, -1.5045213827074095, 1.752280268786307, -0.5863715567174779, -0.04012310455887652, 1.9455806784460525, 1.4257375049163175, -0.23411141816222264, -1.4491472757323403, -0.5833671584039474, -0.7529753578098609, 0.10339329905994711, -0.004541122623439102, -1.7573449484289683, 0.9043005711761228, -0.5799998214961695, -2.182073073509037, 0.6117543628483829, -1.046866238177497, 0.1451050144527596, -1.7091895613300523, 0.7730883681592071, 0.11046956239724635, 0.860561453912868, 1.7817168794154585, 0.5941911948405838, 1.7464390750714196, 1.3443851144456052, -0.653941015096149, -0.6481687041989921, 0.7565231993307985, -0.3377428990829017, -0.24165345197325094, -1.0946339421083284, -0.6566654045105857, 1.4656164547884096, 1.6971479352132062, 0.06229333566246116, -0.33487264062175487, 0.4575692496097571, -1.6218757011147977, -0.07516494673505354, 1.2557900113465656, 0.5178613245423704, 0.5719740142416783, 1.6678064203880918, 1.2178665474743848, -0.7714648529472447, -0.21634347844280188, -0.058793758991811655, -1.3667740058247482, -0.47598627590409903, 1.125778904159132, 0.7835229441755038, 0.09036040956928859, -0.15580677569506976, 0.21970059205786405, -2.2347952553428714, 0.30004649144884643, 1.3109454582592848, 0.580259232168523, -0.358579231338049, -1.21979233901239, -0.8050965907187663, 1.836896105180095, -0.406968255985467, -0.6343369641269744, 1.451527328603819, 0.8033320096526525, -0.7679911742675111, -1.7453939281965098, -2.5858164646107724, -0.6622222603851182, -0.35412184689296267, -0.278741803965597, 1.2277706222638571, -0.1364186492754009, -1.149210347160463, 0.4790085316866908, 0.8690059859342354, -0.5550546023569558, -0.5491642438620772, -0.9837564753414033, 0.46931440157870213, -0.032044133111769284, -1.4470251258178546, 0.20863537293074075, 0.10224247082485786], \"xaxis\": \"x10\", \"y\": [0.4976635153390595, -0.21790464096552933, 1.8770568401163243, -0.08406329467212004, 0.05047910130544238, -1.863119628570406, 1.446686846495153, -0.4672959564642441, 0.17173494323369048, 0.48510954634981424, 0.25894409234384486, -0.9907031509616347, -2.4765792073811785, 0.13222033594138874, 0.1443372495251389, 0.09192344590453913, 1.363885521029763, 0.9197398757088081, 3.1928661368771363, -0.34532606934295906, -1.507993249260039, -2.2560123287121083, -0.6038699413830702, -0.684452821760146, 1.1194954883913042, -0.3846851354573298, -0.3194957124760941, -1.4704541460822047, 0.572481472517222, -0.7872909127878106, 0.7119242579447129, -0.5060207969696873, -0.40581934035404, -1.689273216260599, 1.5823761755509458, -0.9700587722108596, 0.35284881883627267, 0.07924865304953307, 0.6023573355088919, 1.1202598058899436, -0.4477991916778235, 0.8288463153154215, 0.49772006964362825, -0.9505049971937803, -0.8140694642569831, -1.5529584699026207, -2.8809889027391304, -0.3417047889214654, -0.4084512140100783, -0.10456338893965307, 0.9750386663920425, 0.3946273695069198, 1.3859616732854472, -0.6559827031709952, -0.7596889618125324, 0.577932974981754, -1.0852209880182069, -1.2301294141994743, -0.8506515510864039, -2.5556952466223506, 0.6004778581018496, 0.5606158727475441, -0.8738107488147265, -1.1686346897067181, -0.20877839887826147, 1.180163364462233, 0.36535104793371614, 0.2073904589342936, -0.6555404560646885, 0.8881599742336906, -0.6711198606757098, 0.3043941689392284, 0.1258776385388952, -0.8051862402866529, -0.08028806660732918, -0.5167021376486441, -0.3346278148569162, -0.5744857100427638, 0.41274885195909183, 0.3270866038813453, -0.08857726307529906, 0.26419135206184197, 1.338994160548854, 1.9992795048884158, 0.7141750750859873, -1.888414529239671, 1.4929320822433116, -1.3935753058577032, 0.4786657984036205, -0.5662358279373066, 1.3853965021502659, 1.310768730747306, -1.2195161056820787, -0.30134328416469597, -1.8628772101274784, 0.13656636905168743, 0.15866495799556496, 0.7753693348344339, -0.16909181430015702, -0.6141646672866208], \"yaxis\": \"y10\"}, {\"histfunc\": \"count\", \"histnorm\": \"\", \"marker\": {\"color\": \"rgba(50, 171, 96, 1.0)\", \"line\": {\"color\": \"#4D5663\", \"width\": 1.3}}, \"name\": \"C\", \"nbinsx\": 10, \"opacity\": 0.8, \"orientation\": \"v\", \"type\": \"histogram\", \"x\": [0.4976635153390595, -0.21790464096552933, 1.8770568401163243, -0.08406329467212004, 0.05047910130544238, -1.863119628570406, 1.446686846495153, -0.4672959564642441, 0.17173494323369048, 0.48510954634981424, 0.25894409234384486, -0.9907031509616347, -2.4765792073811785, 0.13222033594138874, 0.1443372495251389, 0.09192344590453913, 1.363885521029763, 0.9197398757088081, 3.1928661368771363, -0.34532606934295906, -1.507993249260039, -2.2560123287121083, -0.6038699413830702, -0.684452821760146, 1.1194954883913042, -0.3846851354573298, -0.3194957124760941, -1.4704541460822047, 0.572481472517222, -0.7872909127878106, 0.7119242579447129, -0.5060207969696873, -0.40581934035404, -1.689273216260599, 1.5823761755509458, -0.9700587722108596, 0.35284881883627267, 0.07924865304953307, 0.6023573355088919, 1.1202598058899436, -0.4477991916778235, 0.8288463153154215, 0.49772006964362825, -0.9505049971937803, -0.8140694642569831, -1.5529584699026207, -2.8809889027391304, -0.3417047889214654, -0.4084512140100783, -0.10456338893965307, 0.9750386663920425, 0.3946273695069198, 1.3859616732854472, -0.6559827031709952, -0.7596889618125324, 0.577932974981754, -1.0852209880182069, -1.2301294141994743, -0.8506515510864039, -2.5556952466223506, 0.6004778581018496, 0.5606158727475441, -0.8738107488147265, -1.1686346897067181, -0.20877839887826147, 1.180163364462233, 0.36535104793371614, 0.2073904589342936, -0.6555404560646885, 0.8881599742336906, -0.6711198606757098, 0.3043941689392284, 0.1258776385388952, -0.8051862402866529, -0.08028806660732918, -0.5167021376486441, -0.3346278148569162, -0.5744857100427638, 0.41274885195909183, 0.3270866038813453, -0.08857726307529906, 0.26419135206184197, 1.338994160548854, 1.9992795048884158, 0.7141750750859873, -1.888414529239671, 1.4929320822433116, -1.3935753058577032, 0.4786657984036205, -0.5662358279373066, 1.3853965021502659, 1.310768730747306, -1.2195161056820787, -0.30134328416469597, -1.8628772101274784, 0.13656636905168743, 0.15866495799556496, 0.7753693348344339, -0.16909181430015702, -0.6141646672866208], \"xaxis\": \"x11\", \"yaxis\": \"y11\"}, {\"line\": {\"color\": \"rgba(128, 128, 128, 1.0)\", \"dash\": \"solid\", \"shape\": \"linear\", \"width\": 1.3}, \"marker\": {\"size\": 2, \"symbol\": \"circle\"}, \"mode\": \"markers\", \"name\": \"C\", \"text\": \"\", \"type\": \"scatter\", \"x\": [-0.48422610212364575, 1.5720740917937719, 0.29417676876254484, 0.40695172654422823, 1.8457057994470416, -0.22952687758607296, -1.4110412284931044, 0.6622101937639742, 0.2592665157840242, -1.1303136586350027, -0.9599244711714722, -2.9186523196758443, -1.220473307280125, -1.2845916926982326, 0.695535527521974, -0.9410364272007093, -1.054438031492874, 0.5786441680218358, -0.0009718609257263874, 0.18385236601283705, 0.8318731750611098, -1.2931331157932895, -0.473766295947915, 0.21989469373577272, 0.751519393731062, -0.8012409929519795, 0.15717088097675325, 0.08775590090120683, -1.5558711389261641, 1.9100101943226668, -0.15024764424622192, -1.0873795965963182, 0.6221884644119188, -0.7535658454708033, 1.5420181648169597, 0.43343134106589176, -0.7626239289295567, -0.11348077823666365, -0.4513994686538723, -1.3407248052036569, -1.1427204975189829, 0.38490878622382924, 1.1918871947298688, -1.1973844029991414, 0.4427464888319099, -1.1165564301063253, 0.45268501115174387, -0.7867863308971418, -0.40074023156815547, -0.09075355010727543, -0.9092733551878476, 1.4801414765327043, -0.4864947224254879, -0.23553281518066121, -0.2604302198504222, -2.132184211795599, 1.6263417593658696, 0.10511365671282863, -0.7410307229762749, -0.27093812808134227, -0.34702317462092325, -0.34518985162498145, 1.3833305918126406, 0.41893754318194665, 0.8749548193155436, -1.8505471278177148, -0.7245909334187343, -1.5919431295609106, -0.03634213035411084, -0.8349045571560765, -1.4844417570109985, -1.1863614757506453, 0.7976643520601201, -0.8220721158635732, 0.8865084569468012, 0.6211572391849196, 0.44190214365607716, 0.25241338736425195, -0.8611530763022871, 0.03612345805337376, -0.22931884616308534, 0.3036281352810886, 0.28167047279521784, -1.0826462314722138, -0.43986928804430997, 1.2566381357755039, 0.5991147482153631, -0.7182811491327988, 1.008991043079794, -0.00942881536656502, -0.5174739528077554, 0.5597354180307877, -1.37114336207063, 0.6087502156043381, -0.6738609551229755, 0.8082999592912838, -0.9025518546702369, -1.3890791489736931, 1.365786540799907, -0.7780683191686512], \"xaxis\": \"x12\", \"y\": [0.4976635153390595, -0.21790464096552933, 1.8770568401163243, -0.08406329467212004, 0.05047910130544238, -1.863119628570406, 1.446686846495153, -0.4672959564642441, 0.17173494323369048, 0.48510954634981424, 0.25894409234384486, -0.9907031509616347, -2.4765792073811785, 0.13222033594138874, 0.1443372495251389, 0.09192344590453913, 1.363885521029763, 0.9197398757088081, 3.1928661368771363, -0.34532606934295906, -1.507993249260039, -2.2560123287121083, -0.6038699413830702, -0.684452821760146, 1.1194954883913042, -0.3846851354573298, -0.3194957124760941, -1.4704541460822047, 0.572481472517222, -0.7872909127878106, 0.7119242579447129, -0.5060207969696873, -0.40581934035404, -1.689273216260599, 1.5823761755509458, -0.9700587722108596, 0.35284881883627267, 0.07924865304953307, 0.6023573355088919, 1.1202598058899436, -0.4477991916778235, 0.8288463153154215, 0.49772006964362825, -0.9505049971937803, -0.8140694642569831, -1.5529584699026207, -2.8809889027391304, -0.3417047889214654, -0.4084512140100783, -0.10456338893965307, 0.9750386663920425, 0.3946273695069198, 1.3859616732854472, -0.6559827031709952, -0.7596889618125324, 0.577932974981754, -1.0852209880182069, -1.2301294141994743, -0.8506515510864039, -2.5556952466223506, 0.6004778581018496, 0.5606158727475441, -0.8738107488147265, -1.1686346897067181, -0.20877839887826147, 1.180163364462233, 0.36535104793371614, 0.2073904589342936, -0.6555404560646885, 0.8881599742336906, -0.6711198606757098, 0.3043941689392284, 0.1258776385388952, -0.8051862402866529, -0.08028806660732918, -0.5167021376486441, -0.3346278148569162, -0.5744857100427638, 0.41274885195909183, 0.3270866038813453, -0.08857726307529906, 0.26419135206184197, 1.338994160548854, 1.9992795048884158, 0.7141750750859873, -1.888414529239671, 1.4929320822433116, -1.3935753058577032, 0.4786657984036205, -0.5662358279373066, 1.3853965021502659, 1.310768730747306, -1.2195161056820787, -0.30134328416469597, -1.8628772101274784, 0.13656636905168743, 0.15866495799556496, 0.7753693348344339, -0.16909181430015702, -0.6141646672866208], \"yaxis\": \"y12\"}, {\"line\": {\"color\": \"rgba(128, 128, 128, 1.0)\", \"dash\": \"solid\", \"shape\": \"linear\", \"width\": 1.3}, \"marker\": {\"size\": 2, \"symbol\": \"circle\"}, \"mode\": \"markers\", \"name\": \"D\", \"text\": \"\", \"type\": \"scatter\", \"x\": [0.33530550154152494, 0.09065339513616581, -0.01630297475032681, -0.07869977638765072, -0.11280955759602175, -0.1401151965190619, 0.37726332968436377, 0.9807848237014964, 0.810497685246533, -0.5369994090996112, 0.4665515681528577, -0.4027752710747494, 0.8450873692592444, -1.6713871998577774, -0.5647159680856547, -1.0454373654393754, -0.19128198431349563, -0.08380197880652643, -0.6808409250243673, 1.5314298215111735, -0.8472738029656343, 2.016894424729286, 0.5675939625303773, -0.12570665669379766, -2.9530064435370353, -0.7623240462719839, 0.24650554670245756, 0.677974153571497, 0.34498118682073425, 0.7050866228571876, 0.48289759808491, 0.19661274001139517, -0.10839634016900147, 1.2955729007966614, -1.2080228686216006, -0.8868820384240231, -0.8504568442746137, -0.8592195770336528, 0.23891912898121961, -0.390740080415598, 0.7899539300986534, 1.9073166225165692, 0.7332345874800306, 0.076279312025144, -0.1606368966839194, 0.3722445893819746, 0.6054925610989462, 0.7956873319712157, 0.9725100209690856, 0.24018718772850134, -1.390060796293999, -1.7325819543366443, -1.0531172370304538, -0.8435755679018383, -1.8669241001205663, 0.1430069081678792, 0.3503266506041815, 0.4798291478777767, 0.5100131008826317, 2.0749173355937347, -1.3690344750713008, -0.06876435799003278, -0.4505688369932266, 1.078456943733188, 0.30714997296703755, -0.4139398828429726, 1.7895416427199355, 0.776518393126592, 1.1006209089834444, 2.3663267206891385, -0.748679596212696, -0.8895687565692749, 0.8656205411908345, 0.41104469157294404, -0.609241534591123, -1.4383026828323873, 0.26635612483594606, -1.8980379983631288, -1.738277833733187, -1.5289927281839082, 0.23529718024963092, -0.08309493795682184, 0.273378453933951, -0.4817320634709933, -0.1375488620604106, 0.33783356180165247, 0.6998816614904454, 0.537709684336636, 0.8069903649895979, -0.6731094896210476, 1.443158574532866, 1.2870986328443184, 0.7035596946386531, -0.7921994935980345, -0.489915251036213, -0.5231506439766499, 0.385676724326846, -0.09919321074167252, 0.8202815108228418, 1.2975442876253223], \"xaxis\": \"x13\", \"y\": [-0.48422610212364575, 1.5720740917937719, 0.29417676876254484, 0.40695172654422823, 1.8457057994470416, -0.22952687758607296, -1.4110412284931044, 0.6622101937639742, 0.2592665157840242, -1.1303136586350027, -0.9599244711714722, -2.9186523196758443, -1.220473307280125, -1.2845916926982326, 0.695535527521974, -0.9410364272007093, -1.054438031492874, 0.5786441680218358, -0.0009718609257263874, 0.18385236601283705, 0.8318731750611098, -1.2931331157932895, -0.473766295947915, 0.21989469373577272, 0.751519393731062, -0.8012409929519795, 0.15717088097675325, 0.08775590090120683, -1.5558711389261641, 1.9100101943226668, -0.15024764424622192, -1.0873795965963182, 0.6221884644119188, -0.7535658454708033, 1.5420181648169597, 0.43343134106589176, -0.7626239289295567, -0.11348077823666365, -0.4513994686538723, -1.3407248052036569, -1.1427204975189829, 0.38490878622382924, 1.1918871947298688, -1.1973844029991414, 0.4427464888319099, -1.1165564301063253, 0.45268501115174387, -0.7867863308971418, -0.40074023156815547, -0.09075355010727543, -0.9092733551878476, 1.4801414765327043, -0.4864947224254879, -0.23553281518066121, -0.2604302198504222, -2.132184211795599, 1.6263417593658696, 0.10511365671282863, -0.7410307229762749, -0.27093812808134227, -0.34702317462092325, -0.34518985162498145, 1.3833305918126406, 0.41893754318194665, 0.8749548193155436, -1.8505471278177148, -0.7245909334187343, -1.5919431295609106, -0.03634213035411084, -0.8349045571560765, -1.4844417570109985, -1.1863614757506453, 0.7976643520601201, -0.8220721158635732, 0.8865084569468012, 0.6211572391849196, 0.44190214365607716, 0.25241338736425195, -0.8611530763022871, 0.03612345805337376, -0.22931884616308534, 0.3036281352810886, 0.28167047279521784, -1.0826462314722138, -0.43986928804430997, 1.2566381357755039, 0.5991147482153631, -0.7182811491327988, 1.008991043079794, -0.00942881536656502, -0.5174739528077554, 0.5597354180307877, -1.37114336207063, 0.6087502156043381, -0.6738609551229755, 0.8082999592912838, -0.9025518546702369, -1.3890791489736931, 1.365786540799907, -0.7780683191686512], \"yaxis\": \"y13\"}, {\"line\": {\"color\": \"rgba(128, 128, 128, 1.0)\", \"dash\": \"solid\", \"shape\": \"linear\", \"width\": 1.3}, \"marker\": {\"size\": 2, \"symbol\": \"circle\"}, \"mode\": \"markers\", \"name\": \"D\", \"text\": \"\", \"type\": \"scatter\", \"x\": [-0.6760691106235645, 0.18372206965000965, -0.34323330233492, -2.070801152584343, 0.34577707775890487, 2.1301507636241146, -0.5531762406825648, -0.7399323363908722, 0.26241129162089216, -1.4337004355910643, -0.8594491355414683, -0.4912756822823481, 0.583450794405381, -1.5045213827074095, 1.752280268786307, -0.5863715567174779, -0.04012310455887652, 1.9455806784460525, 1.4257375049163175, -0.23411141816222264, -1.4491472757323403, -0.5833671584039474, -0.7529753578098609, 0.10339329905994711, -0.004541122623439102, -1.7573449484289683, 0.9043005711761228, -0.5799998214961695, -2.182073073509037, 0.6117543628483829, -1.046866238177497, 0.1451050144527596, -1.7091895613300523, 0.7730883681592071, 0.11046956239724635, 0.860561453912868, 1.7817168794154585, 0.5941911948405838, 1.7464390750714196, 1.3443851144456052, -0.653941015096149, -0.6481687041989921, 0.7565231993307985, -0.3377428990829017, -0.24165345197325094, -1.0946339421083284, -0.6566654045105857, 1.4656164547884096, 1.6971479352132062, 0.06229333566246116, -0.33487264062175487, 0.4575692496097571, -1.6218757011147977, -0.07516494673505354, 1.2557900113465656, 0.5178613245423704, 0.5719740142416783, 1.6678064203880918, 1.2178665474743848, -0.7714648529472447, -0.21634347844280188, -0.058793758991811655, -1.3667740058247482, -0.47598627590409903, 1.125778904159132, 0.7835229441755038, 0.09036040956928859, -0.15580677569506976, 0.21970059205786405, -2.2347952553428714, 0.30004649144884643, 1.3109454582592848, 0.580259232168523, -0.358579231338049, -1.21979233901239, -0.8050965907187663, 1.836896105180095, -0.406968255985467, -0.6343369641269744, 1.451527328603819, 0.8033320096526525, -0.7679911742675111, -1.7453939281965098, -2.5858164646107724, -0.6622222603851182, -0.35412184689296267, -0.278741803965597, 1.2277706222638571, -0.1364186492754009, -1.149210347160463, 0.4790085316866908, 0.8690059859342354, -0.5550546023569558, -0.5491642438620772, -0.9837564753414033, 0.46931440157870213, -0.032044133111769284, -1.4470251258178546, 0.20863537293074075, 0.10224247082485786], \"xaxis\": \"x14\", \"y\": [-0.48422610212364575, 1.5720740917937719, 0.29417676876254484, 0.40695172654422823, 1.8457057994470416, -0.22952687758607296, -1.4110412284931044, 0.6622101937639742, 0.2592665157840242, -1.1303136586350027, -0.9599244711714722, -2.9186523196758443, -1.220473307280125, -1.2845916926982326, 0.695535527521974, -0.9410364272007093, -1.054438031492874, 0.5786441680218358, -0.0009718609257263874, 0.18385236601283705, 0.8318731750611098, -1.2931331157932895, -0.473766295947915, 0.21989469373577272, 0.751519393731062, -0.8012409929519795, 0.15717088097675325, 0.08775590090120683, -1.5558711389261641, 1.9100101943226668, -0.15024764424622192, -1.0873795965963182, 0.6221884644119188, -0.7535658454708033, 1.5420181648169597, 0.43343134106589176, -0.7626239289295567, -0.11348077823666365, -0.4513994686538723, -1.3407248052036569, -1.1427204975189829, 0.38490878622382924, 1.1918871947298688, -1.1973844029991414, 0.4427464888319099, -1.1165564301063253, 0.45268501115174387, -0.7867863308971418, -0.40074023156815547, -0.09075355010727543, -0.9092733551878476, 1.4801414765327043, -0.4864947224254879, -0.23553281518066121, -0.2604302198504222, -2.132184211795599, 1.6263417593658696, 0.10511365671282863, -0.7410307229762749, -0.27093812808134227, -0.34702317462092325, -0.34518985162498145, 1.3833305918126406, 0.41893754318194665, 0.8749548193155436, -1.8505471278177148, -0.7245909334187343, -1.5919431295609106, -0.03634213035411084, -0.8349045571560765, -1.4844417570109985, -1.1863614757506453, 0.7976643520601201, -0.8220721158635732, 0.8865084569468012, 0.6211572391849196, 0.44190214365607716, 0.25241338736425195, -0.8611530763022871, 0.03612345805337376, -0.22931884616308534, 0.3036281352810886, 0.28167047279521784, -1.0826462314722138, -0.43986928804430997, 1.2566381357755039, 0.5991147482153631, -0.7182811491327988, 1.008991043079794, -0.00942881536656502, -0.5174739528077554, 0.5597354180307877, -1.37114336207063, 0.6087502156043381, -0.6738609551229755, 0.8082999592912838, -0.9025518546702369, -1.3890791489736931, 1.365786540799907, -0.7780683191686512], \"yaxis\": \"y14\"}, {\"line\": {\"color\": \"rgba(128, 128, 128, 1.0)\", \"dash\": \"solid\", \"shape\": \"linear\", \"width\": 1.3}, \"marker\": {\"size\": 2, \"symbol\": \"circle\"}, \"mode\": \"markers\", \"name\": \"D\", \"text\": \"\", \"type\": \"scatter\", \"x\": [0.4976635153390595, -0.21790464096552933, 1.8770568401163243, -0.08406329467212004, 0.05047910130544238, -1.863119628570406, 1.446686846495153, -0.4672959564642441, 0.17173494323369048, 0.48510954634981424, 0.25894409234384486, -0.9907031509616347, -2.4765792073811785, 0.13222033594138874, 0.1443372495251389, 0.09192344590453913, 1.363885521029763, 0.9197398757088081, 3.1928661368771363, -0.34532606934295906, -1.507993249260039, -2.2560123287121083, -0.6038699413830702, -0.684452821760146, 1.1194954883913042, -0.3846851354573298, -0.3194957124760941, -1.4704541460822047, 0.572481472517222, -0.7872909127878106, 0.7119242579447129, -0.5060207969696873, -0.40581934035404, -1.689273216260599, 1.5823761755509458, -0.9700587722108596, 0.35284881883627267, 0.07924865304953307, 0.6023573355088919, 1.1202598058899436, -0.4477991916778235, 0.8288463153154215, 0.49772006964362825, -0.9505049971937803, -0.8140694642569831, -1.5529584699026207, -2.8809889027391304, -0.3417047889214654, -0.4084512140100783, -0.10456338893965307, 0.9750386663920425, 0.3946273695069198, 1.3859616732854472, -0.6559827031709952, -0.7596889618125324, 0.577932974981754, -1.0852209880182069, -1.2301294141994743, -0.8506515510864039, -2.5556952466223506, 0.6004778581018496, 0.5606158727475441, -0.8738107488147265, -1.1686346897067181, -0.20877839887826147, 1.180163364462233, 0.36535104793371614, 0.2073904589342936, -0.6555404560646885, 0.8881599742336906, -0.6711198606757098, 0.3043941689392284, 0.1258776385388952, -0.8051862402866529, -0.08028806660732918, -0.5167021376486441, -0.3346278148569162, -0.5744857100427638, 0.41274885195909183, 0.3270866038813453, -0.08857726307529906, 0.26419135206184197, 1.338994160548854, 1.9992795048884158, 0.7141750750859873, -1.888414529239671, 1.4929320822433116, -1.3935753058577032, 0.4786657984036205, -0.5662358279373066, 1.3853965021502659, 1.310768730747306, -1.2195161056820787, -0.30134328416469597, -1.8628772101274784, 0.13656636905168743, 0.15866495799556496, 0.7753693348344339, -0.16909181430015702, -0.6141646672866208], \"xaxis\": \"x15\", \"y\": [-0.48422610212364575, 1.5720740917937719, 0.29417676876254484, 0.40695172654422823, 1.8457057994470416, -0.22952687758607296, -1.4110412284931044, 0.6622101937639742, 0.2592665157840242, -1.1303136586350027, -0.9599244711714722, -2.9186523196758443, -1.220473307280125, -1.2845916926982326, 0.695535527521974, -0.9410364272007093, -1.054438031492874, 0.5786441680218358, -0.0009718609257263874, 0.18385236601283705, 0.8318731750611098, -1.2931331157932895, -0.473766295947915, 0.21989469373577272, 0.751519393731062, -0.8012409929519795, 0.15717088097675325, 0.08775590090120683, -1.5558711389261641, 1.9100101943226668, -0.15024764424622192, -1.0873795965963182, 0.6221884644119188, -0.7535658454708033, 1.5420181648169597, 0.43343134106589176, -0.7626239289295567, -0.11348077823666365, -0.4513994686538723, -1.3407248052036569, -1.1427204975189829, 0.38490878622382924, 1.1918871947298688, -1.1973844029991414, 0.4427464888319099, -1.1165564301063253, 0.45268501115174387, -0.7867863308971418, -0.40074023156815547, -0.09075355010727543, -0.9092733551878476, 1.4801414765327043, -0.4864947224254879, -0.23553281518066121, -0.2604302198504222, -2.132184211795599, 1.6263417593658696, 0.10511365671282863, -0.7410307229762749, -0.27093812808134227, -0.34702317462092325, -0.34518985162498145, 1.3833305918126406, 0.41893754318194665, 0.8749548193155436, -1.8505471278177148, -0.7245909334187343, -1.5919431295609106, -0.03634213035411084, -0.8349045571560765, -1.4844417570109985, -1.1863614757506453, 0.7976643520601201, -0.8220721158635732, 0.8865084569468012, 0.6211572391849196, 0.44190214365607716, 0.25241338736425195, -0.8611530763022871, 0.03612345805337376, -0.22931884616308534, 0.3036281352810886, 0.28167047279521784, -1.0826462314722138, -0.43986928804430997, 1.2566381357755039, 0.5991147482153631, -0.7182811491327988, 1.008991043079794, -0.00942881536656502, -0.5174739528077554, 0.5597354180307877, -1.37114336207063, 0.6087502156043381, -0.6738609551229755, 0.8082999592912838, -0.9025518546702369, -1.3890791489736931, 1.365786540799907, -0.7780683191686512], \"yaxis\": \"y15\"}, {\"histfunc\": \"count\", \"histnorm\": \"\", \"marker\": {\"color\": \"rgba(128, 0, 128, 1.0)\", \"line\": {\"color\": \"#4D5663\", \"width\": 1.3}}, \"name\": \"D\", \"nbinsx\": 10, \"opacity\": 0.8, \"orientation\": \"v\", \"type\": \"histogram\", \"x\": [-0.48422610212364575, 1.5720740917937719, 0.29417676876254484, 0.40695172654422823, 1.8457057994470416, -0.22952687758607296, -1.4110412284931044, 0.6622101937639742, 0.2592665157840242, -1.1303136586350027, -0.9599244711714722, -2.9186523196758443, -1.220473307280125, -1.2845916926982326, 0.695535527521974, -0.9410364272007093, -1.054438031492874, 0.5786441680218358, -0.0009718609257263874, 0.18385236601283705, 0.8318731750611098, -1.2931331157932895, -0.473766295947915, 0.21989469373577272, 0.751519393731062, -0.8012409929519795, 0.15717088097675325, 0.08775590090120683, -1.5558711389261641, 1.9100101943226668, -0.15024764424622192, -1.0873795965963182, 0.6221884644119188, -0.7535658454708033, 1.5420181648169597, 0.43343134106589176, -0.7626239289295567, -0.11348077823666365, -0.4513994686538723, -1.3407248052036569, -1.1427204975189829, 0.38490878622382924, 1.1918871947298688, -1.1973844029991414, 0.4427464888319099, -1.1165564301063253, 0.45268501115174387, -0.7867863308971418, -0.40074023156815547, -0.09075355010727543, -0.9092733551878476, 1.4801414765327043, -0.4864947224254879, -0.23553281518066121, -0.2604302198504222, -2.132184211795599, 1.6263417593658696, 0.10511365671282863, -0.7410307229762749, -0.27093812808134227, -0.34702317462092325, -0.34518985162498145, 1.3833305918126406, 0.41893754318194665, 0.8749548193155436, -1.8505471278177148, -0.7245909334187343, -1.5919431295609106, -0.03634213035411084, -0.8349045571560765, -1.4844417570109985, -1.1863614757506453, 0.7976643520601201, -0.8220721158635732, 0.8865084569468012, 0.6211572391849196, 0.44190214365607716, 0.25241338736425195, -0.8611530763022871, 0.03612345805337376, -0.22931884616308534, 0.3036281352810886, 0.28167047279521784, -1.0826462314722138, -0.43986928804430997, 1.2566381357755039, 0.5991147482153631, -0.7182811491327988, 1.008991043079794, -0.00942881536656502, -0.5174739528077554, 0.5597354180307877, -1.37114336207063, 0.6087502156043381, -0.6738609551229755, 0.8082999592912838, -0.9025518546702369, -1.3890791489736931, 1.365786540799907, -0.7780683191686512], \"xaxis\": \"x16\", \"yaxis\": \"y16\"}],\n",
       "                        {\"bargap\": 0.02, \"legend\": {\"bgcolor\": \"#F5F6F9\", \"font\": {\"color\": \"#4D5663\"}}, \"paper_bgcolor\": \"#F5F6F9\", \"plot_bgcolor\": \"#F5F6F9\", \"showlegend\": false, \"template\": {\"data\": {\"bar\": [{\"error_x\": {\"color\": \"#2a3f5f\"}, \"error_y\": {\"color\": \"#2a3f5f\"}, \"marker\": {\"line\": {\"color\": \"#E5ECF6\", \"width\": 0.5}}, \"type\": \"bar\"}], \"barpolar\": [{\"marker\": {\"line\": {\"color\": \"#E5ECF6\", \"width\": 0.5}}, \"type\": \"barpolar\"}], \"carpet\": [{\"aaxis\": {\"endlinecolor\": \"#2a3f5f\", \"gridcolor\": \"white\", \"linecolor\": \"white\", \"minorgridcolor\": \"white\", \"startlinecolor\": \"#2a3f5f\"}, \"baxis\": {\"endlinecolor\": \"#2a3f5f\", \"gridcolor\": \"white\", \"linecolor\": \"white\", \"minorgridcolor\": \"white\", \"startlinecolor\": \"#2a3f5f\"}, \"type\": \"carpet\"}], \"choropleth\": [{\"colorbar\": {\"outlinewidth\": 0, \"ticks\": \"\"}, \"type\": \"choropleth\"}], \"contour\": [{\"colorbar\": {\"outlinewidth\": 0, \"ticks\": \"\"}, \"colorscale\": [[0.0, \"#0d0887\"], [0.1111111111111111, \"#46039f\"], [0.2222222222222222, \"#7201a8\"], [0.3333333333333333, \"#9c179e\"], [0.4444444444444444, \"#bd3786\"], [0.5555555555555556, \"#d8576b\"], [0.6666666666666666, \"#ed7953\"], [0.7777777777777778, \"#fb9f3a\"], [0.8888888888888888, \"#fdca26\"], [1.0, \"#f0f921\"]], \"type\": \"contour\"}], \"contourcarpet\": [{\"colorbar\": {\"outlinewidth\": 0, \"ticks\": \"\"}, \"type\": \"contourcarpet\"}], \"heatmap\": [{\"colorbar\": {\"outlinewidth\": 0, \"ticks\": \"\"}, \"colorscale\": [[0.0, \"#0d0887\"], [0.1111111111111111, \"#46039f\"], [0.2222222222222222, \"#7201a8\"], [0.3333333333333333, \"#9c179e\"], [0.4444444444444444, \"#bd3786\"], [0.5555555555555556, \"#d8576b\"], [0.6666666666666666, \"#ed7953\"], [0.7777777777777778, \"#fb9f3a\"], [0.8888888888888888, \"#fdca26\"], [1.0, \"#f0f921\"]], \"type\": \"heatmap\"}], \"heatmapgl\": [{\"colorbar\": {\"outlinewidth\": 0, \"ticks\": \"\"}, \"colorscale\": [[0.0, \"#0d0887\"], [0.1111111111111111, \"#46039f\"], [0.2222222222222222, \"#7201a8\"], [0.3333333333333333, \"#9c179e\"], [0.4444444444444444, \"#bd3786\"], [0.5555555555555556, \"#d8576b\"], [0.6666666666666666, \"#ed7953\"], [0.7777777777777778, \"#fb9f3a\"], [0.8888888888888888, \"#fdca26\"], [1.0, \"#f0f921\"]], \"type\": \"heatmapgl\"}], \"histogram\": [{\"marker\": {\"colorbar\": {\"outlinewidth\": 0, \"ticks\": \"\"}}, \"type\": \"histogram\"}], \"histogram2d\": [{\"colorbar\": {\"outlinewidth\": 0, \"ticks\": \"\"}, \"colorscale\": [[0.0, \"#0d0887\"], [0.1111111111111111, \"#46039f\"], [0.2222222222222222, \"#7201a8\"], [0.3333333333333333, \"#9c179e\"], [0.4444444444444444, \"#bd3786\"], [0.5555555555555556, \"#d8576b\"], [0.6666666666666666, \"#ed7953\"], [0.7777777777777778, \"#fb9f3a\"], [0.8888888888888888, \"#fdca26\"], [1.0, \"#f0f921\"]], \"type\": \"histogram2d\"}], \"histogram2dcontour\": [{\"colorbar\": {\"outlinewidth\": 0, \"ticks\": \"\"}, \"colorscale\": [[0.0, \"#0d0887\"], [0.1111111111111111, \"#46039f\"], [0.2222222222222222, \"#7201a8\"], [0.3333333333333333, \"#9c179e\"], [0.4444444444444444, \"#bd3786\"], [0.5555555555555556, \"#d8576b\"], [0.6666666666666666, \"#ed7953\"], [0.7777777777777778, \"#fb9f3a\"], [0.8888888888888888, \"#fdca26\"], [1.0, \"#f0f921\"]], \"type\": \"histogram2dcontour\"}], \"mesh3d\": [{\"colorbar\": {\"outlinewidth\": 0, \"ticks\": \"\"}, \"type\": \"mesh3d\"}], \"parcoords\": [{\"line\": {\"colorbar\": {\"outlinewidth\": 0, \"ticks\": \"\"}}, \"type\": \"parcoords\"}], \"pie\": [{\"automargin\": true, \"type\": \"pie\"}], \"scatter\": [{\"marker\": {\"colorbar\": {\"outlinewidth\": 0, \"ticks\": \"\"}}, \"type\": \"scatter\"}], \"scatter3d\": [{\"line\": {\"colorbar\": {\"outlinewidth\": 0, \"ticks\": \"\"}}, \"marker\": {\"colorbar\": {\"outlinewidth\": 0, \"ticks\": \"\"}}, \"type\": \"scatter3d\"}], \"scattercarpet\": [{\"marker\": {\"colorbar\": {\"outlinewidth\": 0, \"ticks\": \"\"}}, \"type\": \"scattercarpet\"}], \"scattergeo\": [{\"marker\": {\"colorbar\": {\"outlinewidth\": 0, \"ticks\": \"\"}}, \"type\": \"scattergeo\"}], \"scattergl\": [{\"marker\": {\"colorbar\": {\"outlinewidth\": 0, \"ticks\": \"\"}}, \"type\": \"scattergl\"}], \"scattermapbox\": [{\"marker\": {\"colorbar\": {\"outlinewidth\": 0, \"ticks\": \"\"}}, \"type\": \"scattermapbox\"}], \"scatterpolar\": [{\"marker\": {\"colorbar\": {\"outlinewidth\": 0, \"ticks\": \"\"}}, \"type\": \"scatterpolar\"}], \"scatterpolargl\": [{\"marker\": {\"colorbar\": {\"outlinewidth\": 0, \"ticks\": \"\"}}, \"type\": \"scatterpolargl\"}], \"scatterternary\": [{\"marker\": {\"colorbar\": {\"outlinewidth\": 0, \"ticks\": \"\"}}, \"type\": \"scatterternary\"}], \"surface\": [{\"colorbar\": {\"outlinewidth\": 0, \"ticks\": \"\"}, \"colorscale\": [[0.0, \"#0d0887\"], [0.1111111111111111, \"#46039f\"], [0.2222222222222222, \"#7201a8\"], [0.3333333333333333, \"#9c179e\"], [0.4444444444444444, \"#bd3786\"], [0.5555555555555556, \"#d8576b\"], [0.6666666666666666, \"#ed7953\"], [0.7777777777777778, \"#fb9f3a\"], [0.8888888888888888, \"#fdca26\"], [1.0, \"#f0f921\"]], \"type\": \"surface\"}], \"table\": [{\"cells\": {\"fill\": {\"color\": \"#EBF0F8\"}, \"line\": {\"color\": \"white\"}}, \"header\": {\"fill\": {\"color\": \"#C8D4E3\"}, \"line\": {\"color\": \"white\"}}, \"type\": \"table\"}]}, \"layout\": {\"annotationdefaults\": {\"arrowcolor\": \"#2a3f5f\", \"arrowhead\": 0, \"arrowwidth\": 1}, \"coloraxis\": {\"colorbar\": {\"outlinewidth\": 0, \"ticks\": \"\"}}, \"colorscale\": {\"diverging\": [[0, \"#8e0152\"], [0.1, \"#c51b7d\"], [0.2, \"#de77ae\"], [0.3, \"#f1b6da\"], [0.4, \"#fde0ef\"], [0.5, \"#f7f7f7\"], [0.6, \"#e6f5d0\"], [0.7, \"#b8e186\"], [0.8, \"#7fbc41\"], [0.9, \"#4d9221\"], [1, \"#276419\"]], \"sequential\": [[0.0, \"#0d0887\"], [0.1111111111111111, \"#46039f\"], [0.2222222222222222, \"#7201a8\"], [0.3333333333333333, \"#9c179e\"], [0.4444444444444444, \"#bd3786\"], [0.5555555555555556, \"#d8576b\"], [0.6666666666666666, \"#ed7953\"], [0.7777777777777778, \"#fb9f3a\"], [0.8888888888888888, \"#fdca26\"], [1.0, \"#f0f921\"]], \"sequentialminus\": [[0.0, \"#0d0887\"], [0.1111111111111111, \"#46039f\"], [0.2222222222222222, \"#7201a8\"], [0.3333333333333333, \"#9c179e\"], [0.4444444444444444, \"#bd3786\"], [0.5555555555555556, \"#d8576b\"], [0.6666666666666666, \"#ed7953\"], [0.7777777777777778, \"#fb9f3a\"], [0.8888888888888888, \"#fdca26\"], [1.0, \"#f0f921\"]]}, \"colorway\": [\"#636efa\", \"#EF553B\", \"#00cc96\", \"#ab63fa\", \"#FFA15A\", \"#19d3f3\", \"#FF6692\", \"#B6E880\", \"#FF97FF\", \"#FECB52\"], \"font\": {\"color\": \"#2a3f5f\"}, \"geo\": {\"bgcolor\": \"white\", \"lakecolor\": \"white\", \"landcolor\": \"#E5ECF6\", \"showlakes\": true, \"showland\": true, \"subunitcolor\": \"white\"}, \"hoverlabel\": {\"align\": \"left\"}, \"hovermode\": \"closest\", \"mapbox\": {\"style\": \"light\"}, \"paper_bgcolor\": \"white\", \"plot_bgcolor\": \"#E5ECF6\", \"polar\": {\"angularaxis\": {\"gridcolor\": \"white\", \"linecolor\": \"white\", \"ticks\": \"\"}, \"bgcolor\": \"#E5ECF6\", \"radialaxis\": {\"gridcolor\": \"white\", \"linecolor\": \"white\", \"ticks\": \"\"}}, \"scene\": {\"xaxis\": {\"backgroundcolor\": \"#E5ECF6\", \"gridcolor\": \"white\", \"gridwidth\": 2, \"linecolor\": \"white\", \"showbackground\": true, \"ticks\": \"\", \"zerolinecolor\": \"white\"}, \"yaxis\": {\"backgroundcolor\": \"#E5ECF6\", \"gridcolor\": \"white\", \"gridwidth\": 2, \"linecolor\": \"white\", \"showbackground\": true, \"ticks\": \"\", \"zerolinecolor\": \"white\"}, \"zaxis\": {\"backgroundcolor\": \"#E5ECF6\", \"gridcolor\": \"white\", \"gridwidth\": 2, \"linecolor\": \"white\", \"showbackground\": true, \"ticks\": \"\", \"zerolinecolor\": \"white\"}}, \"shapedefaults\": {\"line\": {\"color\": \"#2a3f5f\"}}, \"ternary\": {\"aaxis\": {\"gridcolor\": \"white\", \"linecolor\": \"white\", \"ticks\": \"\"}, \"baxis\": {\"gridcolor\": \"white\", \"linecolor\": \"white\", \"ticks\": \"\"}, \"bgcolor\": \"#E5ECF6\", \"caxis\": {\"gridcolor\": \"white\", \"linecolor\": \"white\", \"ticks\": \"\"}}, \"title\": {\"x\": 0.05}, \"xaxis\": {\"automargin\": true, \"gridcolor\": \"white\", \"linecolor\": \"white\", \"ticks\": \"\", \"title\": {\"standoff\": 15}, \"zerolinecolor\": \"white\", \"zerolinewidth\": 2}, \"yaxis\": {\"automargin\": true, \"gridcolor\": \"white\", \"linecolor\": \"white\", \"ticks\": \"\", \"title\": {\"standoff\": 15}, \"zerolinecolor\": \"white\", \"zerolinewidth\": 2}}}, \"title\": {\"font\": {\"color\": \"#4D5663\"}}, \"xaxis\": {\"anchor\": \"y\", \"domain\": [0.0, 0.2125], \"gridcolor\": \"#E1E5ED\", \"showgrid\": false, \"tickfont\": {\"color\": \"#4D5663\"}, \"title\": {\"font\": {\"color\": \"#4D5663\"}, \"text\": \"\"}, \"zerolinecolor\": \"#E1E5ED\"}, \"xaxis10\": {\"anchor\": \"y10\", \"domain\": [0.2625, 0.475], \"gridcolor\": \"#E1E5ED\", \"showgrid\": false, \"tickfont\": {\"color\": \"#4D5663\"}, \"title\": {\"font\": {\"color\": \"#4D5663\"}, \"text\": \"\"}, \"zerolinecolor\": \"#E1E5ED\"}, \"xaxis11\": {\"anchor\": \"y11\", \"domain\": [0.525, 0.7375], \"gridcolor\": \"#E1E5ED\", \"showgrid\": false, \"tickfont\": {\"color\": \"#4D5663\"}, \"title\": {\"font\": {\"color\": \"#4D5663\"}, \"text\": \"\"}, \"zerolinecolor\": \"#E1E5ED\"}, \"xaxis12\": {\"anchor\": \"y12\", \"domain\": [0.7875, 1.0], \"gridcolor\": \"#E1E5ED\", \"showgrid\": false, \"tickfont\": {\"color\": \"#4D5663\"}, \"title\": {\"font\": {\"color\": \"#4D5663\"}, \"text\": \"\"}, \"zerolinecolor\": \"#E1E5ED\"}, \"xaxis13\": {\"anchor\": \"y13\", \"domain\": [0.0, 0.2125], \"gridcolor\": \"#E1E5ED\", \"showgrid\": false, \"tickfont\": {\"color\": \"#4D5663\"}, \"title\": {\"font\": {\"color\": \"#4D5663\"}, \"text\": \"\"}, \"zerolinecolor\": \"#E1E5ED\"}, \"xaxis14\": {\"anchor\": \"y14\", \"domain\": [0.2625, 0.475], \"gridcolor\": \"#E1E5ED\", \"showgrid\": false, \"tickfont\": {\"color\": \"#4D5663\"}, \"title\": {\"font\": {\"color\": \"#4D5663\"}, \"text\": \"\"}, \"zerolinecolor\": \"#E1E5ED\"}, \"xaxis15\": {\"anchor\": \"y15\", \"domain\": [0.525, 0.7375], \"gridcolor\": \"#E1E5ED\", \"showgrid\": false, \"tickfont\": {\"color\": \"#4D5663\"}, \"title\": {\"font\": {\"color\": \"#4D5663\"}, \"text\": \"\"}, \"zerolinecolor\": \"#E1E5ED\"}, \"xaxis16\": {\"anchor\": \"y16\", \"domain\": [0.7875, 1.0], \"gridcolor\": \"#E1E5ED\", \"showgrid\": false, \"tickfont\": {\"color\": \"#4D5663\"}, \"title\": {\"font\": {\"color\": \"#4D5663\"}, \"text\": \"\"}, \"zerolinecolor\": \"#E1E5ED\"}, \"xaxis2\": {\"anchor\": \"y2\", \"domain\": [0.2625, 0.475], \"gridcolor\": \"#E1E5ED\", \"showgrid\": false, \"tickfont\": {\"color\": \"#4D5663\"}, \"title\": {\"font\": {\"color\": \"#4D5663\"}, \"text\": \"\"}, \"zerolinecolor\": \"#E1E5ED\"}, \"xaxis3\": {\"anchor\": \"y3\", \"domain\": [0.525, 0.7375], \"gridcolor\": \"#E1E5ED\", \"showgrid\": false, \"tickfont\": {\"color\": \"#4D5663\"}, \"title\": {\"font\": {\"color\": \"#4D5663\"}, \"text\": \"\"}, \"zerolinecolor\": \"#E1E5ED\"}, \"xaxis4\": {\"anchor\": \"y4\", \"domain\": [0.7875, 1.0], \"gridcolor\": \"#E1E5ED\", \"showgrid\": false, \"tickfont\": {\"color\": \"#4D5663\"}, \"title\": {\"font\": {\"color\": \"#4D5663\"}, \"text\": \"\"}, \"zerolinecolor\": \"#E1E5ED\"}, \"xaxis5\": {\"anchor\": \"y5\", \"domain\": [0.0, 0.2125], \"gridcolor\": \"#E1E5ED\", \"showgrid\": false, \"tickfont\": {\"color\": \"#4D5663\"}, \"title\": {\"font\": {\"color\": \"#4D5663\"}, \"text\": \"\"}, \"zerolinecolor\": \"#E1E5ED\"}, \"xaxis6\": {\"anchor\": \"y6\", \"domain\": [0.2625, 0.475], \"gridcolor\": \"#E1E5ED\", \"showgrid\": false, \"tickfont\": {\"color\": \"#4D5663\"}, \"title\": {\"font\": {\"color\": \"#4D5663\"}, \"text\": \"\"}, \"zerolinecolor\": \"#E1E5ED\"}, \"xaxis7\": {\"anchor\": \"y7\", \"domain\": [0.525, 0.7375], \"gridcolor\": \"#E1E5ED\", \"showgrid\": false, \"tickfont\": {\"color\": \"#4D5663\"}, \"title\": {\"font\": {\"color\": \"#4D5663\"}, \"text\": \"\"}, \"zerolinecolor\": \"#E1E5ED\"}, \"xaxis8\": {\"anchor\": \"y8\", \"domain\": [0.7875, 1.0], \"gridcolor\": \"#E1E5ED\", \"showgrid\": false, \"tickfont\": {\"color\": \"#4D5663\"}, \"title\": {\"font\": {\"color\": \"#4D5663\"}, \"text\": \"\"}, \"zerolinecolor\": \"#E1E5ED\"}, \"xaxis9\": {\"anchor\": \"y9\", \"domain\": [0.0, 0.2125], \"gridcolor\": \"#E1E5ED\", \"showgrid\": false, \"tickfont\": {\"color\": \"#4D5663\"}, \"title\": {\"font\": {\"color\": \"#4D5663\"}, \"text\": \"\"}, \"zerolinecolor\": \"#E1E5ED\"}, \"yaxis\": {\"anchor\": \"x\", \"domain\": [0.8025, 1.0], \"gridcolor\": \"#E1E5ED\", \"showgrid\": false, \"tickfont\": {\"color\": \"#4D5663\"}, \"title\": {\"font\": {\"color\": \"#4D5663\"}, \"text\": \"\"}, \"zerolinecolor\": \"#E1E5ED\"}, \"yaxis10\": {\"anchor\": \"x10\", \"domain\": [0.2675, 0.465], \"gridcolor\": \"#E1E5ED\", \"showgrid\": false, \"tickfont\": {\"color\": \"#4D5663\"}, \"title\": {\"font\": {\"color\": \"#4D5663\"}, \"text\": \"\"}, \"zerolinecolor\": \"#E1E5ED\"}, \"yaxis11\": {\"anchor\": \"x11\", \"domain\": [0.2675, 0.465], \"gridcolor\": \"#E1E5ED\", \"showgrid\": false, \"tickfont\": {\"color\": \"#4D5663\"}, \"title\": {\"font\": {\"color\": \"#4D5663\"}, \"text\": \"\"}, \"zerolinecolor\": \"#E1E5ED\"}, \"yaxis12\": {\"anchor\": \"x12\", \"domain\": [0.2675, 0.465], \"gridcolor\": \"#E1E5ED\", \"showgrid\": false, \"tickfont\": {\"color\": \"#4D5663\"}, \"title\": {\"font\": {\"color\": \"#4D5663\"}, \"text\": \"\"}, \"zerolinecolor\": \"#E1E5ED\"}, \"yaxis13\": {\"anchor\": \"x13\", \"domain\": [0.0, 0.1975], \"gridcolor\": \"#E1E5ED\", \"showgrid\": false, \"tickfont\": {\"color\": \"#4D5663\"}, \"title\": {\"font\": {\"color\": \"#4D5663\"}, \"text\": \"\"}, \"zerolinecolor\": \"#E1E5ED\"}, \"yaxis14\": {\"anchor\": \"x14\", \"domain\": [0.0, 0.1975], \"gridcolor\": \"#E1E5ED\", \"showgrid\": false, \"tickfont\": {\"color\": \"#4D5663\"}, \"title\": {\"font\": {\"color\": \"#4D5663\"}, \"text\": \"\"}, \"zerolinecolor\": \"#E1E5ED\"}, \"yaxis15\": {\"anchor\": \"x15\", \"domain\": [0.0, 0.1975], \"gridcolor\": \"#E1E5ED\", \"showgrid\": false, \"tickfont\": {\"color\": \"#4D5663\"}, \"title\": {\"font\": {\"color\": \"#4D5663\"}, \"text\": \"\"}, \"zerolinecolor\": \"#E1E5ED\"}, \"yaxis16\": {\"anchor\": \"x16\", \"domain\": [0.0, 0.1975], \"gridcolor\": \"#E1E5ED\", \"showgrid\": false, \"tickfont\": {\"color\": \"#4D5663\"}, \"title\": {\"font\": {\"color\": \"#4D5663\"}, \"text\": \"\"}, \"zerolinecolor\": \"#E1E5ED\"}, \"yaxis2\": {\"anchor\": \"x2\", \"domain\": [0.8025, 1.0], \"gridcolor\": \"#E1E5ED\", \"showgrid\": false, \"tickfont\": {\"color\": \"#4D5663\"}, \"title\": {\"font\": {\"color\": \"#4D5663\"}, \"text\": \"\"}, \"zerolinecolor\": \"#E1E5ED\"}, \"yaxis3\": {\"anchor\": \"x3\", \"domain\": [0.8025, 1.0], \"gridcolor\": \"#E1E5ED\", \"showgrid\": false, \"tickfont\": {\"color\": \"#4D5663\"}, \"title\": {\"font\": {\"color\": \"#4D5663\"}, \"text\": \"\"}, \"zerolinecolor\": \"#E1E5ED\"}, \"yaxis4\": {\"anchor\": \"x4\", \"domain\": [0.8025, 1.0], \"gridcolor\": \"#E1E5ED\", \"showgrid\": false, \"tickfont\": {\"color\": \"#4D5663\"}, \"title\": {\"font\": {\"color\": \"#4D5663\"}, \"text\": \"\"}, \"zerolinecolor\": \"#E1E5ED\"}, \"yaxis5\": {\"anchor\": \"x5\", \"domain\": [0.535, 0.7325], \"gridcolor\": \"#E1E5ED\", \"showgrid\": false, \"tickfont\": {\"color\": \"#4D5663\"}, \"title\": {\"font\": {\"color\": \"#4D5663\"}, \"text\": \"\"}, \"zerolinecolor\": \"#E1E5ED\"}, \"yaxis6\": {\"anchor\": \"x6\", \"domain\": [0.535, 0.7325], \"gridcolor\": \"#E1E5ED\", \"showgrid\": false, \"tickfont\": {\"color\": \"#4D5663\"}, \"title\": {\"font\": {\"color\": \"#4D5663\"}, \"text\": \"\"}, \"zerolinecolor\": \"#E1E5ED\"}, \"yaxis7\": {\"anchor\": \"x7\", \"domain\": [0.535, 0.7325], \"gridcolor\": \"#E1E5ED\", \"showgrid\": false, \"tickfont\": {\"color\": \"#4D5663\"}, \"title\": {\"font\": {\"color\": \"#4D5663\"}, \"text\": \"\"}, \"zerolinecolor\": \"#E1E5ED\"}, \"yaxis8\": {\"anchor\": \"x8\", \"domain\": [0.535, 0.7325], \"gridcolor\": \"#E1E5ED\", \"showgrid\": false, \"tickfont\": {\"color\": \"#4D5663\"}, \"title\": {\"font\": {\"color\": \"#4D5663\"}, \"text\": \"\"}, \"zerolinecolor\": \"#E1E5ED\"}, \"yaxis9\": {\"anchor\": \"x9\", \"domain\": [0.2675, 0.465], \"gridcolor\": \"#E1E5ED\", \"showgrid\": false, \"tickfont\": {\"color\": \"#4D5663\"}, \"title\": {\"font\": {\"color\": \"#4D5663\"}, \"text\": \"\"}, \"zerolinecolor\": \"#E1E5ED\"}},\n",
       "                        {\"showLink\": true, \"linkText\": \"Export to plot.ly\", \"plotlyServerURL\": \"https://plot.ly\", \"responsive\": true}\n",
       "                    ).then(function(){\n",
       "                            \n",
       "var gd = document.getElementById('d0cf6645-6d92-4d90-97c0-0a296d3d37b9');\n",
       "var x = new MutationObserver(function (mutations, observer) {{\n",
       "        var display = window.getComputedStyle(gd).display;\n",
       "        if (!display || display === 'none') {{\n",
       "            console.log([gd, 'removed!']);\n",
       "            Plotly.purge(gd);\n",
       "            observer.disconnect();\n",
       "        }}\n",
       "}});\n",
       "\n",
       "// Listen for the removal of the full notebook cells\n",
       "var notebookContainer = gd.closest('#notebook-container');\n",
       "if (notebookContainer) {{\n",
       "    x.observe(notebookContainer, {childList: true});\n",
       "}}\n",
       "\n",
       "// Listen for the clearing of the current output cell\n",
       "var outputEl = gd.closest('.output');\n",
       "if (outputEl) {{\n",
       "    x.observe(outputEl, {childList: true});\n",
       "}}\n",
       "\n",
       "                        })\n",
       "                };\n",
       "                });\n",
       "            </script>\n",
       "        </div>"
      ]
     },
     "metadata": {},
     "output_type": "display_data"
    }
   ],
   "source": [
    "df.scatter_matrix()"
   ]
  }
 ],
 "metadata": {
  "kernelspec": {
   "display_name": "Python 3",
   "language": "python",
   "name": "python3"
  },
  "language_info": {
   "codemirror_mode": {
    "name": "ipython",
    "version": 3
   },
   "file_extension": ".py",
   "mimetype": "text/x-python",
   "name": "python",
   "nbconvert_exporter": "python",
   "pygments_lexer": "ipython3",
   "version": "3.8.3"
  }
 },
 "nbformat": 4,
 "nbformat_minor": 1
}
